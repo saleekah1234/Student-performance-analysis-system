{
  "nbformat": 4,
  "nbformat_minor": 0,
  "metadata": {
    "colab": {
      "name": "decisiontree_project.ipynb",
      "provenance": [],
      "collapsed_sections": [],
      "toc_visible": true
    },
    "kernelspec": {
      "name": "python3",
      "display_name": "Python 3"
    },
    "language_info": {
      "name": "python"
    }
  },
  "cells": [
    {
      "cell_type": "markdown",
      "metadata": {
        "id": "qnhL2rbeAxD9"
      },
      "source": [
        "# Import libraries"
      ]
    },
    {
      "cell_type": "code",
      "metadata": {
        "id": "XtchyV0GA0Vz"
      },
      "source": [
        "import numpy as np # linear algebra\n",
        "import pandas as pd # data processing, CSV file I/O (e.g. pd.read_csv)\n",
        "import matplotlib.pyplot as plt # data visualization\n",
        "import seaborn as sns # statistical data visualization\n",
        "%matplotlib inline"
      ],
      "execution_count": null,
      "outputs": []
    },
    {
      "cell_type": "code",
      "metadata": {
        "id": "eqF0bCihBCS6"
      },
      "source": [
        "import warnings\n",
        "\n",
        "warnings.filterwarnings('ignore')"
      ],
      "execution_count": null,
      "outputs": []
    },
    {
      "cell_type": "code",
      "metadata": {
        "id": "VS2gL9PRlWb_"
      },
      "source": [
        ""
      ],
      "execution_count": null,
      "outputs": []
    },
    {
      "cell_type": "markdown",
      "metadata": {
        "id": "x_HYg0mWBFVg"
      },
      "source": [
        "# Import dataset"
      ]
    },
    {
      "cell_type": "code",
      "metadata": {
        "colab": {
          "resources": {
            "http://localhost:8080/nbextensions/google.colab/files.js": {
              "data": "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",
              "ok": true,
              "headers": [
                [
                  "content-type",
                  "application/javascript"
                ]
              ],
              "status": 200,
              "status_text": ""
            }
          },
          "base_uri": "https://localhost:8080/",
          "height": 72
        },
        "id": "5nbO02tBBG4O",
        "outputId": "ece89fd6-3e8f-48fe-c1f1-24e99f8fcd1c"
      },
      "source": [
        "from google.colab import files\n",
        "uploaded = files.upload()"
      ],
      "execution_count": null,
      "outputs": [
        {
          "output_type": "display_data",
          "data": {
            "text/html": [
              "\n",
              "     <input type=\"file\" id=\"files-1d8fb883-7bc1-4581-ac7f-a7caa8d4993b\" name=\"files[]\" multiple disabled\n",
              "        style=\"border:none\" />\n",
              "     <output id=\"result-1d8fb883-7bc1-4581-ac7f-a7caa8d4993b\">\n",
              "      Upload widget is only available when the cell has been executed in the\n",
              "      current browser session. Please rerun this cell to enable.\n",
              "      </output>\n",
              "      <script src=\"/nbextensions/google.colab/files.js\"></script> "
            ],
            "text/plain": [
              "<IPython.core.display.HTML object>"
            ]
          },
          "metadata": {
            "tags": []
          }
        },
        {
          "output_type": "stream",
          "text": [
            "Saving training.csv to training.csv\n"
          ],
          "name": "stdout"
        }
      ]
    },
    {
      "cell_type": "code",
      "metadata": {
        "id": "pECZcaafBcUG"
      },
      "source": [
        " df= pd.read_csv(\"training.csv\")"
      ],
      "execution_count": null,
      "outputs": []
    },
    {
      "cell_type": "markdown",
      "metadata": {
        "id": "vp_svDyABx_K"
      },
      "source": [
        "# Exploratory data analysis "
      ]
    },
    {
      "cell_type": "code",
      "metadata": {
        "colab": {
          "base_uri": "https://localhost:8080/"
        },
        "id": "QxnYUzvJBzh_",
        "outputId": "814accb7-6ec4-4d8f-eb0d-87f215ebef1b"
      },
      "source": [
        "df.shape"
      ],
      "execution_count": null,
      "outputs": [
        {
          "output_type": "execute_result",
          "data": {
            "text/plain": [
              "(1044, 50)"
            ]
          },
          "metadata": {
            "tags": []
          },
          "execution_count": 125
        }
      ]
    },
    {
      "cell_type": "code",
      "metadata": {
        "colab": {
          "base_uri": "https://localhost:8080/",
          "height": 309
        },
        "id": "0yVkSmlQB5gx",
        "outputId": "11a25e48-12c9-44d9-8d4d-1ee59e1436a6"
      },
      "source": [
        "df.head()"
      ],
      "execution_count": null,
      "outputs": [
        {
          "output_type": "execute_result",
          "data": {
            "text/html": [
              "<div>\n",
              "<style scoped>\n",
              "    .dataframe tbody tr th:only-of-type {\n",
              "        vertical-align: middle;\n",
              "    }\n",
              "\n",
              "    .dataframe tbody tr th {\n",
              "        vertical-align: top;\n",
              "    }\n",
              "\n",
              "    .dataframe thead th {\n",
              "        text-align: right;\n",
              "    }\n",
              "</style>\n",
              "<table border=\"1\" class=\"dataframe\">\n",
              "  <thead>\n",
              "    <tr style=\"text-align: right;\">\n",
              "      <th></th>\n",
              "      <th>school</th>\n",
              "      <th>sex</th>\n",
              "      <th>age</th>\n",
              "      <th>address</th>\n",
              "      <th>famsize</th>\n",
              "      <th>Pstatus</th>\n",
              "      <th>Medu</th>\n",
              "      <th>Fedu</th>\n",
              "      <th>Mjob</th>\n",
              "      <th>Fjob</th>\n",
              "      <th>reason</th>\n",
              "      <th>guardian</th>\n",
              "      <th>traveltime</th>\n",
              "      <th>studytime</th>\n",
              "      <th>failures</th>\n",
              "      <th>schoolsup</th>\n",
              "      <th>famsup</th>\n",
              "      <th>paid</th>\n",
              "      <th>activities</th>\n",
              "      <th>nursery</th>\n",
              "      <th>higher</th>\n",
              "      <th>internet</th>\n",
              "      <th>romantic</th>\n",
              "      <th>famrel</th>\n",
              "      <th>freetime</th>\n",
              "      <th>goout</th>\n",
              "      <th>Dalc</th>\n",
              "      <th>Walc</th>\n",
              "      <th>health</th>\n",
              "      <th>absences</th>\n",
              "      <th>G1</th>\n",
              "      <th>G2</th>\n",
              "      <th>G3</th>\n",
              "      <th>subject</th>\n",
              "      <th>FinalGrade</th>\n",
              "      <th>Regularity</th>\n",
              "      <th>GradeG1</th>\n",
              "      <th>GradeG2</th>\n",
              "      <th>FinalGrade_cat</th>\n",
              "      <th>Regularity_cat</th>\n",
              "      <th>school_cat</th>\n",
              "      <th>GradeG1_cat</th>\n",
              "      <th>GradeG2_cat</th>\n",
              "      <th>reason_cat</th>\n",
              "      <th>Mjob_cat</th>\n",
              "      <th>Fjob_cat</th>\n",
              "      <th>guardian_cat</th>\n",
              "      <th>famsize_cat</th>\n",
              "      <th>address_cat</th>\n",
              "      <th>sex_cat</th>\n",
              "    </tr>\n",
              "  </thead>\n",
              "  <tbody>\n",
              "    <tr>\n",
              "      <th>0</th>\n",
              "      <td>GP</td>\n",
              "      <td>F</td>\n",
              "      <td>18</td>\n",
              "      <td>U</td>\n",
              "      <td>0</td>\n",
              "      <td>A</td>\n",
              "      <td>4</td>\n",
              "      <td>4</td>\n",
              "      <td>at_home</td>\n",
              "      <td>teacher</td>\n",
              "      <td>course</td>\n",
              "      <td>mother</td>\n",
              "      <td>2</td>\n",
              "      <td>2</td>\n",
              "      <td>0</td>\n",
              "      <td>yes</td>\n",
              "      <td>no</td>\n",
              "      <td>no</td>\n",
              "      <td>no</td>\n",
              "      <td>yes</td>\n",
              "      <td>yes</td>\n",
              "      <td>no</td>\n",
              "      <td>no</td>\n",
              "      <td>4</td>\n",
              "      <td>3</td>\n",
              "      <td>4</td>\n",
              "      <td>1</td>\n",
              "      <td>1</td>\n",
              "      <td>3</td>\n",
              "      <td>6</td>\n",
              "      <td>5</td>\n",
              "      <td>6</td>\n",
              "      <td>6</td>\n",
              "      <td>maths</td>\n",
              "      <td>Poor</td>\n",
              "      <td>Always regular</td>\n",
              "      <td>Failure</td>\n",
              "      <td>Poor</td>\n",
              "      <td>3</td>\n",
              "      <td>0</td>\n",
              "      <td>0</td>\n",
              "      <td>1</td>\n",
              "      <td>3</td>\n",
              "      <td>0</td>\n",
              "      <td>0</td>\n",
              "      <td>4</td>\n",
              "      <td>1</td>\n",
              "      <td>0</td>\n",
              "      <td>1</td>\n",
              "      <td>0</td>\n",
              "    </tr>\n",
              "    <tr>\n",
              "      <th>1</th>\n",
              "      <td>GP</td>\n",
              "      <td>F</td>\n",
              "      <td>17</td>\n",
              "      <td>U</td>\n",
              "      <td>0</td>\n",
              "      <td>T</td>\n",
              "      <td>1</td>\n",
              "      <td>1</td>\n",
              "      <td>at_home</td>\n",
              "      <td>other</td>\n",
              "      <td>course</td>\n",
              "      <td>father</td>\n",
              "      <td>1</td>\n",
              "      <td>2</td>\n",
              "      <td>0</td>\n",
              "      <td>no</td>\n",
              "      <td>yes</td>\n",
              "      <td>no</td>\n",
              "      <td>no</td>\n",
              "      <td>no</td>\n",
              "      <td>yes</td>\n",
              "      <td>yes</td>\n",
              "      <td>no</td>\n",
              "      <td>5</td>\n",
              "      <td>3</td>\n",
              "      <td>3</td>\n",
              "      <td>1</td>\n",
              "      <td>1</td>\n",
              "      <td>3</td>\n",
              "      <td>4</td>\n",
              "      <td>5</td>\n",
              "      <td>5</td>\n",
              "      <td>6</td>\n",
              "      <td>maths</td>\n",
              "      <td>Poor</td>\n",
              "      <td>Always regular</td>\n",
              "      <td>Failure</td>\n",
              "      <td>Failure</td>\n",
              "      <td>3</td>\n",
              "      <td>0</td>\n",
              "      <td>0</td>\n",
              "      <td>1</td>\n",
              "      <td>1</td>\n",
              "      <td>0</td>\n",
              "      <td>0</td>\n",
              "      <td>2</td>\n",
              "      <td>0</td>\n",
              "      <td>0</td>\n",
              "      <td>1</td>\n",
              "      <td>0</td>\n",
              "    </tr>\n",
              "    <tr>\n",
              "      <th>2</th>\n",
              "      <td>GP</td>\n",
              "      <td>F</td>\n",
              "      <td>15</td>\n",
              "      <td>U</td>\n",
              "      <td>1</td>\n",
              "      <td>T</td>\n",
              "      <td>1</td>\n",
              "      <td>1</td>\n",
              "      <td>at_home</td>\n",
              "      <td>other</td>\n",
              "      <td>other</td>\n",
              "      <td>mother</td>\n",
              "      <td>1</td>\n",
              "      <td>2</td>\n",
              "      <td>3</td>\n",
              "      <td>yes</td>\n",
              "      <td>no</td>\n",
              "      <td>yes</td>\n",
              "      <td>no</td>\n",
              "      <td>yes</td>\n",
              "      <td>yes</td>\n",
              "      <td>yes</td>\n",
              "      <td>no</td>\n",
              "      <td>4</td>\n",
              "      <td>3</td>\n",
              "      <td>2</td>\n",
              "      <td>2</td>\n",
              "      <td>3</td>\n",
              "      <td>3</td>\n",
              "      <td>10</td>\n",
              "      <td>7</td>\n",
              "      <td>8</td>\n",
              "      <td>10</td>\n",
              "      <td>maths</td>\n",
              "      <td>Poor</td>\n",
              "      <td>Mostly regular</td>\n",
              "      <td>Poor</td>\n",
              "      <td>Poor</td>\n",
              "      <td>3</td>\n",
              "      <td>2</td>\n",
              "      <td>0</td>\n",
              "      <td>3</td>\n",
              "      <td>3</td>\n",
              "      <td>2</td>\n",
              "      <td>0</td>\n",
              "      <td>2</td>\n",
              "      <td>1</td>\n",
              "      <td>1</td>\n",
              "      <td>1</td>\n",
              "      <td>0</td>\n",
              "    </tr>\n",
              "    <tr>\n",
              "      <th>3</th>\n",
              "      <td>GP</td>\n",
              "      <td>F</td>\n",
              "      <td>15</td>\n",
              "      <td>U</td>\n",
              "      <td>0</td>\n",
              "      <td>T</td>\n",
              "      <td>4</td>\n",
              "      <td>2</td>\n",
              "      <td>health</td>\n",
              "      <td>services</td>\n",
              "      <td>home</td>\n",
              "      <td>mother</td>\n",
              "      <td>1</td>\n",
              "      <td>3</td>\n",
              "      <td>0</td>\n",
              "      <td>no</td>\n",
              "      <td>yes</td>\n",
              "      <td>yes</td>\n",
              "      <td>yes</td>\n",
              "      <td>yes</td>\n",
              "      <td>yes</td>\n",
              "      <td>yes</td>\n",
              "      <td>yes</td>\n",
              "      <td>3</td>\n",
              "      <td>2</td>\n",
              "      <td>2</td>\n",
              "      <td>1</td>\n",
              "      <td>1</td>\n",
              "      <td>5</td>\n",
              "      <td>2</td>\n",
              "      <td>15</td>\n",
              "      <td>14</td>\n",
              "      <td>15</td>\n",
              "      <td>maths</td>\n",
              "      <td>Good</td>\n",
              "      <td>Always regular</td>\n",
              "      <td>Good</td>\n",
              "      <td>Satisfactory</td>\n",
              "      <td>2</td>\n",
              "      <td>0</td>\n",
              "      <td>0</td>\n",
              "      <td>2</td>\n",
              "      <td>4</td>\n",
              "      <td>1</td>\n",
              "      <td>1</td>\n",
              "      <td>3</td>\n",
              "      <td>1</td>\n",
              "      <td>0</td>\n",
              "      <td>1</td>\n",
              "      <td>0</td>\n",
              "    </tr>\n",
              "    <tr>\n",
              "      <th>4</th>\n",
              "      <td>GP</td>\n",
              "      <td>F</td>\n",
              "      <td>16</td>\n",
              "      <td>U</td>\n",
              "      <td>0</td>\n",
              "      <td>T</td>\n",
              "      <td>3</td>\n",
              "      <td>3</td>\n",
              "      <td>other</td>\n",
              "      <td>other</td>\n",
              "      <td>home</td>\n",
              "      <td>father</td>\n",
              "      <td>1</td>\n",
              "      <td>2</td>\n",
              "      <td>0</td>\n",
              "      <td>no</td>\n",
              "      <td>yes</td>\n",
              "      <td>yes</td>\n",
              "      <td>no</td>\n",
              "      <td>yes</td>\n",
              "      <td>yes</td>\n",
              "      <td>no</td>\n",
              "      <td>no</td>\n",
              "      <td>4</td>\n",
              "      <td>3</td>\n",
              "      <td>2</td>\n",
              "      <td>1</td>\n",
              "      <td>2</td>\n",
              "      <td>5</td>\n",
              "      <td>4</td>\n",
              "      <td>6</td>\n",
              "      <td>10</td>\n",
              "      <td>10</td>\n",
              "      <td>maths</td>\n",
              "      <td>Poor</td>\n",
              "      <td>Always regular</td>\n",
              "      <td>Poor</td>\n",
              "      <td>Poor</td>\n",
              "      <td>3</td>\n",
              "      <td>0</td>\n",
              "      <td>0</td>\n",
              "      <td>3</td>\n",
              "      <td>3</td>\n",
              "      <td>1</td>\n",
              "      <td>2</td>\n",
              "      <td>2</td>\n",
              "      <td>0</td>\n",
              "      <td>0</td>\n",
              "      <td>1</td>\n",
              "      <td>0</td>\n",
              "    </tr>\n",
              "  </tbody>\n",
              "</table>\n",
              "</div>"
            ],
            "text/plain": [
              "  school sex  age address  ...  guardian_cat famsize_cat  address_cat  sex_cat\n",
              "0     GP   F   18       U  ...             1           0            1        0\n",
              "1     GP   F   17       U  ...             0           0            1        0\n",
              "2     GP   F   15       U  ...             1           1            1        0\n",
              "3     GP   F   15       U  ...             1           0            1        0\n",
              "4     GP   F   16       U  ...             0           0            1        0\n",
              "\n",
              "[5 rows x 50 columns]"
            ]
          },
          "metadata": {
            "tags": []
          },
          "execution_count": 126
        }
      ]
    },
    {
      "cell_type": "code",
      "metadata": {
        "id": "rE5_5eJRDHYb"
      },
      "source": [
        "df = df.loc[:, ~df.columns.str.contains('^Unnamed')]"
      ],
      "execution_count": null,
      "outputs": []
    },
    {
      "cell_type": "code",
      "metadata": {
        "colab": {
          "base_uri": "https://localhost:8080/",
          "height": 309
        },
        "id": "ncIHVz5yDJlE",
        "outputId": "5d963236-adb8-4892-feb1-bc9cb1cf7114"
      },
      "source": [
        "df.head()"
      ],
      "execution_count": null,
      "outputs": [
        {
          "output_type": "execute_result",
          "data": {
            "text/html": [
              "<div>\n",
              "<style scoped>\n",
              "    .dataframe tbody tr th:only-of-type {\n",
              "        vertical-align: middle;\n",
              "    }\n",
              "\n",
              "    .dataframe tbody tr th {\n",
              "        vertical-align: top;\n",
              "    }\n",
              "\n",
              "    .dataframe thead th {\n",
              "        text-align: right;\n",
              "    }\n",
              "</style>\n",
              "<table border=\"1\" class=\"dataframe\">\n",
              "  <thead>\n",
              "    <tr style=\"text-align: right;\">\n",
              "      <th></th>\n",
              "      <th>school</th>\n",
              "      <th>sex</th>\n",
              "      <th>age</th>\n",
              "      <th>address</th>\n",
              "      <th>famsize</th>\n",
              "      <th>Pstatus</th>\n",
              "      <th>Medu</th>\n",
              "      <th>Fedu</th>\n",
              "      <th>Mjob</th>\n",
              "      <th>Fjob</th>\n",
              "      <th>reason</th>\n",
              "      <th>guardian</th>\n",
              "      <th>traveltime</th>\n",
              "      <th>studytime</th>\n",
              "      <th>failures</th>\n",
              "      <th>schoolsup</th>\n",
              "      <th>famsup</th>\n",
              "      <th>paid</th>\n",
              "      <th>activities</th>\n",
              "      <th>nursery</th>\n",
              "      <th>higher</th>\n",
              "      <th>internet</th>\n",
              "      <th>romantic</th>\n",
              "      <th>famrel</th>\n",
              "      <th>freetime</th>\n",
              "      <th>goout</th>\n",
              "      <th>Dalc</th>\n",
              "      <th>Walc</th>\n",
              "      <th>health</th>\n",
              "      <th>absences</th>\n",
              "      <th>G1</th>\n",
              "      <th>G2</th>\n",
              "      <th>G3</th>\n",
              "      <th>subject</th>\n",
              "      <th>FinalGrade</th>\n",
              "      <th>Regularity</th>\n",
              "      <th>GradeG1</th>\n",
              "      <th>GradeG2</th>\n",
              "      <th>FinalGrade_cat</th>\n",
              "      <th>Regularity_cat</th>\n",
              "      <th>school_cat</th>\n",
              "      <th>GradeG1_cat</th>\n",
              "      <th>GradeG2_cat</th>\n",
              "      <th>reason_cat</th>\n",
              "      <th>Mjob_cat</th>\n",
              "      <th>Fjob_cat</th>\n",
              "      <th>guardian_cat</th>\n",
              "      <th>famsize_cat</th>\n",
              "      <th>address_cat</th>\n",
              "      <th>sex_cat</th>\n",
              "    </tr>\n",
              "  </thead>\n",
              "  <tbody>\n",
              "    <tr>\n",
              "      <th>0</th>\n",
              "      <td>GP</td>\n",
              "      <td>F</td>\n",
              "      <td>18</td>\n",
              "      <td>U</td>\n",
              "      <td>0</td>\n",
              "      <td>A</td>\n",
              "      <td>4</td>\n",
              "      <td>4</td>\n",
              "      <td>at_home</td>\n",
              "      <td>teacher</td>\n",
              "      <td>course</td>\n",
              "      <td>mother</td>\n",
              "      <td>2</td>\n",
              "      <td>2</td>\n",
              "      <td>0</td>\n",
              "      <td>yes</td>\n",
              "      <td>no</td>\n",
              "      <td>no</td>\n",
              "      <td>no</td>\n",
              "      <td>yes</td>\n",
              "      <td>yes</td>\n",
              "      <td>no</td>\n",
              "      <td>no</td>\n",
              "      <td>4</td>\n",
              "      <td>3</td>\n",
              "      <td>4</td>\n",
              "      <td>1</td>\n",
              "      <td>1</td>\n",
              "      <td>3</td>\n",
              "      <td>6</td>\n",
              "      <td>5</td>\n",
              "      <td>6</td>\n",
              "      <td>6</td>\n",
              "      <td>maths</td>\n",
              "      <td>Poor</td>\n",
              "      <td>Always regular</td>\n",
              "      <td>Failure</td>\n",
              "      <td>Poor</td>\n",
              "      <td>3</td>\n",
              "      <td>0</td>\n",
              "      <td>0</td>\n",
              "      <td>1</td>\n",
              "      <td>3</td>\n",
              "      <td>0</td>\n",
              "      <td>0</td>\n",
              "      <td>4</td>\n",
              "      <td>1</td>\n",
              "      <td>0</td>\n",
              "      <td>1</td>\n",
              "      <td>0</td>\n",
              "    </tr>\n",
              "    <tr>\n",
              "      <th>1</th>\n",
              "      <td>GP</td>\n",
              "      <td>F</td>\n",
              "      <td>17</td>\n",
              "      <td>U</td>\n",
              "      <td>0</td>\n",
              "      <td>T</td>\n",
              "      <td>1</td>\n",
              "      <td>1</td>\n",
              "      <td>at_home</td>\n",
              "      <td>other</td>\n",
              "      <td>course</td>\n",
              "      <td>father</td>\n",
              "      <td>1</td>\n",
              "      <td>2</td>\n",
              "      <td>0</td>\n",
              "      <td>no</td>\n",
              "      <td>yes</td>\n",
              "      <td>no</td>\n",
              "      <td>no</td>\n",
              "      <td>no</td>\n",
              "      <td>yes</td>\n",
              "      <td>yes</td>\n",
              "      <td>no</td>\n",
              "      <td>5</td>\n",
              "      <td>3</td>\n",
              "      <td>3</td>\n",
              "      <td>1</td>\n",
              "      <td>1</td>\n",
              "      <td>3</td>\n",
              "      <td>4</td>\n",
              "      <td>5</td>\n",
              "      <td>5</td>\n",
              "      <td>6</td>\n",
              "      <td>maths</td>\n",
              "      <td>Poor</td>\n",
              "      <td>Always regular</td>\n",
              "      <td>Failure</td>\n",
              "      <td>Failure</td>\n",
              "      <td>3</td>\n",
              "      <td>0</td>\n",
              "      <td>0</td>\n",
              "      <td>1</td>\n",
              "      <td>1</td>\n",
              "      <td>0</td>\n",
              "      <td>0</td>\n",
              "      <td>2</td>\n",
              "      <td>0</td>\n",
              "      <td>0</td>\n",
              "      <td>1</td>\n",
              "      <td>0</td>\n",
              "    </tr>\n",
              "    <tr>\n",
              "      <th>2</th>\n",
              "      <td>GP</td>\n",
              "      <td>F</td>\n",
              "      <td>15</td>\n",
              "      <td>U</td>\n",
              "      <td>1</td>\n",
              "      <td>T</td>\n",
              "      <td>1</td>\n",
              "      <td>1</td>\n",
              "      <td>at_home</td>\n",
              "      <td>other</td>\n",
              "      <td>other</td>\n",
              "      <td>mother</td>\n",
              "      <td>1</td>\n",
              "      <td>2</td>\n",
              "      <td>3</td>\n",
              "      <td>yes</td>\n",
              "      <td>no</td>\n",
              "      <td>yes</td>\n",
              "      <td>no</td>\n",
              "      <td>yes</td>\n",
              "      <td>yes</td>\n",
              "      <td>yes</td>\n",
              "      <td>no</td>\n",
              "      <td>4</td>\n",
              "      <td>3</td>\n",
              "      <td>2</td>\n",
              "      <td>2</td>\n",
              "      <td>3</td>\n",
              "      <td>3</td>\n",
              "      <td>10</td>\n",
              "      <td>7</td>\n",
              "      <td>8</td>\n",
              "      <td>10</td>\n",
              "      <td>maths</td>\n",
              "      <td>Poor</td>\n",
              "      <td>Mostly regular</td>\n",
              "      <td>Poor</td>\n",
              "      <td>Poor</td>\n",
              "      <td>3</td>\n",
              "      <td>2</td>\n",
              "      <td>0</td>\n",
              "      <td>3</td>\n",
              "      <td>3</td>\n",
              "      <td>2</td>\n",
              "      <td>0</td>\n",
              "      <td>2</td>\n",
              "      <td>1</td>\n",
              "      <td>1</td>\n",
              "      <td>1</td>\n",
              "      <td>0</td>\n",
              "    </tr>\n",
              "    <tr>\n",
              "      <th>3</th>\n",
              "      <td>GP</td>\n",
              "      <td>F</td>\n",
              "      <td>15</td>\n",
              "      <td>U</td>\n",
              "      <td>0</td>\n",
              "      <td>T</td>\n",
              "      <td>4</td>\n",
              "      <td>2</td>\n",
              "      <td>health</td>\n",
              "      <td>services</td>\n",
              "      <td>home</td>\n",
              "      <td>mother</td>\n",
              "      <td>1</td>\n",
              "      <td>3</td>\n",
              "      <td>0</td>\n",
              "      <td>no</td>\n",
              "      <td>yes</td>\n",
              "      <td>yes</td>\n",
              "      <td>yes</td>\n",
              "      <td>yes</td>\n",
              "      <td>yes</td>\n",
              "      <td>yes</td>\n",
              "      <td>yes</td>\n",
              "      <td>3</td>\n",
              "      <td>2</td>\n",
              "      <td>2</td>\n",
              "      <td>1</td>\n",
              "      <td>1</td>\n",
              "      <td>5</td>\n",
              "      <td>2</td>\n",
              "      <td>15</td>\n",
              "      <td>14</td>\n",
              "      <td>15</td>\n",
              "      <td>maths</td>\n",
              "      <td>Good</td>\n",
              "      <td>Always regular</td>\n",
              "      <td>Good</td>\n",
              "      <td>Satisfactory</td>\n",
              "      <td>2</td>\n",
              "      <td>0</td>\n",
              "      <td>0</td>\n",
              "      <td>2</td>\n",
              "      <td>4</td>\n",
              "      <td>1</td>\n",
              "      <td>1</td>\n",
              "      <td>3</td>\n",
              "      <td>1</td>\n",
              "      <td>0</td>\n",
              "      <td>1</td>\n",
              "      <td>0</td>\n",
              "    </tr>\n",
              "    <tr>\n",
              "      <th>4</th>\n",
              "      <td>GP</td>\n",
              "      <td>F</td>\n",
              "      <td>16</td>\n",
              "      <td>U</td>\n",
              "      <td>0</td>\n",
              "      <td>T</td>\n",
              "      <td>3</td>\n",
              "      <td>3</td>\n",
              "      <td>other</td>\n",
              "      <td>other</td>\n",
              "      <td>home</td>\n",
              "      <td>father</td>\n",
              "      <td>1</td>\n",
              "      <td>2</td>\n",
              "      <td>0</td>\n",
              "      <td>no</td>\n",
              "      <td>yes</td>\n",
              "      <td>yes</td>\n",
              "      <td>no</td>\n",
              "      <td>yes</td>\n",
              "      <td>yes</td>\n",
              "      <td>no</td>\n",
              "      <td>no</td>\n",
              "      <td>4</td>\n",
              "      <td>3</td>\n",
              "      <td>2</td>\n",
              "      <td>1</td>\n",
              "      <td>2</td>\n",
              "      <td>5</td>\n",
              "      <td>4</td>\n",
              "      <td>6</td>\n",
              "      <td>10</td>\n",
              "      <td>10</td>\n",
              "      <td>maths</td>\n",
              "      <td>Poor</td>\n",
              "      <td>Always regular</td>\n",
              "      <td>Poor</td>\n",
              "      <td>Poor</td>\n",
              "      <td>3</td>\n",
              "      <td>0</td>\n",
              "      <td>0</td>\n",
              "      <td>3</td>\n",
              "      <td>3</td>\n",
              "      <td>1</td>\n",
              "      <td>2</td>\n",
              "      <td>2</td>\n",
              "      <td>0</td>\n",
              "      <td>0</td>\n",
              "      <td>1</td>\n",
              "      <td>0</td>\n",
              "    </tr>\n",
              "  </tbody>\n",
              "</table>\n",
              "</div>"
            ],
            "text/plain": [
              "  school sex  age address  ...  guardian_cat famsize_cat  address_cat  sex_cat\n",
              "0     GP   F   18       U  ...             1           0            1        0\n",
              "1     GP   F   17       U  ...             0           0            1        0\n",
              "2     GP   F   15       U  ...             1           1            1        0\n",
              "3     GP   F   15       U  ...             1           0            1        0\n",
              "4     GP   F   16       U  ...             0           0            1        0\n",
              "\n",
              "[5 rows x 50 columns]"
            ]
          },
          "metadata": {
            "tags": []
          },
          "execution_count": 128
        }
      ]
    },
    {
      "cell_type": "markdown",
      "metadata": {
        "id": "XNwKYTwuDWPp"
      },
      "source": [
        "View summary of dataset\n"
      ]
    },
    {
      "cell_type": "code",
      "metadata": {
        "colab": {
          "base_uri": "https://localhost:8080/"
        },
        "id": "VCVAs8rRDXEX",
        "outputId": "25884020-f9fd-4d85-81a3-2cd75b42886a"
      },
      "source": [
        "df.info()"
      ],
      "execution_count": null,
      "outputs": [
        {
          "output_type": "stream",
          "text": [
            "<class 'pandas.core.frame.DataFrame'>\n",
            "RangeIndex: 1044 entries, 0 to 1043\n",
            "Data columns (total 50 columns):\n",
            " #   Column          Non-Null Count  Dtype \n",
            "---  ------          --------------  ----- \n",
            " 0   school          1044 non-null   object\n",
            " 1   sex             1044 non-null   object\n",
            " 2   age             1044 non-null   int64 \n",
            " 3   address         1044 non-null   object\n",
            " 4   famsize         1044 non-null   int64 \n",
            " 5   Pstatus         1044 non-null   object\n",
            " 6   Medu            1044 non-null   int64 \n",
            " 7   Fedu            1044 non-null   int64 \n",
            " 8   Mjob            1044 non-null   object\n",
            " 9   Fjob            1044 non-null   object\n",
            " 10  reason          1044 non-null   object\n",
            " 11  guardian        1044 non-null   object\n",
            " 12  traveltime      1044 non-null   int64 \n",
            " 13  studytime       1044 non-null   int64 \n",
            " 14  failures        1044 non-null   int64 \n",
            " 15  schoolsup       1044 non-null   object\n",
            " 16  famsup          1044 non-null   object\n",
            " 17  paid            1044 non-null   object\n",
            " 18  activities      1044 non-null   object\n",
            " 19  nursery         1044 non-null   object\n",
            " 20  higher          1044 non-null   object\n",
            " 21  internet        1044 non-null   object\n",
            " 22  romantic        1044 non-null   object\n",
            " 23  famrel          1044 non-null   int64 \n",
            " 24  freetime        1044 non-null   int64 \n",
            " 25  goout           1044 non-null   int64 \n",
            " 26  Dalc            1044 non-null   int64 \n",
            " 27  Walc            1044 non-null   int64 \n",
            " 28  health          1044 non-null   int64 \n",
            " 29  absences        1044 non-null   int64 \n",
            " 30  G1              1044 non-null   int64 \n",
            " 31  G2              1044 non-null   int64 \n",
            " 32  G3              1044 non-null   int64 \n",
            " 33  subject         1044 non-null   object\n",
            " 34  FinalGrade      1044 non-null   object\n",
            " 35  Regularity      1044 non-null   object\n",
            " 36  GradeG1         1044 non-null   object\n",
            " 37  GradeG2         1044 non-null   object\n",
            " 38  FinalGrade_cat  1044 non-null   int64 \n",
            " 39  Regularity_cat  1044 non-null   int64 \n",
            " 40  school_cat      1044 non-null   int64 \n",
            " 41  GradeG1_cat     1044 non-null   int64 \n",
            " 42  GradeG2_cat     1044 non-null   int64 \n",
            " 43  reason_cat      1044 non-null   int64 \n",
            " 44  Mjob_cat        1044 non-null   int64 \n",
            " 45  Fjob_cat        1044 non-null   int64 \n",
            " 46  guardian_cat    1044 non-null   int64 \n",
            " 47  famsize_cat     1044 non-null   int64 \n",
            " 48  address_cat     1044 non-null   int64 \n",
            " 49  sex_cat         1044 non-null   int64 \n",
            "dtypes: int64(29), object(21)\n",
            "memory usage: 407.9+ KB\n"
          ],
          "name": "stdout"
        }
      ]
    },
    {
      "cell_type": "code",
      "metadata": {
        "id": "z_Uo-JMrgEoK"
      },
      "source": [
        "#Medu,Fedu,studytime,famrel,G1,G2,reason,Mjob,Fjob,address,famsize,school"
      ],
      "execution_count": null,
      "outputs": []
    },
    {
      "cell_type": "code",
      "metadata": {
        "colab": {
          "base_uri": "https://localhost:8080/",
          "height": 224
        },
        "id": "pTsAa3v6Hcpz",
        "outputId": "5729a691-cab9-4668-c623-bda26c309eb6"
      },
      "source": [
        "df1=df.copy()\n",
        "df1 = df1.drop(columns=[\"sex\",\"age\",\t\"Pstatus\",\t\"guardian\",\t\"traveltime\",\t\"schoolsup\",\t\"famsup\",\t\"paid\",\t\"activities\",\t\"nursery\",\t\"higher\",\t\"internet\",\t\"romantic\",\t\"freetime\",\t\"goout\",\t\"Dalc\",\t\"Walc\",\t\"health\",\t\"absences\",\t\"subject\"\t,\"Regularity\",\"G3\",\"FinalGrade_cat\",\"Regularity_cat\",\t\"school_cat\",\t\"GradeG1_cat\"\t,\"GradeG2_cat\"\t,\"reason_cat\"\t,\"Mjob_cat\"\t,\"Fjob_cat\"\t,\"guardian_cat\"\t,\"famsize_cat\"\t,\"address_cat\", \"sex_cat\"],axis=1)\n",
        "df1.head()"
      ],
      "execution_count": null,
      "outputs": [
        {
          "output_type": "execute_result",
          "data": {
            "text/html": [
              "<div>\n",
              "<style scoped>\n",
              "    .dataframe tbody tr th:only-of-type {\n",
              "        vertical-align: middle;\n",
              "    }\n",
              "\n",
              "    .dataframe tbody tr th {\n",
              "        vertical-align: top;\n",
              "    }\n",
              "\n",
              "    .dataframe thead th {\n",
              "        text-align: right;\n",
              "    }\n",
              "</style>\n",
              "<table border=\"1\" class=\"dataframe\">\n",
              "  <thead>\n",
              "    <tr style=\"text-align: right;\">\n",
              "      <th></th>\n",
              "      <th>school</th>\n",
              "      <th>address</th>\n",
              "      <th>famsize</th>\n",
              "      <th>Medu</th>\n",
              "      <th>Fedu</th>\n",
              "      <th>Mjob</th>\n",
              "      <th>Fjob</th>\n",
              "      <th>reason</th>\n",
              "      <th>studytime</th>\n",
              "      <th>failures</th>\n",
              "      <th>famrel</th>\n",
              "      <th>G1</th>\n",
              "      <th>G2</th>\n",
              "      <th>FinalGrade</th>\n",
              "      <th>GradeG1</th>\n",
              "      <th>GradeG2</th>\n",
              "    </tr>\n",
              "  </thead>\n",
              "  <tbody>\n",
              "    <tr>\n",
              "      <th>0</th>\n",
              "      <td>GP</td>\n",
              "      <td>U</td>\n",
              "      <td>0</td>\n",
              "      <td>4</td>\n",
              "      <td>4</td>\n",
              "      <td>at_home</td>\n",
              "      <td>teacher</td>\n",
              "      <td>course</td>\n",
              "      <td>2</td>\n",
              "      <td>0</td>\n",
              "      <td>4</td>\n",
              "      <td>5</td>\n",
              "      <td>6</td>\n",
              "      <td>Poor</td>\n",
              "      <td>Failure</td>\n",
              "      <td>Poor</td>\n",
              "    </tr>\n",
              "    <tr>\n",
              "      <th>1</th>\n",
              "      <td>GP</td>\n",
              "      <td>U</td>\n",
              "      <td>0</td>\n",
              "      <td>1</td>\n",
              "      <td>1</td>\n",
              "      <td>at_home</td>\n",
              "      <td>other</td>\n",
              "      <td>course</td>\n",
              "      <td>2</td>\n",
              "      <td>0</td>\n",
              "      <td>5</td>\n",
              "      <td>5</td>\n",
              "      <td>5</td>\n",
              "      <td>Poor</td>\n",
              "      <td>Failure</td>\n",
              "      <td>Failure</td>\n",
              "    </tr>\n",
              "    <tr>\n",
              "      <th>2</th>\n",
              "      <td>GP</td>\n",
              "      <td>U</td>\n",
              "      <td>1</td>\n",
              "      <td>1</td>\n",
              "      <td>1</td>\n",
              "      <td>at_home</td>\n",
              "      <td>other</td>\n",
              "      <td>other</td>\n",
              "      <td>2</td>\n",
              "      <td>3</td>\n",
              "      <td>4</td>\n",
              "      <td>7</td>\n",
              "      <td>8</td>\n",
              "      <td>Poor</td>\n",
              "      <td>Poor</td>\n",
              "      <td>Poor</td>\n",
              "    </tr>\n",
              "    <tr>\n",
              "      <th>3</th>\n",
              "      <td>GP</td>\n",
              "      <td>U</td>\n",
              "      <td>0</td>\n",
              "      <td>4</td>\n",
              "      <td>2</td>\n",
              "      <td>health</td>\n",
              "      <td>services</td>\n",
              "      <td>home</td>\n",
              "      <td>3</td>\n",
              "      <td>0</td>\n",
              "      <td>3</td>\n",
              "      <td>15</td>\n",
              "      <td>14</td>\n",
              "      <td>Good</td>\n",
              "      <td>Good</td>\n",
              "      <td>Satisfactory</td>\n",
              "    </tr>\n",
              "    <tr>\n",
              "      <th>4</th>\n",
              "      <td>GP</td>\n",
              "      <td>U</td>\n",
              "      <td>0</td>\n",
              "      <td>3</td>\n",
              "      <td>3</td>\n",
              "      <td>other</td>\n",
              "      <td>other</td>\n",
              "      <td>home</td>\n",
              "      <td>2</td>\n",
              "      <td>0</td>\n",
              "      <td>4</td>\n",
              "      <td>6</td>\n",
              "      <td>10</td>\n",
              "      <td>Poor</td>\n",
              "      <td>Poor</td>\n",
              "      <td>Poor</td>\n",
              "    </tr>\n",
              "  </tbody>\n",
              "</table>\n",
              "</div>"
            ],
            "text/plain": [
              "  school address  famsize  Medu  Fedu  ...  G1  G2 FinalGrade  GradeG1       GradeG2\n",
              "0     GP       U        0     4     4  ...   5   6       Poor  Failure          Poor\n",
              "1     GP       U        0     1     1  ...   5   5       Poor  Failure       Failure\n",
              "2     GP       U        1     1     1  ...   7   8       Poor     Poor          Poor\n",
              "3     GP       U        0     4     2  ...  15  14       Good     Good  Satisfactory\n",
              "4     GP       U        0     3     3  ...   6  10       Poor     Poor          Poor\n",
              "\n",
              "[5 rows x 16 columns]"
            ]
          },
          "metadata": {
            "tags": []
          },
          "execution_count": 175
        }
      ]
    },
    {
      "cell_type": "markdown",
      "metadata": {
        "id": "wArOedBXDfoh"
      },
      "source": [
        "Frequency distribution of values in variables"
      ]
    },
    {
      "cell_type": "code",
      "metadata": {
        "colab": {
          "base_uri": "https://localhost:8080/"
        },
        "id": "tdda1xwlDgQQ",
        "outputId": "e74c2ca3-2b5e-476c-ffb5-db2784c81023"
      },
      "source": [
        "col_names = [\"school\",\t\"address\",\t\"famsize\",\t\"Medu\",\t\"Fedu\",\t\"Mjob\",\t\"Fjob\",\t\"reason\",\t\"studytime\",\t\"failures\",\t\t\"famrel\",\t\"G1\",\t\"G2\"\t,\"FinalGrade\"\t,\t\"GradeG1\"\t,\"GradeG2\"\t]\n",
        "\n",
        "\n",
        "for col in col_names:\n",
        "    \n",
        "    print(df1[col].value_counts())   "
      ],
      "execution_count": null,
      "outputs": [
        {
          "output_type": "stream",
          "text": [
            "GP    772\n",
            "MS    272\n",
            "Name: school, dtype: int64\n",
            "U    759\n",
            "R    285\n",
            "Name: address, dtype: int64\n",
            "0    738\n",
            "1    306\n",
            "Name: famsize, dtype: int64\n",
            "4    306\n",
            "2    289\n",
            "3    238\n",
            "1    202\n",
            "0      9\n",
            "Name: Medu, dtype: int64\n",
            "2    324\n",
            "1    256\n",
            "3    231\n",
            "4    224\n",
            "0      9\n",
            "Name: Fedu, dtype: int64\n",
            "other       399\n",
            "services    239\n",
            "at_home     194\n",
            "teacher     130\n",
            "health       82\n",
            "Name: Mjob, dtype: int64\n",
            "other       584\n",
            "services    292\n",
            "teacher      65\n",
            "at_home      62\n",
            "health       41\n",
            "Name: Fjob, dtype: int64\n",
            "course        430\n",
            "home          258\n",
            "reputation    248\n",
            "other         108\n",
            "Name: reason, dtype: int64\n",
            "2    503\n",
            "1    317\n",
            "3    162\n",
            "4     62\n",
            "Name: studytime, dtype: int64\n",
            "0    861\n",
            "1    120\n",
            "2     33\n",
            "3     30\n",
            "Name: failures, dtype: int64\n",
            "4    512\n",
            "5    286\n",
            "3    169\n",
            "2     47\n",
            "1     30\n",
            "Name: famrel, dtype: int64\n",
            "10    146\n",
            "11    130\n",
            "12    117\n",
            "13    105\n",
            "14    101\n",
            "9      96\n",
            "8      83\n",
            "7      70\n",
            "15     59\n",
            "16     44\n",
            "6      33\n",
            "17     24\n",
            "18     15\n",
            "5      12\n",
            "19      4\n",
            "4       3\n",
            "3       1\n",
            "0       1\n",
            "Name: G1, dtype: int64\n",
            "11    138\n",
            "10    129\n",
            "12    127\n",
            "9     122\n",
            "13    117\n",
            "14     77\n",
            "15     72\n",
            "8      72\n",
            "16     38\n",
            "7      37\n",
            "18     26\n",
            "17     25\n",
            "6      21\n",
            "0      20\n",
            "5      18\n",
            "19      4\n",
            "4       1\n",
            "Name: G2, dtype: int64\n",
            "Satisfactory    457\n",
            "Poor            320\n",
            "Good            169\n",
            "Failure          63\n",
            "Excellent        35\n",
            "Name: FinalGrade, dtype: int64\n",
            "Satisfactory    453\n",
            "Poor            428\n",
            "Good            127\n",
            "Excellent        19\n",
            "Failure          17\n",
            "Name: GradeG1, dtype: int64\n",
            "Satisfactory    459\n",
            "Poor            381\n",
            "Good            135\n",
            "Failure          39\n",
            "Excellent        30\n",
            "Name: GradeG2, dtype: int64\n"
          ],
          "name": "stdout"
        }
      ]
    },
    {
      "cell_type": "markdown",
      "metadata": {
        "id": "IgLMLXVLG1BD"
      },
      "source": [
        "Explore class variable"
      ]
    },
    {
      "cell_type": "code",
      "metadata": {
        "colab": {
          "base_uri": "https://localhost:8080/"
        },
        "id": "_BIXIkHbG10B",
        "outputId": "293e0e96-f029-4a73-a704-deb872d13ec5"
      },
      "source": [
        "df1['FinalGrade'].value_counts()"
      ],
      "execution_count": null,
      "outputs": [
        {
          "output_type": "execute_result",
          "data": {
            "text/plain": [
              "Satisfactory    457\n",
              "Poor            320\n",
              "Good            169\n",
              "Failure          63\n",
              "Excellent        35\n",
              "Name: FinalGrade, dtype: int64"
            ]
          },
          "metadata": {
            "tags": []
          },
          "execution_count": 177
        }
      ]
    },
    {
      "cell_type": "markdown",
      "metadata": {
        "id": "hwubDg3ZHFZ6"
      },
      "source": [
        "Missing values in variables"
      ]
    },
    {
      "cell_type": "code",
      "metadata": {
        "colab": {
          "base_uri": "https://localhost:8080/"
        },
        "id": "hftiNKUmHF_P",
        "outputId": "2d6eb33d-e664-42be-ce10-ac29fdba7750"
      },
      "source": [
        "\n",
        "df1.isnull().sum()"
      ],
      "execution_count": null,
      "outputs": [
        {
          "output_type": "execute_result",
          "data": {
            "text/plain": [
              "school        0\n",
              "address       0\n",
              "famsize       0\n",
              "Medu          0\n",
              "Fedu          0\n",
              "Mjob          0\n",
              "Fjob          0\n",
              "reason        0\n",
              "studytime     0\n",
              "failures      0\n",
              "famrel        0\n",
              "G1            0\n",
              "G2            0\n",
              "FinalGrade    0\n",
              "GradeG1       0\n",
              "GradeG2       0\n",
              "dtype: int64"
            ]
          },
          "metadata": {
            "tags": []
          },
          "execution_count": 134
        }
      ]
    },
    {
      "cell_type": "markdown",
      "metadata": {
        "id": "k2Gd2k2nHNvG"
      },
      "source": [
        "# Declare feature vector and target variable"
      ]
    },
    {
      "cell_type": "code",
      "metadata": {
        "id": "VRdfcp8hHO9_"
      },
      "source": [
        "X = df1.drop(['FinalGrade'], axis=1)\n",
        "\n",
        "y = df1['FinalGrade']"
      ],
      "execution_count": null,
      "outputs": []
    },
    {
      "cell_type": "markdown",
      "metadata": {
        "id": "6T2SSSZnJzP3"
      },
      "source": [
        "# Split data into separate training and test set "
      ]
    },
    {
      "cell_type": "code",
      "metadata": {
        "id": "KkxJgVppJ0bq"
      },
      "source": [
        "\n",
        "from sklearn.model_selection import train_test_split\n",
        "\n",
        "X_train, X_test, y_train, y_test = train_test_split(X, y, test_size = 0.2, random_state = 48)"
      ],
      "execution_count": null,
      "outputs": []
    },
    {
      "cell_type": "code",
      "metadata": {
        "colab": {
          "base_uri": "https://localhost:8080/"
        },
        "id": "T1mWXnt7J-LY",
        "outputId": "30cbd23a-4b6e-4a45-f4d1-b1e262f0c273"
      },
      "source": [
        "# check the shape of X_train and X_test\n",
        "\n",
        "X_train.shape, X_test.shape"
      ],
      "execution_count": null,
      "outputs": [
        {
          "output_type": "execute_result",
          "data": {
            "text/plain": [
              "((835, 15), (209, 15))"
            ]
          },
          "metadata": {
            "tags": []
          },
          "execution_count": 137
        }
      ]
    },
    {
      "cell_type": "markdown",
      "metadata": {
        "id": "nMFTh9erKJJv"
      },
      "source": [
        "# Feature Engineering"
      ]
    },
    {
      "cell_type": "code",
      "metadata": {
        "colab": {
          "base_uri": "https://localhost:8080/"
        },
        "id": "WDqk_hTTKKjo",
        "outputId": "dcaa8d66-a439-4154-b374-4d32e0a63370"
      },
      "source": [
        "# check data types in X_train\n",
        "\n",
        "X_train.dtypes"
      ],
      "execution_count": null,
      "outputs": [
        {
          "output_type": "execute_result",
          "data": {
            "text/plain": [
              "school       object\n",
              "address      object\n",
              "famsize       int64\n",
              "Medu          int64\n",
              "Fedu          int64\n",
              "Mjob         object\n",
              "Fjob         object\n",
              "reason       object\n",
              "studytime     int64\n",
              "failures      int64\n",
              "famrel        int64\n",
              "G1            int64\n",
              "G2            int64\n",
              "GradeG1      object\n",
              "GradeG2      object\n",
              "dtype: object"
            ]
          },
          "metadata": {
            "tags": []
          },
          "execution_count": 138
        }
      ]
    },
    {
      "cell_type": "markdown",
      "metadata": {
        "id": "ob_pBeXZKZp4"
      },
      "source": [
        "Encode categorical variables"
      ]
    },
    {
      "cell_type": "code",
      "metadata": {
        "colab": {
          "base_uri": "https://localhost:8080/",
          "height": 224
        },
        "id": "6gD7A6ojKaXf",
        "outputId": "df3af3f9-c56d-4ab9-bb0e-f5fa988c5a4f"
      },
      "source": [
        "X_train.head()"
      ],
      "execution_count": null,
      "outputs": [
        {
          "output_type": "execute_result",
          "data": {
            "text/html": [
              "<div>\n",
              "<style scoped>\n",
              "    .dataframe tbody tr th:only-of-type {\n",
              "        vertical-align: middle;\n",
              "    }\n",
              "\n",
              "    .dataframe tbody tr th {\n",
              "        vertical-align: top;\n",
              "    }\n",
              "\n",
              "    .dataframe thead th {\n",
              "        text-align: right;\n",
              "    }\n",
              "</style>\n",
              "<table border=\"1\" class=\"dataframe\">\n",
              "  <thead>\n",
              "    <tr style=\"text-align: right;\">\n",
              "      <th></th>\n",
              "      <th>school</th>\n",
              "      <th>address</th>\n",
              "      <th>famsize</th>\n",
              "      <th>Medu</th>\n",
              "      <th>Fedu</th>\n",
              "      <th>Mjob</th>\n",
              "      <th>Fjob</th>\n",
              "      <th>reason</th>\n",
              "      <th>studytime</th>\n",
              "      <th>failures</th>\n",
              "      <th>famrel</th>\n",
              "      <th>G1</th>\n",
              "      <th>G2</th>\n",
              "      <th>GradeG1</th>\n",
              "      <th>GradeG2</th>\n",
              "    </tr>\n",
              "  </thead>\n",
              "  <tbody>\n",
              "    <tr>\n",
              "      <th>89</th>\n",
              "      <td>GP</td>\n",
              "      <td>U</td>\n",
              "      <td>1</td>\n",
              "      <td>4</td>\n",
              "      <td>4</td>\n",
              "      <td>teacher</td>\n",
              "      <td>health</td>\n",
              "      <td>reputation</td>\n",
              "      <td>2</td>\n",
              "      <td>0</td>\n",
              "      <td>4</td>\n",
              "      <td>8</td>\n",
              "      <td>6</td>\n",
              "      <td>Poor</td>\n",
              "      <td>Poor</td>\n",
              "    </tr>\n",
              "    <tr>\n",
              "      <th>704</th>\n",
              "      <td>GP</td>\n",
              "      <td>U</td>\n",
              "      <td>0</td>\n",
              "      <td>4</td>\n",
              "      <td>2</td>\n",
              "      <td>health</td>\n",
              "      <td>other</td>\n",
              "      <td>reputation</td>\n",
              "      <td>2</td>\n",
              "      <td>0</td>\n",
              "      <td>5</td>\n",
              "      <td>10</td>\n",
              "      <td>12</td>\n",
              "      <td>Poor</td>\n",
              "      <td>Satisfactory</td>\n",
              "    </tr>\n",
              "    <tr>\n",
              "      <th>692</th>\n",
              "      <td>GP</td>\n",
              "      <td>R</td>\n",
              "      <td>0</td>\n",
              "      <td>2</td>\n",
              "      <td>2</td>\n",
              "      <td>other</td>\n",
              "      <td>services</td>\n",
              "      <td>other</td>\n",
              "      <td>1</td>\n",
              "      <td>0</td>\n",
              "      <td>5</td>\n",
              "      <td>9</td>\n",
              "      <td>10</td>\n",
              "      <td>Poor</td>\n",
              "      <td>Poor</td>\n",
              "    </tr>\n",
              "    <tr>\n",
              "      <th>30</th>\n",
              "      <td>GP</td>\n",
              "      <td>U</td>\n",
              "      <td>0</td>\n",
              "      <td>4</td>\n",
              "      <td>4</td>\n",
              "      <td>health</td>\n",
              "      <td>services</td>\n",
              "      <td>home</td>\n",
              "      <td>2</td>\n",
              "      <td>0</td>\n",
              "      <td>5</td>\n",
              "      <td>9</td>\n",
              "      <td>11</td>\n",
              "      <td>Poor</td>\n",
              "      <td>Satisfactory</td>\n",
              "    </tr>\n",
              "    <tr>\n",
              "      <th>317</th>\n",
              "      <td>GP</td>\n",
              "      <td>U</td>\n",
              "      <td>0</td>\n",
              "      <td>4</td>\n",
              "      <td>3</td>\n",
              "      <td>other</td>\n",
              "      <td>other</td>\n",
              "      <td>course</td>\n",
              "      <td>3</td>\n",
              "      <td>0</td>\n",
              "      <td>4</td>\n",
              "      <td>9</td>\n",
              "      <td>10</td>\n",
              "      <td>Poor</td>\n",
              "      <td>Poor</td>\n",
              "    </tr>\n",
              "  </tbody>\n",
              "</table>\n",
              "</div>"
            ],
            "text/plain": [
              "    school address  famsize  Medu  Fedu  ... famrel  G1  G2  GradeG1       GradeG2\n",
              "89      GP       U        1     4     4  ...      4   8   6     Poor          Poor\n",
              "704     GP       U        0     4     2  ...      5  10  12     Poor  Satisfactory\n",
              "692     GP       R        0     2     2  ...      5   9  10     Poor          Poor\n",
              "30      GP       U        0     4     4  ...      5   9  11     Poor  Satisfactory\n",
              "317     GP       U        0     4     3  ...      4   9  10     Poor          Poor\n",
              "\n",
              "[5 rows x 15 columns]"
            ]
          },
          "metadata": {
            "tags": []
          },
          "execution_count": 139
        }
      ]
    },
    {
      "cell_type": "code",
      "metadata": {
        "colab": {
          "base_uri": "https://localhost:8080/"
        },
        "id": "QVab9jHaZUBx",
        "outputId": "3a59b8d8-35ad-4986-bca5-76a50616f022"
      },
      "source": [
        "y_train.head()"
      ],
      "execution_count": null,
      "outputs": [
        {
          "output_type": "execute_result",
          "data": {
            "text/plain": [
              "89             Poor\n",
              "704    Satisfactory\n",
              "692            Poor\n",
              "30     Satisfactory\n",
              "317            Poor\n",
              "Name: FinalGrade, dtype: object"
            ]
          },
          "metadata": {
            "tags": []
          },
          "execution_count": 198
        }
      ]
    },
    {
      "cell_type": "code",
      "metadata": {
        "colab": {
          "base_uri": "https://localhost:8080/"
        },
        "id": "alHKG4Q6PRYg",
        "outputId": "77d7dc00-1dc7-494f-8aca-2f921bc828e1"
      },
      "source": [
        "X_train[\"Mjob\"].unique()"
      ],
      "execution_count": null,
      "outputs": [
        {
          "output_type": "execute_result",
          "data": {
            "text/plain": [
              "array(['teacher', 'health', 'other', 'at_home', 'services'], dtype=object)"
            ]
          },
          "metadata": {
            "tags": []
          },
          "execution_count": 183
        }
      ]
    },
    {
      "cell_type": "code",
      "metadata": {
        "colab": {
          "base_uri": "https://localhost:8080/",
          "height": 224
        },
        "id": "hx4iJ8MSaMdH",
        "outputId": "75905bbf-1590-4622-8422-5cb9368c6733"
      },
      "source": [
        "X_test.head()"
      ],
      "execution_count": null,
      "outputs": [
        {
          "output_type": "execute_result",
          "data": {
            "text/html": [
              "<div>\n",
              "<style scoped>\n",
              "    .dataframe tbody tr th:only-of-type {\n",
              "        vertical-align: middle;\n",
              "    }\n",
              "\n",
              "    .dataframe tbody tr th {\n",
              "        vertical-align: top;\n",
              "    }\n",
              "\n",
              "    .dataframe thead th {\n",
              "        text-align: right;\n",
              "    }\n",
              "</style>\n",
              "<table border=\"1\" class=\"dataframe\">\n",
              "  <thead>\n",
              "    <tr style=\"text-align: right;\">\n",
              "      <th></th>\n",
              "      <th>school</th>\n",
              "      <th>address</th>\n",
              "      <th>famsize</th>\n",
              "      <th>Medu</th>\n",
              "      <th>Fedu</th>\n",
              "      <th>Mjob</th>\n",
              "      <th>Fjob</th>\n",
              "      <th>reason</th>\n",
              "      <th>studytime</th>\n",
              "      <th>failures</th>\n",
              "      <th>famrel</th>\n",
              "      <th>G1</th>\n",
              "      <th>G2</th>\n",
              "      <th>GradeG1</th>\n",
              "      <th>GradeG2</th>\n",
              "    </tr>\n",
              "  </thead>\n",
              "  <tbody>\n",
              "    <tr>\n",
              "      <th>975</th>\n",
              "      <td>MS</td>\n",
              "      <td>R</td>\n",
              "      <td>0</td>\n",
              "      <td>1</td>\n",
              "      <td>1</td>\n",
              "      <td>other</td>\n",
              "      <td>other</td>\n",
              "      <td>home</td>\n",
              "      <td>1</td>\n",
              "      <td>1</td>\n",
              "      <td>4</td>\n",
              "      <td>8</td>\n",
              "      <td>9</td>\n",
              "      <td>Poor</td>\n",
              "      <td>Poor</td>\n",
              "    </tr>\n",
              "    <tr>\n",
              "      <th>522</th>\n",
              "      <td>GP</td>\n",
              "      <td>U</td>\n",
              "      <td>0</td>\n",
              "      <td>0</td>\n",
              "      <td>1</td>\n",
              "      <td>at_home</td>\n",
              "      <td>other</td>\n",
              "      <td>course</td>\n",
              "      <td>2</td>\n",
              "      <td>2</td>\n",
              "      <td>3</td>\n",
              "      <td>9</td>\n",
              "      <td>10</td>\n",
              "      <td>Poor</td>\n",
              "      <td>Poor</td>\n",
              "    </tr>\n",
              "    <tr>\n",
              "      <th>413</th>\n",
              "      <td>GP</td>\n",
              "      <td>U</td>\n",
              "      <td>0</td>\n",
              "      <td>3</td>\n",
              "      <td>2</td>\n",
              "      <td>services</td>\n",
              "      <td>services</td>\n",
              "      <td>course</td>\n",
              "      <td>1</td>\n",
              "      <td>3</td>\n",
              "      <td>5</td>\n",
              "      <td>8</td>\n",
              "      <td>8</td>\n",
              "      <td>Poor</td>\n",
              "      <td>Poor</td>\n",
              "    </tr>\n",
              "    <tr>\n",
              "      <th>905</th>\n",
              "      <td>MS</td>\n",
              "      <td>R</td>\n",
              "      <td>0</td>\n",
              "      <td>2</td>\n",
              "      <td>2</td>\n",
              "      <td>other</td>\n",
              "      <td>other</td>\n",
              "      <td>reputation</td>\n",
              "      <td>2</td>\n",
              "      <td>0</td>\n",
              "      <td>5</td>\n",
              "      <td>15</td>\n",
              "      <td>17</td>\n",
              "      <td>Good</td>\n",
              "      <td>Good</td>\n",
              "    </tr>\n",
              "    <tr>\n",
              "      <th>328</th>\n",
              "      <td>GP</td>\n",
              "      <td>U</td>\n",
              "      <td>0</td>\n",
              "      <td>4</td>\n",
              "      <td>4</td>\n",
              "      <td>teacher</td>\n",
              "      <td>services</td>\n",
              "      <td>course</td>\n",
              "      <td>3</td>\n",
              "      <td>0</td>\n",
              "      <td>5</td>\n",
              "      <td>10</td>\n",
              "      <td>9</td>\n",
              "      <td>Poor</td>\n",
              "      <td>Poor</td>\n",
              "    </tr>\n",
              "  </tbody>\n",
              "</table>\n",
              "</div>"
            ],
            "text/plain": [
              "    school address  famsize  Medu  Fedu  ... famrel  G1  G2  GradeG1  GradeG2\n",
              "975     MS       R        0     1     1  ...      4   8   9     Poor     Poor\n",
              "522     GP       U        0     0     1  ...      3   9  10     Poor     Poor\n",
              "413     GP       U        0     3     2  ...      5   8   8     Poor     Poor\n",
              "905     MS       R        0     2     2  ...      5  15  17     Good     Good\n",
              "328     GP       U        0     4     4  ...      5  10   9     Poor     Poor\n",
              "\n",
              "[5 rows x 15 columns]"
            ]
          },
          "metadata": {
            "tags": []
          },
          "execution_count": 141
        }
      ]
    },
    {
      "cell_type": "code",
      "metadata": {
        "colab": {
          "base_uri": "https://localhost:8080/"
        },
        "id": "vah_71wgKk41",
        "outputId": "79da7ac8-5296-4e39-dab8-073d0a04d822"
      },
      "source": [
        "!pip install category_encoders\n",
        "import category_encoders as ce"
      ],
      "execution_count": null,
      "outputs": [
        {
          "output_type": "stream",
          "text": [
            "Requirement already satisfied: category_encoders in /usr/local/lib/python3.7/dist-packages (2.2.2)\n",
            "Requirement already satisfied: patsy>=0.5.1 in /usr/local/lib/python3.7/dist-packages (from category_encoders) (0.5.1)\n",
            "Requirement already satisfied: scipy>=1.0.0 in /usr/local/lib/python3.7/dist-packages (from category_encoders) (1.4.1)\n",
            "Requirement already satisfied: scikit-learn>=0.20.0 in /usr/local/lib/python3.7/dist-packages (from category_encoders) (0.22.2.post1)\n",
            "Requirement already satisfied: statsmodels>=0.9.0 in /usr/local/lib/python3.7/dist-packages (from category_encoders) (0.10.2)\n",
            "Requirement already satisfied: pandas>=0.21.1 in /usr/local/lib/python3.7/dist-packages (from category_encoders) (1.1.5)\n",
            "Requirement already satisfied: numpy>=1.14.0 in /usr/local/lib/python3.7/dist-packages (from category_encoders) (1.19.5)\n",
            "Requirement already satisfied: six in /usr/local/lib/python3.7/dist-packages (from patsy>=0.5.1->category_encoders) (1.15.0)\n",
            "Requirement already satisfied: joblib>=0.11 in /usr/local/lib/python3.7/dist-packages (from scikit-learn>=0.20.0->category_encoders) (1.0.1)\n",
            "Requirement already satisfied: python-dateutil>=2.7.3 in /usr/local/lib/python3.7/dist-packages (from pandas>=0.21.1->category_encoders) (2.8.1)\n",
            "Requirement already satisfied: pytz>=2017.2 in /usr/local/lib/python3.7/dist-packages (from pandas>=0.21.1->category_encoders) (2018.9)\n"
          ],
          "name": "stdout"
        }
      ]
    },
    {
      "cell_type": "code",
      "metadata": {
        "id": "PnXyjz1gPXTA",
        "colab": {
          "base_uri": "https://localhost:8080/"
        },
        "outputId": "2e63feba-3a5c-4b6d-ec1c-e8323e686a97"
      },
      "source": [
        "df1.info()"
      ],
      "execution_count": null,
      "outputs": [
        {
          "output_type": "stream",
          "text": [
            "<class 'pandas.core.frame.DataFrame'>\n",
            "RangeIndex: 1044 entries, 0 to 1043\n",
            "Data columns (total 16 columns):\n",
            " #   Column      Non-Null Count  Dtype \n",
            "---  ------      --------------  ----- \n",
            " 0   school      1044 non-null   object\n",
            " 1   address     1044 non-null   object\n",
            " 2   famsize     1044 non-null   int64 \n",
            " 3   Medu        1044 non-null   int64 \n",
            " 4   Fedu        1044 non-null   int64 \n",
            " 5   Mjob        1044 non-null   object\n",
            " 6   Fjob        1044 non-null   object\n",
            " 7   reason      1044 non-null   object\n",
            " 8   studytime   1044 non-null   int64 \n",
            " 9   failures    1044 non-null   int64 \n",
            " 10  famrel      1044 non-null   int64 \n",
            " 11  G1          1044 non-null   int64 \n",
            " 12  G2          1044 non-null   int64 \n",
            " 13  FinalGrade  1044 non-null   object\n",
            " 14  GradeG1     1044 non-null   object\n",
            " 15  GradeG2     1044 non-null   object\n",
            "dtypes: int64(8), object(8)\n",
            "memory usage: 130.6+ KB\n"
          ],
          "name": "stdout"
        }
      ]
    },
    {
      "cell_type": "code",
      "metadata": {
        "id": "ianloXWcN3v7"
      },
      "source": [
        "# encode variables with ordinal encoding\n",
        "\n",
        "encoder = ce.OrdinalEncoder(cols = [\"school\",\t\"address\",\t\"famsize\",\t\"Medu\",\t\"Fedu\",\t\"Mjob\",\t\"Fjob\",\t\"reason\",\t\"studytime\",\t\"failures\",\t\t\"famrel\",\t\"G1\",\t\"G2\"\t,\"GradeG1\"\t,\"GradeG2\"])\n",
        "\n",
        "\n",
        "X_train = encoder.fit_transform(X_train)\n",
        "\n",
        "X_test = encoder.transform(X_test)"
      ],
      "execution_count": null,
      "outputs": []
    },
    {
      "cell_type": "code",
      "metadata": {
        "colab": {
          "base_uri": "https://localhost:8080/",
          "height": 224
        },
        "id": "eBEv6_F1RLXe",
        "outputId": "b40ec2f2-2337-4674-cc01-f02e00577aa7"
      },
      "source": [
        "X_train.head()"
      ],
      "execution_count": null,
      "outputs": [
        {
          "output_type": "execute_result",
          "data": {
            "text/html": [
              "<div>\n",
              "<style scoped>\n",
              "    .dataframe tbody tr th:only-of-type {\n",
              "        vertical-align: middle;\n",
              "    }\n",
              "\n",
              "    .dataframe tbody tr th {\n",
              "        vertical-align: top;\n",
              "    }\n",
              "\n",
              "    .dataframe thead th {\n",
              "        text-align: right;\n",
              "    }\n",
              "</style>\n",
              "<table border=\"1\" class=\"dataframe\">\n",
              "  <thead>\n",
              "    <tr style=\"text-align: right;\">\n",
              "      <th></th>\n",
              "      <th>school</th>\n",
              "      <th>address</th>\n",
              "      <th>famsize</th>\n",
              "      <th>Medu</th>\n",
              "      <th>Fedu</th>\n",
              "      <th>Mjob</th>\n",
              "      <th>Fjob</th>\n",
              "      <th>reason</th>\n",
              "      <th>studytime</th>\n",
              "      <th>failures</th>\n",
              "      <th>famrel</th>\n",
              "      <th>G1</th>\n",
              "      <th>G2</th>\n",
              "      <th>GradeG1</th>\n",
              "      <th>GradeG2</th>\n",
              "    </tr>\n",
              "  </thead>\n",
              "  <tbody>\n",
              "    <tr>\n",
              "      <th>89</th>\n",
              "      <td>1</td>\n",
              "      <td>1</td>\n",
              "      <td>1</td>\n",
              "      <td>1</td>\n",
              "      <td>1</td>\n",
              "      <td>1</td>\n",
              "      <td>1</td>\n",
              "      <td>1</td>\n",
              "      <td>1</td>\n",
              "      <td>1</td>\n",
              "      <td>1</td>\n",
              "      <td>1</td>\n",
              "      <td>1</td>\n",
              "      <td>1</td>\n",
              "      <td>1</td>\n",
              "    </tr>\n",
              "    <tr>\n",
              "      <th>704</th>\n",
              "      <td>1</td>\n",
              "      <td>1</td>\n",
              "      <td>2</td>\n",
              "      <td>1</td>\n",
              "      <td>2</td>\n",
              "      <td>2</td>\n",
              "      <td>2</td>\n",
              "      <td>1</td>\n",
              "      <td>1</td>\n",
              "      <td>1</td>\n",
              "      <td>2</td>\n",
              "      <td>2</td>\n",
              "      <td>2</td>\n",
              "      <td>1</td>\n",
              "      <td>2</td>\n",
              "    </tr>\n",
              "    <tr>\n",
              "      <th>692</th>\n",
              "      <td>1</td>\n",
              "      <td>2</td>\n",
              "      <td>2</td>\n",
              "      <td>2</td>\n",
              "      <td>2</td>\n",
              "      <td>3</td>\n",
              "      <td>3</td>\n",
              "      <td>2</td>\n",
              "      <td>2</td>\n",
              "      <td>1</td>\n",
              "      <td>2</td>\n",
              "      <td>3</td>\n",
              "      <td>3</td>\n",
              "      <td>1</td>\n",
              "      <td>1</td>\n",
              "    </tr>\n",
              "    <tr>\n",
              "      <th>30</th>\n",
              "      <td>1</td>\n",
              "      <td>1</td>\n",
              "      <td>2</td>\n",
              "      <td>1</td>\n",
              "      <td>1</td>\n",
              "      <td>2</td>\n",
              "      <td>3</td>\n",
              "      <td>3</td>\n",
              "      <td>1</td>\n",
              "      <td>1</td>\n",
              "      <td>2</td>\n",
              "      <td>3</td>\n",
              "      <td>4</td>\n",
              "      <td>1</td>\n",
              "      <td>2</td>\n",
              "    </tr>\n",
              "    <tr>\n",
              "      <th>317</th>\n",
              "      <td>1</td>\n",
              "      <td>1</td>\n",
              "      <td>2</td>\n",
              "      <td>1</td>\n",
              "      <td>3</td>\n",
              "      <td>3</td>\n",
              "      <td>2</td>\n",
              "      <td>4</td>\n",
              "      <td>3</td>\n",
              "      <td>1</td>\n",
              "      <td>1</td>\n",
              "      <td>3</td>\n",
              "      <td>3</td>\n",
              "      <td>1</td>\n",
              "      <td>1</td>\n",
              "    </tr>\n",
              "  </tbody>\n",
              "</table>\n",
              "</div>"
            ],
            "text/plain": [
              "     school  address  famsize  Medu  Fedu  ...  famrel  G1  G2  GradeG1  GradeG2\n",
              "89        1        1        1     1     1  ...       1   1   1        1        1\n",
              "704       1        1        2     1     2  ...       2   2   2        1        2\n",
              "692       1        2        2     2     2  ...       2   3   3        1        1\n",
              "30        1        1        2     1     1  ...       2   3   4        1        2\n",
              "317       1        1        2     1     3  ...       1   3   3        1        1\n",
              "\n",
              "[5 rows x 15 columns]"
            ]
          },
          "metadata": {
            "tags": []
          },
          "execution_count": 145
        }
      ]
    },
    {
      "cell_type": "code",
      "metadata": {
        "colab": {
          "base_uri": "https://localhost:8080/",
          "height": 224
        },
        "id": "eQwjycMVRVGa",
        "outputId": "4fa217a1-ad48-4928-8662-c1a556d5c93d"
      },
      "source": [
        "X_test.head()"
      ],
      "execution_count": null,
      "outputs": [
        {
          "output_type": "execute_result",
          "data": {
            "text/html": [
              "<div>\n",
              "<style scoped>\n",
              "    .dataframe tbody tr th:only-of-type {\n",
              "        vertical-align: middle;\n",
              "    }\n",
              "\n",
              "    .dataframe tbody tr th {\n",
              "        vertical-align: top;\n",
              "    }\n",
              "\n",
              "    .dataframe thead th {\n",
              "        text-align: right;\n",
              "    }\n",
              "</style>\n",
              "<table border=\"1\" class=\"dataframe\">\n",
              "  <thead>\n",
              "    <tr style=\"text-align: right;\">\n",
              "      <th></th>\n",
              "      <th>school</th>\n",
              "      <th>address</th>\n",
              "      <th>famsize</th>\n",
              "      <th>Medu</th>\n",
              "      <th>Fedu</th>\n",
              "      <th>Mjob</th>\n",
              "      <th>Fjob</th>\n",
              "      <th>reason</th>\n",
              "      <th>studytime</th>\n",
              "      <th>failures</th>\n",
              "      <th>famrel</th>\n",
              "      <th>G1</th>\n",
              "      <th>G2</th>\n",
              "      <th>GradeG1</th>\n",
              "      <th>GradeG2</th>\n",
              "    </tr>\n",
              "  </thead>\n",
              "  <tbody>\n",
              "    <tr>\n",
              "      <th>975</th>\n",
              "      <td>2</td>\n",
              "      <td>2</td>\n",
              "      <td>2</td>\n",
              "      <td>4</td>\n",
              "      <td>4</td>\n",
              "      <td>3</td>\n",
              "      <td>2</td>\n",
              "      <td>3</td>\n",
              "      <td>2</td>\n",
              "      <td>2</td>\n",
              "      <td>1</td>\n",
              "      <td>1.0</td>\n",
              "      <td>12.0</td>\n",
              "      <td>1</td>\n",
              "      <td>1</td>\n",
              "    </tr>\n",
              "    <tr>\n",
              "      <th>522</th>\n",
              "      <td>1</td>\n",
              "      <td>1</td>\n",
              "      <td>2</td>\n",
              "      <td>5</td>\n",
              "      <td>4</td>\n",
              "      <td>4</td>\n",
              "      <td>2</td>\n",
              "      <td>4</td>\n",
              "      <td>1</td>\n",
              "      <td>4</td>\n",
              "      <td>3</td>\n",
              "      <td>3.0</td>\n",
              "      <td>3.0</td>\n",
              "      <td>1</td>\n",
              "      <td>1</td>\n",
              "    </tr>\n",
              "    <tr>\n",
              "      <th>413</th>\n",
              "      <td>1</td>\n",
              "      <td>1</td>\n",
              "      <td>2</td>\n",
              "      <td>3</td>\n",
              "      <td>2</td>\n",
              "      <td>5</td>\n",
              "      <td>3</td>\n",
              "      <td>4</td>\n",
              "      <td>2</td>\n",
              "      <td>3</td>\n",
              "      <td>2</td>\n",
              "      <td>1.0</td>\n",
              "      <td>8.0</td>\n",
              "      <td>1</td>\n",
              "      <td>1</td>\n",
              "    </tr>\n",
              "    <tr>\n",
              "      <th>905</th>\n",
              "      <td>2</td>\n",
              "      <td>2</td>\n",
              "      <td>2</td>\n",
              "      <td>2</td>\n",
              "      <td>2</td>\n",
              "      <td>3</td>\n",
              "      <td>2</td>\n",
              "      <td>1</td>\n",
              "      <td>1</td>\n",
              "      <td>1</td>\n",
              "      <td>2</td>\n",
              "      <td>7.0</td>\n",
              "      <td>10.0</td>\n",
              "      <td>3</td>\n",
              "      <td>3</td>\n",
              "    </tr>\n",
              "    <tr>\n",
              "      <th>328</th>\n",
              "      <td>1</td>\n",
              "      <td>1</td>\n",
              "      <td>2</td>\n",
              "      <td>1</td>\n",
              "      <td>1</td>\n",
              "      <td>1</td>\n",
              "      <td>3</td>\n",
              "      <td>4</td>\n",
              "      <td>3</td>\n",
              "      <td>1</td>\n",
              "      <td>2</td>\n",
              "      <td>2.0</td>\n",
              "      <td>12.0</td>\n",
              "      <td>1</td>\n",
              "      <td>1</td>\n",
              "    </tr>\n",
              "  </tbody>\n",
              "</table>\n",
              "</div>"
            ],
            "text/plain": [
              "     school  address  famsize  Medu  Fedu  ...  famrel   G1    G2  GradeG1  GradeG2\n",
              "975       2        2        2     4     4  ...       1  1.0  12.0        1        1\n",
              "522       1        1        2     5     4  ...       3  3.0   3.0        1        1\n",
              "413       1        1        2     3     2  ...       2  1.0   8.0        1        1\n",
              "905       2        2        2     2     2  ...       2  7.0  10.0        3        3\n",
              "328       1        1        2     1     1  ...       2  2.0  12.0        1        1\n",
              "\n",
              "[5 rows x 15 columns]"
            ]
          },
          "metadata": {
            "tags": []
          },
          "execution_count": 146
        }
      ]
    },
    {
      "cell_type": "code",
      "metadata": {
        "colab": {
          "base_uri": "https://localhost:8080/"
        },
        "id": "Fg7eil_VY6au",
        "outputId": "d88705a1-3306-47fc-aa41-dedabaceaf9f"
      },
      "source": [
        "y_train"
      ],
      "execution_count": null,
      "outputs": [
        {
          "output_type": "execute_result",
          "data": {
            "text/plain": [
              "89             Poor\n",
              "704    Satisfactory\n",
              "692            Poor\n",
              "30     Satisfactory\n",
              "317            Poor\n",
              "           ...     \n",
              "454            Good\n",
              "966            Poor\n",
              "944       Excellent\n",
              "347            Poor\n",
              "563            Poor\n",
              "Name: FinalGrade, Length: 835, dtype: object"
            ]
          },
          "metadata": {
            "tags": []
          },
          "execution_count": 147
        }
      ]
    },
    {
      "cell_type": "markdown",
      "metadata": {
        "id": "Tbuip4J8RbxW"
      },
      "source": [
        "# Decision Tree Classifier with criterion gini index"
      ]
    },
    {
      "cell_type": "code",
      "metadata": {
        "id": "Hy7qDQFQRc8z"
      },
      "source": [
        "# import DecisionTreeClassifier\n",
        "\n",
        "from sklearn.tree import DecisionTreeClassifier"
      ],
      "execution_count": null,
      "outputs": []
    },
    {
      "cell_type": "code",
      "metadata": {
        "colab": {
          "base_uri": "https://localhost:8080/"
        },
        "id": "W2WtuooQRlBF",
        "outputId": "4e6d5382-900c-4aa9-848a-26c741f87a89"
      },
      "source": [
        "# instantiate the DecisionTreeClassifier model with criterion gini index\n",
        "\n",
        "clf_gini = DecisionTreeClassifier(criterion='gini', max_depth=4, random_state=0)\n",
        "\n",
        "\n",
        "# fit the model\n",
        "clf_gini.fit(X_train, y_train)"
      ],
      "execution_count": null,
      "outputs": [
        {
          "output_type": "execute_result",
          "data": {
            "text/plain": [
              "DecisionTreeClassifier(ccp_alpha=0.0, class_weight=None, criterion='gini',\n",
              "                       max_depth=4, max_features=None, max_leaf_nodes=None,\n",
              "                       min_impurity_decrease=0.0, min_impurity_split=None,\n",
              "                       min_samples_leaf=1, min_samples_split=2,\n",
              "                       min_weight_fraction_leaf=0.0, presort='deprecated',\n",
              "                       random_state=0, splitter='best')"
            ]
          },
          "metadata": {
            "tags": []
          },
          "execution_count": 149
        }
      ]
    },
    {
      "cell_type": "markdown",
      "metadata": {
        "id": "ZktTFbd3Ruai"
      },
      "source": [
        "Predict the Test set results with criterion gini index"
      ]
    },
    {
      "cell_type": "code",
      "metadata": {
        "id": "YhOqjBE5RvAE"
      },
      "source": [
        "y_pred_gini = clf_gini.predict(X_test)"
      ],
      "execution_count": null,
      "outputs": []
    },
    {
      "cell_type": "markdown",
      "metadata": {
        "id": "3_S3MlJ6R3Yv"
      },
      "source": [
        "Check accuracy score with criterion gini index"
      ]
    },
    {
      "cell_type": "code",
      "metadata": {
        "colab": {
          "base_uri": "https://localhost:8080/"
        },
        "id": "u9LK5Jq2R369",
        "outputId": "cd063a2a-20ba-48f2-81ce-77ffa8c76e32"
      },
      "source": [
        "from sklearn.metrics import accuracy_score\n",
        "\n",
        "print('Model accuracy score with criterion gini index: {0:0.4f}'. format(accuracy_score(y_test, y_pred_gini)))"
      ],
      "execution_count": null,
      "outputs": [
        {
          "output_type": "stream",
          "text": [
            "Model accuracy score with criterion gini index: 0.8517\n"
          ],
          "name": "stdout"
        }
      ]
    },
    {
      "cell_type": "code",
      "metadata": {
        "id": "DsNv7Uj1pdR4"
      },
      "source": [
        "X_train.to_csv(\"X_train dataset\")"
      ],
      "execution_count": null,
      "outputs": []
    },
    {
      "cell_type": "markdown",
      "metadata": {
        "id": "IWJ2Xjm0SDRw"
      },
      "source": [
        "Compare the train-set and test-set accuracy\n"
      ]
    },
    {
      "cell_type": "code",
      "metadata": {
        "colab": {
          "base_uri": "https://localhost:8080/"
        },
        "id": "JEJhsozMSD7C",
        "outputId": "31c13eef-35a8-40cf-b11a-99dd88699778"
      },
      "source": [
        "y_pred_train_gini = clf_gini.predict(X_train)\n",
        "\n",
        "y_pred_train_gini"
      ],
      "execution_count": null,
      "outputs": [
        {
          "output_type": "execute_result",
          "data": {
            "text/plain": [
              "array(['Poor', 'Satisfactory', 'Poor', 'Satisfactory', 'Poor', 'Poor',\n",
              "       'Satisfactory', 'Satisfactory', 'Poor', 'Poor', 'Poor', 'Good',\n",
              "       'Poor', 'Poor', 'Good', 'Poor', 'Satisfactory', 'Satisfactory',\n",
              "       'Good', 'Failure', 'Good', 'Good', 'Satisfactory', 'Satisfactory',\n",
              "       'Poor', 'Poor', 'Satisfactory', 'Poor', 'Poor', 'Poor', 'Poor',\n",
              "       'Satisfactory', 'Poor', 'Poor', 'Satisfactory', 'Poor', 'Good',\n",
              "       'Satisfactory', 'Poor', 'Satisfactory', 'Good', 'Poor', 'Poor',\n",
              "       'Satisfactory', 'Poor', 'Poor', 'Satisfactory', 'Poor',\n",
              "       'Satisfactory', 'Satisfactory', 'Poor', 'Good', 'Poor',\n",
              "       'Satisfactory', 'Poor', 'Good', 'Good', 'Satisfactory', 'Poor',\n",
              "       'Poor', 'Satisfactory', 'Satisfactory', 'Satisfactory',\n",
              "       'Satisfactory', 'Satisfactory', 'Good', 'Good', 'Satisfactory',\n",
              "       'Poor', 'Poor', 'Poor', 'Satisfactory', 'Poor', 'Satisfactory',\n",
              "       'Satisfactory', 'Excellent', 'Satisfactory', 'Satisfactory',\n",
              "       'Poor', 'Poor', 'Satisfactory', 'Poor', 'Excellent', 'Good',\n",
              "       'Satisfactory', 'Good', 'Satisfactory', 'Satisfactory',\n",
              "       'Satisfactory', 'Satisfactory', 'Satisfactory', 'Good', 'Poor',\n",
              "       'Good', 'Satisfactory', 'Poor', 'Satisfactory', 'Excellent',\n",
              "       'Satisfactory', 'Failure', 'Poor', 'Poor', 'Poor', 'Satisfactory',\n",
              "       'Satisfactory', 'Poor', 'Satisfactory', 'Satisfactory', 'Good',\n",
              "       'Satisfactory', 'Satisfactory', 'Good', 'Poor', 'Good', 'Poor',\n",
              "       'Failure', 'Satisfactory', 'Poor', 'Poor', 'Satisfactory', 'Poor',\n",
              "       'Satisfactory', 'Good', 'Good', 'Satisfactory', 'Poor',\n",
              "       'Excellent', 'Satisfactory', 'Poor', 'Satisfactory',\n",
              "       'Satisfactory', 'Satisfactory', 'Poor', 'Failure', 'Satisfactory',\n",
              "       'Good', 'Satisfactory', 'Poor', 'Poor', 'Poor', 'Satisfactory',\n",
              "       'Satisfactory', 'Poor', 'Poor', 'Poor', 'Poor', 'Satisfactory',\n",
              "       'Satisfactory', 'Poor', 'Good', 'Good', 'Poor', 'Satisfactory',\n",
              "       'Poor', 'Satisfactory', 'Satisfactory', 'Poor', 'Poor',\n",
              "       'Satisfactory', 'Satisfactory', 'Satisfactory', 'Good', 'Poor',\n",
              "       'Satisfactory', 'Poor', 'Poor', 'Satisfactory', 'Poor',\n",
              "       'Satisfactory', 'Poor', 'Satisfactory', 'Satisfactory', 'Poor',\n",
              "       'Poor', 'Good', 'Satisfactory', 'Poor', 'Good', 'Poor',\n",
              "       'Satisfactory', 'Good', 'Poor', 'Poor', 'Poor', 'Failure', 'Poor',\n",
              "       'Good', 'Satisfactory', 'Poor', 'Poor', 'Poor', 'Poor', 'Poor',\n",
              "       'Poor', 'Poor', 'Satisfactory', 'Poor', 'Good', 'Satisfactory',\n",
              "       'Satisfactory', 'Good', 'Poor', 'Good', 'Good', 'Poor',\n",
              "       'Satisfactory', 'Satisfactory', 'Satisfactory', 'Satisfactory',\n",
              "       'Satisfactory', 'Good', 'Good', 'Satisfactory', 'Poor',\n",
              "       'Satisfactory', 'Good', 'Good', 'Poor', 'Poor', 'Poor',\n",
              "       'Satisfactory', 'Excellent', 'Poor', 'Good', 'Satisfactory',\n",
              "       'Poor', 'Failure', 'Satisfactory', 'Satisfactory', 'Poor',\n",
              "       'Satisfactory', 'Poor', 'Satisfactory', 'Poor', 'Satisfactory',\n",
              "       'Poor', 'Good', 'Poor', 'Satisfactory', 'Satisfactory', 'Poor',\n",
              "       'Satisfactory', 'Poor', 'Poor', 'Poor', 'Poor', 'Satisfactory',\n",
              "       'Satisfactory', 'Satisfactory', 'Poor', 'Satisfactory',\n",
              "       'Satisfactory', 'Satisfactory', 'Satisfactory', 'Poor',\n",
              "       'Satisfactory', 'Satisfactory', 'Poor', 'Satisfactory', 'Good',\n",
              "       'Good', 'Poor', 'Satisfactory', 'Poor', 'Satisfactory',\n",
              "       'Satisfactory', 'Excellent', 'Poor', 'Satisfactory', 'Poor',\n",
              "       'Poor', 'Satisfactory', 'Satisfactory', 'Poor', 'Poor', 'Poor',\n",
              "       'Satisfactory', 'Satisfactory', 'Satisfactory', 'Poor', 'Good',\n",
              "       'Satisfactory', 'Poor', 'Satisfactory', 'Good', 'Poor', 'Poor',\n",
              "       'Good', 'Satisfactory', 'Good', 'Poor', 'Good', 'Satisfactory',\n",
              "       'Poor', 'Good', 'Satisfactory', 'Satisfactory', 'Poor', 'Poor',\n",
              "       'Poor', 'Satisfactory', 'Satisfactory', 'Satisfactory', 'Good',\n",
              "       'Poor', 'Satisfactory', 'Satisfactory', 'Good', 'Satisfactory',\n",
              "       'Excellent', 'Satisfactory', 'Poor', 'Poor', 'Poor', 'Poor',\n",
              "       'Satisfactory', 'Poor', 'Satisfactory', 'Poor', 'Satisfactory',\n",
              "       'Satisfactory', 'Satisfactory', 'Failure', 'Good', 'Poor',\n",
              "       'Satisfactory', 'Excellent', 'Poor', 'Satisfactory',\n",
              "       'Satisfactory', 'Satisfactory', 'Failure', 'Satisfactory',\n",
              "       'Satisfactory', 'Satisfactory', 'Satisfactory', 'Good', 'Poor',\n",
              "       'Good', 'Poor', 'Poor', 'Failure', 'Poor', 'Good', 'Satisfactory',\n",
              "       'Satisfactory', 'Satisfactory', 'Poor', 'Satisfactory',\n",
              "       'Satisfactory', 'Satisfactory', 'Satisfactory', 'Good', 'Good',\n",
              "       'Poor', 'Poor', 'Satisfactory', 'Satisfactory', 'Poor',\n",
              "       'Satisfactory', 'Satisfactory', 'Satisfactory', 'Poor', 'Failure',\n",
              "       'Poor', 'Satisfactory', 'Failure', 'Good', 'Satisfactory', 'Good',\n",
              "       'Satisfactory', 'Poor', 'Failure', 'Satisfactory', 'Poor', 'Poor',\n",
              "       'Satisfactory', 'Satisfactory', 'Poor', 'Satisfactory',\n",
              "       'Satisfactory', 'Good', 'Poor', 'Satisfactory', 'Poor',\n",
              "       'Satisfactory', 'Good', 'Satisfactory', 'Satisfactory',\n",
              "       'Satisfactory', 'Satisfactory', 'Poor', 'Satisfactory', 'Poor',\n",
              "       'Poor', 'Poor', 'Poor', 'Failure', 'Satisfactory', 'Poor',\n",
              "       'Failure', 'Satisfactory', 'Satisfactory', 'Poor', 'Good',\n",
              "       'Satisfactory', 'Poor', 'Poor', 'Failure', 'Poor', 'Satisfactory',\n",
              "       'Failure', 'Good', 'Excellent', 'Poor', 'Poor', 'Poor', 'Poor',\n",
              "       'Poor', 'Excellent', 'Satisfactory', 'Poor', 'Poor', 'Poor',\n",
              "       'Satisfactory', 'Satisfactory', 'Satisfactory', 'Satisfactory',\n",
              "       'Satisfactory', 'Poor', 'Satisfactory', 'Good', 'Satisfactory',\n",
              "       'Poor', 'Satisfactory', 'Poor', 'Poor', 'Poor', 'Satisfactory',\n",
              "       'Poor', 'Good', 'Satisfactory', 'Poor', 'Poor', 'Excellent',\n",
              "       'Satisfactory', 'Poor', 'Poor', 'Satisfactory', 'Good', 'Poor',\n",
              "       'Good', 'Failure', 'Poor', 'Satisfactory', 'Poor', 'Poor', 'Poor',\n",
              "       'Failure', 'Poor', 'Poor', 'Satisfactory', 'Poor', 'Good',\n",
              "       'Satisfactory', 'Poor', 'Satisfactory', 'Poor', 'Poor', 'Poor',\n",
              "       'Good', 'Satisfactory', 'Satisfactory', 'Good', 'Satisfactory',\n",
              "       'Good', 'Poor', 'Poor', 'Satisfactory', 'Good', 'Excellent',\n",
              "       'Poor', 'Satisfactory', 'Satisfactory', 'Good', 'Satisfactory',\n",
              "       'Satisfactory', 'Satisfactory', 'Satisfactory', 'Poor', 'Good',\n",
              "       'Poor', 'Poor', 'Poor', 'Poor', 'Satisfactory', 'Good', 'Good',\n",
              "       'Good', 'Poor', 'Failure', 'Poor', 'Poor', 'Satisfactory',\n",
              "       'Satisfactory', 'Poor', 'Good', 'Poor', 'Good', 'Poor', 'Good',\n",
              "       'Good', 'Satisfactory', 'Failure', 'Poor', 'Poor', 'Poor',\n",
              "       'Satisfactory', 'Good', 'Satisfactory', 'Good', 'Satisfactory',\n",
              "       'Poor', 'Excellent', 'Poor', 'Satisfactory', 'Poor',\n",
              "       'Satisfactory', 'Poor', 'Poor', 'Satisfactory', 'Good',\n",
              "       'Satisfactory', 'Good', 'Satisfactory', 'Excellent', 'Good',\n",
              "       'Satisfactory', 'Poor', 'Satisfactory', 'Satisfactory',\n",
              "       'Satisfactory', 'Poor', 'Satisfactory', 'Poor', 'Satisfactory',\n",
              "       'Satisfactory', 'Good', 'Satisfactory', 'Good', 'Satisfactory',\n",
              "       'Poor', 'Satisfactory', 'Satisfactory', 'Satisfactory',\n",
              "       'Satisfactory', 'Poor', 'Satisfactory', 'Poor', 'Poor', 'Good',\n",
              "       'Poor', 'Satisfactory', 'Poor', 'Poor', 'Poor', 'Satisfactory',\n",
              "       'Satisfactory', 'Satisfactory', 'Poor', 'Satisfactory',\n",
              "       'Excellent', 'Satisfactory', 'Poor', 'Poor', 'Satisfactory',\n",
              "       'Good', 'Satisfactory', 'Satisfactory', 'Satisfactory',\n",
              "       'Satisfactory', 'Poor', 'Poor', 'Good', 'Satisfactory', 'Poor',\n",
              "       'Poor', 'Satisfactory', 'Good', 'Satisfactory', 'Poor',\n",
              "       'Satisfactory', 'Good', 'Satisfactory', 'Good', 'Poor', 'Good',\n",
              "       'Good', 'Satisfactory', 'Excellent', 'Good', 'Satisfactory',\n",
              "       'Satisfactory', 'Satisfactory', 'Satisfactory', 'Good',\n",
              "       'Satisfactory', 'Poor', 'Poor', 'Satisfactory', 'Satisfactory',\n",
              "       'Poor', 'Good', 'Satisfactory', 'Satisfactory', 'Good',\n",
              "       'Satisfactory', 'Poor', 'Good', 'Poor', 'Satisfactory', 'Good',\n",
              "       'Satisfactory', 'Poor', 'Poor', 'Good', 'Poor', 'Satisfactory',\n",
              "       'Satisfactory', 'Excellent', 'Poor', 'Satisfactory', 'Poor',\n",
              "       'Satisfactory', 'Satisfactory', 'Good', 'Satisfactory',\n",
              "       'Satisfactory', 'Failure', 'Good', 'Satisfactory', 'Poor',\n",
              "       'Satisfactory', 'Poor', 'Poor', 'Satisfactory', 'Satisfactory',\n",
              "       'Good', 'Good', 'Poor', 'Satisfactory', 'Good', 'Good', 'Poor',\n",
              "       'Excellent', 'Good', 'Good', 'Satisfactory', 'Poor', 'Good',\n",
              "       'Satisfactory', 'Excellent', 'Satisfactory', 'Good',\n",
              "       'Satisfactory', 'Good', 'Failure', 'Poor', 'Satisfactory',\n",
              "       'Satisfactory', 'Good', 'Poor', 'Satisfactory', 'Satisfactory',\n",
              "       'Excellent', 'Satisfactory', 'Satisfactory', 'Poor', 'Excellent',\n",
              "       'Poor', 'Failure', 'Satisfactory', 'Satisfactory', 'Good',\n",
              "       'Satisfactory', 'Poor', 'Poor', 'Poor', 'Good', 'Good', 'Poor',\n",
              "       'Poor', 'Good', 'Poor', 'Satisfactory', 'Satisfactory', 'Good',\n",
              "       'Poor', 'Satisfactory', 'Poor', 'Good', 'Poor', 'Satisfactory',\n",
              "       'Satisfactory', 'Poor', 'Satisfactory', 'Failure', 'Good', 'Poor',\n",
              "       'Satisfactory', 'Poor', 'Good', 'Poor', 'Satisfactory', 'Good',\n",
              "       'Poor', 'Poor', 'Good', 'Satisfactory', 'Satisfactory',\n",
              "       'Satisfactory', 'Satisfactory', 'Satisfactory', 'Poor',\n",
              "       'Satisfactory', 'Good', 'Failure', 'Poor', 'Satisfactory', 'Good',\n",
              "       'Satisfactory', 'Poor', 'Poor', 'Satisfactory', 'Poor', 'Poor',\n",
              "       'Poor', 'Satisfactory', 'Good', 'Satisfactory', 'Failure', 'Poor',\n",
              "       'Poor', 'Poor', 'Good', 'Poor', 'Satisfactory', 'Satisfactory',\n",
              "       'Satisfactory', 'Satisfactory', 'Satisfactory', 'Poor', 'Good',\n",
              "       'Satisfactory', 'Good', 'Satisfactory', 'Poor', 'Excellent',\n",
              "       'Good', 'Poor', 'Good', 'Satisfactory', 'Satisfactory',\n",
              "       'Satisfactory', 'Good', 'Poor', 'Satisfactory', 'Poor',\n",
              "       'Satisfactory', 'Good', 'Satisfactory', 'Satisfactory',\n",
              "       'Satisfactory', 'Poor', 'Poor', 'Good', 'Satisfactory',\n",
              "       'Satisfactory', 'Poor', 'Satisfactory', 'Poor', 'Satisfactory',\n",
              "       'Satisfactory', 'Poor', 'Excellent', 'Failure', 'Poor',\n",
              "       'Satisfactory', 'Satisfactory', 'Satisfactory', 'Poor',\n",
              "       'Satisfactory', 'Good', 'Poor', 'Poor', 'Poor', 'Failure',\n",
              "       'Excellent', 'Satisfactory', 'Poor', 'Satisfactory', 'Poor',\n",
              "       'Satisfactory', 'Satisfactory', 'Poor', 'Satisfactory',\n",
              "       'Satisfactory', 'Excellent', 'Satisfactory', 'Excellent', 'Poor',\n",
              "       'Poor', 'Failure', 'Satisfactory', 'Poor', 'Poor', 'Satisfactory',\n",
              "       'Good', 'Poor', 'Poor', 'Poor', 'Poor', 'Good', 'Satisfactory',\n",
              "       'Satisfactory', 'Poor', 'Satisfactory', 'Satisfactory', 'Poor',\n",
              "       'Good', 'Good', 'Poor', 'Excellent', 'Poor', 'Poor'], dtype=object)"
            ]
          },
          "metadata": {
            "tags": []
          },
          "execution_count": 153
        }
      ]
    },
    {
      "cell_type": "code",
      "metadata": {
        "colab": {
          "base_uri": "https://localhost:8080/"
        },
        "id": "LutubtxWSO9P",
        "outputId": "c86ae379-52c4-442c-81ab-f6f2dae487e0"
      },
      "source": [
        "print('Training-set accuracy score: {0:0.4f}'. format(accuracy_score(y_train, y_pred_train_gini)))"
      ],
      "execution_count": null,
      "outputs": [
        {
          "output_type": "stream",
          "text": [
            "Training-set accuracy score: 0.8359\n"
          ],
          "name": "stdout"
        }
      ]
    },
    {
      "cell_type": "markdown",
      "metadata": {
        "id": "bY3GEz66SVvY"
      },
      "source": [
        "Check for overfitting and underfitting"
      ]
    },
    {
      "cell_type": "code",
      "metadata": {
        "colab": {
          "base_uri": "https://localhost:8080/"
        },
        "id": "rtoblKQOSWXS",
        "outputId": "fb772927-9c68-4f1f-f166-3890ca589801"
      },
      "source": [
        "# print the scores on training and test set\n",
        "\n",
        "print('Training set score: {:.4f}'.format(clf_gini.score(X_train, y_train)))\n",
        "\n",
        "print('Test set score: {:.4f}'.format(clf_gini.score(X_test, y_test)))"
      ],
      "execution_count": null,
      "outputs": [
        {
          "output_type": "stream",
          "text": [
            "Training set score: 0.8359\n",
            "Test set score: 0.8517\n"
          ],
          "name": "stdout"
        }
      ]
    },
    {
      "cell_type": "markdown",
      "metadata": {
        "id": "Rg6bfhkTShiE"
      },
      "source": [
        "Visualize decision-trees"
      ]
    },
    {
      "cell_type": "code",
      "metadata": {
        "colab": {
          "base_uri": "https://localhost:8080/",
          "height": 858
        },
        "id": "Tu1qMfKMSiYO",
        "outputId": "3057f441-0893-4f7c-ab15-1c9e5a33d979"
      },
      "source": [
        "plt.figure(figsize=(28,10))\n",
        "\n",
        "from sklearn import tree\n",
        "\n",
        "tree.plot_tree(clf_gini.fit(X_train, y_train),fontsize=15)"
      ],
      "execution_count": null,
      "outputs": [
        {
          "output_type": "execute_result",
          "data": {
            "text/plain": [
              "[Text(781.2, 489.24, 'X[14] <= 1.5\\ngini = 0.682\\nsamples = 835\\nvalue = [28, 50, 131, 262, 364]'),\n",
              " Text(390.6, 380.52000000000004, 'X[12] <= 4.5\\ngini = 0.407\\nsamples = 313\\nvalue = [0, 26, 1, 234, 52]'),\n",
              " Text(195.3, 271.8, 'X[13] <= 1.5\\ngini = 0.519\\nsamples = 121\\nvalue = [0, 7, 1, 74, 39]'),\n",
              " Text(97.65, 163.08000000000004, 'X[7] <= 2.5\\ngini = 0.48\\nsamples = 90\\nvalue = [0, 7, 1, 61, 21]'),\n",
              " Text(48.825, 54.360000000000014, 'gini = 0.291\\nsamples = 30\\nvalue = [0, 3, 0, 25, 2]'),\n",
              " Text(146.47500000000002, 54.360000000000014, 'gini = 0.535\\nsamples = 60\\nvalue = [0, 4, 1, 36, 19]'),\n",
              " Text(292.95000000000005, 163.08000000000004, 'X[11] <= 6.5\\ngini = 0.487\\nsamples = 31\\nvalue = [0, 0, 0, 13, 18]'),\n",
              " Text(244.125, 54.360000000000014, 'gini = 0.0\\nsamples = 7\\nvalue = [0, 0, 0, 0, 7]'),\n",
              " Text(341.77500000000003, 54.360000000000014, 'gini = 0.497\\nsamples = 24\\nvalue = [0, 0, 0, 13, 11]'),\n",
              " Text(585.9000000000001, 271.8, 'X[7] <= 3.5\\ngini = 0.291\\nsamples = 192\\nvalue = [0, 19, 0, 160, 13]'),\n",
              " Text(488.25, 163.08000000000004, 'X[12] <= 10.0\\ngini = 0.369\\nsamples = 108\\nvalue = [0, 15, 0, 84, 9]'),\n",
              " Text(439.425, 54.360000000000014, 'gini = 0.395\\nsamples = 48\\nvalue = [0, 13, 0, 35, 0]'),\n",
              " Text(537.075, 54.360000000000014, 'gini = 0.309\\nsamples = 60\\nvalue = [0, 2, 0, 49, 9]'),\n",
              " Text(683.5500000000001, 163.08000000000004, 'X[5] <= 4.5\\ngini = 0.177\\nsamples = 84\\nvalue = [0, 4, 0, 76, 4]'),\n",
              " Text(634.725, 54.360000000000014, 'gini = 0.108\\nsamples = 71\\nvalue = [0, 2, 0, 67, 2]'),\n",
              " Text(732.375, 54.360000000000014, 'gini = 0.473\\nsamples = 13\\nvalue = [0, 2, 0, 9, 2]'),\n",
              " Text(1171.8000000000002, 380.52000000000004, 'X[14] <= 2.5\\ngini = 0.573\\nsamples = 522\\nvalue = [28, 24, 130, 28, 312]'),\n",
              " Text(976.5, 271.8, 'X[12] <= 6.0\\ngini = 0.252\\nsamples = 362\\nvalue = [0, 0, 28, 23, 311]'),\n",
              " Text(878.85, 163.08000000000004, 'X[0] <= 1.5\\ngini = 0.164\\nsamples = 304\\nvalue = [0, 0, 4, 23, 277]'),\n",
              " Text(830.0250000000001, 54.360000000000014, 'gini = 0.113\\nsamples = 236\\nvalue = [0, 0, 4, 10, 222]'),\n",
              " Text(927.6750000000001, 54.360000000000014, 'gini = 0.309\\nsamples = 68\\nvalue = [0, 0, 0, 13, 55]'),\n",
              " Text(1074.15, 163.08000000000004, 'X[11] <= 7.5\\ngini = 0.485\\nsamples = 58\\nvalue = [0, 0, 24, 0, 34]'),\n",
              " Text(1025.325, 54.360000000000014, 'gini = 0.49\\nsamples = 35\\nvalue = [0, 0, 20, 0, 15]'),\n",
              " Text(1122.9750000000001, 54.360000000000014, 'gini = 0.287\\nsamples = 23\\nvalue = [0, 0, 4, 0, 19]'),\n",
              " Text(1367.1000000000001, 271.8, 'X[14] <= 3.5\\ngini = 0.539\\nsamples = 160\\nvalue = [28, 24, 102, 5, 1]'),\n",
              " Text(1269.45, 163.08000000000004, 'X[13] <= 3.5\\ngini = 0.171\\nsamples = 107\\nvalue = [9, 0, 97, 0, 1]'),\n",
              " Text(1220.625, 54.360000000000014, 'gini = 0.143\\nsamples = 104\\nvalue = [7, 0, 96, 0, 1]'),\n",
              " Text(1318.275, 54.360000000000014, 'gini = 0.444\\nsamples = 3\\nvalue = [2, 0, 1, 0, 0]'),\n",
              " Text(1464.75, 163.08000000000004, 'X[14] <= 4.5\\ngini = 0.649\\nsamples = 53\\nvalue = [19, 24, 5, 5, 0]'),\n",
              " Text(1415.9250000000002, 54.360000000000014, 'gini = 0.285\\nsamples = 29\\nvalue = [0, 24, 0, 5, 0]'),\n",
              " Text(1513.575, 54.360000000000014, 'gini = 0.33\\nsamples = 24\\nvalue = [19, 0, 5, 0, 0]')]"
            ]
          },
          "metadata": {
            "tags": []
          },
          "execution_count": 156
        },
        {
          "output_type": "display_data",
          "data": {
            "image/png": "[encoded data removed]",
            "text/plain": [
              "<Figure size 2016x720 with 1 Axes>"
            ]
          },
          "metadata": {
            "tags": [],
            "needs_background": "light"
          }
        }
      ]
    },
    {
      "cell_type": "code",
      "metadata": {
        "colab": {
          "base_uri": "https://localhost:8080/",
          "height": 745
        },
        "id": "Ck1alaPBa6Vg",
        "outputId": "5107ce65-075f-44d6-88dd-e44530faf726"
      },
      "source": [
        "import graphviz \n",
        "dot_data = tree.export_graphviz(clf_gini, out_file=None, \n",
        "                              feature_names=X_train.columns,  \n",
        "                              class_names=True,  \n",
        "                              filled=True, rounded=True,  \n",
        "                              special_characters=True)\n",
        "\n",
        "graph = graphviz.Source(dot_data) \n",
        "\n",
        "graph"
      ],
      "execution_count": null,
      "outputs": [
        {
          "output_type": "execute_result",
          "data": {
            "text/plain": [
              "<graphviz.files.Source at 0x7fc6cef88190>"
            ],
            "image/svg+xml": "<?xml version=\"1.0\" encoding=\"UTF-8\" standalone=\"no\"?>\n<!DOCTYPE svg PUBLIC \"-//W3C//DTD SVG 1.1//EN\"\n \"http://www.w3.org/Graphics/SVG/1.1/DTD/svg11.dtd\">\n<!-- Generated by graphviz version 2.40.1 (20161225.0304)\n -->\n<!-- Title: Tree Pages: 1 -->\n<svg width=\"2790pt\" height=\"528pt\"\n viewBox=\"0.00 0.00 2790.00 528.00\" xmlns=\"http://www.w3.org/2000/svg\" xmlns:xlink=\"http://www.w3.org/1999/xlink\">\n<g id=\"graph0\" class=\"graph\" transform=\"scale(1 1) rotate(0) translate(4 524)\">\n<title>Tree</title>\n<polygon fill=\"#ffffff\" stroke=\"transparent\" points=\"-4,4 -4,-524 2786,-524 2786,4 -4,4\"/>\n<!-- 0 -->\n<g id=\"node1\" class=\"node\">\n<title>0</title>\n<path fill=\"#fadcf4\" stroke=\"#000000\" d=\"M1490.5,-520C1490.5,-520 1302.5,-520 1302.5,-520 1296.5,-520 1290.5,-514 1290.5,-508 1290.5,-508 1290.5,-454 1290.5,-454 1290.5,-448 1296.5,-442 1302.5,-442 1302.5,-442 1490.5,-442 1490.5,-442 1496.5,-442 1502.5,-448 1502.5,-454 1502.5,-454 1502.5,-508 1502.5,-508 1502.5,-514 1496.5,-520 1490.5,-520\"/>\n<text text-anchor=\"start\" x=\"1348.5\" y=\"-505.8\" font-family=\"Helvetica,sans-Serif\" font-size=\"14.00\" fill=\"#000000\">GradeG2 ≤ 1.5</text>\n<text text-anchor=\"start\" x=\"1358.5\" y=\"-491.8\" font-family=\"Helvetica,sans-Serif\" font-size=\"14.00\" fill=\"#000000\">gini = 0.682</text>\n<text text-anchor=\"start\" x=\"1348.5\" y=\"-477.8\" font-family=\"Helvetica,sans-Serif\" font-size=\"14.00\" fill=\"#000000\">samples = 835</text>\n<text text-anchor=\"start\" x=\"1298.5\" y=\"-463.8\" font-family=\"Helvetica,sans-Serif\" font-size=\"14.00\" fill=\"#000000\">value = [28, 50, 131, 262, 364]</text>\n<text text-anchor=\"start\" x=\"1364\" y=\"-449.8\" font-family=\"Helvetica,sans-Serif\" font-size=\"14.00\" fill=\"#000000\">class = y</text>\n<text text-anchor=\"start\" x=\"1422\" y=\"-449.8\" font-family=\"Helvetica,sans-Serif\" baseline-shift=\"sub\" font-size=\"14.00\" fill=\"#000000\">4</text>\n</g>\n<!-- 1 -->\n<g id=\"node2\" class=\"node\">\n<title>1</title>\n<path fill=\"#7775ed\" stroke=\"#000000\" d=\"M1122,-406C1122,-406 967,-406 967,-406 961,-406 955,-400 955,-394 955,-394 955,-340 955,-340 955,-334 961,-328 967,-328 967,-328 1122,-328 1122,-328 1128,-328 1134,-334 1134,-340 1134,-340 1134,-394 1134,-394 1134,-400 1128,-406 1122,-406\"/>\n<text text-anchor=\"start\" x=\"1017\" y=\"-391.8\" font-family=\"Helvetica,sans-Serif\" font-size=\"14.00\" fill=\"#000000\">G2 ≤ 4.5</text>\n<text text-anchor=\"start\" x=\"1006.5\" y=\"-377.8\" font-family=\"Helvetica,sans-Serif\" font-size=\"14.00\" fill=\"#000000\">gini = 0.407</text>\n<text text-anchor=\"start\" x=\"996.5\" y=\"-363.8\" font-family=\"Helvetica,sans-Serif\" font-size=\"14.00\" fill=\"#000000\">samples = 313</text>\n<text text-anchor=\"start\" x=\"963\" y=\"-349.8\" font-family=\"Helvetica,sans-Serif\" font-size=\"14.00\" fill=\"#000000\">value = [0, 26, 1, 234, 52]</text>\n<text text-anchor=\"start\" x=\"1012\" y=\"-335.8\" font-family=\"Helvetica,sans-Serif\" font-size=\"14.00\" fill=\"#000000\">class = y</text>\n<text text-anchor=\"start\" x=\"1070\" y=\"-335.8\" font-family=\"Helvetica,sans-Serif\" baseline-shift=\"sub\" font-size=\"14.00\" fill=\"#000000\">3</text>\n</g>\n<!-- 0&#45;&gt;1 -->\n<g id=\"edge1\" class=\"edge\">\n<title>0&#45;&gt;1</title>\n<path fill=\"none\" stroke=\"#000000\" d=\"M1290.411,-446.6416C1243.8258,-431.5544 1189.4376,-413.94 1143.6723,-399.1183\"/>\n<polygon fill=\"#000000\" stroke=\"#000000\" points=\"1144.6353,-395.7512 1134.0433,-395.9998 1142.4785,-402.4107 1144.6353,-395.7512\"/>\n<text text-anchor=\"middle\" x=\"1145.4144\" y=\"-414.5641\" font-family=\"Helvetica,sans-Serif\" font-size=\"14.00\" fill=\"#000000\">True</text>\n</g>\n<!-- 16 -->\n<g id=\"node17\" class=\"node\">\n<title>16</title>\n<path fill=\"#f3a3e2\" stroke=\"#000000\" d=\"M1842.5,-406C1842.5,-406 1662.5,-406 1662.5,-406 1656.5,-406 1650.5,-400 1650.5,-394 1650.5,-394 1650.5,-340 1650.5,-340 1650.5,-334 1656.5,-328 1662.5,-328 1662.5,-328 1842.5,-328 1842.5,-328 1848.5,-328 1854.5,-334 1854.5,-340 1854.5,-340 1854.5,-394 1854.5,-394 1854.5,-400 1848.5,-406 1842.5,-406\"/>\n<text text-anchor=\"start\" x=\"1704.5\" y=\"-391.8\" font-family=\"Helvetica,sans-Serif\" font-size=\"14.00\" fill=\"#000000\">GradeG2 ≤ 2.5</text>\n<text text-anchor=\"start\" x=\"1714.5\" y=\"-377.8\" font-family=\"Helvetica,sans-Serif\" font-size=\"14.00\" fill=\"#000000\">gini = 0.573</text>\n<text text-anchor=\"start\" x=\"1704.5\" y=\"-363.8\" font-family=\"Helvetica,sans-Serif\" font-size=\"14.00\" fill=\"#000000\">samples = 522</text>\n<text text-anchor=\"start\" x=\"1658.5\" y=\"-349.8\" font-family=\"Helvetica,sans-Serif\" font-size=\"14.00\" fill=\"#000000\">value = [28, 24, 130, 28, 312]</text>\n<text text-anchor=\"start\" x=\"1720\" y=\"-335.8\" font-family=\"Helvetica,sans-Serif\" font-size=\"14.00\" fill=\"#000000\">class = y</text>\n<text text-anchor=\"start\" x=\"1778\" y=\"-335.8\" font-family=\"Helvetica,sans-Serif\" baseline-shift=\"sub\" font-size=\"14.00\" fill=\"#000000\">4</text>\n</g>\n<!-- 0&#45;&gt;16 -->\n<g id=\"edge16\" class=\"edge\">\n<title>0&#45;&gt;16</title>\n<path fill=\"none\" stroke=\"#000000\" d=\"M1502.8295,-446.9507C1546.35,-433.0143 1596.7325,-416.8806 1640.7927,-402.7714\"/>\n<polygon fill=\"#000000\" stroke=\"#000000\" points=\"1641.9279,-406.0831 1650.3841,-399.7 1639.7931,-399.4165 1641.9279,-406.0831\"/>\n<text text-anchor=\"middle\" x=\"1638.9397\" y=\"-418.2267\" font-family=\"Helvetica,sans-Serif\" font-size=\"14.00\" fill=\"#000000\">False</text>\n</g>\n<!-- 2 -->\n<g id=\"node3\" class=\"node\">\n<title>2</title>\n<path fill=\"#acaaf4\" stroke=\"#000000\" d=\"M587,-292C587,-292 448,-292 448,-292 442,-292 436,-286 436,-280 436,-280 436,-226 436,-226 436,-220 442,-214 448,-214 448,-214 587,-214 587,-214 593,-214 599,-220 599,-226 599,-226 599,-280 599,-280 599,-286 593,-292 587,-292\"/>\n<text text-anchor=\"start\" x=\"469.5\" y=\"-277.8\" font-family=\"Helvetica,sans-Serif\" font-size=\"14.00\" fill=\"#000000\">GradeG1 ≤ 1.5</text>\n<text text-anchor=\"start\" x=\"479.5\" y=\"-263.8\" font-family=\"Helvetica,sans-Serif\" font-size=\"14.00\" fill=\"#000000\">gini = 0.519</text>\n<text text-anchor=\"start\" x=\"469.5\" y=\"-249.8\" font-family=\"Helvetica,sans-Serif\" font-size=\"14.00\" fill=\"#000000\">samples = 121</text>\n<text text-anchor=\"start\" x=\"444\" y=\"-235.8\" font-family=\"Helvetica,sans-Serif\" font-size=\"14.00\" fill=\"#000000\">value = [0, 7, 1, 74, 39]</text>\n<text text-anchor=\"start\" x=\"485\" y=\"-221.8\" font-family=\"Helvetica,sans-Serif\" font-size=\"14.00\" fill=\"#000000\">class = y</text>\n<text text-anchor=\"start\" x=\"543\" y=\"-221.8\" font-family=\"Helvetica,sans-Serif\" baseline-shift=\"sub\" font-size=\"14.00\" fill=\"#000000\">3</text>\n</g>\n<!-- 1&#45;&gt;2 -->\n<g id=\"edge2\" class=\"edge\">\n<title>1&#45;&gt;2</title>\n<path fill=\"none\" stroke=\"#000000\" d=\"M954.8031,-347.5969C858.5048,-326.7657 706.3029,-293.8416 609.2273,-272.8423\"/>\n<polygon fill=\"#000000\" stroke=\"#000000\" points=\"609.9391,-269.4154 599.4252,-270.722 608.4591,-276.2572 609.9391,-269.4154\"/>\n</g>\n<!-- 9 -->\n<g id=\"node10\" class=\"node\">\n<title>9</title>\n<path fill=\"#605eea\" stroke=\"#000000\" d=\"M1122,-292C1122,-292 967,-292 967,-292 961,-292 955,-286 955,-280 955,-280 955,-226 955,-226 955,-220 961,-214 967,-214 967,-214 1122,-214 1122,-214 1128,-214 1134,-220 1134,-226 1134,-226 1134,-280 1134,-280 1134,-286 1128,-292 1122,-292\"/>\n<text text-anchor=\"start\" x=\"1004\" y=\"-277.8\" font-family=\"Helvetica,sans-Serif\" font-size=\"14.00\" fill=\"#000000\">reason ≤ 3.5</text>\n<text text-anchor=\"start\" x=\"1006.5\" y=\"-263.8\" font-family=\"Helvetica,sans-Serif\" font-size=\"14.00\" fill=\"#000000\">gini = 0.291</text>\n<text text-anchor=\"start\" x=\"996.5\" y=\"-249.8\" font-family=\"Helvetica,sans-Serif\" font-size=\"14.00\" fill=\"#000000\">samples = 192</text>\n<text text-anchor=\"start\" x=\"963\" y=\"-235.8\" font-family=\"Helvetica,sans-Serif\" font-size=\"14.00\" fill=\"#000000\">value = [0, 19, 0, 160, 13]</text>\n<text text-anchor=\"start\" x=\"1012\" y=\"-221.8\" font-family=\"Helvetica,sans-Serif\" font-size=\"14.00\" fill=\"#000000\">class = y</text>\n<text text-anchor=\"start\" x=\"1070\" y=\"-221.8\" font-family=\"Helvetica,sans-Serif\" baseline-shift=\"sub\" font-size=\"14.00\" fill=\"#000000\">3</text>\n</g>\n<!-- 1&#45;&gt;9 -->\n<g id=\"edge9\" class=\"edge\">\n<title>1&#45;&gt;9</title>\n<path fill=\"none\" stroke=\"#000000\" d=\"M1044.5,-327.7677C1044.5,-319.6172 1044.5,-310.9283 1044.5,-302.4649\"/>\n<polygon fill=\"#000000\" stroke=\"#000000\" points=\"1048.0001,-302.3046 1044.5,-292.3046 1041.0001,-302.3047 1048.0001,-302.3046\"/>\n</g>\n<!-- 3 -->\n<g id=\"node4\" class=\"node\">\n<title>3</title>\n<path fill=\"#8e8cf0\" stroke=\"#000000\" d=\"M324,-178C324,-178 185,-178 185,-178 179,-178 173,-172 173,-166 173,-166 173,-112 173,-112 173,-106 179,-100 185,-100 185,-100 324,-100 324,-100 330,-100 336,-106 336,-112 336,-112 336,-166 336,-166 336,-172 330,-178 324,-178\"/>\n<text text-anchor=\"start\" x=\"214\" y=\"-163.8\" font-family=\"Helvetica,sans-Serif\" font-size=\"14.00\" fill=\"#000000\">reason ≤ 2.5</text>\n<text text-anchor=\"start\" x=\"221\" y=\"-149.8\" font-family=\"Helvetica,sans-Serif\" font-size=\"14.00\" fill=\"#000000\">gini = 0.48</text>\n<text text-anchor=\"start\" x=\"210.5\" y=\"-135.8\" font-family=\"Helvetica,sans-Serif\" font-size=\"14.00\" fill=\"#000000\">samples = 90</text>\n<text text-anchor=\"start\" x=\"181\" y=\"-121.8\" font-family=\"Helvetica,sans-Serif\" font-size=\"14.00\" fill=\"#000000\">value = [0, 7, 1, 61, 21]</text>\n<text text-anchor=\"start\" x=\"222\" y=\"-107.8\" font-family=\"Helvetica,sans-Serif\" font-size=\"14.00\" fill=\"#000000\">class = y</text>\n<text text-anchor=\"start\" x=\"280\" y=\"-107.8\" font-family=\"Helvetica,sans-Serif\" baseline-shift=\"sub\" font-size=\"14.00\" fill=\"#000000\">3</text>\n</g>\n<!-- 2&#45;&gt;3 -->\n<g id=\"edge3\" class=\"edge\">\n<title>2&#45;&gt;3</title>\n<path fill=\"none\" stroke=\"#000000\" d=\"M435.7268,-217.5546C407.1534,-205.1691 374.9065,-191.1914 345.6191,-178.4965\"/>\n<polygon fill=\"#000000\" stroke=\"#000000\" points=\"346.7897,-175.1893 336.2226,-174.4235 344.0058,-181.6119 346.7897,-175.1893\"/>\n</g>\n<!-- 6 -->\n<g id=\"node7\" class=\"node\">\n<title>6</title>\n<path fill=\"#f8c8ed\" stroke=\"#000000\" d=\"M587,-178C587,-178 448,-178 448,-178 442,-178 436,-172 436,-166 436,-166 436,-112 436,-112 436,-106 442,-100 448,-100 448,-100 587,-100 587,-100 593,-100 599,-106 599,-112 599,-112 599,-166 599,-166 599,-172 593,-178 587,-178\"/>\n<text text-anchor=\"start\" x=\"490\" y=\"-163.8\" font-family=\"Helvetica,sans-Serif\" font-size=\"14.00\" fill=\"#000000\">G1 ≤ 6.5</text>\n<text text-anchor=\"start\" x=\"479.5\" y=\"-149.8\" font-family=\"Helvetica,sans-Serif\" font-size=\"14.00\" fill=\"#000000\">gini = 0.487</text>\n<text text-anchor=\"start\" x=\"473.5\" y=\"-135.8\" font-family=\"Helvetica,sans-Serif\" font-size=\"14.00\" fill=\"#000000\">samples = 31</text>\n<text text-anchor=\"start\" x=\"444\" y=\"-121.8\" font-family=\"Helvetica,sans-Serif\" font-size=\"14.00\" fill=\"#000000\">value = [0, 0, 0, 13, 18]</text>\n<text text-anchor=\"start\" x=\"485\" y=\"-107.8\" font-family=\"Helvetica,sans-Serif\" font-size=\"14.00\" fill=\"#000000\">class = y</text>\n<text text-anchor=\"start\" x=\"543\" y=\"-107.8\" font-family=\"Helvetica,sans-Serif\" baseline-shift=\"sub\" font-size=\"14.00\" fill=\"#000000\">4</text>\n</g>\n<!-- 2&#45;&gt;6 -->\n<g id=\"edge6\" class=\"edge\">\n<title>2&#45;&gt;6</title>\n<path fill=\"none\" stroke=\"#000000\" d=\"M517.5,-213.7677C517.5,-205.6172 517.5,-196.9283 517.5,-188.4649\"/>\n<polygon fill=\"#000000\" stroke=\"#000000\" points=\"521.0001,-188.3046 517.5,-178.3046 514.0001,-188.3047 521.0001,-188.3046\"/>\n</g>\n<!-- 4 -->\n<g id=\"node5\" class=\"node\">\n<title>4</title>\n<path fill=\"#605eea\" stroke=\"#000000\" d=\"M143,-64C143,-64 12,-64 12,-64 6,-64 0,-58 0,-52 0,-52 0,-12 0,-12 0,-6 6,0 12,0 12,0 143,0 143,0 149,0 155,-6 155,-12 155,-12 155,-52 155,-52 155,-58 149,-64 143,-64\"/>\n<text text-anchor=\"start\" x=\"39.5\" y=\"-49.8\" font-family=\"Helvetica,sans-Serif\" font-size=\"14.00\" fill=\"#000000\">gini = 0.291</text>\n<text text-anchor=\"start\" x=\"33.5\" y=\"-35.8\" font-family=\"Helvetica,sans-Serif\" font-size=\"14.00\" fill=\"#000000\">samples = 30</text>\n<text text-anchor=\"start\" x=\"8\" y=\"-21.8\" font-family=\"Helvetica,sans-Serif\" font-size=\"14.00\" fill=\"#000000\">value = [0, 3, 0, 25, 2]</text>\n<text text-anchor=\"start\" x=\"45\" y=\"-7.8\" font-family=\"Helvetica,sans-Serif\" font-size=\"14.00\" fill=\"#000000\">class = y</text>\n<text text-anchor=\"start\" x=\"103\" y=\"-7.8\" font-family=\"Helvetica,sans-Serif\" baseline-shift=\"sub\" font-size=\"14.00\" fill=\"#000000\">3</text>\n</g>\n<!-- 3&#45;&gt;4 -->\n<g id=\"edge4\" class=\"edge\">\n<title>3&#45;&gt;4</title>\n<path fill=\"none\" stroke=\"#000000\" d=\"M189.8476,-99.9163C173.4327,-89.9932 155.835,-79.3551 139.5525,-69.512\"/>\n<polygon fill=\"#000000\" stroke=\"#000000\" points=\"141.0264,-66.3131 130.6579,-64.135 137.405,-72.3036 141.0264,-66.3131\"/>\n</g>\n<!-- 5 -->\n<g id=\"node6\" class=\"node\">\n<title>5</title>\n<path fill=\"#aeadf4\" stroke=\"#000000\" d=\"M324,-64C324,-64 185,-64 185,-64 179,-64 173,-58 173,-52 173,-52 173,-12 173,-12 173,-6 179,0 185,0 185,0 324,0 324,0 330,0 336,-6 336,-12 336,-12 336,-52 336,-52 336,-58 330,-64 324,-64\"/>\n<text text-anchor=\"start\" x=\"216.5\" y=\"-49.8\" font-family=\"Helvetica,sans-Serif\" font-size=\"14.00\" fill=\"#000000\">gini = 0.535</text>\n<text text-anchor=\"start\" x=\"210.5\" y=\"-35.8\" font-family=\"Helvetica,sans-Serif\" font-size=\"14.00\" fill=\"#000000\">samples = 60</text>\n<text text-anchor=\"start\" x=\"181\" y=\"-21.8\" font-family=\"Helvetica,sans-Serif\" font-size=\"14.00\" fill=\"#000000\">value = [0, 4, 1, 36, 19]</text>\n<text text-anchor=\"start\" x=\"222\" y=\"-7.8\" font-family=\"Helvetica,sans-Serif\" font-size=\"14.00\" fill=\"#000000\">class = y</text>\n<text text-anchor=\"start\" x=\"280\" y=\"-7.8\" font-family=\"Helvetica,sans-Serif\" baseline-shift=\"sub\" font-size=\"14.00\" fill=\"#000000\">3</text>\n</g>\n<!-- 3&#45;&gt;5 -->\n<g id=\"edge5\" class=\"edge\">\n<title>3&#45;&gt;5</title>\n<path fill=\"none\" stroke=\"#000000\" d=\"M254.5,-99.7647C254.5,-91.4537 254.5,-82.6472 254.5,-74.2305\"/>\n<polygon fill=\"#000000\" stroke=\"#000000\" points=\"258.0001,-74.2168 254.5,-64.2169 251.0001,-74.2169 258.0001,-74.2168\"/>\n</g>\n<!-- 7 -->\n<g id=\"node8\" class=\"node\">\n<title>7</title>\n<path fill=\"#e539c0\" stroke=\"#000000\" d=\"M488.5,-64C488.5,-64 366.5,-64 366.5,-64 360.5,-64 354.5,-58 354.5,-52 354.5,-52 354.5,-12 354.5,-12 354.5,-6 360.5,0 366.5,0 366.5,0 488.5,0 488.5,0 494.5,0 500.5,-6 500.5,-12 500.5,-12 500.5,-52 500.5,-52 500.5,-58 494.5,-64 488.5,-64\"/>\n<text text-anchor=\"start\" x=\"398\" y=\"-49.8\" font-family=\"Helvetica,sans-Serif\" font-size=\"14.00\" fill=\"#000000\">gini = 0.0</text>\n<text text-anchor=\"start\" x=\"388\" y=\"-35.8\" font-family=\"Helvetica,sans-Serif\" font-size=\"14.00\" fill=\"#000000\">samples = 7</text>\n<text text-anchor=\"start\" x=\"362.5\" y=\"-21.8\" font-family=\"Helvetica,sans-Serif\" font-size=\"14.00\" fill=\"#000000\">value = [0, 0, 0, 0, 7]</text>\n<text text-anchor=\"start\" x=\"395\" y=\"-7.8\" font-family=\"Helvetica,sans-Serif\" font-size=\"14.00\" fill=\"#000000\">class = y</text>\n<text text-anchor=\"start\" x=\"453\" y=\"-7.8\" font-family=\"Helvetica,sans-Serif\" baseline-shift=\"sub\" font-size=\"14.00\" fill=\"#000000\">4</text>\n</g>\n<!-- 6&#45;&gt;7 -->\n<g id=\"edge7\" class=\"edge\">\n<title>6&#45;&gt;7</title>\n<path fill=\"none\" stroke=\"#000000\" d=\"M484.4984,-99.7647C476.8932,-90.7231 468.7949,-81.095 461.162,-72.0204\"/>\n<polygon fill=\"#000000\" stroke=\"#000000\" points=\"463.7138,-69.6168 454.5983,-64.2169 458.3568,-74.1227 463.7138,-69.6168\"/>\n</g>\n<!-- 8 -->\n<g id=\"node9\" class=\"node\">\n<title>8</title>\n<path fill=\"#e1e1fb\" stroke=\"#000000\" d=\"M670,-64C670,-64 531,-64 531,-64 525,-64 519,-58 519,-52 519,-52 519,-12 519,-12 519,-6 525,0 531,0 531,0 670,0 670,0 676,0 682,-6 682,-12 682,-12 682,-52 682,-52 682,-58 676,-64 670,-64\"/>\n<text text-anchor=\"start\" x=\"562.5\" y=\"-49.8\" font-family=\"Helvetica,sans-Serif\" font-size=\"14.00\" fill=\"#000000\">gini = 0.497</text>\n<text text-anchor=\"start\" x=\"556.5\" y=\"-35.8\" font-family=\"Helvetica,sans-Serif\" font-size=\"14.00\" fill=\"#000000\">samples = 24</text>\n<text text-anchor=\"start\" x=\"527\" y=\"-21.8\" font-family=\"Helvetica,sans-Serif\" font-size=\"14.00\" fill=\"#000000\">value = [0, 0, 0, 13, 11]</text>\n<text text-anchor=\"start\" x=\"568\" y=\"-7.8\" font-family=\"Helvetica,sans-Serif\" font-size=\"14.00\" fill=\"#000000\">class = y</text>\n<text text-anchor=\"start\" x=\"626\" y=\"-7.8\" font-family=\"Helvetica,sans-Serif\" baseline-shift=\"sub\" font-size=\"14.00\" fill=\"#000000\">3</text>\n</g>\n<!-- 6&#45;&gt;8 -->\n<g id=\"edge8\" class=\"edge\">\n<title>6&#45;&gt;8</title>\n<path fill=\"none\" stroke=\"#000000\" d=\"M547.9348,-99.7647C554.8776,-90.8144 562.2661,-81.2894 569.2427,-72.2955\"/>\n<polygon fill=\"#000000\" stroke=\"#000000\" points=\"572.1456,-74.2636 575.5093,-64.2169 566.6146,-69.9731 572.1456,-74.2636\"/>\n</g>\n<!-- 10 -->\n<g id=\"node11\" class=\"node\">\n<title>10</title>\n<path fill=\"#6e6cec\" stroke=\"#000000\" d=\"M1026,-178C1026,-178 887,-178 887,-178 881,-178 875,-172 875,-166 875,-166 875,-112 875,-112 875,-106 881,-100 887,-100 887,-100 1026,-100 1026,-100 1032,-100 1038,-106 1038,-112 1038,-112 1038,-166 1038,-166 1038,-172 1032,-178 1026,-178\"/>\n<text text-anchor=\"start\" x=\"924.5\" y=\"-163.8\" font-family=\"Helvetica,sans-Serif\" font-size=\"14.00\" fill=\"#000000\">G2 ≤ 10.0</text>\n<text text-anchor=\"start\" x=\"918.5\" y=\"-149.8\" font-family=\"Helvetica,sans-Serif\" font-size=\"14.00\" fill=\"#000000\">gini = 0.369</text>\n<text text-anchor=\"start\" x=\"908.5\" y=\"-135.8\" font-family=\"Helvetica,sans-Serif\" font-size=\"14.00\" fill=\"#000000\">samples = 108</text>\n<text text-anchor=\"start\" x=\"883\" y=\"-121.8\" font-family=\"Helvetica,sans-Serif\" font-size=\"14.00\" fill=\"#000000\">value = [0, 15, 0, 84, 9]</text>\n<text text-anchor=\"start\" x=\"924\" y=\"-107.8\" font-family=\"Helvetica,sans-Serif\" font-size=\"14.00\" fill=\"#000000\">class = y</text>\n<text text-anchor=\"start\" x=\"982\" y=\"-107.8\" font-family=\"Helvetica,sans-Serif\" baseline-shift=\"sub\" font-size=\"14.00\" fill=\"#000000\">3</text>\n</g>\n<!-- 9&#45;&gt;10 -->\n<g id=\"edge10\" class=\"edge\">\n<title>9&#45;&gt;10</title>\n<path fill=\"none\" stroke=\"#000000\" d=\"M1014.2154,-213.7677C1007.3707,-204.9007 1000.034,-195.3964 992.9648,-186.2385\"/>\n<polygon fill=\"#000000\" stroke=\"#000000\" points=\"995.7216,-184.0819 986.8404,-178.3046 990.1804,-188.3593 995.7216,-184.0819\"/>\n</g>\n<!-- 13 -->\n<g id=\"node14\" class=\"node\">\n<title>13</title>\n<path fill=\"#4f4de8\" stroke=\"#000000\" d=\"M1199,-178C1199,-178 1068,-178 1068,-178 1062,-178 1056,-172 1056,-166 1056,-166 1056,-112 1056,-112 1056,-106 1062,-100 1068,-100 1068,-100 1199,-100 1199,-100 1205,-100 1211,-106 1211,-112 1211,-112 1211,-166 1211,-166 1211,-172 1205,-178 1199,-178\"/>\n<text text-anchor=\"start\" x=\"1100\" y=\"-163.8\" font-family=\"Helvetica,sans-Serif\" font-size=\"14.00\" fill=\"#000000\">Mjob ≤ 4.5</text>\n<text text-anchor=\"start\" x=\"1095.5\" y=\"-149.8\" font-family=\"Helvetica,sans-Serif\" font-size=\"14.00\" fill=\"#000000\">gini = 0.177</text>\n<text text-anchor=\"start\" x=\"1089.5\" y=\"-135.8\" font-family=\"Helvetica,sans-Serif\" font-size=\"14.00\" fill=\"#000000\">samples = 84</text>\n<text text-anchor=\"start\" x=\"1064\" y=\"-121.8\" font-family=\"Helvetica,sans-Serif\" font-size=\"14.00\" fill=\"#000000\">value = [0, 4, 0, 76, 4]</text>\n<text text-anchor=\"start\" x=\"1101\" y=\"-107.8\" font-family=\"Helvetica,sans-Serif\" font-size=\"14.00\" fill=\"#000000\">class = y</text>\n<text text-anchor=\"start\" x=\"1159\" y=\"-107.8\" font-family=\"Helvetica,sans-Serif\" baseline-shift=\"sub\" font-size=\"14.00\" fill=\"#000000\">3</text>\n</g>\n<!-- 9&#45;&gt;13 -->\n<g id=\"edge13\" class=\"edge\">\n<title>9&#45;&gt;13</title>\n<path fill=\"none\" stroke=\"#000000\" d=\"M1075.1288,-213.7677C1082.0512,-204.9007 1089.4713,-195.3964 1096.6208,-186.2385\"/>\n<polygon fill=\"#000000\" stroke=\"#000000\" points=\"1099.4198,-188.3408 1102.8148,-178.3046 1093.9022,-184.0332 1099.4198,-188.3408\"/>\n</g>\n<!-- 11 -->\n<g id=\"node12\" class=\"node\">\n<title>11</title>\n<path fill=\"#8483ef\" stroke=\"#000000\" d=\"M851,-64C851,-64 712,-64 712,-64 706,-64 700,-58 700,-52 700,-52 700,-12 700,-12 700,-6 706,0 712,0 712,0 851,0 851,0 857,0 863,-6 863,-12 863,-12 863,-52 863,-52 863,-58 857,-64 851,-64\"/>\n<text text-anchor=\"start\" x=\"743.5\" y=\"-49.8\" font-family=\"Helvetica,sans-Serif\" font-size=\"14.00\" fill=\"#000000\">gini = 0.395</text>\n<text text-anchor=\"start\" x=\"737.5\" y=\"-35.8\" font-family=\"Helvetica,sans-Serif\" font-size=\"14.00\" fill=\"#000000\">samples = 48</text>\n<text text-anchor=\"start\" x=\"708\" y=\"-21.8\" font-family=\"Helvetica,sans-Serif\" font-size=\"14.00\" fill=\"#000000\">value = [0, 13, 0, 35, 0]</text>\n<text text-anchor=\"start\" x=\"749\" y=\"-7.8\" font-family=\"Helvetica,sans-Serif\" font-size=\"14.00\" fill=\"#000000\">class = y</text>\n<text text-anchor=\"start\" x=\"807\" y=\"-7.8\" font-family=\"Helvetica,sans-Serif\" baseline-shift=\"sub\" font-size=\"14.00\" fill=\"#000000\">3</text>\n</g>\n<!-- 10&#45;&gt;11 -->\n<g id=\"edge11\" class=\"edge\">\n<title>10&#45;&gt;11</title>\n<path fill=\"none\" stroke=\"#000000\" d=\"M892.3302,-99.7647C876.1157,-89.8508 858.7483,-79.2318 842.6853,-69.4105\"/>\n<polygon fill=\"#000000\" stroke=\"#000000\" points=\"844.2687,-66.2762 833.9113,-64.0458 840.6171,-72.2483 844.2687,-66.2762\"/>\n</g>\n<!-- 12 -->\n<g id=\"node13\" class=\"node\">\n<title>12</title>\n<path fill=\"#6664eb\" stroke=\"#000000\" d=\"M1024,-64C1024,-64 893,-64 893,-64 887,-64 881,-58 881,-52 881,-52 881,-12 881,-12 881,-6 887,0 893,0 893,0 1024,0 1024,0 1030,0 1036,-6 1036,-12 1036,-12 1036,-52 1036,-52 1036,-58 1030,-64 1024,-64\"/>\n<text text-anchor=\"start\" x=\"920.5\" y=\"-49.8\" font-family=\"Helvetica,sans-Serif\" font-size=\"14.00\" fill=\"#000000\">gini = 0.309</text>\n<text text-anchor=\"start\" x=\"914.5\" y=\"-35.8\" font-family=\"Helvetica,sans-Serif\" font-size=\"14.00\" fill=\"#000000\">samples = 60</text>\n<text text-anchor=\"start\" x=\"889\" y=\"-21.8\" font-family=\"Helvetica,sans-Serif\" font-size=\"14.00\" fill=\"#000000\">value = [0, 2, 0, 49, 9]</text>\n<text text-anchor=\"start\" x=\"926\" y=\"-7.8\" font-family=\"Helvetica,sans-Serif\" font-size=\"14.00\" fill=\"#000000\">class = y</text>\n<text text-anchor=\"start\" x=\"984\" y=\"-7.8\" font-family=\"Helvetica,sans-Serif\" baseline-shift=\"sub\" font-size=\"14.00\" fill=\"#000000\">3</text>\n</g>\n<!-- 10&#45;&gt;12 -->\n<g id=\"edge12\" class=\"edge\">\n<title>10&#45;&gt;12</title>\n<path fill=\"none\" stroke=\"#000000\" d=\"M957.2334,-99.7647C957.3887,-91.4537 957.5533,-82.6472 957.7106,-74.2305\"/>\n<polygon fill=\"#000000\" stroke=\"#000000\" points=\"961.2102,-74.2806 957.8978,-64.2169 954.2114,-74.1497 961.2102,-74.2806\"/>\n</g>\n<!-- 14 -->\n<g id=\"node15\" class=\"node\">\n<title>14</title>\n<path fill=\"#4744e7\" stroke=\"#000000\" d=\"M1197,-64C1197,-64 1066,-64 1066,-64 1060,-64 1054,-58 1054,-52 1054,-52 1054,-12 1054,-12 1054,-6 1060,0 1066,0 1066,0 1197,0 1197,0 1203,0 1209,-6 1209,-12 1209,-12 1209,-52 1209,-52 1209,-58 1203,-64 1197,-64\"/>\n<text text-anchor=\"start\" x=\"1093.5\" y=\"-49.8\" font-family=\"Helvetica,sans-Serif\" font-size=\"14.00\" fill=\"#000000\">gini = 0.108</text>\n<text text-anchor=\"start\" x=\"1087.5\" y=\"-35.8\" font-family=\"Helvetica,sans-Serif\" font-size=\"14.00\" fill=\"#000000\">samples = 71</text>\n<text text-anchor=\"start\" x=\"1062\" y=\"-21.8\" font-family=\"Helvetica,sans-Serif\" font-size=\"14.00\" fill=\"#000000\">value = [0, 2, 0, 67, 2]</text>\n<text text-anchor=\"start\" x=\"1099\" y=\"-7.8\" font-family=\"Helvetica,sans-Serif\" font-size=\"14.00\" fill=\"#000000\">class = y</text>\n<text text-anchor=\"start\" x=\"1157\" y=\"-7.8\" font-family=\"Helvetica,sans-Serif\" baseline-shift=\"sub\" font-size=\"14.00\" fill=\"#000000\">3</text>\n</g>\n<!-- 13&#45;&gt;14 -->\n<g id=\"edge14\" class=\"edge\">\n<title>13&#45;&gt;14</title>\n<path fill=\"none\" stroke=\"#000000\" d=\"M1132.7666,-99.7647C1132.6113,-91.4537 1132.4467,-82.6472 1132.2894,-74.2305\"/>\n<polygon fill=\"#000000\" stroke=\"#000000\" points=\"1135.7886,-74.1497 1132.1022,-64.2169 1128.7898,-74.2806 1135.7886,-74.1497\"/>\n</g>\n<!-- 15 -->\n<g id=\"node16\" class=\"node\">\n<title>15</title>\n<path fill=\"#8381ee\" stroke=\"#000000\" d=\"M1361.5,-64C1361.5,-64 1239.5,-64 1239.5,-64 1233.5,-64 1227.5,-58 1227.5,-52 1227.5,-52 1227.5,-12 1227.5,-12 1227.5,-6 1233.5,0 1239.5,0 1239.5,0 1361.5,0 1361.5,0 1367.5,0 1373.5,-6 1373.5,-12 1373.5,-12 1373.5,-52 1373.5,-52 1373.5,-58 1367.5,-64 1361.5,-64\"/>\n<text text-anchor=\"start\" x=\"1262.5\" y=\"-49.8\" font-family=\"Helvetica,sans-Serif\" font-size=\"14.00\" fill=\"#000000\">gini = 0.473</text>\n<text text-anchor=\"start\" x=\"1256.5\" y=\"-35.8\" font-family=\"Helvetica,sans-Serif\" font-size=\"14.00\" fill=\"#000000\">samples = 13</text>\n<text text-anchor=\"start\" x=\"1235.5\" y=\"-21.8\" font-family=\"Helvetica,sans-Serif\" font-size=\"14.00\" fill=\"#000000\">value = [0, 2, 0, 9, 2]</text>\n<text text-anchor=\"start\" x=\"1268\" y=\"-7.8\" font-family=\"Helvetica,sans-Serif\" font-size=\"14.00\" fill=\"#000000\">class = y</text>\n<text text-anchor=\"start\" x=\"1326\" y=\"-7.8\" font-family=\"Helvetica,sans-Serif\" baseline-shift=\"sub\" font-size=\"14.00\" fill=\"#000000\">3</text>\n</g>\n<!-- 13&#45;&gt;15 -->\n<g id=\"edge15\" class=\"edge\">\n<title>13&#45;&gt;15</title>\n<path fill=\"none\" stroke=\"#000000\" d=\"M1194.7364,-99.7647C1210.0663,-89.9426 1226.4763,-79.4284 1241.6856,-69.6835\"/>\n<polygon fill=\"#000000\" stroke=\"#000000\" points=\"1243.9529,-72.3876 1250.4847,-64.0458 1240.1765,-66.4936 1243.9529,-72.3876\"/>\n</g>\n<!-- 17 -->\n<g id=\"node18\" class=\"node\">\n<title>17</title>\n<path fill=\"#e957ca\" stroke=\"#000000\" d=\"M1830,-292C1830,-292 1675,-292 1675,-292 1669,-292 1663,-286 1663,-280 1663,-280 1663,-226 1663,-226 1663,-220 1669,-214 1675,-214 1675,-214 1830,-214 1830,-214 1836,-214 1842,-220 1842,-226 1842,-226 1842,-280 1842,-280 1842,-286 1836,-292 1830,-292\"/>\n<text text-anchor=\"start\" x=\"1725\" y=\"-277.8\" font-family=\"Helvetica,sans-Serif\" font-size=\"14.00\" fill=\"#000000\">G2 ≤ 6.0</text>\n<text text-anchor=\"start\" x=\"1714.5\" y=\"-263.8\" font-family=\"Helvetica,sans-Serif\" font-size=\"14.00\" fill=\"#000000\">gini = 0.252</text>\n<text text-anchor=\"start\" x=\"1704.5\" y=\"-249.8\" font-family=\"Helvetica,sans-Serif\" font-size=\"14.00\" fill=\"#000000\">samples = 362</text>\n<text text-anchor=\"start\" x=\"1671\" y=\"-235.8\" font-family=\"Helvetica,sans-Serif\" font-size=\"14.00\" fill=\"#000000\">value = [0, 0, 28, 23, 311]</text>\n<text text-anchor=\"start\" x=\"1720\" y=\"-221.8\" font-family=\"Helvetica,sans-Serif\" font-size=\"14.00\" fill=\"#000000\">class = y</text>\n<text text-anchor=\"start\" x=\"1778\" y=\"-221.8\" font-family=\"Helvetica,sans-Serif\" baseline-shift=\"sub\" font-size=\"14.00\" fill=\"#000000\">4</text>\n</g>\n<!-- 16&#45;&gt;17 -->\n<g id=\"edge17\" class=\"edge\">\n<title>16&#45;&gt;17</title>\n<path fill=\"none\" stroke=\"#000000\" d=\"M1752.5,-327.7677C1752.5,-319.6172 1752.5,-310.9283 1752.5,-302.4649\"/>\n<polygon fill=\"#000000\" stroke=\"#000000\" points=\"1756.0001,-302.3046 1752.5,-292.3046 1749.0001,-302.3047 1756.0001,-302.3046\"/>\n</g>\n<!-- 24 -->\n<g id=\"node25\" class=\"node\">\n<title>24</title>\n<path fill=\"#90f0de\" stroke=\"#000000\" d=\"M2351,-292C2351,-292 2196,-292 2196,-292 2190,-292 2184,-286 2184,-280 2184,-280 2184,-226 2184,-226 2184,-220 2190,-214 2196,-214 2196,-214 2351,-214 2351,-214 2357,-214 2363,-220 2363,-226 2363,-226 2363,-280 2363,-280 2363,-286 2357,-292 2351,-292\"/>\n<text text-anchor=\"start\" x=\"2225.5\" y=\"-277.8\" font-family=\"Helvetica,sans-Serif\" font-size=\"14.00\" fill=\"#000000\">GradeG2 ≤ 3.5</text>\n<text text-anchor=\"start\" x=\"2235.5\" y=\"-263.8\" font-family=\"Helvetica,sans-Serif\" font-size=\"14.00\" fill=\"#000000\">gini = 0.539</text>\n<text text-anchor=\"start\" x=\"2225.5\" y=\"-249.8\" font-family=\"Helvetica,sans-Serif\" font-size=\"14.00\" fill=\"#000000\">samples = 160</text>\n<text text-anchor=\"start\" x=\"2192\" y=\"-235.8\" font-family=\"Helvetica,sans-Serif\" font-size=\"14.00\" fill=\"#000000\">value = [28, 24, 102, 5, 1]</text>\n<text text-anchor=\"start\" x=\"2241\" y=\"-221.8\" font-family=\"Helvetica,sans-Serif\" font-size=\"14.00\" fill=\"#000000\">class = y</text>\n<text text-anchor=\"start\" x=\"2299\" y=\"-221.8\" font-family=\"Helvetica,sans-Serif\" baseline-shift=\"sub\" font-size=\"14.00\" fill=\"#000000\">2</text>\n</g>\n<!-- 16&#45;&gt;24 -->\n<g id=\"edge24\" class=\"edge\">\n<title>16&#45;&gt;24</title>\n<path fill=\"none\" stroke=\"#000000\" d=\"M1854.5009,-344.6812C1946.9655,-324.449 2082.4099,-294.8124 2174.0676,-274.7568\"/>\n<polygon fill=\"#000000\" stroke=\"#000000\" points=\"2174.8875,-278.1603 2183.9083,-272.6036 2173.3912,-271.3221 2174.8875,-278.1603\"/>\n</g>\n<!-- 18 -->\n<g id=\"node19\" class=\"node\">\n<title>18</title>\n<path fill=\"#e74cc6\" stroke=\"#000000\" d=\"M1734,-178C1734,-178 1587,-178 1587,-178 1581,-178 1575,-172 1575,-166 1575,-166 1575,-112 1575,-112 1575,-106 1581,-100 1587,-100 1587,-100 1734,-100 1734,-100 1740,-100 1746,-106 1746,-112 1746,-112 1746,-166 1746,-166 1746,-172 1740,-178 1734,-178\"/>\n<text text-anchor=\"start\" x=\"1621\" y=\"-163.8\" font-family=\"Helvetica,sans-Serif\" font-size=\"14.00\" fill=\"#000000\">school ≤ 1.5</text>\n<text text-anchor=\"start\" x=\"1622.5\" y=\"-149.8\" font-family=\"Helvetica,sans-Serif\" font-size=\"14.00\" fill=\"#000000\">gini = 0.164</text>\n<text text-anchor=\"start\" x=\"1612.5\" y=\"-135.8\" font-family=\"Helvetica,sans-Serif\" font-size=\"14.00\" fill=\"#000000\">samples = 304</text>\n<text text-anchor=\"start\" x=\"1583\" y=\"-121.8\" font-family=\"Helvetica,sans-Serif\" font-size=\"14.00\" fill=\"#000000\">value = [0, 0, 4, 23, 277]</text>\n<text text-anchor=\"start\" x=\"1628\" y=\"-107.8\" font-family=\"Helvetica,sans-Serif\" font-size=\"14.00\" fill=\"#000000\">class = y</text>\n<text text-anchor=\"start\" x=\"1686\" y=\"-107.8\" font-family=\"Helvetica,sans-Serif\" baseline-shift=\"sub\" font-size=\"14.00\" fill=\"#000000\">4</text>\n</g>\n<!-- 17&#45;&gt;18 -->\n<g id=\"edge18\" class=\"edge\">\n<title>17&#45;&gt;18</title>\n<path fill=\"none\" stroke=\"#000000\" d=\"M1720.8388,-213.7677C1713.683,-204.9007 1706.0129,-195.3964 1698.6223,-186.2385\"/>\n<polygon fill=\"#000000\" stroke=\"#000000\" points=\"1701.2235,-183.8886 1692.2195,-178.3046 1695.7761,-188.2847 1701.2235,-183.8886\"/>\n</g>\n<!-- 21 -->\n<g id=\"node22\" class=\"node\">\n<title>21</title>\n<path fill=\"#f7c5ec\" stroke=\"#000000\" d=\"M1915,-178C1915,-178 1776,-178 1776,-178 1770,-178 1764,-172 1764,-166 1764,-166 1764,-112 1764,-112 1764,-106 1770,-100 1776,-100 1776,-100 1915,-100 1915,-100 1921,-100 1927,-106 1927,-112 1927,-112 1927,-166 1927,-166 1927,-172 1921,-178 1915,-178\"/>\n<text text-anchor=\"start\" x=\"1818\" y=\"-163.8\" font-family=\"Helvetica,sans-Serif\" font-size=\"14.00\" fill=\"#000000\">G1 ≤ 7.5</text>\n<text text-anchor=\"start\" x=\"1807.5\" y=\"-149.8\" font-family=\"Helvetica,sans-Serif\" font-size=\"14.00\" fill=\"#000000\">gini = 0.485</text>\n<text text-anchor=\"start\" x=\"1801.5\" y=\"-135.8\" font-family=\"Helvetica,sans-Serif\" font-size=\"14.00\" fill=\"#000000\">samples = 58</text>\n<text text-anchor=\"start\" x=\"1772\" y=\"-121.8\" font-family=\"Helvetica,sans-Serif\" font-size=\"14.00\" fill=\"#000000\">value = [0, 0, 24, 0, 34]</text>\n<text text-anchor=\"start\" x=\"1813\" y=\"-107.8\" font-family=\"Helvetica,sans-Serif\" font-size=\"14.00\" fill=\"#000000\">class = y</text>\n<text text-anchor=\"start\" x=\"1871\" y=\"-107.8\" font-family=\"Helvetica,sans-Serif\" baseline-shift=\"sub\" font-size=\"14.00\" fill=\"#000000\">4</text>\n</g>\n<!-- 17&#45;&gt;21 -->\n<g id=\"edge21\" class=\"edge\">\n<title>17&#45;&gt;21</title>\n<path fill=\"none\" stroke=\"#000000\" d=\"M1784.5053,-213.7677C1791.7389,-204.9007 1799.4924,-195.3964 1806.9633,-186.2385\"/>\n<polygon fill=\"#000000\" stroke=\"#000000\" points=\"1809.8264,-188.2658 1813.4357,-178.3046 1804.4023,-183.8409 1809.8264,-188.2658\"/>\n</g>\n<!-- 19 -->\n<g id=\"node20\" class=\"node\">\n<title>19</title>\n<path fill=\"#e745c4\" stroke=\"#000000\" d=\"M1551,-64C1551,-64 1404,-64 1404,-64 1398,-64 1392,-58 1392,-52 1392,-52 1392,-12 1392,-12 1392,-6 1398,0 1404,0 1404,0 1551,0 1551,0 1557,0 1563,-6 1563,-12 1563,-12 1563,-52 1563,-52 1563,-58 1557,-64 1551,-64\"/>\n<text text-anchor=\"start\" x=\"1439.5\" y=\"-49.8\" font-family=\"Helvetica,sans-Serif\" font-size=\"14.00\" fill=\"#000000\">gini = 0.113</text>\n<text text-anchor=\"start\" x=\"1429.5\" y=\"-35.8\" font-family=\"Helvetica,sans-Serif\" font-size=\"14.00\" fill=\"#000000\">samples = 236</text>\n<text text-anchor=\"start\" x=\"1400\" y=\"-21.8\" font-family=\"Helvetica,sans-Serif\" font-size=\"14.00\" fill=\"#000000\">value = [0, 0, 4, 10, 222]</text>\n<text text-anchor=\"start\" x=\"1445\" y=\"-7.8\" font-family=\"Helvetica,sans-Serif\" font-size=\"14.00\" fill=\"#000000\">class = y</text>\n<text text-anchor=\"start\" x=\"1503\" y=\"-7.8\" font-family=\"Helvetica,sans-Serif\" baseline-shift=\"sub\" font-size=\"14.00\" fill=\"#000000\">4</text>\n</g>\n<!-- 18&#45;&gt;19 -->\n<g id=\"edge19\" class=\"edge\">\n<title>18&#45;&gt;19</title>\n<path fill=\"none\" stroke=\"#000000\" d=\"M1593.656,-99.9163C1576.5275,-89.9013 1558.1534,-79.158 1541.1887,-69.2388\"/>\n<polygon fill=\"#000000\" stroke=\"#000000\" points=\"1542.8591,-66.1611 1532.4598,-64.135 1539.3258,-72.204 1542.8591,-66.1611\"/>\n</g>\n<!-- 20 -->\n<g id=\"node21\" class=\"node\">\n<title>20</title>\n<path fill=\"#eb68cf\" stroke=\"#000000\" d=\"M1732,-64C1732,-64 1593,-64 1593,-64 1587,-64 1581,-58 1581,-52 1581,-52 1581,-12 1581,-12 1581,-6 1587,0 1593,0 1593,0 1732,0 1732,0 1738,0 1744,-6 1744,-12 1744,-12 1744,-52 1744,-52 1744,-58 1738,-64 1732,-64\"/>\n<text text-anchor=\"start\" x=\"1624.5\" y=\"-49.8\" font-family=\"Helvetica,sans-Serif\" font-size=\"14.00\" fill=\"#000000\">gini = 0.309</text>\n<text text-anchor=\"start\" x=\"1618.5\" y=\"-35.8\" font-family=\"Helvetica,sans-Serif\" font-size=\"14.00\" fill=\"#000000\">samples = 68</text>\n<text text-anchor=\"start\" x=\"1589\" y=\"-21.8\" font-family=\"Helvetica,sans-Serif\" font-size=\"14.00\" fill=\"#000000\">value = [0, 0, 0, 13, 55]</text>\n<text text-anchor=\"start\" x=\"1630\" y=\"-7.8\" font-family=\"Helvetica,sans-Serif\" font-size=\"14.00\" fill=\"#000000\">class = y</text>\n<text text-anchor=\"start\" x=\"1688\" y=\"-7.8\" font-family=\"Helvetica,sans-Serif\" baseline-shift=\"sub\" font-size=\"14.00\" fill=\"#000000\">4</text>\n</g>\n<!-- 18&#45;&gt;20 -->\n<g id=\"edge20\" class=\"edge\">\n<title>18&#45;&gt;20</title>\n<path fill=\"none\" stroke=\"#000000\" d=\"M1661.2334,-99.7647C1661.3887,-91.4537 1661.5533,-82.6472 1661.7106,-74.2305\"/>\n<polygon fill=\"#000000\" stroke=\"#000000\" points=\"1665.2102,-74.2806 1661.8978,-64.2169 1658.2114,-74.1497 1665.2102,-74.2806\"/>\n</g>\n<!-- 22 -->\n<g id=\"node23\" class=\"node\">\n<title>22</title>\n<path fill=\"#cef8f0\" stroke=\"#000000\" d=\"M1913,-64C1913,-64 1774,-64 1774,-64 1768,-64 1762,-58 1762,-52 1762,-52 1762,-12 1762,-12 1762,-6 1768,0 1774,0 1774,0 1913,0 1913,0 1919,0 1925,-6 1925,-12 1925,-12 1925,-52 1925,-52 1925,-58 1919,-64 1913,-64\"/>\n<text text-anchor=\"start\" x=\"1810\" y=\"-49.8\" font-family=\"Helvetica,sans-Serif\" font-size=\"14.00\" fill=\"#000000\">gini = 0.49</text>\n<text text-anchor=\"start\" x=\"1799.5\" y=\"-35.8\" font-family=\"Helvetica,sans-Serif\" font-size=\"14.00\" fill=\"#000000\">samples = 35</text>\n<text text-anchor=\"start\" x=\"1770\" y=\"-21.8\" font-family=\"Helvetica,sans-Serif\" font-size=\"14.00\" fill=\"#000000\">value = [0, 0, 20, 0, 15]</text>\n<text text-anchor=\"start\" x=\"1811\" y=\"-7.8\" font-family=\"Helvetica,sans-Serif\" font-size=\"14.00\" fill=\"#000000\">class = y</text>\n<text text-anchor=\"start\" x=\"1869\" y=\"-7.8\" font-family=\"Helvetica,sans-Serif\" baseline-shift=\"sub\" font-size=\"14.00\" fill=\"#000000\">2</text>\n</g>\n<!-- 21&#45;&gt;22 -->\n<g id=\"edge22\" class=\"edge\">\n<title>21&#45;&gt;22</title>\n<path fill=\"none\" stroke=\"#000000\" d=\"M1844.7666,-99.7647C1844.6113,-91.4537 1844.4467,-82.6472 1844.2894,-74.2305\"/>\n<polygon fill=\"#000000\" stroke=\"#000000\" points=\"1847.7886,-74.1497 1844.1022,-64.2169 1840.7898,-74.2806 1847.7886,-74.1497\"/>\n</g>\n<!-- 23 -->\n<g id=\"node24\" class=\"node\">\n<title>23</title>\n<path fill=\"#ea63cd\" stroke=\"#000000\" d=\"M2086,-64C2086,-64 1955,-64 1955,-64 1949,-64 1943,-58 1943,-52 1943,-52 1943,-12 1943,-12 1943,-6 1949,0 1955,0 1955,0 2086,0 2086,0 2092,0 2098,-6 2098,-12 2098,-12 2098,-52 2098,-52 2098,-58 2092,-64 2086,-64\"/>\n<text text-anchor=\"start\" x=\"1982.5\" y=\"-49.8\" font-family=\"Helvetica,sans-Serif\" font-size=\"14.00\" fill=\"#000000\">gini = 0.287</text>\n<text text-anchor=\"start\" x=\"1976.5\" y=\"-35.8\" font-family=\"Helvetica,sans-Serif\" font-size=\"14.00\" fill=\"#000000\">samples = 23</text>\n<text text-anchor=\"start\" x=\"1951\" y=\"-21.8\" font-family=\"Helvetica,sans-Serif\" font-size=\"14.00\" fill=\"#000000\">value = [0, 0, 4, 0, 19]</text>\n<text text-anchor=\"start\" x=\"1988\" y=\"-7.8\" font-family=\"Helvetica,sans-Serif\" font-size=\"14.00\" fill=\"#000000\">class = y</text>\n<text text-anchor=\"start\" x=\"2046\" y=\"-7.8\" font-family=\"Helvetica,sans-Serif\" baseline-shift=\"sub\" font-size=\"14.00\" fill=\"#000000\">4</text>\n</g>\n<!-- 21&#45;&gt;23 -->\n<g id=\"edge23\" class=\"edge\">\n<title>21&#45;&gt;23</title>\n<path fill=\"none\" stroke=\"#000000\" d=\"M1909.6698,-99.7647C1925.8843,-89.8508 1943.2517,-79.2318 1959.3147,-69.4105\"/>\n<polygon fill=\"#000000\" stroke=\"#000000\" points=\"1961.3829,-72.2483 1968.0887,-64.0458 1957.7313,-66.2762 1961.3829,-72.2483\"/>\n</g>\n<!-- 25 -->\n<g id=\"node26\" class=\"node\">\n<title>25</title>\n<path fill=\"#4de8cb\" stroke=\"#000000\" d=\"M2339,-178C2339,-178 2208,-178 2208,-178 2202,-178 2196,-172 2196,-166 2196,-166 2196,-112 2196,-112 2196,-106 2202,-100 2208,-100 2208,-100 2339,-100 2339,-100 2345,-100 2351,-106 2351,-112 2351,-112 2351,-166 2351,-166 2351,-172 2345,-178 2339,-178\"/>\n<text text-anchor=\"start\" x=\"2225.5\" y=\"-163.8\" font-family=\"Helvetica,sans-Serif\" font-size=\"14.00\" fill=\"#000000\">GradeG1 ≤ 3.5</text>\n<text text-anchor=\"start\" x=\"2235.5\" y=\"-149.8\" font-family=\"Helvetica,sans-Serif\" font-size=\"14.00\" fill=\"#000000\">gini = 0.171</text>\n<text text-anchor=\"start\" x=\"2225.5\" y=\"-135.8\" font-family=\"Helvetica,sans-Serif\" font-size=\"14.00\" fill=\"#000000\">samples = 107</text>\n<text text-anchor=\"start\" x=\"2204\" y=\"-121.8\" font-family=\"Helvetica,sans-Serif\" font-size=\"14.00\" fill=\"#000000\">value = [9, 0, 97, 0, 1]</text>\n<text text-anchor=\"start\" x=\"2241\" y=\"-107.8\" font-family=\"Helvetica,sans-Serif\" font-size=\"14.00\" fill=\"#000000\">class = y</text>\n<text text-anchor=\"start\" x=\"2299\" y=\"-107.8\" font-family=\"Helvetica,sans-Serif\" baseline-shift=\"sub\" font-size=\"14.00\" fill=\"#000000\">2</text>\n</g>\n<!-- 24&#45;&gt;25 -->\n<g id=\"edge25\" class=\"edge\">\n<title>24&#45;&gt;25</title>\n<path fill=\"none\" stroke=\"#000000\" d=\"M2273.5,-213.7677C2273.5,-205.6172 2273.5,-196.9283 2273.5,-188.4649\"/>\n<polygon fill=\"#000000\" stroke=\"#000000\" points=\"2277.0001,-188.3046 2273.5,-178.3046 2270.0001,-188.3047 2277.0001,-188.3046\"/>\n</g>\n<!-- 28 -->\n<g id=\"node29\" class=\"node\">\n<title>28</title>\n<path fill=\"#ecfbe2\" stroke=\"#000000\" d=\"M2601,-178C2601,-178 2462,-178 2462,-178 2456,-178 2450,-172 2450,-166 2450,-166 2450,-112 2450,-112 2450,-106 2456,-100 2462,-100 2462,-100 2601,-100 2601,-100 2607,-100 2613,-106 2613,-112 2613,-112 2613,-166 2613,-166 2613,-172 2607,-178 2601,-178\"/>\n<text text-anchor=\"start\" x=\"2483.5\" y=\"-163.8\" font-family=\"Helvetica,sans-Serif\" font-size=\"14.00\" fill=\"#000000\">GradeG2 ≤ 4.5</text>\n<text text-anchor=\"start\" x=\"2493.5\" y=\"-149.8\" font-family=\"Helvetica,sans-Serif\" font-size=\"14.00\" fill=\"#000000\">gini = 0.649</text>\n<text text-anchor=\"start\" x=\"2487.5\" y=\"-135.8\" font-family=\"Helvetica,sans-Serif\" font-size=\"14.00\" fill=\"#000000\">samples = 53</text>\n<text text-anchor=\"start\" x=\"2458\" y=\"-121.8\" font-family=\"Helvetica,sans-Serif\" font-size=\"14.00\" fill=\"#000000\">value = [19, 24, 5, 5, 0]</text>\n<text text-anchor=\"start\" x=\"2499\" y=\"-107.8\" font-family=\"Helvetica,sans-Serif\" font-size=\"14.00\" fill=\"#000000\">class = y</text>\n<text text-anchor=\"start\" x=\"2557\" y=\"-107.8\" font-family=\"Helvetica,sans-Serif\" baseline-shift=\"sub\" font-size=\"14.00\" fill=\"#000000\">1</text>\n</g>\n<!-- 24&#45;&gt;28 -->\n<g id=\"edge28\" class=\"edge\">\n<title>24&#45;&gt;28</title>\n<path fill=\"none\" stroke=\"#000000\" d=\"M2361.928,-213.9272C2387.2616,-202.7332 2414.9195,-190.5123 2440.41,-179.2491\"/>\n<polygon fill=\"#000000\" stroke=\"#000000\" points=\"2441.9626,-182.3896 2449.6948,-175.1465 2439.1334,-175.9868 2441.9626,-182.3896\"/>\n</g>\n<!-- 26 -->\n<g id=\"node27\" class=\"node\">\n<title>26</title>\n<path fill=\"#49e7ca\" stroke=\"#000000\" d=\"M2259,-64C2259,-64 2128,-64 2128,-64 2122,-64 2116,-58 2116,-52 2116,-52 2116,-12 2116,-12 2116,-6 2122,0 2128,0 2128,0 2259,0 2259,0 2265,0 2271,-6 2271,-12 2271,-12 2271,-52 2271,-52 2271,-58 2265,-64 2259,-64\"/>\n<text text-anchor=\"start\" x=\"2155.5\" y=\"-49.8\" font-family=\"Helvetica,sans-Serif\" font-size=\"14.00\" fill=\"#000000\">gini = 0.143</text>\n<text text-anchor=\"start\" x=\"2145.5\" y=\"-35.8\" font-family=\"Helvetica,sans-Serif\" font-size=\"14.00\" fill=\"#000000\">samples = 104</text>\n<text text-anchor=\"start\" x=\"2124\" y=\"-21.8\" font-family=\"Helvetica,sans-Serif\" font-size=\"14.00\" fill=\"#000000\">value = [7, 0, 96, 0, 1]</text>\n<text text-anchor=\"start\" x=\"2161\" y=\"-7.8\" font-family=\"Helvetica,sans-Serif\" font-size=\"14.00\" fill=\"#000000\">class = y</text>\n<text text-anchor=\"start\" x=\"2219\" y=\"-7.8\" font-family=\"Helvetica,sans-Serif\" baseline-shift=\"sub\" font-size=\"14.00\" fill=\"#000000\">2</text>\n</g>\n<!-- 25&#45;&gt;26 -->\n<g id=\"edge26\" class=\"edge\">\n<title>25&#45;&gt;26</title>\n<path fill=\"none\" stroke=\"#000000\" d=\"M2244.1652,-99.7647C2237.4734,-90.8144 2230.3519,-81.2894 2223.6275,-72.2955\"/>\n<polygon fill=\"#000000\" stroke=\"#000000\" points=\"2226.3786,-70.13 2217.5874,-64.2169 2220.7723,-74.3217 2226.3786,-70.13\"/>\n</g>\n<!-- 27 -->\n<g id=\"node28\" class=\"node\">\n<title>27</title>\n<path fill=\"#f2c09c\" stroke=\"#000000\" d=\"M2423.5,-64C2423.5,-64 2301.5,-64 2301.5,-64 2295.5,-64 2289.5,-58 2289.5,-52 2289.5,-52 2289.5,-12 2289.5,-12 2289.5,-6 2295.5,0 2301.5,0 2301.5,0 2423.5,0 2423.5,0 2429.5,0 2435.5,-6 2435.5,-12 2435.5,-12 2435.5,-52 2435.5,-52 2435.5,-58 2429.5,-64 2423.5,-64\"/>\n<text text-anchor=\"start\" x=\"2324.5\" y=\"-49.8\" font-family=\"Helvetica,sans-Serif\" font-size=\"14.00\" fill=\"#000000\">gini = 0.444</text>\n<text text-anchor=\"start\" x=\"2323\" y=\"-35.8\" font-family=\"Helvetica,sans-Serif\" font-size=\"14.00\" fill=\"#000000\">samples = 3</text>\n<text text-anchor=\"start\" x=\"2297.5\" y=\"-21.8\" font-family=\"Helvetica,sans-Serif\" font-size=\"14.00\" fill=\"#000000\">value = [2, 0, 1, 0, 0]</text>\n<text text-anchor=\"start\" x=\"2330\" y=\"-7.8\" font-family=\"Helvetica,sans-Serif\" font-size=\"14.00\" fill=\"#000000\">class = y</text>\n<text text-anchor=\"start\" x=\"2388\" y=\"-7.8\" font-family=\"Helvetica,sans-Serif\" baseline-shift=\"sub\" font-size=\"14.00\" fill=\"#000000\">0</text>\n</g>\n<!-- 25&#45;&gt;27 -->\n<g id=\"edge27\" class=\"edge\">\n<title>25&#45;&gt;27</title>\n<path fill=\"none\" stroke=\"#000000\" d=\"M2306.1349,-99.7647C2313.6556,-90.7231 2321.664,-81.095 2329.212,-72.0204\"/>\n<polygon fill=\"#000000\" stroke=\"#000000\" points=\"2331.9988,-74.1432 2335.7028,-64.2169 2326.6171,-69.6668 2331.9988,-74.1432\"/>\n</g>\n<!-- 29 -->\n<g id=\"node30\" class=\"node\">\n<title>29</title>\n<path fill=\"#96ea62\" stroke=\"#000000\" d=\"M2597,-64C2597,-64 2466,-64 2466,-64 2460,-64 2454,-58 2454,-52 2454,-52 2454,-12 2454,-12 2454,-6 2460,0 2466,0 2466,0 2597,0 2597,0 2603,0 2609,-6 2609,-12 2609,-12 2609,-52 2609,-52 2609,-58 2603,-64 2597,-64\"/>\n<text text-anchor=\"start\" x=\"2493.5\" y=\"-49.8\" font-family=\"Helvetica,sans-Serif\" font-size=\"14.00\" fill=\"#000000\">gini = 0.285</text>\n<text text-anchor=\"start\" x=\"2487.5\" y=\"-35.8\" font-family=\"Helvetica,sans-Serif\" font-size=\"14.00\" fill=\"#000000\">samples = 29</text>\n<text text-anchor=\"start\" x=\"2462\" y=\"-21.8\" font-family=\"Helvetica,sans-Serif\" font-size=\"14.00\" fill=\"#000000\">value = [0, 24, 0, 5, 0]</text>\n<text text-anchor=\"start\" x=\"2499\" y=\"-7.8\" font-family=\"Helvetica,sans-Serif\" font-size=\"14.00\" fill=\"#000000\">class = y</text>\n<text text-anchor=\"start\" x=\"2557\" y=\"-7.8\" font-family=\"Helvetica,sans-Serif\" baseline-shift=\"sub\" font-size=\"14.00\" fill=\"#000000\">1</text>\n</g>\n<!-- 28&#45;&gt;29 -->\n<g id=\"edge29\" class=\"edge\">\n<title>28&#45;&gt;29</title>\n<path fill=\"none\" stroke=\"#000000\" d=\"M2531.5,-99.7647C2531.5,-91.4537 2531.5,-82.6472 2531.5,-74.2305\"/>\n<polygon fill=\"#000000\" stroke=\"#000000\" points=\"2535.0001,-74.2168 2531.5,-64.2169 2528.0001,-74.2169 2535.0001,-74.2168\"/>\n</g>\n<!-- 30 -->\n<g id=\"node31\" class=\"node\">\n<title>30</title>\n<path fill=\"#eca26d\" stroke=\"#000000\" d=\"M2770,-64C2770,-64 2639,-64 2639,-64 2633,-64 2627,-58 2627,-52 2627,-52 2627,-12 2627,-12 2627,-6 2633,0 2639,0 2639,0 2770,0 2770,0 2776,0 2782,-6 2782,-12 2782,-12 2782,-52 2782,-52 2782,-58 2776,-64 2770,-64\"/>\n<text text-anchor=\"start\" x=\"2671\" y=\"-49.8\" font-family=\"Helvetica,sans-Serif\" font-size=\"14.00\" fill=\"#000000\">gini = 0.33</text>\n<text text-anchor=\"start\" x=\"2660.5\" y=\"-35.8\" font-family=\"Helvetica,sans-Serif\" font-size=\"14.00\" fill=\"#000000\">samples = 24</text>\n<text text-anchor=\"start\" x=\"2635\" y=\"-21.8\" font-family=\"Helvetica,sans-Serif\" font-size=\"14.00\" fill=\"#000000\">value = [19, 0, 5, 0, 0]</text>\n<text text-anchor=\"start\" x=\"2672\" y=\"-7.8\" font-family=\"Helvetica,sans-Serif\" font-size=\"14.00\" fill=\"#000000\">class = y</text>\n<text text-anchor=\"start\" x=\"2730\" y=\"-7.8\" font-family=\"Helvetica,sans-Serif\" baseline-shift=\"sub\" font-size=\"14.00\" fill=\"#000000\">0</text>\n</g>\n<!-- 28&#45;&gt;30 -->\n<g id=\"edge30\" class=\"edge\">\n<title>28&#45;&gt;30</title>\n<path fill=\"none\" stroke=\"#000000\" d=\"M2594.9365,-99.7647C2610.9656,-89.8508 2628.1346,-79.2318 2644.0139,-69.4105\"/>\n<polygon fill=\"#000000\" stroke=\"#000000\" points=\"2646.024,-72.2826 2652.6877,-64.0458 2642.3419,-66.3293 2646.024,-72.2826\"/>\n</g>\n</g>\n</svg>\n"
          },
          "metadata": {
            "tags": []
          },
          "execution_count": 157
        }
      ]
    },
    {
      "cell_type": "markdown",
      "metadata": {
        "id": "9WAmns5vXYYQ"
      },
      "source": [
        "# Decision Tree Classifier with criterion entropy "
      ]
    },
    {
      "cell_type": "code",
      "metadata": {
        "colab": {
          "base_uri": "https://localhost:8080/"
        },
        "id": "VyWhyFU4XZo4",
        "outputId": "c21c8ea7-4caa-4c7f-a3d2-4a54294abf30"
      },
      "source": [
        "# instantiate the DecisionTreeClassifier model with criterion entropy\n",
        "\n",
        "clf_en = DecisionTreeClassifier(criterion='entropy', max_depth=4, random_state=0)\n",
        "\n",
        "\n",
        "# fit the model\n",
        "clf_en.fit(X_train, y_train)"
      ],
      "execution_count": null,
      "outputs": [
        {
          "output_type": "execute_result",
          "data": {
            "text/plain": [
              "DecisionTreeClassifier(ccp_alpha=0.0, class_weight=None, criterion='entropy',\n",
              "                       max_depth=4, max_features=None, max_leaf_nodes=None,\n",
              "                       min_impurity_decrease=0.0, min_impurity_split=None,\n",
              "                       min_samples_leaf=1, min_samples_split=2,\n",
              "                       min_weight_fraction_leaf=0.0, presort='deprecated',\n",
              "                       random_state=0, splitter='best')"
            ]
          },
          "metadata": {
            "tags": []
          },
          "execution_count": 158
        }
      ]
    },
    {
      "cell_type": "markdown",
      "metadata": {
        "id": "eQ7HN1q2Xnh_"
      },
      "source": [
        "Predict the Test set results with criterion entropy"
      ]
    },
    {
      "cell_type": "code",
      "metadata": {
        "id": "hBFmY5gaXoEk"
      },
      "source": [
        "y_pred_en = clf_en.predict(X_test)"
      ],
      "execution_count": null,
      "outputs": []
    },
    {
      "cell_type": "markdown",
      "metadata": {
        "id": "ukNIXa8dXtXN"
      },
      "source": [
        "Check accuracy score with criterion entropy"
      ]
    },
    {
      "cell_type": "code",
      "metadata": {
        "colab": {
          "base_uri": "https://localhost:8080/"
        },
        "id": "HULMUHr-XuXi",
        "outputId": "348f485d-f1fa-4f2e-8e5e-4943dda09cd3"
      },
      "source": [
        "from sklearn.metrics import accuracy_score\n",
        "\n",
        "print('Model accuracy score with criterion entropy: {0:0.4f}'. format(accuracy_score(y_test, y_pred_en)))"
      ],
      "execution_count": null,
      "outputs": [
        {
          "output_type": "stream",
          "text": [
            "Model accuracy score with criterion entropy: 0.8565\n"
          ],
          "name": "stdout"
        }
      ]
    },
    {
      "cell_type": "markdown",
      "metadata": {
        "id": "t3EoUDT1X3ij"
      },
      "source": [
        "Compare the train-set and test-set accuracy"
      ]
    },
    {
      "cell_type": "code",
      "metadata": {
        "colab": {
          "base_uri": "https://localhost:8080/"
        },
        "id": "cYxRA2k0X4My",
        "outputId": "b315c652-1a34-4bda-86fc-0af47628e1d8"
      },
      "source": [
        "y_pred_train_en = clf_en.predict(X_train)\n",
        "\n",
        "y_pred_train_en"
      ],
      "execution_count": null,
      "outputs": [
        {
          "output_type": "execute_result",
          "data": {
            "text/plain": [
              "array(['Poor', 'Satisfactory', 'Poor', 'Satisfactory', 'Poor', 'Poor',\n",
              "       'Satisfactory', 'Satisfactory', 'Poor', 'Poor', 'Poor', 'Good',\n",
              "       'Poor', 'Poor', 'Good', 'Poor', 'Satisfactory', 'Satisfactory',\n",
              "       'Good', 'Failure', 'Good', 'Good', 'Satisfactory', 'Satisfactory',\n",
              "       'Poor', 'Poor', 'Satisfactory', 'Poor', 'Poor', 'Poor', 'Poor',\n",
              "       'Satisfactory', 'Poor', 'Poor', 'Satisfactory', 'Poor', 'Good',\n",
              "       'Satisfactory', 'Poor', 'Satisfactory', 'Good', 'Poor', 'Poor',\n",
              "       'Satisfactory', 'Poor', 'Poor', 'Satisfactory', 'Poor',\n",
              "       'Satisfactory', 'Satisfactory', 'Satisfactory', 'Good', 'Poor',\n",
              "       'Satisfactory', 'Poor', 'Good', 'Good', 'Satisfactory', 'Poor',\n",
              "       'Poor', 'Satisfactory', 'Satisfactory', 'Satisfactory',\n",
              "       'Satisfactory', 'Satisfactory', 'Good', 'Good', 'Satisfactory',\n",
              "       'Poor', 'Satisfactory', 'Poor', 'Satisfactory', 'Poor',\n",
              "       'Satisfactory', 'Satisfactory', 'Excellent', 'Satisfactory',\n",
              "       'Satisfactory', 'Poor', 'Poor', 'Satisfactory', 'Poor',\n",
              "       'Excellent', 'Good', 'Satisfactory', 'Good', 'Satisfactory',\n",
              "       'Satisfactory', 'Satisfactory', 'Satisfactory', 'Satisfactory',\n",
              "       'Good', 'Poor', 'Good', 'Satisfactory', 'Poor', 'Satisfactory',\n",
              "       'Excellent', 'Satisfactory', 'Failure', 'Satisfactory', 'Poor',\n",
              "       'Satisfactory', 'Satisfactory', 'Satisfactory', 'Poor',\n",
              "       'Satisfactory', 'Satisfactory', 'Good', 'Satisfactory',\n",
              "       'Satisfactory', 'Good', 'Poor', 'Good', 'Poor', 'Failure',\n",
              "       'Satisfactory', 'Poor', 'Poor', 'Satisfactory', 'Poor',\n",
              "       'Satisfactory', 'Good', 'Good', 'Satisfactory', 'Poor',\n",
              "       'Excellent', 'Satisfactory', 'Poor', 'Satisfactory',\n",
              "       'Satisfactory', 'Satisfactory', 'Poor', 'Failure', 'Satisfactory',\n",
              "       'Good', 'Satisfactory', 'Poor', 'Poor', 'Satisfactory',\n",
              "       'Satisfactory', 'Satisfactory', 'Poor', 'Poor', 'Poor',\n",
              "       'Satisfactory', 'Satisfactory', 'Satisfactory', 'Poor', 'Good',\n",
              "       'Good', 'Poor', 'Satisfactory', 'Poor', 'Satisfactory',\n",
              "       'Satisfactory', 'Poor', 'Poor', 'Satisfactory', 'Satisfactory',\n",
              "       'Satisfactory', 'Good', 'Poor', 'Satisfactory', 'Poor', 'Poor',\n",
              "       'Satisfactory', 'Poor', 'Satisfactory', 'Poor', 'Satisfactory',\n",
              "       'Satisfactory', 'Poor', 'Poor', 'Good', 'Satisfactory', 'Poor',\n",
              "       'Good', 'Poor', 'Satisfactory', 'Good', 'Poor', 'Poor', 'Failure',\n",
              "       'Failure', 'Poor', 'Good', 'Satisfactory', 'Poor', 'Poor', 'Poor',\n",
              "       'Poor', 'Poor', 'Poor', 'Poor', 'Satisfactory', 'Poor', 'Good',\n",
              "       'Satisfactory', 'Satisfactory', 'Good', 'Poor', 'Good', 'Good',\n",
              "       'Poor', 'Satisfactory', 'Satisfactory', 'Satisfactory',\n",
              "       'Satisfactory', 'Satisfactory', 'Good', 'Good', 'Satisfactory',\n",
              "       'Poor', 'Satisfactory', 'Good', 'Good', 'Poor', 'Poor', 'Poor',\n",
              "       'Satisfactory', 'Excellent', 'Poor', 'Good', 'Satisfactory',\n",
              "       'Poor', 'Failure', 'Satisfactory', 'Satisfactory', 'Poor',\n",
              "       'Satisfactory', 'Poor', 'Satisfactory', 'Poor', 'Satisfactory',\n",
              "       'Poor', 'Good', 'Poor', 'Satisfactory', 'Satisfactory',\n",
              "       'Satisfactory', 'Satisfactory', 'Satisfactory', 'Poor', 'Poor',\n",
              "       'Poor', 'Satisfactory', 'Satisfactory', 'Satisfactory', 'Poor',\n",
              "       'Satisfactory', 'Satisfactory', 'Satisfactory', 'Satisfactory',\n",
              "       'Poor', 'Satisfactory', 'Satisfactory', 'Poor', 'Satisfactory',\n",
              "       'Good', 'Good', 'Poor', 'Satisfactory', 'Poor', 'Satisfactory',\n",
              "       'Satisfactory', 'Excellent', 'Poor', 'Satisfactory', 'Poor',\n",
              "       'Poor', 'Satisfactory', 'Satisfactory', 'Poor', 'Poor', 'Poor',\n",
              "       'Satisfactory', 'Satisfactory', 'Satisfactory', 'Poor', 'Good',\n",
              "       'Satisfactory', 'Poor', 'Satisfactory', 'Good', 'Poor', 'Poor',\n",
              "       'Good', 'Satisfactory', 'Good', 'Poor', 'Good', 'Satisfactory',\n",
              "       'Poor', 'Good', 'Satisfactory', 'Satisfactory', 'Poor', 'Poor',\n",
              "       'Poor', 'Satisfactory', 'Satisfactory', 'Satisfactory', 'Good',\n",
              "       'Poor', 'Satisfactory', 'Satisfactory', 'Good', 'Satisfactory',\n",
              "       'Excellent', 'Satisfactory', 'Poor', 'Satisfactory', 'Poor',\n",
              "       'Poor', 'Satisfactory', 'Poor', 'Satisfactory', 'Poor',\n",
              "       'Satisfactory', 'Satisfactory', 'Satisfactory', 'Failure', 'Good',\n",
              "       'Poor', 'Satisfactory', 'Excellent', 'Poor', 'Satisfactory',\n",
              "       'Satisfactory', 'Satisfactory', 'Failure', 'Satisfactory',\n",
              "       'Satisfactory', 'Satisfactory', 'Satisfactory', 'Good', 'Poor',\n",
              "       'Good', 'Poor', 'Failure', 'Failure', 'Poor', 'Good',\n",
              "       'Satisfactory', 'Satisfactory', 'Satisfactory', 'Poor',\n",
              "       'Satisfactory', 'Satisfactory', 'Satisfactory', 'Satisfactory',\n",
              "       'Good', 'Good', 'Poor', 'Poor', 'Satisfactory', 'Satisfactory',\n",
              "       'Poor', 'Satisfactory', 'Satisfactory', 'Satisfactory', 'Poor',\n",
              "       'Failure', 'Poor', 'Satisfactory', 'Failure', 'Good',\n",
              "       'Satisfactory', 'Good', 'Satisfactory', 'Poor', 'Failure',\n",
              "       'Satisfactory', 'Poor', 'Poor', 'Satisfactory', 'Satisfactory',\n",
              "       'Poor', 'Satisfactory', 'Satisfactory', 'Good', 'Failure',\n",
              "       'Satisfactory', 'Poor', 'Satisfactory', 'Good', 'Satisfactory',\n",
              "       'Satisfactory', 'Satisfactory', 'Satisfactory', 'Failure',\n",
              "       'Satisfactory', 'Poor', 'Poor', 'Poor', 'Poor', 'Failure',\n",
              "       'Satisfactory', 'Poor', 'Failure', 'Satisfactory', 'Satisfactory',\n",
              "       'Poor', 'Good', 'Satisfactory', 'Poor', 'Poor', 'Failure', 'Poor',\n",
              "       'Satisfactory', 'Failure', 'Good', 'Good', 'Poor', 'Satisfactory',\n",
              "       'Poor', 'Poor', 'Poor', 'Excellent', 'Satisfactory', 'Poor',\n",
              "       'Poor', 'Poor', 'Satisfactory', 'Satisfactory', 'Satisfactory',\n",
              "       'Satisfactory', 'Satisfactory', 'Poor', 'Satisfactory', 'Good',\n",
              "       'Satisfactory', 'Poor', 'Satisfactory', 'Poor', 'Poor', 'Poor',\n",
              "       'Satisfactory', 'Poor', 'Good', 'Satisfactory', 'Poor', 'Poor',\n",
              "       'Excellent', 'Satisfactory', 'Poor', 'Poor', 'Satisfactory',\n",
              "       'Good', 'Failure', 'Good', 'Failure', 'Satisfactory',\n",
              "       'Satisfactory', 'Poor', 'Poor', 'Poor', 'Failure', 'Poor', 'Poor',\n",
              "       'Satisfactory', 'Poor', 'Good', 'Satisfactory', 'Poor',\n",
              "       'Satisfactory', 'Failure', 'Poor', 'Poor', 'Good', 'Satisfactory',\n",
              "       'Satisfactory', 'Good', 'Satisfactory', 'Good', 'Poor', 'Poor',\n",
              "       'Satisfactory', 'Good', 'Excellent', 'Failure', 'Satisfactory',\n",
              "       'Satisfactory', 'Good', 'Satisfactory', 'Satisfactory',\n",
              "       'Satisfactory', 'Satisfactory', 'Poor', 'Good', 'Poor', 'Poor',\n",
              "       'Poor', 'Poor', 'Satisfactory', 'Good', 'Good', 'Good', 'Poor',\n",
              "       'Failure', 'Poor', 'Poor', 'Satisfactory', 'Satisfactory', 'Poor',\n",
              "       'Good', 'Poor', 'Good', 'Poor', 'Good', 'Good', 'Satisfactory',\n",
              "       'Failure', 'Failure', 'Satisfactory', 'Poor', 'Satisfactory',\n",
              "       'Good', 'Satisfactory', 'Good', 'Satisfactory', 'Poor', 'Good',\n",
              "       'Poor', 'Satisfactory', 'Poor', 'Satisfactory', 'Poor', 'Poor',\n",
              "       'Satisfactory', 'Good', 'Satisfactory', 'Good', 'Satisfactory',\n",
              "       'Excellent', 'Good', 'Satisfactory', 'Poor', 'Satisfactory',\n",
              "       'Satisfactory', 'Satisfactory', 'Poor', 'Satisfactory', 'Poor',\n",
              "       'Satisfactory', 'Satisfactory', 'Good', 'Satisfactory', 'Good',\n",
              "       'Satisfactory', 'Poor', 'Satisfactory', 'Satisfactory',\n",
              "       'Satisfactory', 'Satisfactory', 'Poor', 'Satisfactory', 'Poor',\n",
              "       'Poor', 'Good', 'Poor', 'Satisfactory', 'Poor', 'Satisfactory',\n",
              "       'Satisfactory', 'Satisfactory', 'Satisfactory', 'Satisfactory',\n",
              "       'Poor', 'Satisfactory', 'Excellent', 'Satisfactory', 'Poor',\n",
              "       'Poor', 'Satisfactory', 'Good', 'Satisfactory', 'Satisfactory',\n",
              "       'Satisfactory', 'Satisfactory', 'Poor', 'Poor', 'Good',\n",
              "       'Satisfactory', 'Poor', 'Poor', 'Satisfactory', 'Good',\n",
              "       'Satisfactory', 'Satisfactory', 'Satisfactory', 'Good',\n",
              "       'Satisfactory', 'Good', 'Poor', 'Good', 'Good', 'Satisfactory',\n",
              "       'Excellent', 'Good', 'Satisfactory', 'Satisfactory',\n",
              "       'Satisfactory', 'Satisfactory', 'Good', 'Satisfactory',\n",
              "       'Satisfactory', 'Poor', 'Satisfactory', 'Satisfactory', 'Poor',\n",
              "       'Good', 'Satisfactory', 'Satisfactory', 'Good', 'Satisfactory',\n",
              "       'Poor', 'Good', 'Poor', 'Satisfactory', 'Good', 'Satisfactory',\n",
              "       'Poor', 'Poor', 'Good', 'Poor', 'Satisfactory', 'Satisfactory',\n",
              "       'Excellent', 'Poor', 'Satisfactory', 'Poor', 'Satisfactory',\n",
              "       'Satisfactory', 'Good', 'Satisfactory', 'Satisfactory', 'Failure',\n",
              "       'Good', 'Satisfactory', 'Poor', 'Satisfactory', 'Poor', 'Poor',\n",
              "       'Satisfactory', 'Satisfactory', 'Good', 'Good', 'Poor',\n",
              "       'Satisfactory', 'Good', 'Good', 'Poor', 'Excellent', 'Good',\n",
              "       'Good', 'Satisfactory', 'Satisfactory', 'Good', 'Satisfactory',\n",
              "       'Excellent', 'Satisfactory', 'Good', 'Satisfactory', 'Good',\n",
              "       'Failure', 'Satisfactory', 'Satisfactory', 'Satisfactory', 'Good',\n",
              "       'Poor', 'Satisfactory', 'Satisfactory', 'Excellent',\n",
              "       'Satisfactory', 'Satisfactory', 'Poor', 'Excellent', 'Poor',\n",
              "       'Failure', 'Satisfactory', 'Satisfactory', 'Good', 'Satisfactory',\n",
              "       'Failure', 'Failure', 'Poor', 'Good', 'Good', 'Poor', 'Poor',\n",
              "       'Good', 'Poor', 'Satisfactory', 'Satisfactory', 'Good', 'Poor',\n",
              "       'Satisfactory', 'Poor', 'Good', 'Poor', 'Satisfactory',\n",
              "       'Satisfactory', 'Poor', 'Satisfactory', 'Failure', 'Good', 'Poor',\n",
              "       'Satisfactory', 'Poor', 'Good', 'Poor', 'Satisfactory', 'Good',\n",
              "       'Poor', 'Poor', 'Good', 'Satisfactory', 'Satisfactory',\n",
              "       'Satisfactory', 'Satisfactory', 'Satisfactory', 'Poor',\n",
              "       'Satisfactory', 'Good', 'Failure', 'Poor', 'Satisfactory', 'Good',\n",
              "       'Satisfactory', 'Poor', 'Poor', 'Satisfactory', 'Poor', 'Poor',\n",
              "       'Poor', 'Satisfactory', 'Good', 'Satisfactory', 'Failure', 'Poor',\n",
              "       'Satisfactory', 'Poor', 'Good', 'Poor', 'Satisfactory',\n",
              "       'Satisfactory', 'Satisfactory', 'Satisfactory', 'Satisfactory',\n",
              "       'Poor', 'Good', 'Satisfactory', 'Good', 'Satisfactory', 'Poor',\n",
              "       'Excellent', 'Good', 'Poor', 'Good', 'Satisfactory',\n",
              "       'Satisfactory', 'Satisfactory', 'Good', 'Poor', 'Satisfactory',\n",
              "       'Poor', 'Satisfactory', 'Good', 'Satisfactory', 'Satisfactory',\n",
              "       'Satisfactory', 'Poor', 'Poor', 'Good', 'Satisfactory',\n",
              "       'Satisfactory', 'Poor', 'Satisfactory', 'Satisfactory',\n",
              "       'Satisfactory', 'Satisfactory', 'Satisfactory', 'Excellent',\n",
              "       'Failure', 'Poor', 'Satisfactory', 'Satisfactory', 'Satisfactory',\n",
              "       'Poor', 'Satisfactory', 'Good', 'Poor', 'Satisfactory', 'Poor',\n",
              "       'Failure', 'Good', 'Satisfactory', 'Poor', 'Satisfactory', 'Poor',\n",
              "       'Satisfactory', 'Satisfactory', 'Poor', 'Satisfactory',\n",
              "       'Satisfactory', 'Excellent', 'Satisfactory', 'Excellent', 'Poor',\n",
              "       'Poor', 'Failure', 'Satisfactory', 'Poor', 'Poor', 'Satisfactory',\n",
              "       'Good', 'Poor', 'Poor', 'Poor', 'Poor', 'Good', 'Satisfactory',\n",
              "       'Satisfactory', 'Poor', 'Satisfactory', 'Satisfactory', 'Poor',\n",
              "       'Good', 'Good', 'Poor', 'Excellent', 'Poor', 'Poor'], dtype=object)"
            ]
          },
          "metadata": {
            "tags": []
          },
          "execution_count": 161
        }
      ]
    },
    {
      "cell_type": "code",
      "metadata": {
        "colab": {
          "base_uri": "https://localhost:8080/"
        },
        "id": "mMt-aymuX9hY",
        "outputId": "500c97cb-5b9c-45e1-ba5d-1188c649e0e3"
      },
      "source": [
        "print('Training-set accuracy score: {0:0.4f}'. format(accuracy_score(y_train, y_pred_train_en)))"
      ],
      "execution_count": null,
      "outputs": [
        {
          "output_type": "stream",
          "text": [
            "Training-set accuracy score: 0.8371\n"
          ],
          "name": "stdout"
        }
      ]
    },
    {
      "cell_type": "markdown",
      "metadata": {
        "id": "11vHd0S9YR34"
      },
      "source": [
        "Check for overfitting and underfitting"
      ]
    },
    {
      "cell_type": "code",
      "metadata": {
        "colab": {
          "base_uri": "https://localhost:8080/"
        },
        "id": "rWxbpuxuYSjE",
        "outputId": "992bc16f-ca59-4627-d4b5-ef7cc88c0ad1"
      },
      "source": [
        "# print the scores on training and test set\n",
        "\n",
        "print('Training set score: {:.4f}'.format(clf_en.score(X_train, y_train)))\n",
        "\n",
        "print('Test set score: {:.4f}'.format(clf_en.score(X_test, y_test)))"
      ],
      "execution_count": null,
      "outputs": [
        {
          "output_type": "stream",
          "text": [
            "Training set score: 0.8371\n",
            "Test set score: 0.8565\n"
          ],
          "name": "stdout"
        }
      ]
    },
    {
      "cell_type": "markdown",
      "metadata": {
        "id": "0HDUFYeiYYy0"
      },
      "source": [
        "Visualize decision-trees"
      ]
    },
    {
      "cell_type": "code",
      "metadata": {
        "colab": {
          "base_uri": "https://localhost:8080/",
          "height": 973
        },
        "id": "o3JhkwniYZbb",
        "outputId": "e0a17d9b-a867-448c-bc10-a12c298ea28e"
      },
      "source": [
        "plt.figure(figsize=(38,20))\n",
        "\n",
        "from sklearn import tree\n",
        "\n",
        "tree.plot_tree(clf_en.fit(X_train, y_train),fontsize=30) "
      ],
      "execution_count": null,
      "outputs": [
        {
          "output_type": "execute_result",
          "data": {
            "text/plain": [
              "[Text(1060.2, 978.48, 'X[14] <= 1.5\\nentropy = 1.874\\nsamples = 835\\nvalue = [28, 50, 131, 262, 364]'),\n",
              " Text(530.1, 761.0400000000001, 'X[12] <= 4.5\\nentropy = 1.069\\nsamples = 313\\nvalue = [0, 26, 1, 234, 52]'),\n",
              " Text(265.05, 543.6, 'X[12] <= 2.0\\nentropy = 1.255\\nsamples = 121\\nvalue = [0, 7, 1, 74, 39]'),\n",
              " Text(132.525, 326.1600000000001, 'X[9] <= 1.5\\nentropy = 0.787\\nsamples = 17\\nvalue = [0, 4, 0, 13, 0]'),\n",
              " Text(66.2625, 108.72000000000003, 'entropy = 0.0\\nsamples = 11\\nvalue = [0, 0, 0, 11, 0]'),\n",
              " Text(198.78750000000002, 108.72000000000003, 'entropy = 0.918\\nsamples = 6\\nvalue = [0, 4, 0, 2, 0]'),\n",
              " Text(397.57500000000005, 326.1600000000001, 'X[13] <= 1.5\\nentropy = 1.194\\nsamples = 104\\nvalue = [0, 3, 1, 61, 39]'),\n",
              " Text(331.3125, 108.72000000000003, 'entropy = 1.173\\nsamples = 75\\nvalue = [0, 3, 1, 50, 21]'),\n",
              " Text(463.83750000000003, 108.72000000000003, 'entropy = 0.958\\nsamples = 29\\nvalue = [0, 0, 0, 11, 18]'),\n",
              " Text(795.1500000000001, 543.6, 'X[12] <= 10.0\\nentropy = 0.812\\nsamples = 192\\nvalue = [0, 19, 0, 160, 13]'),\n",
              " Text(662.625, 326.1600000000001, 'X[7] <= 3.5\\nentropy = 0.761\\nsamples = 92\\nvalue = [0, 14, 0, 76, 2]'),\n",
              " Text(596.3625000000001, 108.72000000000003, 'entropy = 0.843\\nsamples = 48\\nvalue = [0, 13, 0, 35, 0]'),\n",
              " Text(728.8875, 108.72000000000003, 'entropy = 0.422\\nsamples = 44\\nvalue = [0, 1, 0, 41, 2]'),\n",
              " Text(927.6750000000001, 326.1600000000001, 'X[10] <= 4.5\\nentropy = 0.778\\nsamples = 100\\nvalue = [0, 5, 0, 84, 11]'),\n",
              " Text(861.4125, 108.72000000000003, 'entropy = 0.709\\nsamples = 96\\nvalue = [0, 3, 0, 82, 11]'),\n",
              " Text(993.9375, 108.72000000000003, 'entropy = 1.0\\nsamples = 4\\nvalue = [0, 2, 0, 2, 0]'),\n",
              " Text(1590.3000000000002, 761.0400000000001, 'X[12] <= 8.0\\nentropy = 1.6\\nsamples = 522\\nvalue = [28, 24, 130, 28, 312]'),\n",
              " Text(1325.25, 543.6, 'X[12] <= 6.0\\nentropy = 0.726\\nsamples = 362\\nvalue = [0, 0, 28, 23, 311]'),\n",
              " Text(1192.7250000000001, 326.1600000000001, 'X[0] <= 1.5\\nentropy = 0.486\\nsamples = 304\\nvalue = [0, 0, 4, 23, 277]'),\n",
              " Text(1126.4625, 108.72000000000003, 'entropy = 0.376\\nsamples = 236\\nvalue = [0, 0, 4, 10, 222]'),\n",
              " Text(1258.9875, 108.72000000000003, 'entropy = 0.704\\nsamples = 68\\nvalue = [0, 0, 0, 13, 55]'),\n",
              " Text(1457.775, 326.1600000000001, 'X[11] <= 7.5\\nentropy = 0.978\\nsamples = 58\\nvalue = [0, 0, 24, 0, 34]'),\n",
              " Text(1391.5125, 108.72000000000003, 'entropy = 0.985\\nsamples = 35\\nvalue = [0, 0, 20, 0, 15]'),\n",
              " Text(1524.0375000000001, 108.72000000000003, 'entropy = 0.667\\nsamples = 23\\nvalue = [0, 0, 4, 0, 19]'),\n",
              " Text(1855.3500000000001, 543.6, 'X[14] <= 3.5\\nentropy = 1.467\\nsamples = 160\\nvalue = [28, 24, 102, 5, 1]'),\n",
              " Text(1722.825, 326.1600000000001, 'X[12] <= 11.5\\nentropy = 0.492\\nsamples = 107\\nvalue = [9, 0, 97, 0, 1]'),\n",
              " Text(1656.5625, 108.72000000000003, 'entropy = 0.696\\nsamples = 48\\nvalue = [9, 0, 39, 0, 0]'),\n",
              " Text(1789.0875, 108.72000000000003, 'entropy = 0.124\\nsamples = 59\\nvalue = [0, 0, 58, 0, 1]'),\n",
              " Text(1987.875, 326.1600000000001, 'X[14] <= 4.5\\nentropy = 1.691\\nsamples = 53\\nvalue = [19, 24, 5, 5, 0]'),\n",
              " Text(1921.6125000000002, 108.72000000000003, 'entropy = 0.663\\nsamples = 29\\nvalue = [0, 24, 0, 5, 0]'),\n",
              " Text(2054.1375000000003, 108.72000000000003, 'entropy = 0.738\\nsamples = 24\\nvalue = [19, 0, 5, 0, 0]')]"
            ]
          },
          "metadata": {
            "tags": []
          },
          "execution_count": 164
        },
        {
          "output_type": "display_data",
          "data": {
            "image/png": "[encoded data removed]",
            "text/plain": [
              "<Figure size 2736x1440 with 1 Axes>"
            ]
          },
          "metadata": {
            "tags": [],
            "needs_background": "light"
          }
        }
      ]
    },
    {
      "cell_type": "code",
      "metadata": {
        "colab": {
          "base_uri": "https://localhost:8080/"
        },
        "id": "N9JFEFHpAnGB",
        "outputId": "db0287fd-623d-4ea5-d3c9-2942ce76c2c9"
      },
      "source": [
        "y.unique()"
      ],
      "execution_count": null,
      "outputs": [
        {
          "output_type": "execute_result",
          "data": {
            "text/plain": [
              "array(['Poor', 'Good', 'Satisfactory', 'Excellent', 'Failure'],\n",
              "      dtype=object)"
            ]
          },
          "metadata": {
            "tags": []
          },
          "execution_count": 165
        }
      ]
    },
    {
      "cell_type": "code",
      "metadata": {
        "colab": {
          "base_uri": "https://localhost:8080/",
          "height": 745
        },
        "id": "OEngvKvnYn31",
        "outputId": "438ffc7f-4d30-464b-ff8d-2223e86e24a5"
      },
      "source": [
        "import graphviz \n",
        "dot_data = tree.export_graphviz(clf_en, out_file=None, \n",
        "                              feature_names=X_train.columns,  \n",
        "                              class_names=True,  \n",
        "                              filled=True, rounded=True,  \n",
        "                              special_characters=True)\n",
        "\n",
        "graph = graphviz.Source(dot_data) \n",
        "\n",
        "graph "
      ],
      "execution_count": null,
      "outputs": [
        {
          "output_type": "execute_result",
          "data": {
            "text/plain": [
              "<graphviz.files.Source at 0x7fc6c910ab90>"
            ],
            "image/svg+xml": "<?xml version=\"1.0\" encoding=\"UTF-8\" standalone=\"no\"?>\n<!DOCTYPE svg PUBLIC \"-//W3C//DTD SVG 1.1//EN\"\n \"http://www.w3.org/Graphics/SVG/1.1/DTD/svg11.dtd\">\n<!-- Generated by graphviz version 2.40.1 (20161225.0304)\n -->\n<!-- Title: Tree Pages: 1 -->\n<svg width=\"2806pt\" height=\"528pt\"\n viewBox=\"0.00 0.00 2806.00 528.00\" xmlns=\"http://www.w3.org/2000/svg\" xmlns:xlink=\"http://www.w3.org/1999/xlink\">\n<g id=\"graph0\" class=\"graph\" transform=\"scale(1 1) rotate(0) translate(4 524)\">\n<title>Tree</title>\n<polygon fill=\"#ffffff\" stroke=\"transparent\" points=\"-4,4 -4,-524 2802,-524 2802,4 -4,4\"/>\n<!-- 0 -->\n<g id=\"node1\" class=\"node\">\n<title>0</title>\n<path fill=\"#fadcf4\" stroke=\"#000000\" d=\"M1496.5,-520C1496.5,-520 1308.5,-520 1308.5,-520 1302.5,-520 1296.5,-514 1296.5,-508 1296.5,-508 1296.5,-454 1296.5,-454 1296.5,-448 1302.5,-442 1308.5,-442 1308.5,-442 1496.5,-442 1496.5,-442 1502.5,-442 1508.5,-448 1508.5,-454 1508.5,-454 1508.5,-508 1508.5,-508 1508.5,-514 1502.5,-520 1496.5,-520\"/>\n<text text-anchor=\"start\" x=\"1354.5\" y=\"-505.8\" font-family=\"Helvetica,sans-Serif\" font-size=\"14.00\" fill=\"#000000\">GradeG2 ≤ 1.5</text>\n<text text-anchor=\"start\" x=\"1351.5\" y=\"-491.8\" font-family=\"Helvetica,sans-Serif\" font-size=\"14.00\" fill=\"#000000\">entropy = 1.874</text>\n<text text-anchor=\"start\" x=\"1354.5\" y=\"-477.8\" font-family=\"Helvetica,sans-Serif\" font-size=\"14.00\" fill=\"#000000\">samples = 835</text>\n<text text-anchor=\"start\" x=\"1304.5\" y=\"-463.8\" font-family=\"Helvetica,sans-Serif\" font-size=\"14.00\" fill=\"#000000\">value = [28, 50, 131, 262, 364]</text>\n<text text-anchor=\"start\" x=\"1370\" y=\"-449.8\" font-family=\"Helvetica,sans-Serif\" font-size=\"14.00\" fill=\"#000000\">class = y</text>\n<text text-anchor=\"start\" x=\"1428\" y=\"-449.8\" font-family=\"Helvetica,sans-Serif\" baseline-shift=\"sub\" font-size=\"14.00\" fill=\"#000000\">4</text>\n</g>\n<!-- 1 -->\n<g id=\"node2\" class=\"node\">\n<title>1</title>\n<path fill=\"#7775ed\" stroke=\"#000000\" d=\"M1124,-406C1124,-406 969,-406 969,-406 963,-406 957,-400 957,-394 957,-394 957,-340 957,-340 957,-334 963,-328 969,-328 969,-328 1124,-328 1124,-328 1130,-328 1136,-334 1136,-340 1136,-340 1136,-394 1136,-394 1136,-400 1130,-406 1124,-406\"/>\n<text text-anchor=\"start\" x=\"1019\" y=\"-391.8\" font-family=\"Helvetica,sans-Serif\" font-size=\"14.00\" fill=\"#000000\">G2 ≤ 4.5</text>\n<text text-anchor=\"start\" x=\"995.5\" y=\"-377.8\" font-family=\"Helvetica,sans-Serif\" font-size=\"14.00\" fill=\"#000000\">entropy = 1.069</text>\n<text text-anchor=\"start\" x=\"998.5\" y=\"-363.8\" font-family=\"Helvetica,sans-Serif\" font-size=\"14.00\" fill=\"#000000\">samples = 313</text>\n<text text-anchor=\"start\" x=\"965\" y=\"-349.8\" font-family=\"Helvetica,sans-Serif\" font-size=\"14.00\" fill=\"#000000\">value = [0, 26, 1, 234, 52]</text>\n<text text-anchor=\"start\" x=\"1014\" y=\"-335.8\" font-family=\"Helvetica,sans-Serif\" font-size=\"14.00\" fill=\"#000000\">class = y</text>\n<text text-anchor=\"start\" x=\"1072\" y=\"-335.8\" font-family=\"Helvetica,sans-Serif\" baseline-shift=\"sub\" font-size=\"14.00\" fill=\"#000000\">3</text>\n</g>\n<!-- 0&#45;&gt;1 -->\n<g id=\"edge1\" class=\"edge\">\n<title>0&#45;&gt;1</title>\n<path fill=\"none\" stroke=\"#000000\" d=\"M1296.1705,-446.9507C1248.4422,-431.6669 1192.4609,-413.7403 1145.6168,-398.7396\"/>\n<polygon fill=\"#000000\" stroke=\"#000000\" points=\"1146.6618,-395.3993 1136.0708,-395.6828 1144.527,-402.0658 1146.6618,-395.3993\"/>\n<text text-anchor=\"middle\" x=\"1147.5152\" y=\"-414.2095\" font-family=\"Helvetica,sans-Serif\" font-size=\"14.00\" fill=\"#000000\">True</text>\n</g>\n<!-- 16 -->\n<g id=\"node17\" class=\"node\">\n<title>16</title>\n<path fill=\"#f3a3e2\" stroke=\"#000000\" d=\"M1850.5,-406C1850.5,-406 1670.5,-406 1670.5,-406 1664.5,-406 1658.5,-400 1658.5,-394 1658.5,-394 1658.5,-340 1658.5,-340 1658.5,-334 1664.5,-328 1670.5,-328 1670.5,-328 1850.5,-328 1850.5,-328 1856.5,-328 1862.5,-334 1862.5,-340 1862.5,-340 1862.5,-394 1862.5,-394 1862.5,-400 1856.5,-406 1850.5,-406\"/>\n<text text-anchor=\"start\" x=\"1733\" y=\"-391.8\" font-family=\"Helvetica,sans-Serif\" font-size=\"14.00\" fill=\"#000000\">G2 ≤ 8.0</text>\n<text text-anchor=\"start\" x=\"1718\" y=\"-377.8\" font-family=\"Helvetica,sans-Serif\" font-size=\"14.00\" fill=\"#000000\">entropy = 1.6</text>\n<text text-anchor=\"start\" x=\"1712.5\" y=\"-363.8\" font-family=\"Helvetica,sans-Serif\" font-size=\"14.00\" fill=\"#000000\">samples = 522</text>\n<text text-anchor=\"start\" x=\"1666.5\" y=\"-349.8\" font-family=\"Helvetica,sans-Serif\" font-size=\"14.00\" fill=\"#000000\">value = [28, 24, 130, 28, 312]</text>\n<text text-anchor=\"start\" x=\"1728\" y=\"-335.8\" font-family=\"Helvetica,sans-Serif\" font-size=\"14.00\" fill=\"#000000\">class = y</text>\n<text text-anchor=\"start\" x=\"1786\" y=\"-335.8\" font-family=\"Helvetica,sans-Serif\" baseline-shift=\"sub\" font-size=\"14.00\" fill=\"#000000\">4</text>\n</g>\n<!-- 0&#45;&gt;16 -->\n<g id=\"edge16\" class=\"edge\">\n<title>0&#45;&gt;16</title>\n<path fill=\"none\" stroke=\"#000000\" d=\"M1508.9425,-447.1049C1553.0114,-433.0718 1604.143,-416.7897 1648.7535,-402.5841\"/>\n<polygon fill=\"#000000\" stroke=\"#000000\" points=\"1649.9961,-405.8616 1658.4627,-399.4923 1647.8721,-399.1916 1649.9961,-405.8616\"/>\n<text text-anchor=\"middle\" x=\"1646.9822\" y=\"-418.0004\" font-family=\"Helvetica,sans-Serif\" font-size=\"14.00\" fill=\"#000000\">False</text>\n</g>\n<!-- 2 -->\n<g id=\"node3\" class=\"node\">\n<title>2</title>\n<path fill=\"#acaaf4\" stroke=\"#000000\" d=\"M581,-292C581,-292 442,-292 442,-292 436,-292 430,-286 430,-280 430,-280 430,-226 430,-226 430,-220 436,-214 442,-214 442,-214 581,-214 581,-214 587,-214 593,-220 593,-226 593,-226 593,-280 593,-280 593,-286 587,-292 581,-292\"/>\n<text text-anchor=\"start\" x=\"484\" y=\"-277.8\" font-family=\"Helvetica,sans-Serif\" font-size=\"14.00\" fill=\"#000000\">G2 ≤ 2.0</text>\n<text text-anchor=\"start\" x=\"460.5\" y=\"-263.8\" font-family=\"Helvetica,sans-Serif\" font-size=\"14.00\" fill=\"#000000\">entropy = 1.255</text>\n<text text-anchor=\"start\" x=\"463.5\" y=\"-249.8\" font-family=\"Helvetica,sans-Serif\" font-size=\"14.00\" fill=\"#000000\">samples = 121</text>\n<text text-anchor=\"start\" x=\"438\" y=\"-235.8\" font-family=\"Helvetica,sans-Serif\" font-size=\"14.00\" fill=\"#000000\">value = [0, 7, 1, 74, 39]</text>\n<text text-anchor=\"start\" x=\"479\" y=\"-221.8\" font-family=\"Helvetica,sans-Serif\" font-size=\"14.00\" fill=\"#000000\">class = y</text>\n<text text-anchor=\"start\" x=\"537\" y=\"-221.8\" font-family=\"Helvetica,sans-Serif\" baseline-shift=\"sub\" font-size=\"14.00\" fill=\"#000000\">3</text>\n</g>\n<!-- 1&#45;&gt;2 -->\n<g id=\"edge2\" class=\"edge\">\n<title>1&#45;&gt;2</title>\n<path fill=\"none\" stroke=\"#000000\" d=\"M956.953,-347.919C858.8859,-327.0224 702.4209,-293.6822 603.4226,-272.5872\"/>\n<polygon fill=\"#000000\" stroke=\"#000000\" points=\"603.9406,-269.1191 593.4308,-270.4581 602.4818,-275.9654 603.9406,-269.1191\"/>\n</g>\n<!-- 9 -->\n<g id=\"node10\" class=\"node\">\n<title>9</title>\n<path fill=\"#605eea\" stroke=\"#000000\" d=\"M1124,-292C1124,-292 969,-292 969,-292 963,-292 957,-286 957,-280 957,-280 957,-226 957,-226 957,-220 963,-214 969,-214 969,-214 1124,-214 1124,-214 1130,-214 1136,-220 1136,-226 1136,-226 1136,-280 1136,-280 1136,-286 1130,-292 1124,-292\"/>\n<text text-anchor=\"start\" x=\"1014.5\" y=\"-277.8\" font-family=\"Helvetica,sans-Serif\" font-size=\"14.00\" fill=\"#000000\">G2 ≤ 10.0</text>\n<text text-anchor=\"start\" x=\"995.5\" y=\"-263.8\" font-family=\"Helvetica,sans-Serif\" font-size=\"14.00\" fill=\"#000000\">entropy = 0.812</text>\n<text text-anchor=\"start\" x=\"998.5\" y=\"-249.8\" font-family=\"Helvetica,sans-Serif\" font-size=\"14.00\" fill=\"#000000\">samples = 192</text>\n<text text-anchor=\"start\" x=\"965\" y=\"-235.8\" font-family=\"Helvetica,sans-Serif\" font-size=\"14.00\" fill=\"#000000\">value = [0, 19, 0, 160, 13]</text>\n<text text-anchor=\"start\" x=\"1014\" y=\"-221.8\" font-family=\"Helvetica,sans-Serif\" font-size=\"14.00\" fill=\"#000000\">class = y</text>\n<text text-anchor=\"start\" x=\"1072\" y=\"-221.8\" font-family=\"Helvetica,sans-Serif\" baseline-shift=\"sub\" font-size=\"14.00\" fill=\"#000000\">3</text>\n</g>\n<!-- 1&#45;&gt;9 -->\n<g id=\"edge9\" class=\"edge\">\n<title>1&#45;&gt;9</title>\n<path fill=\"none\" stroke=\"#000000\" d=\"M1046.5,-327.7677C1046.5,-319.6172 1046.5,-310.9283 1046.5,-302.4649\"/>\n<polygon fill=\"#000000\" stroke=\"#000000\" points=\"1050.0001,-302.3046 1046.5,-292.3046 1043.0001,-302.3047 1050.0001,-302.3046\"/>\n</g>\n<!-- 3 -->\n<g id=\"node4\" class=\"node\">\n<title>3</title>\n<path fill=\"#7876ed\" stroke=\"#000000\" d=\"M312,-178C312,-178 181,-178 181,-178 175,-178 169,-172 169,-166 169,-166 169,-112 169,-112 169,-106 175,-100 181,-100 181,-100 312,-100 312,-100 318,-100 324,-106 324,-112 324,-112 324,-166 324,-166 324,-172 318,-178 312,-178\"/>\n<text text-anchor=\"start\" x=\"205.5\" y=\"-163.8\" font-family=\"Helvetica,sans-Serif\" font-size=\"14.00\" fill=\"#000000\">failures ≤ 1.5</text>\n<text text-anchor=\"start\" x=\"195.5\" y=\"-149.8\" font-family=\"Helvetica,sans-Serif\" font-size=\"14.00\" fill=\"#000000\">entropy = 0.787</text>\n<text text-anchor=\"start\" x=\"202.5\" y=\"-135.8\" font-family=\"Helvetica,sans-Serif\" font-size=\"14.00\" fill=\"#000000\">samples = 17</text>\n<text text-anchor=\"start\" x=\"177\" y=\"-121.8\" font-family=\"Helvetica,sans-Serif\" font-size=\"14.00\" fill=\"#000000\">value = [0, 4, 0, 13, 0]</text>\n<text text-anchor=\"start\" x=\"214\" y=\"-107.8\" font-family=\"Helvetica,sans-Serif\" font-size=\"14.00\" fill=\"#000000\">class = y</text>\n<text text-anchor=\"start\" x=\"272\" y=\"-107.8\" font-family=\"Helvetica,sans-Serif\" baseline-shift=\"sub\" font-size=\"14.00\" fill=\"#000000\">3</text>\n</g>\n<!-- 2&#45;&gt;3 -->\n<g id=\"edge3\" class=\"edge\">\n<title>2&#45;&gt;3</title>\n<path fill=\"none\" stroke=\"#000000\" d=\"M429.8289,-217.866C399.3708,-204.7633 364.6891,-189.8436 333.7486,-176.5334\"/>\n<polygon fill=\"#000000\" stroke=\"#000000\" points=\"334.8446,-173.1948 324.2754,-172.4581 332.0783,-179.625 334.8446,-173.1948\"/>\n</g>\n<!-- 6 -->\n<g id=\"node7\" class=\"node\">\n<title>6</title>\n<path fill=\"#bdbcf6\" stroke=\"#000000\" d=\"M581,-178C581,-178 442,-178 442,-178 436,-178 430,-172 430,-166 430,-166 430,-112 430,-112 430,-106 436,-100 442,-100 442,-100 581,-100 581,-100 587,-100 593,-106 593,-112 593,-112 593,-166 593,-166 593,-172 587,-178 581,-178\"/>\n<text text-anchor=\"start\" x=\"463.5\" y=\"-163.8\" font-family=\"Helvetica,sans-Serif\" font-size=\"14.00\" fill=\"#000000\">GradeG1 ≤ 1.5</text>\n<text text-anchor=\"start\" x=\"460.5\" y=\"-149.8\" font-family=\"Helvetica,sans-Serif\" font-size=\"14.00\" fill=\"#000000\">entropy = 1.194</text>\n<text text-anchor=\"start\" x=\"463.5\" y=\"-135.8\" font-family=\"Helvetica,sans-Serif\" font-size=\"14.00\" fill=\"#000000\">samples = 104</text>\n<text text-anchor=\"start\" x=\"438\" y=\"-121.8\" font-family=\"Helvetica,sans-Serif\" font-size=\"14.00\" fill=\"#000000\">value = [0, 3, 1, 61, 39]</text>\n<text text-anchor=\"start\" x=\"479\" y=\"-107.8\" font-family=\"Helvetica,sans-Serif\" font-size=\"14.00\" fill=\"#000000\">class = y</text>\n<text text-anchor=\"start\" x=\"537\" y=\"-107.8\" font-family=\"Helvetica,sans-Serif\" baseline-shift=\"sub\" font-size=\"14.00\" fill=\"#000000\">3</text>\n</g>\n<!-- 2&#45;&gt;6 -->\n<g id=\"edge6\" class=\"edge\">\n<title>2&#45;&gt;6</title>\n<path fill=\"none\" stroke=\"#000000\" d=\"M511.5,-213.7677C511.5,-205.6172 511.5,-196.9283 511.5,-188.4649\"/>\n<polygon fill=\"#000000\" stroke=\"#000000\" points=\"515.0001,-188.3046 511.5,-178.3046 508.0001,-188.3047 515.0001,-188.3046\"/>\n</g>\n<!-- 4 -->\n<g id=\"node5\" class=\"node\">\n<title>4</title>\n<path fill=\"#3c39e5\" stroke=\"#000000\" d=\"M143,-64C143,-64 12,-64 12,-64 6,-64 0,-58 0,-52 0,-52 0,-12 0,-12 0,-6 6,0 12,0 12,0 143,0 143,0 149,0 155,-6 155,-12 155,-12 155,-52 155,-52 155,-58 149,-64 143,-64\"/>\n<text text-anchor=\"start\" x=\"35\" y=\"-49.8\" font-family=\"Helvetica,sans-Serif\" font-size=\"14.00\" fill=\"#000000\">entropy = 0.0</text>\n<text text-anchor=\"start\" x=\"33.5\" y=\"-35.8\" font-family=\"Helvetica,sans-Serif\" font-size=\"14.00\" fill=\"#000000\">samples = 11</text>\n<text text-anchor=\"start\" x=\"8\" y=\"-21.8\" font-family=\"Helvetica,sans-Serif\" font-size=\"14.00\" fill=\"#000000\">value = [0, 0, 0, 11, 0]</text>\n<text text-anchor=\"start\" x=\"45\" y=\"-7.8\" font-family=\"Helvetica,sans-Serif\" font-size=\"14.00\" fill=\"#000000\">class = y</text>\n<text text-anchor=\"start\" x=\"103\" y=\"-7.8\" font-family=\"Helvetica,sans-Serif\" baseline-shift=\"sub\" font-size=\"14.00\" fill=\"#000000\">3</text>\n</g>\n<!-- 3&#45;&gt;4 -->\n<g id=\"edge4\" class=\"edge\">\n<title>3&#45;&gt;4</title>\n<path fill=\"none\" stroke=\"#000000\" d=\"M184.5303,-99.7647C168.8718,-89.8508 152.0998,-79.2318 136.5875,-69.4105\"/>\n<polygon fill=\"#000000\" stroke=\"#000000\" points=\"138.4356,-66.438 128.1143,-64.0458 134.691,-72.3523 138.4356,-66.438\"/>\n</g>\n<!-- 5 -->\n<g id=\"node6\" class=\"node\">\n<title>5</title>\n<path fill=\"#bdf29c\" stroke=\"#000000\" d=\"M307.5,-64C307.5,-64 185.5,-64 185.5,-64 179.5,-64 173.5,-58 173.5,-52 173.5,-52 173.5,-12 173.5,-12 173.5,-6 179.5,0 185.5,0 185.5,0 307.5,0 307.5,0 313.5,0 319.5,-6 319.5,-12 319.5,-12 319.5,-52 319.5,-52 319.5,-58 313.5,-64 307.5,-64\"/>\n<text text-anchor=\"start\" x=\"195.5\" y=\"-49.8\" font-family=\"Helvetica,sans-Serif\" font-size=\"14.00\" fill=\"#000000\">entropy = 0.918</text>\n<text text-anchor=\"start\" x=\"207\" y=\"-35.8\" font-family=\"Helvetica,sans-Serif\" font-size=\"14.00\" fill=\"#000000\">samples = 6</text>\n<text text-anchor=\"start\" x=\"181.5\" y=\"-21.8\" font-family=\"Helvetica,sans-Serif\" font-size=\"14.00\" fill=\"#000000\">value = [0, 4, 0, 2, 0]</text>\n<text text-anchor=\"start\" x=\"214\" y=\"-7.8\" font-family=\"Helvetica,sans-Serif\" font-size=\"14.00\" fill=\"#000000\">class = y</text>\n<text text-anchor=\"start\" x=\"272\" y=\"-7.8\" font-family=\"Helvetica,sans-Serif\" baseline-shift=\"sub\" font-size=\"14.00\" fill=\"#000000\">1</text>\n</g>\n<!-- 3&#45;&gt;5 -->\n<g id=\"edge5\" class=\"edge\">\n<title>3&#45;&gt;5</title>\n<path fill=\"none\" stroke=\"#000000\" d=\"M246.5,-99.7647C246.5,-91.4537 246.5,-82.6472 246.5,-74.2305\"/>\n<polygon fill=\"#000000\" stroke=\"#000000\" points=\"250.0001,-74.2168 246.5,-64.2169 243.0001,-74.2169 250.0001,-74.2168\"/>\n</g>\n<!-- 7 -->\n<g id=\"node8\" class=\"node\">\n<title>7</title>\n<path fill=\"#9695f1\" stroke=\"#000000\" d=\"M489,-64C489,-64 350,-64 350,-64 344,-64 338,-58 338,-52 338,-52 338,-12 338,-12 338,-6 344,0 350,0 350,0 489,0 489,0 495,0 501,-6 501,-12 501,-12 501,-52 501,-52 501,-58 495,-64 489,-64\"/>\n<text text-anchor=\"start\" x=\"368.5\" y=\"-49.8\" font-family=\"Helvetica,sans-Serif\" font-size=\"14.00\" fill=\"#000000\">entropy = 1.173</text>\n<text text-anchor=\"start\" x=\"375.5\" y=\"-35.8\" font-family=\"Helvetica,sans-Serif\" font-size=\"14.00\" fill=\"#000000\">samples = 75</text>\n<text text-anchor=\"start\" x=\"346\" y=\"-21.8\" font-family=\"Helvetica,sans-Serif\" font-size=\"14.00\" fill=\"#000000\">value = [0, 3, 1, 50, 21]</text>\n<text text-anchor=\"start\" x=\"387\" y=\"-7.8\" font-family=\"Helvetica,sans-Serif\" font-size=\"14.00\" fill=\"#000000\">class = y</text>\n<text text-anchor=\"start\" x=\"445\" y=\"-7.8\" font-family=\"Helvetica,sans-Serif\" baseline-shift=\"sub\" font-size=\"14.00\" fill=\"#000000\">3</text>\n</g>\n<!-- 6&#45;&gt;7 -->\n<g id=\"edge7\" class=\"edge\">\n<title>6&#45;&gt;7</title>\n<path fill=\"none\" stroke=\"#000000\" d=\"M477.765,-99.7647C469.9909,-90.7231 461.7125,-81.095 453.9101,-72.0204\"/>\n<polygon fill=\"#000000\" stroke=\"#000000\" points=\"456.374,-69.5176 447.2005,-64.2169 451.0662,-74.0813 456.374,-69.5176\"/>\n</g>\n<!-- 8 -->\n<g id=\"node9\" class=\"node\">\n<title>8</title>\n<path fill=\"#f5b2e6\" stroke=\"#000000\" d=\"M670,-64C670,-64 531,-64 531,-64 525,-64 519,-58 519,-52 519,-52 519,-12 519,-12 519,-6 525,0 531,0 531,0 670,0 670,0 676,0 682,-6 682,-12 682,-12 682,-52 682,-52 682,-58 676,-64 670,-64\"/>\n<text text-anchor=\"start\" x=\"549.5\" y=\"-49.8\" font-family=\"Helvetica,sans-Serif\" font-size=\"14.00\" fill=\"#000000\">entropy = 0.958</text>\n<text text-anchor=\"start\" x=\"556.5\" y=\"-35.8\" font-family=\"Helvetica,sans-Serif\" font-size=\"14.00\" fill=\"#000000\">samples = 29</text>\n<text text-anchor=\"start\" x=\"527\" y=\"-21.8\" font-family=\"Helvetica,sans-Serif\" font-size=\"14.00\" fill=\"#000000\">value = [0, 0, 0, 11, 18]</text>\n<text text-anchor=\"start\" x=\"568\" y=\"-7.8\" font-family=\"Helvetica,sans-Serif\" font-size=\"14.00\" fill=\"#000000\">class = y</text>\n<text text-anchor=\"start\" x=\"626\" y=\"-7.8\" font-family=\"Helvetica,sans-Serif\" baseline-shift=\"sub\" font-size=\"14.00\" fill=\"#000000\">4</text>\n</g>\n<!-- 6&#45;&gt;8 -->\n<g id=\"edge8\" class=\"edge\">\n<title>6&#45;&gt;8</title>\n<path fill=\"none\" stroke=\"#000000\" d=\"M544.1349,-99.7647C551.6556,-90.7231 559.664,-81.095 567.212,-72.0204\"/>\n<polygon fill=\"#000000\" stroke=\"#000000\" points=\"569.9988,-74.1432 573.7028,-64.2169 564.6171,-69.6668 569.9988,-74.1432\"/>\n</g>\n<!-- 10 -->\n<g id=\"node11\" class=\"node\">\n<title>10</title>\n<path fill=\"#6462ea\" stroke=\"#000000\" d=\"M1026,-178C1026,-178 887,-178 887,-178 881,-178 875,-172 875,-166 875,-166 875,-112 875,-112 875,-106 881,-100 887,-100 887,-100 1026,-100 1026,-100 1032,-100 1038,-106 1038,-112 1038,-112 1038,-166 1038,-166 1038,-172 1032,-178 1026,-178\"/>\n<text text-anchor=\"start\" x=\"916\" y=\"-163.8\" font-family=\"Helvetica,sans-Serif\" font-size=\"14.00\" fill=\"#000000\">reason ≤ 3.5</text>\n<text text-anchor=\"start\" x=\"905.5\" y=\"-149.8\" font-family=\"Helvetica,sans-Serif\" font-size=\"14.00\" fill=\"#000000\">entropy = 0.761</text>\n<text text-anchor=\"start\" x=\"912.5\" y=\"-135.8\" font-family=\"Helvetica,sans-Serif\" font-size=\"14.00\" fill=\"#000000\">samples = 92</text>\n<text text-anchor=\"start\" x=\"883\" y=\"-121.8\" font-family=\"Helvetica,sans-Serif\" font-size=\"14.00\" fill=\"#000000\">value = [0, 14, 0, 76, 2]</text>\n<text text-anchor=\"start\" x=\"924\" y=\"-107.8\" font-family=\"Helvetica,sans-Serif\" font-size=\"14.00\" fill=\"#000000\">class = y</text>\n<text text-anchor=\"start\" x=\"982\" y=\"-107.8\" font-family=\"Helvetica,sans-Serif\" baseline-shift=\"sub\" font-size=\"14.00\" fill=\"#000000\">3</text>\n</g>\n<!-- 9&#45;&gt;10 -->\n<g id=\"edge10\" class=\"edge\">\n<title>9&#45;&gt;10</title>\n<path fill=\"none\" stroke=\"#000000\" d=\"M1015.5271,-213.7677C1008.5269,-204.9007 1001.0234,-195.3964 993.7936,-186.2385\"/>\n<polygon fill=\"#000000\" stroke=\"#000000\" points=\"996.4736,-183.9847 987.53,-178.3046 990.9794,-188.3223 996.4736,-183.9847\"/>\n</g>\n<!-- 13 -->\n<g id=\"node14\" class=\"node\">\n<title>13</title>\n<path fill=\"#5f5dea\" stroke=\"#000000\" d=\"M1207,-178C1207,-178 1068,-178 1068,-178 1062,-178 1056,-172 1056,-166 1056,-166 1056,-112 1056,-112 1056,-106 1062,-100 1068,-100 1068,-100 1207,-100 1207,-100 1213,-100 1219,-106 1219,-112 1219,-112 1219,-166 1219,-166 1219,-172 1213,-178 1207,-178\"/>\n<text text-anchor=\"start\" x=\"1099.5\" y=\"-163.8\" font-family=\"Helvetica,sans-Serif\" font-size=\"14.00\" fill=\"#000000\">famrel ≤ 4.5</text>\n<text text-anchor=\"start\" x=\"1086.5\" y=\"-149.8\" font-family=\"Helvetica,sans-Serif\" font-size=\"14.00\" fill=\"#000000\">entropy = 0.778</text>\n<text text-anchor=\"start\" x=\"1089.5\" y=\"-135.8\" font-family=\"Helvetica,sans-Serif\" font-size=\"14.00\" fill=\"#000000\">samples = 100</text>\n<text text-anchor=\"start\" x=\"1064\" y=\"-121.8\" font-family=\"Helvetica,sans-Serif\" font-size=\"14.00\" fill=\"#000000\">value = [0, 5, 0, 84, 11]</text>\n<text text-anchor=\"start\" x=\"1105\" y=\"-107.8\" font-family=\"Helvetica,sans-Serif\" font-size=\"14.00\" fill=\"#000000\">class = y</text>\n<text text-anchor=\"start\" x=\"1163\" y=\"-107.8\" font-family=\"Helvetica,sans-Serif\" baseline-shift=\"sub\" font-size=\"14.00\" fill=\"#000000\">3</text>\n</g>\n<!-- 9&#45;&gt;13 -->\n<g id=\"edge13\" class=\"edge\">\n<title>9&#45;&gt;13</title>\n<path fill=\"none\" stroke=\"#000000\" d=\"M1077.817,-213.7677C1084.8951,-204.9007 1092.4818,-195.3964 1099.7921,-186.2385\"/>\n<polygon fill=\"#000000\" stroke=\"#000000\" points=\"1102.622,-188.3036 1106.1252,-178.3046 1097.1512,-183.9365 1102.622,-188.3036\"/>\n</g>\n<!-- 11 -->\n<g id=\"node12\" class=\"node\">\n<title>11</title>\n<path fill=\"#8483ef\" stroke=\"#000000\" d=\"M851,-64C851,-64 712,-64 712,-64 706,-64 700,-58 700,-52 700,-52 700,-12 700,-12 700,-6 706,0 712,0 712,0 851,0 851,0 857,0 863,-6 863,-12 863,-12 863,-52 863,-52 863,-58 857,-64 851,-64\"/>\n<text text-anchor=\"start\" x=\"730.5\" y=\"-49.8\" font-family=\"Helvetica,sans-Serif\" font-size=\"14.00\" fill=\"#000000\">entropy = 0.843</text>\n<text text-anchor=\"start\" x=\"737.5\" y=\"-35.8\" font-family=\"Helvetica,sans-Serif\" font-size=\"14.00\" fill=\"#000000\">samples = 48</text>\n<text text-anchor=\"start\" x=\"708\" y=\"-21.8\" font-family=\"Helvetica,sans-Serif\" font-size=\"14.00\" fill=\"#000000\">value = [0, 13, 0, 35, 0]</text>\n<text text-anchor=\"start\" x=\"749\" y=\"-7.8\" font-family=\"Helvetica,sans-Serif\" font-size=\"14.00\" fill=\"#000000\">class = y</text>\n<text text-anchor=\"start\" x=\"807\" y=\"-7.8\" font-family=\"Helvetica,sans-Serif\" baseline-shift=\"sub\" font-size=\"14.00\" fill=\"#000000\">3</text>\n</g>\n<!-- 10&#45;&gt;11 -->\n<g id=\"edge11\" class=\"edge\">\n<title>10&#45;&gt;11</title>\n<path fill=\"none\" stroke=\"#000000\" d=\"M892.3302,-99.7647C876.1157,-89.8508 858.7483,-79.2318 842.6853,-69.4105\"/>\n<polygon fill=\"#000000\" stroke=\"#000000\" points=\"844.2687,-66.2762 833.9113,-64.0458 840.6171,-72.2483 844.2687,-66.2762\"/>\n</g>\n<!-- 12 -->\n<g id=\"node13\" class=\"node\">\n<title>12</title>\n<path fill=\"#4a47e7\" stroke=\"#000000\" d=\"M1024,-64C1024,-64 893,-64 893,-64 887,-64 881,-58 881,-52 881,-52 881,-12 881,-12 881,-6 887,0 893,0 893,0 1024,0 1024,0 1030,0 1036,-6 1036,-12 1036,-12 1036,-52 1036,-52 1036,-58 1030,-64 1024,-64\"/>\n<text text-anchor=\"start\" x=\"907.5\" y=\"-49.8\" font-family=\"Helvetica,sans-Serif\" font-size=\"14.00\" fill=\"#000000\">entropy = 0.422</text>\n<text text-anchor=\"start\" x=\"914.5\" y=\"-35.8\" font-family=\"Helvetica,sans-Serif\" font-size=\"14.00\" fill=\"#000000\">samples = 44</text>\n<text text-anchor=\"start\" x=\"889\" y=\"-21.8\" font-family=\"Helvetica,sans-Serif\" font-size=\"14.00\" fill=\"#000000\">value = [0, 1, 0, 41, 2]</text>\n<text text-anchor=\"start\" x=\"926\" y=\"-7.8\" font-family=\"Helvetica,sans-Serif\" font-size=\"14.00\" fill=\"#000000\">class = y</text>\n<text text-anchor=\"start\" x=\"984\" y=\"-7.8\" font-family=\"Helvetica,sans-Serif\" baseline-shift=\"sub\" font-size=\"14.00\" fill=\"#000000\">3</text>\n</g>\n<!-- 10&#45;&gt;12 -->\n<g id=\"edge12\" class=\"edge\">\n<title>10&#45;&gt;12</title>\n<path fill=\"none\" stroke=\"#000000\" d=\"M957.2334,-99.7647C957.3887,-91.4537 957.5533,-82.6472 957.7106,-74.2305\"/>\n<polygon fill=\"#000000\" stroke=\"#000000\" points=\"961.2102,-74.2806 957.8978,-64.2169 954.2114,-74.1497 961.2102,-74.2806\"/>\n</g>\n<!-- 14 -->\n<g id=\"node15\" class=\"node\">\n<title>14</title>\n<path fill=\"#5c5ae9\" stroke=\"#000000\" d=\"M1205,-64C1205,-64 1066,-64 1066,-64 1060,-64 1054,-58 1054,-52 1054,-52 1054,-12 1054,-12 1054,-6 1060,0 1066,0 1066,0 1205,0 1205,0 1211,0 1217,-6 1217,-12 1217,-12 1217,-52 1217,-52 1217,-58 1211,-64 1205,-64\"/>\n<text text-anchor=\"start\" x=\"1084.5\" y=\"-49.8\" font-family=\"Helvetica,sans-Serif\" font-size=\"14.00\" fill=\"#000000\">entropy = 0.709</text>\n<text text-anchor=\"start\" x=\"1091.5\" y=\"-35.8\" font-family=\"Helvetica,sans-Serif\" font-size=\"14.00\" fill=\"#000000\">samples = 96</text>\n<text text-anchor=\"start\" x=\"1062\" y=\"-21.8\" font-family=\"Helvetica,sans-Serif\" font-size=\"14.00\" fill=\"#000000\">value = [0, 3, 0, 82, 11]</text>\n<text text-anchor=\"start\" x=\"1103\" y=\"-7.8\" font-family=\"Helvetica,sans-Serif\" font-size=\"14.00\" fill=\"#000000\">class = y</text>\n<text text-anchor=\"start\" x=\"1161\" y=\"-7.8\" font-family=\"Helvetica,sans-Serif\" baseline-shift=\"sub\" font-size=\"14.00\" fill=\"#000000\">3</text>\n</g>\n<!-- 13&#45;&gt;14 -->\n<g id=\"edge14\" class=\"edge\">\n<title>13&#45;&gt;14</title>\n<path fill=\"none\" stroke=\"#000000\" d=\"M1136.7666,-99.7647C1136.6113,-91.4537 1136.4467,-82.6472 1136.2894,-74.2305\"/>\n<polygon fill=\"#000000\" stroke=\"#000000\" points=\"1139.7886,-74.1497 1136.1022,-64.2169 1132.7898,-74.2806 1139.7886,-74.1497\"/>\n</g>\n<!-- 15 -->\n<g id=\"node16\" class=\"node\">\n<title>15</title>\n<path fill=\"#ffffff\" stroke=\"#000000\" d=\"M1369.5,-64C1369.5,-64 1247.5,-64 1247.5,-64 1241.5,-64 1235.5,-58 1235.5,-52 1235.5,-52 1235.5,-12 1235.5,-12 1235.5,-6 1241.5,0 1247.5,0 1247.5,0 1369.5,0 1369.5,0 1375.5,0 1381.5,-6 1381.5,-12 1381.5,-12 1381.5,-52 1381.5,-52 1381.5,-58 1375.5,-64 1369.5,-64\"/>\n<text text-anchor=\"start\" x=\"1266\" y=\"-49.8\" font-family=\"Helvetica,sans-Serif\" font-size=\"14.00\" fill=\"#000000\">entropy = 1.0</text>\n<text text-anchor=\"start\" x=\"1269\" y=\"-35.8\" font-family=\"Helvetica,sans-Serif\" font-size=\"14.00\" fill=\"#000000\">samples = 4</text>\n<text text-anchor=\"start\" x=\"1243.5\" y=\"-21.8\" font-family=\"Helvetica,sans-Serif\" font-size=\"14.00\" fill=\"#000000\">value = [0, 2, 0, 2, 0]</text>\n<text text-anchor=\"start\" x=\"1276\" y=\"-7.8\" font-family=\"Helvetica,sans-Serif\" font-size=\"14.00\" fill=\"#000000\">class = y</text>\n<text text-anchor=\"start\" x=\"1334\" y=\"-7.8\" font-family=\"Helvetica,sans-Serif\" baseline-shift=\"sub\" font-size=\"14.00\" fill=\"#000000\">1</text>\n</g>\n<!-- 13&#45;&gt;15 -->\n<g id=\"edge15\" class=\"edge\">\n<title>13&#45;&gt;15</title>\n<path fill=\"none\" stroke=\"#000000\" d=\"M1200.2031,-99.7647C1216.0469,-89.8508 1233.0174,-79.2318 1248.7132,-69.4105\"/>\n<polygon fill=\"#000000\" stroke=\"#000000\" points=\"1250.666,-72.3173 1257.2867,-64.0458 1246.9529,-66.3832 1250.666,-72.3173\"/>\n</g>\n<!-- 17 -->\n<g id=\"node18\" class=\"node\">\n<title>17</title>\n<path fill=\"#e957ca\" stroke=\"#000000\" d=\"M1838,-292C1838,-292 1683,-292 1683,-292 1677,-292 1671,-286 1671,-280 1671,-280 1671,-226 1671,-226 1671,-220 1677,-214 1683,-214 1683,-214 1838,-214 1838,-214 1844,-214 1850,-220 1850,-226 1850,-226 1850,-280 1850,-280 1850,-286 1844,-292 1838,-292\"/>\n<text text-anchor=\"start\" x=\"1733\" y=\"-277.8\" font-family=\"Helvetica,sans-Serif\" font-size=\"14.00\" fill=\"#000000\">G2 ≤ 6.0</text>\n<text text-anchor=\"start\" x=\"1709.5\" y=\"-263.8\" font-family=\"Helvetica,sans-Serif\" font-size=\"14.00\" fill=\"#000000\">entropy = 0.726</text>\n<text text-anchor=\"start\" x=\"1712.5\" y=\"-249.8\" font-family=\"Helvetica,sans-Serif\" font-size=\"14.00\" fill=\"#000000\">samples = 362</text>\n<text text-anchor=\"start\" x=\"1679\" y=\"-235.8\" font-family=\"Helvetica,sans-Serif\" font-size=\"14.00\" fill=\"#000000\">value = [0, 0, 28, 23, 311]</text>\n<text text-anchor=\"start\" x=\"1728\" y=\"-221.8\" font-family=\"Helvetica,sans-Serif\" font-size=\"14.00\" fill=\"#000000\">class = y</text>\n<text text-anchor=\"start\" x=\"1786\" y=\"-221.8\" font-family=\"Helvetica,sans-Serif\" baseline-shift=\"sub\" font-size=\"14.00\" fill=\"#000000\">4</text>\n</g>\n<!-- 16&#45;&gt;17 -->\n<g id=\"edge17\" class=\"edge\">\n<title>16&#45;&gt;17</title>\n<path fill=\"none\" stroke=\"#000000\" d=\"M1760.5,-327.7677C1760.5,-319.6172 1760.5,-310.9283 1760.5,-302.4649\"/>\n<polygon fill=\"#000000\" stroke=\"#000000\" points=\"1764.0001,-302.3046 1760.5,-292.3046 1757.0001,-302.3047 1764.0001,-302.3046\"/>\n</g>\n<!-- 24 -->\n<g id=\"node25\" class=\"node\">\n<title>24</title>\n<path fill=\"#90f0de\" stroke=\"#000000\" d=\"M2363,-292C2363,-292 2208,-292 2208,-292 2202,-292 2196,-286 2196,-280 2196,-280 2196,-226 2196,-226 2196,-220 2202,-214 2208,-214 2208,-214 2363,-214 2363,-214 2369,-214 2375,-220 2375,-226 2375,-226 2375,-280 2375,-280 2375,-286 2369,-292 2363,-292\"/>\n<text text-anchor=\"start\" x=\"2237.5\" y=\"-277.8\" font-family=\"Helvetica,sans-Serif\" font-size=\"14.00\" fill=\"#000000\">GradeG2 ≤ 3.5</text>\n<text text-anchor=\"start\" x=\"2234.5\" y=\"-263.8\" font-family=\"Helvetica,sans-Serif\" font-size=\"14.00\" fill=\"#000000\">entropy = 1.467</text>\n<text text-anchor=\"start\" x=\"2237.5\" y=\"-249.8\" font-family=\"Helvetica,sans-Serif\" font-size=\"14.00\" fill=\"#000000\">samples = 160</text>\n<text text-anchor=\"start\" x=\"2204\" y=\"-235.8\" font-family=\"Helvetica,sans-Serif\" font-size=\"14.00\" fill=\"#000000\">value = [28, 24, 102, 5, 1]</text>\n<text text-anchor=\"start\" x=\"2253\" y=\"-221.8\" font-family=\"Helvetica,sans-Serif\" font-size=\"14.00\" fill=\"#000000\">class = y</text>\n<text text-anchor=\"start\" x=\"2311\" y=\"-221.8\" font-family=\"Helvetica,sans-Serif\" baseline-shift=\"sub\" font-size=\"14.00\" fill=\"#000000\">2</text>\n</g>\n<!-- 16&#45;&gt;24 -->\n<g id=\"edge24\" class=\"edge\">\n<title>16&#45;&gt;24</title>\n<path fill=\"none\" stroke=\"#000000\" d=\"M1862.6595,-344.8168C1956.0545,-324.5367 2093.3435,-294.7254 2185.9193,-274.6232\"/>\n<polygon fill=\"#000000\" stroke=\"#000000\" points=\"2186.827,-278.0078 2195.8566,-272.4654 2185.3416,-271.1672 2186.827,-278.0078\"/>\n</g>\n<!-- 18 -->\n<g id=\"node19\" class=\"node\">\n<title>18</title>\n<path fill=\"#e74cc6\" stroke=\"#000000\" d=\"M1742,-178C1742,-178 1595,-178 1595,-178 1589,-178 1583,-172 1583,-166 1583,-166 1583,-112 1583,-112 1583,-106 1589,-100 1595,-100 1595,-100 1742,-100 1742,-100 1748,-100 1754,-106 1754,-112 1754,-112 1754,-166 1754,-166 1754,-172 1748,-178 1742,-178\"/>\n<text text-anchor=\"start\" x=\"1629\" y=\"-163.8\" font-family=\"Helvetica,sans-Serif\" font-size=\"14.00\" fill=\"#000000\">school ≤ 1.5</text>\n<text text-anchor=\"start\" x=\"1617.5\" y=\"-149.8\" font-family=\"Helvetica,sans-Serif\" font-size=\"14.00\" fill=\"#000000\">entropy = 0.486</text>\n<text text-anchor=\"start\" x=\"1620.5\" y=\"-135.8\" font-family=\"Helvetica,sans-Serif\" font-size=\"14.00\" fill=\"#000000\">samples = 304</text>\n<text text-anchor=\"start\" x=\"1591\" y=\"-121.8\" font-family=\"Helvetica,sans-Serif\" font-size=\"14.00\" fill=\"#000000\">value = [0, 0, 4, 23, 277]</text>\n<text text-anchor=\"start\" x=\"1636\" y=\"-107.8\" font-family=\"Helvetica,sans-Serif\" font-size=\"14.00\" fill=\"#000000\">class = y</text>\n<text text-anchor=\"start\" x=\"1694\" y=\"-107.8\" font-family=\"Helvetica,sans-Serif\" baseline-shift=\"sub\" font-size=\"14.00\" fill=\"#000000\">4</text>\n</g>\n<!-- 17&#45;&gt;18 -->\n<g id=\"edge18\" class=\"edge\">\n<title>17&#45;&gt;18</title>\n<path fill=\"none\" stroke=\"#000000\" d=\"M1728.8388,-213.7677C1721.683,-204.9007 1714.0129,-195.3964 1706.6223,-186.2385\"/>\n<polygon fill=\"#000000\" stroke=\"#000000\" points=\"1709.2235,-183.8886 1700.2195,-178.3046 1703.7761,-188.2847 1709.2235,-183.8886\"/>\n</g>\n<!-- 21 -->\n<g id=\"node22\" class=\"node\">\n<title>21</title>\n<path fill=\"#f7c5ec\" stroke=\"#000000\" d=\"M1923,-178C1923,-178 1784,-178 1784,-178 1778,-178 1772,-172 1772,-166 1772,-166 1772,-112 1772,-112 1772,-106 1778,-100 1784,-100 1784,-100 1923,-100 1923,-100 1929,-100 1935,-106 1935,-112 1935,-112 1935,-166 1935,-166 1935,-172 1929,-178 1923,-178\"/>\n<text text-anchor=\"start\" x=\"1826\" y=\"-163.8\" font-family=\"Helvetica,sans-Serif\" font-size=\"14.00\" fill=\"#000000\">G1 ≤ 7.5</text>\n<text text-anchor=\"start\" x=\"1802.5\" y=\"-149.8\" font-family=\"Helvetica,sans-Serif\" font-size=\"14.00\" fill=\"#000000\">entropy = 0.978</text>\n<text text-anchor=\"start\" x=\"1809.5\" y=\"-135.8\" font-family=\"Helvetica,sans-Serif\" font-size=\"14.00\" fill=\"#000000\">samples = 58</text>\n<text text-anchor=\"start\" x=\"1780\" y=\"-121.8\" font-family=\"Helvetica,sans-Serif\" font-size=\"14.00\" fill=\"#000000\">value = [0, 0, 24, 0, 34]</text>\n<text text-anchor=\"start\" x=\"1821\" y=\"-107.8\" font-family=\"Helvetica,sans-Serif\" font-size=\"14.00\" fill=\"#000000\">class = y</text>\n<text text-anchor=\"start\" x=\"1879\" y=\"-107.8\" font-family=\"Helvetica,sans-Serif\" baseline-shift=\"sub\" font-size=\"14.00\" fill=\"#000000\">4</text>\n</g>\n<!-- 17&#45;&gt;21 -->\n<g id=\"edge21\" class=\"edge\">\n<title>17&#45;&gt;21</title>\n<path fill=\"none\" stroke=\"#000000\" d=\"M1792.5053,-213.7677C1799.7389,-204.9007 1807.4924,-195.3964 1814.9633,-186.2385\"/>\n<polygon fill=\"#000000\" stroke=\"#000000\" points=\"1817.8264,-188.2658 1821.4357,-178.3046 1812.4023,-183.8409 1817.8264,-188.2658\"/>\n</g>\n<!-- 19 -->\n<g id=\"node20\" class=\"node\">\n<title>19</title>\n<path fill=\"#e745c4\" stroke=\"#000000\" d=\"M1559,-64C1559,-64 1412,-64 1412,-64 1406,-64 1400,-58 1400,-52 1400,-52 1400,-12 1400,-12 1400,-6 1406,0 1412,0 1412,0 1559,0 1559,0 1565,0 1571,-6 1571,-12 1571,-12 1571,-52 1571,-52 1571,-58 1565,-64 1559,-64\"/>\n<text text-anchor=\"start\" x=\"1434.5\" y=\"-49.8\" font-family=\"Helvetica,sans-Serif\" font-size=\"14.00\" fill=\"#000000\">entropy = 0.376</text>\n<text text-anchor=\"start\" x=\"1437.5\" y=\"-35.8\" font-family=\"Helvetica,sans-Serif\" font-size=\"14.00\" fill=\"#000000\">samples = 236</text>\n<text text-anchor=\"start\" x=\"1408\" y=\"-21.8\" font-family=\"Helvetica,sans-Serif\" font-size=\"14.00\" fill=\"#000000\">value = [0, 0, 4, 10, 222]</text>\n<text text-anchor=\"start\" x=\"1453\" y=\"-7.8\" font-family=\"Helvetica,sans-Serif\" font-size=\"14.00\" fill=\"#000000\">class = y</text>\n<text text-anchor=\"start\" x=\"1511\" y=\"-7.8\" font-family=\"Helvetica,sans-Serif\" baseline-shift=\"sub\" font-size=\"14.00\" fill=\"#000000\">4</text>\n</g>\n<!-- 18&#45;&gt;19 -->\n<g id=\"edge19\" class=\"edge\">\n<title>18&#45;&gt;19</title>\n<path fill=\"none\" stroke=\"#000000\" d=\"M1601.656,-99.9163C1584.5275,-89.9013 1566.1534,-79.158 1549.1887,-69.2388\"/>\n<polygon fill=\"#000000\" stroke=\"#000000\" points=\"1550.8591,-66.1611 1540.4598,-64.135 1547.3258,-72.204 1550.8591,-66.1611\"/>\n</g>\n<!-- 20 -->\n<g id=\"node21\" class=\"node\">\n<title>20</title>\n<path fill=\"#eb68cf\" stroke=\"#000000\" d=\"M1740,-64C1740,-64 1601,-64 1601,-64 1595,-64 1589,-58 1589,-52 1589,-52 1589,-12 1589,-12 1589,-6 1595,0 1601,0 1601,0 1740,0 1740,0 1746,0 1752,-6 1752,-12 1752,-12 1752,-52 1752,-52 1752,-58 1746,-64 1740,-64\"/>\n<text text-anchor=\"start\" x=\"1619.5\" y=\"-49.8\" font-family=\"Helvetica,sans-Serif\" font-size=\"14.00\" fill=\"#000000\">entropy = 0.704</text>\n<text text-anchor=\"start\" x=\"1626.5\" y=\"-35.8\" font-family=\"Helvetica,sans-Serif\" font-size=\"14.00\" fill=\"#000000\">samples = 68</text>\n<text text-anchor=\"start\" x=\"1597\" y=\"-21.8\" font-family=\"Helvetica,sans-Serif\" font-size=\"14.00\" fill=\"#000000\">value = [0, 0, 0, 13, 55]</text>\n<text text-anchor=\"start\" x=\"1638\" y=\"-7.8\" font-family=\"Helvetica,sans-Serif\" font-size=\"14.00\" fill=\"#000000\">class = y</text>\n<text text-anchor=\"start\" x=\"1696\" y=\"-7.8\" font-family=\"Helvetica,sans-Serif\" baseline-shift=\"sub\" font-size=\"14.00\" fill=\"#000000\">4</text>\n</g>\n<!-- 18&#45;&gt;20 -->\n<g id=\"edge20\" class=\"edge\">\n<title>18&#45;&gt;20</title>\n<path fill=\"none\" stroke=\"#000000\" d=\"M1669.2334,-99.7647C1669.3887,-91.4537 1669.5533,-82.6472 1669.7106,-74.2305\"/>\n<polygon fill=\"#000000\" stroke=\"#000000\" points=\"1673.2102,-74.2806 1669.8978,-64.2169 1666.2114,-74.1497 1673.2102,-74.2806\"/>\n</g>\n<!-- 22 -->\n<g id=\"node23\" class=\"node\">\n<title>22</title>\n<path fill=\"#cef8f0\" stroke=\"#000000\" d=\"M1921,-64C1921,-64 1782,-64 1782,-64 1776,-64 1770,-58 1770,-52 1770,-52 1770,-12 1770,-12 1770,-6 1776,0 1782,0 1782,0 1921,0 1921,0 1927,0 1933,-6 1933,-12 1933,-12 1933,-52 1933,-52 1933,-58 1927,-64 1921,-64\"/>\n<text text-anchor=\"start\" x=\"1800.5\" y=\"-49.8\" font-family=\"Helvetica,sans-Serif\" font-size=\"14.00\" fill=\"#000000\">entropy = 0.985</text>\n<text text-anchor=\"start\" x=\"1807.5\" y=\"-35.8\" font-family=\"Helvetica,sans-Serif\" font-size=\"14.00\" fill=\"#000000\">samples = 35</text>\n<text text-anchor=\"start\" x=\"1778\" y=\"-21.8\" font-family=\"Helvetica,sans-Serif\" font-size=\"14.00\" fill=\"#000000\">value = [0, 0, 20, 0, 15]</text>\n<text text-anchor=\"start\" x=\"1819\" y=\"-7.8\" font-family=\"Helvetica,sans-Serif\" font-size=\"14.00\" fill=\"#000000\">class = y</text>\n<text text-anchor=\"start\" x=\"1877\" y=\"-7.8\" font-family=\"Helvetica,sans-Serif\" baseline-shift=\"sub\" font-size=\"14.00\" fill=\"#000000\">2</text>\n</g>\n<!-- 21&#45;&gt;22 -->\n<g id=\"edge22\" class=\"edge\">\n<title>21&#45;&gt;22</title>\n<path fill=\"none\" stroke=\"#000000\" d=\"M1852.7666,-99.7647C1852.6113,-91.4537 1852.4467,-82.6472 1852.2894,-74.2305\"/>\n<polygon fill=\"#000000\" stroke=\"#000000\" points=\"1855.7886,-74.1497 1852.1022,-64.2169 1848.7898,-74.2806 1855.7886,-74.1497\"/>\n</g>\n<!-- 23 -->\n<g id=\"node24\" class=\"node\">\n<title>23</title>\n<path fill=\"#ea63cd\" stroke=\"#000000\" d=\"M2094,-64C2094,-64 1963,-64 1963,-64 1957,-64 1951,-58 1951,-52 1951,-52 1951,-12 1951,-12 1951,-6 1957,0 1963,0 1963,0 2094,0 2094,0 2100,0 2106,-6 2106,-12 2106,-12 2106,-52 2106,-52 2106,-58 2100,-64 2094,-64\"/>\n<text text-anchor=\"start\" x=\"1977.5\" y=\"-49.8\" font-family=\"Helvetica,sans-Serif\" font-size=\"14.00\" fill=\"#000000\">entropy = 0.667</text>\n<text text-anchor=\"start\" x=\"1984.5\" y=\"-35.8\" font-family=\"Helvetica,sans-Serif\" font-size=\"14.00\" fill=\"#000000\">samples = 23</text>\n<text text-anchor=\"start\" x=\"1959\" y=\"-21.8\" font-family=\"Helvetica,sans-Serif\" font-size=\"14.00\" fill=\"#000000\">value = [0, 0, 4, 0, 19]</text>\n<text text-anchor=\"start\" x=\"1996\" y=\"-7.8\" font-family=\"Helvetica,sans-Serif\" font-size=\"14.00\" fill=\"#000000\">class = y</text>\n<text text-anchor=\"start\" x=\"2054\" y=\"-7.8\" font-family=\"Helvetica,sans-Serif\" baseline-shift=\"sub\" font-size=\"14.00\" fill=\"#000000\">4</text>\n</g>\n<!-- 21&#45;&gt;23 -->\n<g id=\"edge23\" class=\"edge\">\n<title>21&#45;&gt;23</title>\n<path fill=\"none\" stroke=\"#000000\" d=\"M1917.6698,-99.7647C1933.8843,-89.8508 1951.2517,-79.2318 1967.3147,-69.4105\"/>\n<polygon fill=\"#000000\" stroke=\"#000000\" points=\"1969.3829,-72.2483 1976.0887,-64.0458 1965.7313,-66.2762 1969.3829,-72.2483\"/>\n</g>\n<!-- 25 -->\n<g id=\"node26\" class=\"node\">\n<title>25</title>\n<path fill=\"#4de8cb\" stroke=\"#000000\" d=\"M2351,-178C2351,-178 2220,-178 2220,-178 2214,-178 2208,-172 2208,-166 2208,-166 2208,-112 2208,-112 2208,-106 2214,-100 2220,-100 2220,-100 2351,-100 2351,-100 2357,-100 2363,-106 2363,-112 2363,-112 2363,-166 2363,-166 2363,-172 2357,-178 2351,-178\"/>\n<text text-anchor=\"start\" x=\"2253.5\" y=\"-163.8\" font-family=\"Helvetica,sans-Serif\" font-size=\"14.00\" fill=\"#000000\">G2 ≤ 11.5</text>\n<text text-anchor=\"start\" x=\"2234.5\" y=\"-149.8\" font-family=\"Helvetica,sans-Serif\" font-size=\"14.00\" fill=\"#000000\">entropy = 0.492</text>\n<text text-anchor=\"start\" x=\"2237.5\" y=\"-135.8\" font-family=\"Helvetica,sans-Serif\" font-size=\"14.00\" fill=\"#000000\">samples = 107</text>\n<text text-anchor=\"start\" x=\"2216\" y=\"-121.8\" font-family=\"Helvetica,sans-Serif\" font-size=\"14.00\" fill=\"#000000\">value = [9, 0, 97, 0, 1]</text>\n<text text-anchor=\"start\" x=\"2253\" y=\"-107.8\" font-family=\"Helvetica,sans-Serif\" font-size=\"14.00\" fill=\"#000000\">class = y</text>\n<text text-anchor=\"start\" x=\"2311\" y=\"-107.8\" font-family=\"Helvetica,sans-Serif\" baseline-shift=\"sub\" font-size=\"14.00\" fill=\"#000000\">2</text>\n</g>\n<!-- 24&#45;&gt;25 -->\n<g id=\"edge25\" class=\"edge\">\n<title>24&#45;&gt;25</title>\n<path fill=\"none\" stroke=\"#000000\" d=\"M2285.5,-213.7677C2285.5,-205.6172 2285.5,-196.9283 2285.5,-188.4649\"/>\n<polygon fill=\"#000000\" stroke=\"#000000\" points=\"2289.0001,-188.3046 2285.5,-178.3046 2282.0001,-188.3047 2289.0001,-188.3046\"/>\n</g>\n<!-- 28 -->\n<g id=\"node29\" class=\"node\">\n<title>28</title>\n<path fill=\"#ecfbe2\" stroke=\"#000000\" d=\"M2617,-178C2617,-178 2478,-178 2478,-178 2472,-178 2466,-172 2466,-166 2466,-166 2466,-112 2466,-112 2466,-106 2472,-100 2478,-100 2478,-100 2617,-100 2617,-100 2623,-100 2629,-106 2629,-112 2629,-112 2629,-166 2629,-166 2629,-172 2623,-178 2617,-178\"/>\n<text text-anchor=\"start\" x=\"2499.5\" y=\"-163.8\" font-family=\"Helvetica,sans-Serif\" font-size=\"14.00\" fill=\"#000000\">GradeG2 ≤ 4.5</text>\n<text text-anchor=\"start\" x=\"2496.5\" y=\"-149.8\" font-family=\"Helvetica,sans-Serif\" font-size=\"14.00\" fill=\"#000000\">entropy = 1.691</text>\n<text text-anchor=\"start\" x=\"2503.5\" y=\"-135.8\" font-family=\"Helvetica,sans-Serif\" font-size=\"14.00\" fill=\"#000000\">samples = 53</text>\n<text text-anchor=\"start\" x=\"2474\" y=\"-121.8\" font-family=\"Helvetica,sans-Serif\" font-size=\"14.00\" fill=\"#000000\">value = [19, 24, 5, 5, 0]</text>\n<text text-anchor=\"start\" x=\"2515\" y=\"-107.8\" font-family=\"Helvetica,sans-Serif\" font-size=\"14.00\" fill=\"#000000\">class = y</text>\n<text text-anchor=\"start\" x=\"2573\" y=\"-107.8\" font-family=\"Helvetica,sans-Serif\" baseline-shift=\"sub\" font-size=\"14.00\" fill=\"#000000\">1</text>\n</g>\n<!-- 24&#45;&gt;28 -->\n<g id=\"edge28\" class=\"edge\">\n<title>24&#45;&gt;28</title>\n<path fill=\"none\" stroke=\"#000000\" d=\"M2375.299,-213.9272C2401.5358,-202.5112 2430.2274,-190.027 2456.5357,-178.5799\"/>\n<polygon fill=\"#000000\" stroke=\"#000000\" points=\"2457.9608,-181.7769 2465.7339,-174.5776 2455.1679,-175.3581 2457.9608,-181.7769\"/>\n</g>\n<!-- 26 -->\n<g id=\"node27\" class=\"node\">\n<title>26</title>\n<path fill=\"#67ebd2\" stroke=\"#000000\" d=\"M2267,-64C2267,-64 2136,-64 2136,-64 2130,-64 2124,-58 2124,-52 2124,-52 2124,-12 2124,-12 2124,-6 2130,0 2136,0 2136,0 2267,0 2267,0 2273,0 2279,-6 2279,-12 2279,-12 2279,-52 2279,-52 2279,-58 2273,-64 2267,-64\"/>\n<text text-anchor=\"start\" x=\"2150.5\" y=\"-49.8\" font-family=\"Helvetica,sans-Serif\" font-size=\"14.00\" fill=\"#000000\">entropy = 0.696</text>\n<text text-anchor=\"start\" x=\"2157.5\" y=\"-35.8\" font-family=\"Helvetica,sans-Serif\" font-size=\"14.00\" fill=\"#000000\">samples = 48</text>\n<text text-anchor=\"start\" x=\"2132\" y=\"-21.8\" font-family=\"Helvetica,sans-Serif\" font-size=\"14.00\" fill=\"#000000\">value = [9, 0, 39, 0, 0]</text>\n<text text-anchor=\"start\" x=\"2169\" y=\"-7.8\" font-family=\"Helvetica,sans-Serif\" font-size=\"14.00\" fill=\"#000000\">class = y</text>\n<text text-anchor=\"start\" x=\"2227\" y=\"-7.8\" font-family=\"Helvetica,sans-Serif\" baseline-shift=\"sub\" font-size=\"14.00\" fill=\"#000000\">2</text>\n</g>\n<!-- 25&#45;&gt;26 -->\n<g id=\"edge26\" class=\"edge\">\n<title>25&#45;&gt;26</title>\n<path fill=\"none\" stroke=\"#000000\" d=\"M2254.6985,-99.7647C2247.672,-90.8144 2240.1945,-81.2894 2233.1339,-72.2955\"/>\n<polygon fill=\"#000000\" stroke=\"#000000\" points=\"2235.7198,-69.9214 2226.7918,-64.2169 2230.2137,-74.2439 2235.7198,-69.9214\"/>\n</g>\n<!-- 27 -->\n<g id=\"node28\" class=\"node\">\n<title>27</title>\n<path fill=\"#3ce5c6\" stroke=\"#000000\" d=\"M2440,-64C2440,-64 2309,-64 2309,-64 2303,-64 2297,-58 2297,-52 2297,-52 2297,-12 2297,-12 2297,-6 2303,0 2309,0 2309,0 2440,0 2440,0 2446,0 2452,-6 2452,-12 2452,-12 2452,-52 2452,-52 2452,-58 2446,-64 2440,-64\"/>\n<text text-anchor=\"start\" x=\"2323.5\" y=\"-49.8\" font-family=\"Helvetica,sans-Serif\" font-size=\"14.00\" fill=\"#000000\">entropy = 0.124</text>\n<text text-anchor=\"start\" x=\"2330.5\" y=\"-35.8\" font-family=\"Helvetica,sans-Serif\" font-size=\"14.00\" fill=\"#000000\">samples = 59</text>\n<text text-anchor=\"start\" x=\"2305\" y=\"-21.8\" font-family=\"Helvetica,sans-Serif\" font-size=\"14.00\" fill=\"#000000\">value = [0, 0, 58, 0, 1]</text>\n<text text-anchor=\"start\" x=\"2342\" y=\"-7.8\" font-family=\"Helvetica,sans-Serif\" font-size=\"14.00\" fill=\"#000000\">class = y</text>\n<text text-anchor=\"start\" x=\"2400\" y=\"-7.8\" font-family=\"Helvetica,sans-Serif\" baseline-shift=\"sub\" font-size=\"14.00\" fill=\"#000000\">2</text>\n</g>\n<!-- 25&#45;&gt;27 -->\n<g id=\"edge27\" class=\"edge\">\n<title>25&#45;&gt;27</title>\n<path fill=\"none\" stroke=\"#000000\" d=\"M2318.1349,-99.7647C2325.6556,-90.7231 2333.664,-81.095 2341.212,-72.0204\"/>\n<polygon fill=\"#000000\" stroke=\"#000000\" points=\"2343.9988,-74.1432 2347.7028,-64.2169 2338.6171,-69.6668 2343.9988,-74.1432\"/>\n</g>\n<!-- 29 -->\n<g id=\"node30\" class=\"node\">\n<title>29</title>\n<path fill=\"#96ea62\" stroke=\"#000000\" d=\"M2613,-64C2613,-64 2482,-64 2482,-64 2476,-64 2470,-58 2470,-52 2470,-52 2470,-12 2470,-12 2470,-6 2476,0 2482,0 2482,0 2613,0 2613,0 2619,0 2625,-6 2625,-12 2625,-12 2625,-52 2625,-52 2625,-58 2619,-64 2613,-64\"/>\n<text text-anchor=\"start\" x=\"2496.5\" y=\"-49.8\" font-family=\"Helvetica,sans-Serif\" font-size=\"14.00\" fill=\"#000000\">entropy = 0.663</text>\n<text text-anchor=\"start\" x=\"2503.5\" y=\"-35.8\" font-family=\"Helvetica,sans-Serif\" font-size=\"14.00\" fill=\"#000000\">samples = 29</text>\n<text text-anchor=\"start\" x=\"2478\" y=\"-21.8\" font-family=\"Helvetica,sans-Serif\" font-size=\"14.00\" fill=\"#000000\">value = [0, 24, 0, 5, 0]</text>\n<text text-anchor=\"start\" x=\"2515\" y=\"-7.8\" font-family=\"Helvetica,sans-Serif\" font-size=\"14.00\" fill=\"#000000\">class = y</text>\n<text text-anchor=\"start\" x=\"2573\" y=\"-7.8\" font-family=\"Helvetica,sans-Serif\" baseline-shift=\"sub\" font-size=\"14.00\" fill=\"#000000\">1</text>\n</g>\n<!-- 28&#45;&gt;29 -->\n<g id=\"edge29\" class=\"edge\">\n<title>28&#45;&gt;29</title>\n<path fill=\"none\" stroke=\"#000000\" d=\"M2547.5,-99.7647C2547.5,-91.4537 2547.5,-82.6472 2547.5,-74.2305\"/>\n<polygon fill=\"#000000\" stroke=\"#000000\" points=\"2551.0001,-74.2168 2547.5,-64.2169 2544.0001,-74.2169 2551.0001,-74.2168\"/>\n</g>\n<!-- 30 -->\n<g id=\"node31\" class=\"node\">\n<title>30</title>\n<path fill=\"#eca26d\" stroke=\"#000000\" d=\"M2786,-64C2786,-64 2655,-64 2655,-64 2649,-64 2643,-58 2643,-52 2643,-52 2643,-12 2643,-12 2643,-6 2649,0 2655,0 2655,0 2786,0 2786,0 2792,0 2798,-6 2798,-12 2798,-12 2798,-52 2798,-52 2798,-58 2792,-64 2786,-64\"/>\n<text text-anchor=\"start\" x=\"2669.5\" y=\"-49.8\" font-family=\"Helvetica,sans-Serif\" font-size=\"14.00\" fill=\"#000000\">entropy = 0.738</text>\n<text text-anchor=\"start\" x=\"2676.5\" y=\"-35.8\" font-family=\"Helvetica,sans-Serif\" font-size=\"14.00\" fill=\"#000000\">samples = 24</text>\n<text text-anchor=\"start\" x=\"2651\" y=\"-21.8\" font-family=\"Helvetica,sans-Serif\" font-size=\"14.00\" fill=\"#000000\">value = [19, 0, 5, 0, 0]</text>\n<text text-anchor=\"start\" x=\"2688\" y=\"-7.8\" font-family=\"Helvetica,sans-Serif\" font-size=\"14.00\" fill=\"#000000\">class = y</text>\n<text text-anchor=\"start\" x=\"2746\" y=\"-7.8\" font-family=\"Helvetica,sans-Serif\" baseline-shift=\"sub\" font-size=\"14.00\" fill=\"#000000\">0</text>\n</g>\n<!-- 28&#45;&gt;30 -->\n<g id=\"edge30\" class=\"edge\">\n<title>28&#45;&gt;30</title>\n<path fill=\"none\" stroke=\"#000000\" d=\"M2610.9365,-99.7647C2626.9656,-89.8508 2644.1346,-79.2318 2660.0139,-69.4105\"/>\n<polygon fill=\"#000000\" stroke=\"#000000\" points=\"2662.024,-72.2826 2668.6877,-64.0458 2658.3419,-66.3293 2662.024,-72.2826\"/>\n</g>\n</g>\n</svg>\n"
          },
          "metadata": {
            "tags": []
          },
          "execution_count": 166
        }
      ]
    },
    {
      "cell_type": "markdown",
      "metadata": {
        "id": "xpID_Ss0YuA0"
      },
      "source": [
        "# Confusion matrix"
      ]
    },
    {
      "cell_type": "code",
      "metadata": {
        "colab": {
          "base_uri": "https://localhost:8080/"
        },
        "id": "cSlnDAmqYvZY",
        "outputId": "9aebc390-83ce-473b-cb6f-ac0ddeaf1577"
      },
      "source": [
        "# Print the Confusion Matrix and slice it into four pieces\n",
        "\n",
        "from sklearn.metrics import confusion_matrix\n",
        "\n",
        "cm = confusion_matrix(y_test, y_pred_en)\n",
        "\n",
        "print('Confusion matrix\\n\\n', cm)\n"
      ],
      "execution_count": null,
      "outputs": [
        {
          "output_type": "stream",
          "text": [
            "Confusion matrix\n",
            "\n",
            " [[ 6  0  1  0  0]\n",
            " [ 0 10  0  2  1]\n",
            " [ 0  0 33  0  5]\n",
            " [ 0  3  0 49  6]\n",
            " [ 0  0  6  6 81]]\n"
          ],
          "name": "stdout"
        }
      ]
    },
    {
      "cell_type": "markdown",
      "metadata": {
        "id": "vGayzhpCY4XR"
      },
      "source": [
        "# Classification Report "
      ]
    },
    {
      "cell_type": "code",
      "metadata": {
        "colab": {
          "base_uri": "https://localhost:8080/"
        },
        "id": "Eydao_mcY1zi",
        "outputId": "cf796edb-c042-4675-dd9d-f37bbf972351"
      },
      "source": [
        "from sklearn.metrics import classification_report\n",
        "\n",
        "print(classification_report(y_test, y_pred_en))"
      ],
      "execution_count": null,
      "outputs": [
        {
          "output_type": "stream",
          "text": [
            "              precision    recall  f1-score   support\n",
            "\n",
            "   Excellent       1.00      0.86      0.92         7\n",
            "     Failure       0.77      0.77      0.77        13\n",
            "        Good       0.82      0.87      0.85        38\n",
            "        Poor       0.86      0.84      0.85        58\n",
            "Satisfactory       0.87      0.87      0.87        93\n",
            "\n",
            "    accuracy                           0.86       209\n",
            "   macro avg       0.86      0.84      0.85       209\n",
            "weighted avg       0.86      0.86      0.86       209\n",
            "\n"
          ],
          "name": "stdout"
        }
      ]
    },
    {
      "cell_type": "markdown",
      "metadata": {
        "id": "8191myaw_G73"
      },
      "source": [
        "# Accuracy of Decision Tree Model\n",
        "with all 15 attributes"
      ]
    },
    {
      "cell_type": "code",
      "metadata": {
        "colab": {
          "base_uri": "https://localhost:8080/"
        },
        "id": "HjFBquXQ-89a",
        "outputId": "b3010552-8d21-4530-f542-7644c07c267e"
      },
      "source": [
        "# print the scores on training and test set\n",
        "\n",
        "print('Training set score: {:.4f}'.format(clf_gini.score(X_train, y_train)))\n",
        "\n",
        "print('Test set score: {:.4f}'.format(clf_gini.score(X_test, y_test)))"
      ],
      "execution_count": null,
      "outputs": [
        {
          "output_type": "stream",
          "text": [
            "Training set score: 0.8359\n",
            "Test set score: 0.8517\n"
          ],
          "name": "stdout"
        }
      ]
    },
    {
      "cell_type": "code",
      "metadata": {
        "colab": {
          "base_uri": "https://localhost:8080/"
        },
        "id": "VDoyaXv6_EPD",
        "outputId": "f4bf699f-ca4e-44b7-88eb-0566644a8d5f"
      },
      "source": [
        "# print the scores on training and test set\n",
        "\n",
        "print('Training set score: {:.4f}'.format(clf_en.score(X_train, y_train)))\n",
        "\n",
        "print('Test set score: {:.4f}'.format(clf_en.score(X_test, y_test)))"
      ],
      "execution_count": null,
      "outputs": [
        {
          "output_type": "stream",
          "text": [
            "Training set score: 0.8371\n",
            "Test set score: 0.8565\n"
          ],
          "name": "stdout"
        }
      ]
    },
    {
      "cell_type": "markdown",
      "metadata": {
        "id": "T1jBVa29dqSJ"
      },
      "source": [
        "# make new predictions"
      ]
    },
    {
      "cell_type": "code",
      "metadata": {
        "colab": {
          "base_uri": "https://localhost:8080/",
          "height": 595
        },
        "id": "KDzwT2bMWYzg",
        "outputId": "0e5066f8-9379-4957-cecb-b9d2ec28ec6d"
      },
      "source": [
        "a=[]\n",
        "b=[\"school\",\t\"address\",\t\"famsize\",\t\"Medu\",\t\"Fedu\",\t\"Mjob\",\t\"Fjob\",\t\"reason\",\t\"studytime\",\t\"failures\",\t\t\"famrel\",\t\"G1\",\t\"G2\"\t,\"GradeG1\"\t,\"GradeG2\"]\n",
        "for i in range(0,15):\n",
        "  a.append(input(\"enter \"+b[i]+\":\"))"
      ],
      "execution_count": null,
      "outputs": [
        {
          "output_type": "stream",
          "text": [
            "enter school:GP\n",
            "enter address:U\n"
          ],
          "name": "stdout"
        },
        {
          "output_type": "error",
          "ename": "KeyboardInterrupt",
          "evalue": "ignored",
          "traceback": [
            "\u001b[0;31m---------------------------------------------------------------------------\u001b[0m",
            "\u001b[0;31mKeyboardInterrupt\u001b[0m                         Traceback (most recent call last)",
            "\u001b[0;32m/usr/local/lib/python3.7/dist-packages/ipykernel/kernelbase.py\u001b[0m in \u001b[0;36m_input_request\u001b[0;34m(self, prompt, ident, parent, password)\u001b[0m\n\u001b[1;32m    728\u001b[0m             \u001b[0;32mtry\u001b[0m\u001b[0;34m:\u001b[0m\u001b[0;34m\u001b[0m\u001b[0;34m\u001b[0m\u001b[0m\n\u001b[0;32m--> 729\u001b[0;31m                 \u001b[0mident\u001b[0m\u001b[0;34m,\u001b[0m \u001b[0mreply\u001b[0m \u001b[0;34m=\u001b[0m \u001b[0mself\u001b[0m\u001b[0;34m.\u001b[0m\u001b[0msession\u001b[0m\u001b[0;34m.\u001b[0m\u001b[0mrecv\u001b[0m\u001b[0;34m(\u001b[0m\u001b[0mself\u001b[0m\u001b[0;34m.\u001b[0m\u001b[0mstdin_socket\u001b[0m\u001b[0;34m,\u001b[0m \u001b[0;36m0\u001b[0m\u001b[0;34m)\u001b[0m\u001b[0;34m\u001b[0m\u001b[0;34m\u001b[0m\u001b[0m\n\u001b[0m\u001b[1;32m    730\u001b[0m             \u001b[0;32mexcept\u001b[0m \u001b[0mException\u001b[0m\u001b[0;34m:\u001b[0m\u001b[0;34m\u001b[0m\u001b[0;34m\u001b[0m\u001b[0m\n",
            "\u001b[0;32m/usr/local/lib/python3.7/dist-packages/jupyter_client/session.py\u001b[0m in \u001b[0;36mrecv\u001b[0;34m(self, socket, mode, content, copy)\u001b[0m\n\u001b[1;32m    802\u001b[0m         \u001b[0;32mtry\u001b[0m\u001b[0;34m:\u001b[0m\u001b[0;34m\u001b[0m\u001b[0;34m\u001b[0m\u001b[0m\n\u001b[0;32m--> 803\u001b[0;31m             \u001b[0mmsg_list\u001b[0m \u001b[0;34m=\u001b[0m \u001b[0msocket\u001b[0m\u001b[0;34m.\u001b[0m\u001b[0mrecv_multipart\u001b[0m\u001b[0;34m(\u001b[0m\u001b[0mmode\u001b[0m\u001b[0;34m,\u001b[0m \u001b[0mcopy\u001b[0m\u001b[0;34m=\u001b[0m\u001b[0mcopy\u001b[0m\u001b[0;34m)\u001b[0m\u001b[0;34m\u001b[0m\u001b[0;34m\u001b[0m\u001b[0m\n\u001b[0m\u001b[1;32m    804\u001b[0m         \u001b[0;32mexcept\u001b[0m \u001b[0mzmq\u001b[0m\u001b[0;34m.\u001b[0m\u001b[0mZMQError\u001b[0m \u001b[0;32mas\u001b[0m \u001b[0me\u001b[0m\u001b[0;34m:\u001b[0m\u001b[0;34m\u001b[0m\u001b[0;34m\u001b[0m\u001b[0m\n",
            "\u001b[0;32m/usr/local/lib/python3.7/dist-packages/zmq/sugar/socket.py\u001b[0m in \u001b[0;36mrecv_multipart\u001b[0;34m(self, flags, copy, track)\u001b[0m\n\u001b[1;32m    582\u001b[0m         \"\"\"\n\u001b[0;32m--> 583\u001b[0;31m         \u001b[0mparts\u001b[0m \u001b[0;34m=\u001b[0m \u001b[0;34m[\u001b[0m\u001b[0mself\u001b[0m\u001b[0;34m.\u001b[0m\u001b[0mrecv\u001b[0m\u001b[0;34m(\u001b[0m\u001b[0mflags\u001b[0m\u001b[0;34m,\u001b[0m \u001b[0mcopy\u001b[0m\u001b[0;34m=\u001b[0m\u001b[0mcopy\u001b[0m\u001b[0;34m,\u001b[0m \u001b[0mtrack\u001b[0m\u001b[0;34m=\u001b[0m\u001b[0mtrack\u001b[0m\u001b[0;34m)\u001b[0m\u001b[0;34m]\u001b[0m\u001b[0;34m\u001b[0m\u001b[0;34m\u001b[0m\u001b[0m\n\u001b[0m\u001b[1;32m    584\u001b[0m         \u001b[0;31m# have first part already, only loop while more to receive\u001b[0m\u001b[0;34m\u001b[0m\u001b[0;34m\u001b[0m\u001b[0;34m\u001b[0m\u001b[0m\n",
            "\u001b[0;32mzmq/backend/cython/socket.pyx\u001b[0m in \u001b[0;36mzmq.backend.cython.socket.Socket.recv\u001b[0;34m()\u001b[0m\n",
            "\u001b[0;32mzmq/backend/cython/socket.pyx\u001b[0m in \u001b[0;36mzmq.backend.cython.socket.Socket.recv\u001b[0;34m()\u001b[0m\n",
            "\u001b[0;32mzmq/backend/cython/socket.pyx\u001b[0m in \u001b[0;36mzmq.backend.cython.socket._recv_copy\u001b[0;34m()\u001b[0m\n",
            "\u001b[0;32m/usr/local/lib/python3.7/dist-packages/zmq/backend/cython/checkrc.pxd\u001b[0m in \u001b[0;36mzmq.backend.cython.checkrc._check_rc\u001b[0;34m()\u001b[0m\n",
            "\u001b[0;31mKeyboardInterrupt\u001b[0m: ",
            "\nDuring handling of the above exception, another exception occurred:\n",
            "\u001b[0;31mKeyboardInterrupt\u001b[0m                         Traceback (most recent call last)",
            "\u001b[0;32m<ipython-input-200-e7bc749f744c>\u001b[0m in \u001b[0;36m<module>\u001b[0;34m()\u001b[0m\n\u001b[1;32m      2\u001b[0m \u001b[0mb\u001b[0m\u001b[0;34m=\u001b[0m\u001b[0;34m[\u001b[0m\u001b[0;34m\"school\"\u001b[0m\u001b[0;34m,\u001b[0m    \u001b[0;34m\"address\"\u001b[0m\u001b[0;34m,\u001b[0m      \u001b[0;34m\"famsize\"\u001b[0m\u001b[0;34m,\u001b[0m      \u001b[0;34m\"Medu\"\u001b[0m\u001b[0;34m,\u001b[0m \u001b[0;34m\"Fedu\"\u001b[0m\u001b[0;34m,\u001b[0m \u001b[0;34m\"Mjob\"\u001b[0m\u001b[0;34m,\u001b[0m \u001b[0;34m\"Fjob\"\u001b[0m\u001b[0;34m,\u001b[0m \u001b[0;34m\"reason\"\u001b[0m\u001b[0;34m,\u001b[0m       \u001b[0;34m\"studytime\"\u001b[0m\u001b[0;34m,\u001b[0m    \u001b[0;34m\"failures\"\u001b[0m\u001b[0;34m,\u001b[0m             \u001b[0;34m\"famrel\"\u001b[0m\u001b[0;34m,\u001b[0m       \u001b[0;34m\"G1\"\u001b[0m\u001b[0;34m,\u001b[0m   \u001b[0;34m\"G2\"\u001b[0m    \u001b[0;34m,\u001b[0m\u001b[0;34m\"GradeG1\"\u001b[0m      \u001b[0;34m,\u001b[0m\u001b[0;34m\"GradeG2\"\u001b[0m\u001b[0;34m]\u001b[0m\u001b[0;34m\u001b[0m\u001b[0;34m\u001b[0m\u001b[0m\n\u001b[1;32m      3\u001b[0m \u001b[0;32mfor\u001b[0m \u001b[0mi\u001b[0m \u001b[0;32min\u001b[0m \u001b[0mrange\u001b[0m\u001b[0;34m(\u001b[0m\u001b[0;36m0\u001b[0m\u001b[0;34m,\u001b[0m\u001b[0;36m15\u001b[0m\u001b[0;34m)\u001b[0m\u001b[0;34m:\u001b[0m\u001b[0;34m\u001b[0m\u001b[0;34m\u001b[0m\u001b[0m\n\u001b[0;32m----> 4\u001b[0;31m   \u001b[0ma\u001b[0m\u001b[0;34m.\u001b[0m\u001b[0mappend\u001b[0m\u001b[0;34m(\u001b[0m\u001b[0minput\u001b[0m\u001b[0;34m(\u001b[0m\u001b[0;34m\"enter \"\u001b[0m\u001b[0;34m+\u001b[0m\u001b[0mb\u001b[0m\u001b[0;34m[\u001b[0m\u001b[0mi\u001b[0m\u001b[0;34m]\u001b[0m\u001b[0;34m+\u001b[0m\u001b[0;34m\":\"\u001b[0m\u001b[0;34m)\u001b[0m\u001b[0;34m)\u001b[0m\u001b[0;34m\u001b[0m\u001b[0;34m\u001b[0m\u001b[0m\n\u001b[0m",
            "\u001b[0;32m/usr/local/lib/python3.7/dist-packages/ipykernel/kernelbase.py\u001b[0m in \u001b[0;36mraw_input\u001b[0;34m(self, prompt)\u001b[0m\n\u001b[1;32m    702\u001b[0m             \u001b[0mself\u001b[0m\u001b[0;34m.\u001b[0m\u001b[0m_parent_ident\u001b[0m\u001b[0;34m,\u001b[0m\u001b[0;34m\u001b[0m\u001b[0;34m\u001b[0m\u001b[0m\n\u001b[1;32m    703\u001b[0m             \u001b[0mself\u001b[0m\u001b[0;34m.\u001b[0m\u001b[0m_parent_header\u001b[0m\u001b[0;34m,\u001b[0m\u001b[0;34m\u001b[0m\u001b[0;34m\u001b[0m\u001b[0m\n\u001b[0;32m--> 704\u001b[0;31m             \u001b[0mpassword\u001b[0m\u001b[0;34m=\u001b[0m\u001b[0;32mFalse\u001b[0m\u001b[0;34m,\u001b[0m\u001b[0;34m\u001b[0m\u001b[0;34m\u001b[0m\u001b[0m\n\u001b[0m\u001b[1;32m    705\u001b[0m         )\n\u001b[1;32m    706\u001b[0m \u001b[0;34m\u001b[0m\u001b[0m\n",
            "\u001b[0;32m/usr/local/lib/python3.7/dist-packages/ipykernel/kernelbase.py\u001b[0m in \u001b[0;36m_input_request\u001b[0;34m(self, prompt, ident, parent, password)\u001b[0m\n\u001b[1;32m    732\u001b[0m             \u001b[0;32mexcept\u001b[0m \u001b[0mKeyboardInterrupt\u001b[0m\u001b[0;34m:\u001b[0m\u001b[0;34m\u001b[0m\u001b[0;34m\u001b[0m\u001b[0m\n\u001b[1;32m    733\u001b[0m                 \u001b[0;31m# re-raise KeyboardInterrupt, to truncate traceback\u001b[0m\u001b[0;34m\u001b[0m\u001b[0;34m\u001b[0m\u001b[0;34m\u001b[0m\u001b[0m\n\u001b[0;32m--> 734\u001b[0;31m                 \u001b[0;32mraise\u001b[0m \u001b[0mKeyboardInterrupt\u001b[0m\u001b[0;34m\u001b[0m\u001b[0;34m\u001b[0m\u001b[0m\n\u001b[0m\u001b[1;32m    735\u001b[0m             \u001b[0;32melse\u001b[0m\u001b[0;34m:\u001b[0m\u001b[0;34m\u001b[0m\u001b[0;34m\u001b[0m\u001b[0m\n\u001b[1;32m    736\u001b[0m                 \u001b[0;32mbreak\u001b[0m\u001b[0;34m\u001b[0m\u001b[0;34m\u001b[0m\u001b[0m\n",
            "\u001b[0;31mKeyboardInterrupt\u001b[0m: "
          ]
        }
      ]
    },
    {
      "cell_type": "code",
      "metadata": {
        "colab": {
          "base_uri": "https://localhost:8080/"
        },
        "id": "gSh3fPPtLRYj",
        "outputId": "595b0731-220b-4523-d80a-b65e6902e04b"
      },
      "source": [
        "if a[0]==\"GP\":\n",
        "  a[0]=1\n",
        "else:\n",
        "  a[0]=2\n",
        "if a[1]==\"U\":\n",
        "  a[1]=1\n",
        "else:\n",
        "  a[1]=2\n",
        "if a[5]==\"other\":\n",
        "  a[5]=3\n",
        "elif a[5]==\"services\":\n",
        "  a[5]=5\n",
        "elif a[5]=='at_home':\n",
        "  a[5]=4\n",
        "elif a[5]=='teacher':\n",
        "  a[5]=1\n",
        "else:\n",
        "  a[5]=2\n",
        "if a[6]==\"other\":\n",
        "  a[6]=2\n",
        "elif a[6]==\"services\":\n",
        "  a[6]=3\n",
        "elif a[6]=='at_home':\n",
        "  a[6]=5\n",
        "elif a[6]=='teacher':\n",
        "  a[6]=4\n",
        "else:\n",
        "  a[6]=1\n",
        "\n",
        "if a[7]=='reputation':\n",
        "  a[7]=1\n",
        "elif a[7]== 'other':\n",
        "  a[7]=2\n",
        "elif a[7]== 'home':\n",
        "  a[7]=3\n",
        "else:\n",
        "  a[7]=4\n",
        "if a[13]=='Poor':\n",
        "  a[13]=1\n",
        "elif a[13]=='Satisfactory':\n",
        "  a[13]=2\n",
        "elif a[13]== 'Good':\n",
        "  a[13]=3\n",
        "elif a[13]== 'Excellent':\n",
        "  a[13]=4\n",
        "else:\n",
        "  a[13]=5\n",
        "\n",
        "if a[14]=='Poor':\n",
        "  a[14]=1\n",
        "elif a[14]=='Satisfactory':\n",
        "  a[14]=2\n",
        "elif a[14]== 'Good':\n",
        "  a[14]=3\n",
        "elif a[14]== 'Excellent':\n",
        "  a[14]=5\n",
        "else:\n",
        "  a[14]=4\n",
        "\n",
        "clf_en.predict([a])\n",
        "\n",
        "\n",
        "#0,1,5,6,7,13,14\n",
        "#0 : GP-1,MS-2\n",
        "#1 : U=1, R=2\n",
        "#5 : other =3,services =5 ,at_home=4, teacher =1, health =2\n",
        "#6 : 'health'-1, 'other'-2, 'services'-3, 'teacher'-4, 'at_home'-5\n",
        "#7 : 'reputation'-1, 'other'-2, 'home'-3, 'course'-4\n",
        "#13:  'Poor'-1, 'Satisfactory'-2, 'Good'-3, 'Excellent'-4, 'Failure'-5\n",
        "#14: 'Poor'-1, 'Satisfactory-2', 'Good'-3, 'Failure'-4, 'Excellent'-5\n",
        "\n"
      ],
      "execution_count": null,
      "outputs": [
        {
          "output_type": "execute_result",
          "data": {
            "text/plain": [
              "array(['Satisfactory'], dtype=object)"
            ]
          },
          "metadata": {
            "tags": []
          },
          "execution_count": 197
        }
      ]
    }
  ]
}