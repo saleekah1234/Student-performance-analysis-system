{
  "nbformat": 4,
  "nbformat_minor": 0,
  "metadata": {
    "colab": {
      "name": "RandomForestClassifier.ipynb",
      "provenance": [],
      "collapsed_sections": [],
      "include_colab_link": true
    },
    "kernelspec": {
      "name": "python3",
      "display_name": "Python 3"
    },
    "language_info": {
      "name": "python"
    }
  },
  "cells": [
    {
      "cell_type": "markdown",
      "metadata": {
        "id": "view-in-github",
        "colab_type": "text"
      },
      "source": [
        "<a href=\"https://colab.research.google.com/github/saleekah1234/Student-performance-analysis-system/blob/main/RandomForestClassifier.ipynb\" target=\"_parent\"><img src=\"https://colab.research.google.com/assets/colab-badge.svg\" alt=\"Open In Colab\"/></a>"
      ]
    },
    {
      "cell_type": "code",
      "metadata": {
        "id": "eV00k44YQSeF"
      },
      "source": [
        "import pandas as pd\n",
        "import numpy as np"
      ],
      "execution_count": null,
      "outputs": []
    },
    {
      "cell_type": "code",
      "metadata": {
        "id": "wrvbGuAfbjOY"
      },
      "source": [
        "import warnings\n",
        "\n",
        "warnings.filterwarnings('ignore')"
      ],
      "execution_count": null,
      "outputs": []
    },
    {
      "cell_type": "code",
      "metadata": {
        "colab": {
          "resources": {
            "http://localhost:8080/nbextensions/google.colab/files.js": {
              "data": "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",
              "ok": true,
              "headers": [
                [
                  "content-type",
                  "application/javascript"
                ]
              ],
              "status": 200,
              "status_text": ""
            }
          },
          "base_uri": "https://localhost:8080/",
          "height": 72
        },
        "id": "L1BXPAOWcFoZ",
        "outputId": "d112cc73-34c3-4397-8ad8-cc993903e774"
      },
      "source": [
        "from google.colab import files\n",
        "uploaded = files.upload()"
      ],
      "execution_count": null,
      "outputs": [
        {
          "output_type": "display_data",
          "data": {
            "text/html": [
              "\n",
              "     <input type=\"file\" id=\"files-c1a3ec15-ee96-4c67-9315-7dd0b49d4e04\" name=\"files[]\" multiple disabled\n",
              "        style=\"border:none\" />\n",
              "     <output id=\"result-c1a3ec15-ee96-4c67-9315-7dd0b49d4e04\">\n",
              "      Upload widget is only available when the cell has been executed in the\n",
              "      current browser session. Please rerun this cell to enable.\n",
              "      </output>\n",
              "      <script src=\"/nbextensions/google.colab/files.js\"></script> "
            ],
            "text/plain": [
              "<IPython.core.display.HTML object>"
            ]
          },
          "metadata": {
            "tags": []
          }
        },
        {
          "output_type": "stream",
          "text": [
            "Saving training.csv to training.csv\n"
          ],
          "name": "stdout"
        }
      ]
    },
    {
      "cell_type": "code",
      "metadata": {
        "colab": {
          "base_uri": "https://localhost:8080/",
          "height": 326
        },
        "id": "-33cCJBRREWk",
        "outputId": "05cbd781-0ffd-4835-d411-21bc9b136e2d"
      },
      "source": [
        "df = pd.read_csv(\"training.csv\")\n",
        "df.head()"
      ],
      "execution_count": null,
      "outputs": [
        {
          "output_type": "execute_result",
          "data": {
            "text/html": [
              "<div>\n",
              "<style scoped>\n",
              "    .dataframe tbody tr th:only-of-type {\n",
              "        vertical-align: middle;\n",
              "    }\n",
              "\n",
              "    .dataframe tbody tr th {\n",
              "        vertical-align: top;\n",
              "    }\n",
              "\n",
              "    .dataframe thead th {\n",
              "        text-align: right;\n",
              "    }\n",
              "</style>\n",
              "<table border=\"1\" class=\"dataframe\">\n",
              "  <thead>\n",
              "    <tr style=\"text-align: right;\">\n",
              "      <th></th>\n",
              "      <th>Unnamed: 0</th>\n",
              "      <th>school</th>\n",
              "      <th>sex</th>\n",
              "      <th>age</th>\n",
              "      <th>address</th>\n",
              "      <th>famsize</th>\n",
              "      <th>Pstatus</th>\n",
              "      <th>Medu</th>\n",
              "      <th>Fedu</th>\n",
              "      <th>Mjob</th>\n",
              "      <th>Fjob</th>\n",
              "      <th>reason</th>\n",
              "      <th>guardian</th>\n",
              "      <th>traveltime</th>\n",
              "      <th>studytime</th>\n",
              "      <th>failures</th>\n",
              "      <th>schoolsup</th>\n",
              "      <th>famsup</th>\n",
              "      <th>paid</th>\n",
              "      <th>activities</th>\n",
              "      <th>nursery</th>\n",
              "      <th>higher</th>\n",
              "      <th>internet</th>\n",
              "      <th>romantic</th>\n",
              "      <th>famrel</th>\n",
              "      <th>freetime</th>\n",
              "      <th>goout</th>\n",
              "      <th>Dalc</th>\n",
              "      <th>Walc</th>\n",
              "      <th>health</th>\n",
              "      <th>absences</th>\n",
              "      <th>G1</th>\n",
              "      <th>G2</th>\n",
              "      <th>G3</th>\n",
              "      <th>subject</th>\n",
              "      <th>FinalGrade</th>\n",
              "      <th>Regularity</th>\n",
              "      <th>GradeG1</th>\n",
              "      <th>GradeG2</th>\n",
              "      <th>FinalGrade_cat</th>\n",
              "      <th>Regularity_cat</th>\n",
              "      <th>school_cat</th>\n",
              "      <th>GradeG1_cat</th>\n",
              "      <th>GradeG2_cat</th>\n",
              "      <th>reason_cat</th>\n",
              "      <th>Mjob_cat</th>\n",
              "      <th>Fjob_cat</th>\n",
              "      <th>guardian_cat</th>\n",
              "      <th>famsize_cat</th>\n",
              "      <th>address_cat</th>\n",
              "      <th>sex_cat</th>\n",
              "    </tr>\n",
              "  </thead>\n",
              "  <tbody>\n",
              "    <tr>\n",
              "      <th>0</th>\n",
              "      <td>0</td>\n",
              "      <td>GP</td>\n",
              "      <td>F</td>\n",
              "      <td>18</td>\n",
              "      <td>U</td>\n",
              "      <td>0</td>\n",
              "      <td>A</td>\n",
              "      <td>4</td>\n",
              "      <td>4</td>\n",
              "      <td>at_home</td>\n",
              "      <td>teacher</td>\n",
              "      <td>course</td>\n",
              "      <td>mother</td>\n",
              "      <td>2</td>\n",
              "      <td>2</td>\n",
              "      <td>0</td>\n",
              "      <td>yes</td>\n",
              "      <td>no</td>\n",
              "      <td>no</td>\n",
              "      <td>no</td>\n",
              "      <td>yes</td>\n",
              "      <td>yes</td>\n",
              "      <td>no</td>\n",
              "      <td>no</td>\n",
              "      <td>4</td>\n",
              "      <td>3</td>\n",
              "      <td>4</td>\n",
              "      <td>1</td>\n",
              "      <td>1</td>\n",
              "      <td>3</td>\n",
              "      <td>6</td>\n",
              "      <td>5</td>\n",
              "      <td>6</td>\n",
              "      <td>6</td>\n",
              "      <td>maths</td>\n",
              "      <td>Poor</td>\n",
              "      <td>Always regular</td>\n",
              "      <td>Failure</td>\n",
              "      <td>Poor</td>\n",
              "      <td>3</td>\n",
              "      <td>0</td>\n",
              "      <td>0</td>\n",
              "      <td>1</td>\n",
              "      <td>3</td>\n",
              "      <td>0</td>\n",
              "      <td>0</td>\n",
              "      <td>4</td>\n",
              "      <td>1</td>\n",
              "      <td>0</td>\n",
              "      <td>1</td>\n",
              "      <td>0</td>\n",
              "    </tr>\n",
              "    <tr>\n",
              "      <th>1</th>\n",
              "      <td>1</td>\n",
              "      <td>GP</td>\n",
              "      <td>F</td>\n",
              "      <td>17</td>\n",
              "      <td>U</td>\n",
              "      <td>0</td>\n",
              "      <td>T</td>\n",
              "      <td>1</td>\n",
              "      <td>1</td>\n",
              "      <td>at_home</td>\n",
              "      <td>other</td>\n",
              "      <td>course</td>\n",
              "      <td>father</td>\n",
              "      <td>1</td>\n",
              "      <td>2</td>\n",
              "      <td>0</td>\n",
              "      <td>no</td>\n",
              "      <td>yes</td>\n",
              "      <td>no</td>\n",
              "      <td>no</td>\n",
              "      <td>no</td>\n",
              "      <td>yes</td>\n",
              "      <td>yes</td>\n",
              "      <td>no</td>\n",
              "      <td>5</td>\n",
              "      <td>3</td>\n",
              "      <td>3</td>\n",
              "      <td>1</td>\n",
              "      <td>1</td>\n",
              "      <td>3</td>\n",
              "      <td>4</td>\n",
              "      <td>5</td>\n",
              "      <td>5</td>\n",
              "      <td>6</td>\n",
              "      <td>maths</td>\n",
              "      <td>Poor</td>\n",
              "      <td>Always regular</td>\n",
              "      <td>Failure</td>\n",
              "      <td>Failure</td>\n",
              "      <td>3</td>\n",
              "      <td>0</td>\n",
              "      <td>0</td>\n",
              "      <td>1</td>\n",
              "      <td>1</td>\n",
              "      <td>0</td>\n",
              "      <td>0</td>\n",
              "      <td>2</td>\n",
              "      <td>0</td>\n",
              "      <td>0</td>\n",
              "      <td>1</td>\n",
              "      <td>0</td>\n",
              "    </tr>\n",
              "    <tr>\n",
              "      <th>2</th>\n",
              "      <td>2</td>\n",
              "      <td>GP</td>\n",
              "      <td>F</td>\n",
              "      <td>15</td>\n",
              "      <td>U</td>\n",
              "      <td>1</td>\n",
              "      <td>T</td>\n",
              "      <td>1</td>\n",
              "      <td>1</td>\n",
              "      <td>at_home</td>\n",
              "      <td>other</td>\n",
              "      <td>other</td>\n",
              "      <td>mother</td>\n",
              "      <td>1</td>\n",
              "      <td>2</td>\n",
              "      <td>3</td>\n",
              "      <td>yes</td>\n",
              "      <td>no</td>\n",
              "      <td>yes</td>\n",
              "      <td>no</td>\n",
              "      <td>yes</td>\n",
              "      <td>yes</td>\n",
              "      <td>yes</td>\n",
              "      <td>no</td>\n",
              "      <td>4</td>\n",
              "      <td>3</td>\n",
              "      <td>2</td>\n",
              "      <td>2</td>\n",
              "      <td>3</td>\n",
              "      <td>3</td>\n",
              "      <td>10</td>\n",
              "      <td>7</td>\n",
              "      <td>8</td>\n",
              "      <td>10</td>\n",
              "      <td>maths</td>\n",
              "      <td>Poor</td>\n",
              "      <td>Mostly regular</td>\n",
              "      <td>Poor</td>\n",
              "      <td>Poor</td>\n",
              "      <td>3</td>\n",
              "      <td>2</td>\n",
              "      <td>0</td>\n",
              "      <td>3</td>\n",
              "      <td>3</td>\n",
              "      <td>2</td>\n",
              "      <td>0</td>\n",
              "      <td>2</td>\n",
              "      <td>1</td>\n",
              "      <td>1</td>\n",
              "      <td>1</td>\n",
              "      <td>0</td>\n",
              "    </tr>\n",
              "    <tr>\n",
              "      <th>3</th>\n",
              "      <td>3</td>\n",
              "      <td>GP</td>\n",
              "      <td>F</td>\n",
              "      <td>15</td>\n",
              "      <td>U</td>\n",
              "      <td>0</td>\n",
              "      <td>T</td>\n",
              "      <td>4</td>\n",
              "      <td>2</td>\n",
              "      <td>health</td>\n",
              "      <td>services</td>\n",
              "      <td>home</td>\n",
              "      <td>mother</td>\n",
              "      <td>1</td>\n",
              "      <td>3</td>\n",
              "      <td>0</td>\n",
              "      <td>no</td>\n",
              "      <td>yes</td>\n",
              "      <td>yes</td>\n",
              "      <td>yes</td>\n",
              "      <td>yes</td>\n",
              "      <td>yes</td>\n",
              "      <td>yes</td>\n",
              "      <td>yes</td>\n",
              "      <td>3</td>\n",
              "      <td>2</td>\n",
              "      <td>2</td>\n",
              "      <td>1</td>\n",
              "      <td>1</td>\n",
              "      <td>5</td>\n",
              "      <td>2</td>\n",
              "      <td>15</td>\n",
              "      <td>14</td>\n",
              "      <td>15</td>\n",
              "      <td>maths</td>\n",
              "      <td>Good</td>\n",
              "      <td>Always regular</td>\n",
              "      <td>Good</td>\n",
              "      <td>Satisfactory</td>\n",
              "      <td>2</td>\n",
              "      <td>0</td>\n",
              "      <td>0</td>\n",
              "      <td>2</td>\n",
              "      <td>4</td>\n",
              "      <td>1</td>\n",
              "      <td>1</td>\n",
              "      <td>3</td>\n",
              "      <td>1</td>\n",
              "      <td>0</td>\n",
              "      <td>1</td>\n",
              "      <td>0</td>\n",
              "    </tr>\n",
              "    <tr>\n",
              "      <th>4</th>\n",
              "      <td>4</td>\n",
              "      <td>GP</td>\n",
              "      <td>F</td>\n",
              "      <td>16</td>\n",
              "      <td>U</td>\n",
              "      <td>0</td>\n",
              "      <td>T</td>\n",
              "      <td>3</td>\n",
              "      <td>3</td>\n",
              "      <td>other</td>\n",
              "      <td>other</td>\n",
              "      <td>home</td>\n",
              "      <td>father</td>\n",
              "      <td>1</td>\n",
              "      <td>2</td>\n",
              "      <td>0</td>\n",
              "      <td>no</td>\n",
              "      <td>yes</td>\n",
              "      <td>yes</td>\n",
              "      <td>no</td>\n",
              "      <td>yes</td>\n",
              "      <td>yes</td>\n",
              "      <td>no</td>\n",
              "      <td>no</td>\n",
              "      <td>4</td>\n",
              "      <td>3</td>\n",
              "      <td>2</td>\n",
              "      <td>1</td>\n",
              "      <td>2</td>\n",
              "      <td>5</td>\n",
              "      <td>4</td>\n",
              "      <td>6</td>\n",
              "      <td>10</td>\n",
              "      <td>10</td>\n",
              "      <td>maths</td>\n",
              "      <td>Poor</td>\n",
              "      <td>Always regular</td>\n",
              "      <td>Poor</td>\n",
              "      <td>Poor</td>\n",
              "      <td>3</td>\n",
              "      <td>0</td>\n",
              "      <td>0</td>\n",
              "      <td>3</td>\n",
              "      <td>3</td>\n",
              "      <td>1</td>\n",
              "      <td>2</td>\n",
              "      <td>2</td>\n",
              "      <td>0</td>\n",
              "      <td>0</td>\n",
              "      <td>1</td>\n",
              "      <td>0</td>\n",
              "    </tr>\n",
              "  </tbody>\n",
              "</table>\n",
              "</div>"
            ],
            "text/plain": [
              "   Unnamed: 0 school sex  age  ... guardian_cat  famsize_cat address_cat  sex_cat\n",
              "0           0     GP   F   18  ...            1            0           1        0\n",
              "1           1     GP   F   17  ...            0            0           1        0\n",
              "2           2     GP   F   15  ...            1            1           1        0\n",
              "3           3     GP   F   15  ...            1            0           1        0\n",
              "4           4     GP   F   16  ...            0            0           1        0\n",
              "\n",
              "[5 rows x 51 columns]"
            ]
          },
          "metadata": {
            "tags": []
          },
          "execution_count": 4
        }
      ]
    },
    {
      "cell_type": "code",
      "metadata": {
        "id": "l9zljB7uVdaP"
      },
      "source": [
        "df = df.loc[:, ~df.columns.str.contains('^Unnamed')]"
      ],
      "execution_count": null,
      "outputs": []
    },
    {
      "cell_type": "code",
      "metadata": {
        "colab": {
          "base_uri": "https://localhost:8080/",
          "height": 309
        },
        "id": "dE4DaOxkVj5u",
        "outputId": "15cfc41f-60da-4025-a4f8-1ef62fa86a56"
      },
      "source": [
        "df.head()"
      ],
      "execution_count": null,
      "outputs": [
        {
          "output_type": "execute_result",
          "data": {
            "text/html": [
              "<div>\n",
              "<style scoped>\n",
              "    .dataframe tbody tr th:only-of-type {\n",
              "        vertical-align: middle;\n",
              "    }\n",
              "\n",
              "    .dataframe tbody tr th {\n",
              "        vertical-align: top;\n",
              "    }\n",
              "\n",
              "    .dataframe thead th {\n",
              "        text-align: right;\n",
              "    }\n",
              "</style>\n",
              "<table border=\"1\" class=\"dataframe\">\n",
              "  <thead>\n",
              "    <tr style=\"text-align: right;\">\n",
              "      <th></th>\n",
              "      <th>school</th>\n",
              "      <th>sex</th>\n",
              "      <th>age</th>\n",
              "      <th>address</th>\n",
              "      <th>famsize</th>\n",
              "      <th>Pstatus</th>\n",
              "      <th>Medu</th>\n",
              "      <th>Fedu</th>\n",
              "      <th>Mjob</th>\n",
              "      <th>Fjob</th>\n",
              "      <th>reason</th>\n",
              "      <th>guardian</th>\n",
              "      <th>traveltime</th>\n",
              "      <th>studytime</th>\n",
              "      <th>failures</th>\n",
              "      <th>schoolsup</th>\n",
              "      <th>famsup</th>\n",
              "      <th>paid</th>\n",
              "      <th>activities</th>\n",
              "      <th>nursery</th>\n",
              "      <th>higher</th>\n",
              "      <th>internet</th>\n",
              "      <th>romantic</th>\n",
              "      <th>famrel</th>\n",
              "      <th>freetime</th>\n",
              "      <th>goout</th>\n",
              "      <th>Dalc</th>\n",
              "      <th>Walc</th>\n",
              "      <th>health</th>\n",
              "      <th>absences</th>\n",
              "      <th>G1</th>\n",
              "      <th>G2</th>\n",
              "      <th>G3</th>\n",
              "      <th>subject</th>\n",
              "      <th>FinalGrade</th>\n",
              "      <th>Regularity</th>\n",
              "      <th>GradeG1</th>\n",
              "      <th>GradeG2</th>\n",
              "      <th>FinalGrade_cat</th>\n",
              "      <th>Regularity_cat</th>\n",
              "      <th>school_cat</th>\n",
              "      <th>GradeG1_cat</th>\n",
              "      <th>GradeG2_cat</th>\n",
              "      <th>reason_cat</th>\n",
              "      <th>Mjob_cat</th>\n",
              "      <th>Fjob_cat</th>\n",
              "      <th>guardian_cat</th>\n",
              "      <th>famsize_cat</th>\n",
              "      <th>address_cat</th>\n",
              "      <th>sex_cat</th>\n",
              "    </tr>\n",
              "  </thead>\n",
              "  <tbody>\n",
              "    <tr>\n",
              "      <th>0</th>\n",
              "      <td>GP</td>\n",
              "      <td>F</td>\n",
              "      <td>18</td>\n",
              "      <td>U</td>\n",
              "      <td>0</td>\n",
              "      <td>A</td>\n",
              "      <td>4</td>\n",
              "      <td>4</td>\n",
              "      <td>at_home</td>\n",
              "      <td>teacher</td>\n",
              "      <td>course</td>\n",
              "      <td>mother</td>\n",
              "      <td>2</td>\n",
              "      <td>2</td>\n",
              "      <td>0</td>\n",
              "      <td>yes</td>\n",
              "      <td>no</td>\n",
              "      <td>no</td>\n",
              "      <td>no</td>\n",
              "      <td>yes</td>\n",
              "      <td>yes</td>\n",
              "      <td>no</td>\n",
              "      <td>no</td>\n",
              "      <td>4</td>\n",
              "      <td>3</td>\n",
              "      <td>4</td>\n",
              "      <td>1</td>\n",
              "      <td>1</td>\n",
              "      <td>3</td>\n",
              "      <td>6</td>\n",
              "      <td>5</td>\n",
              "      <td>6</td>\n",
              "      <td>6</td>\n",
              "      <td>maths</td>\n",
              "      <td>Poor</td>\n",
              "      <td>Always regular</td>\n",
              "      <td>Failure</td>\n",
              "      <td>Poor</td>\n",
              "      <td>3</td>\n",
              "      <td>0</td>\n",
              "      <td>0</td>\n",
              "      <td>1</td>\n",
              "      <td>3</td>\n",
              "      <td>0</td>\n",
              "      <td>0</td>\n",
              "      <td>4</td>\n",
              "      <td>1</td>\n",
              "      <td>0</td>\n",
              "      <td>1</td>\n",
              "      <td>0</td>\n",
              "    </tr>\n",
              "    <tr>\n",
              "      <th>1</th>\n",
              "      <td>GP</td>\n",
              "      <td>F</td>\n",
              "      <td>17</td>\n",
              "      <td>U</td>\n",
              "      <td>0</td>\n",
              "      <td>T</td>\n",
              "      <td>1</td>\n",
              "      <td>1</td>\n",
              "      <td>at_home</td>\n",
              "      <td>other</td>\n",
              "      <td>course</td>\n",
              "      <td>father</td>\n",
              "      <td>1</td>\n",
              "      <td>2</td>\n",
              "      <td>0</td>\n",
              "      <td>no</td>\n",
              "      <td>yes</td>\n",
              "      <td>no</td>\n",
              "      <td>no</td>\n",
              "      <td>no</td>\n",
              "      <td>yes</td>\n",
              "      <td>yes</td>\n",
              "      <td>no</td>\n",
              "      <td>5</td>\n",
              "      <td>3</td>\n",
              "      <td>3</td>\n",
              "      <td>1</td>\n",
              "      <td>1</td>\n",
              "      <td>3</td>\n",
              "      <td>4</td>\n",
              "      <td>5</td>\n",
              "      <td>5</td>\n",
              "      <td>6</td>\n",
              "      <td>maths</td>\n",
              "      <td>Poor</td>\n",
              "      <td>Always regular</td>\n",
              "      <td>Failure</td>\n",
              "      <td>Failure</td>\n",
              "      <td>3</td>\n",
              "      <td>0</td>\n",
              "      <td>0</td>\n",
              "      <td>1</td>\n",
              "      <td>1</td>\n",
              "      <td>0</td>\n",
              "      <td>0</td>\n",
              "      <td>2</td>\n",
              "      <td>0</td>\n",
              "      <td>0</td>\n",
              "      <td>1</td>\n",
              "      <td>0</td>\n",
              "    </tr>\n",
              "    <tr>\n",
              "      <th>2</th>\n",
              "      <td>GP</td>\n",
              "      <td>F</td>\n",
              "      <td>15</td>\n",
              "      <td>U</td>\n",
              "      <td>1</td>\n",
              "      <td>T</td>\n",
              "      <td>1</td>\n",
              "      <td>1</td>\n",
              "      <td>at_home</td>\n",
              "      <td>other</td>\n",
              "      <td>other</td>\n",
              "      <td>mother</td>\n",
              "      <td>1</td>\n",
              "      <td>2</td>\n",
              "      <td>3</td>\n",
              "      <td>yes</td>\n",
              "      <td>no</td>\n",
              "      <td>yes</td>\n",
              "      <td>no</td>\n",
              "      <td>yes</td>\n",
              "      <td>yes</td>\n",
              "      <td>yes</td>\n",
              "      <td>no</td>\n",
              "      <td>4</td>\n",
              "      <td>3</td>\n",
              "      <td>2</td>\n",
              "      <td>2</td>\n",
              "      <td>3</td>\n",
              "      <td>3</td>\n",
              "      <td>10</td>\n",
              "      <td>7</td>\n",
              "      <td>8</td>\n",
              "      <td>10</td>\n",
              "      <td>maths</td>\n",
              "      <td>Poor</td>\n",
              "      <td>Mostly regular</td>\n",
              "      <td>Poor</td>\n",
              "      <td>Poor</td>\n",
              "      <td>3</td>\n",
              "      <td>2</td>\n",
              "      <td>0</td>\n",
              "      <td>3</td>\n",
              "      <td>3</td>\n",
              "      <td>2</td>\n",
              "      <td>0</td>\n",
              "      <td>2</td>\n",
              "      <td>1</td>\n",
              "      <td>1</td>\n",
              "      <td>1</td>\n",
              "      <td>0</td>\n",
              "    </tr>\n",
              "    <tr>\n",
              "      <th>3</th>\n",
              "      <td>GP</td>\n",
              "      <td>F</td>\n",
              "      <td>15</td>\n",
              "      <td>U</td>\n",
              "      <td>0</td>\n",
              "      <td>T</td>\n",
              "      <td>4</td>\n",
              "      <td>2</td>\n",
              "      <td>health</td>\n",
              "      <td>services</td>\n",
              "      <td>home</td>\n",
              "      <td>mother</td>\n",
              "      <td>1</td>\n",
              "      <td>3</td>\n",
              "      <td>0</td>\n",
              "      <td>no</td>\n",
              "      <td>yes</td>\n",
              "      <td>yes</td>\n",
              "      <td>yes</td>\n",
              "      <td>yes</td>\n",
              "      <td>yes</td>\n",
              "      <td>yes</td>\n",
              "      <td>yes</td>\n",
              "      <td>3</td>\n",
              "      <td>2</td>\n",
              "      <td>2</td>\n",
              "      <td>1</td>\n",
              "      <td>1</td>\n",
              "      <td>5</td>\n",
              "      <td>2</td>\n",
              "      <td>15</td>\n",
              "      <td>14</td>\n",
              "      <td>15</td>\n",
              "      <td>maths</td>\n",
              "      <td>Good</td>\n",
              "      <td>Always regular</td>\n",
              "      <td>Good</td>\n",
              "      <td>Satisfactory</td>\n",
              "      <td>2</td>\n",
              "      <td>0</td>\n",
              "      <td>0</td>\n",
              "      <td>2</td>\n",
              "      <td>4</td>\n",
              "      <td>1</td>\n",
              "      <td>1</td>\n",
              "      <td>3</td>\n",
              "      <td>1</td>\n",
              "      <td>0</td>\n",
              "      <td>1</td>\n",
              "      <td>0</td>\n",
              "    </tr>\n",
              "    <tr>\n",
              "      <th>4</th>\n",
              "      <td>GP</td>\n",
              "      <td>F</td>\n",
              "      <td>16</td>\n",
              "      <td>U</td>\n",
              "      <td>0</td>\n",
              "      <td>T</td>\n",
              "      <td>3</td>\n",
              "      <td>3</td>\n",
              "      <td>other</td>\n",
              "      <td>other</td>\n",
              "      <td>home</td>\n",
              "      <td>father</td>\n",
              "      <td>1</td>\n",
              "      <td>2</td>\n",
              "      <td>0</td>\n",
              "      <td>no</td>\n",
              "      <td>yes</td>\n",
              "      <td>yes</td>\n",
              "      <td>no</td>\n",
              "      <td>yes</td>\n",
              "      <td>yes</td>\n",
              "      <td>no</td>\n",
              "      <td>no</td>\n",
              "      <td>4</td>\n",
              "      <td>3</td>\n",
              "      <td>2</td>\n",
              "      <td>1</td>\n",
              "      <td>2</td>\n",
              "      <td>5</td>\n",
              "      <td>4</td>\n",
              "      <td>6</td>\n",
              "      <td>10</td>\n",
              "      <td>10</td>\n",
              "      <td>maths</td>\n",
              "      <td>Poor</td>\n",
              "      <td>Always regular</td>\n",
              "      <td>Poor</td>\n",
              "      <td>Poor</td>\n",
              "      <td>3</td>\n",
              "      <td>0</td>\n",
              "      <td>0</td>\n",
              "      <td>3</td>\n",
              "      <td>3</td>\n",
              "      <td>1</td>\n",
              "      <td>2</td>\n",
              "      <td>2</td>\n",
              "      <td>0</td>\n",
              "      <td>0</td>\n",
              "      <td>1</td>\n",
              "      <td>0</td>\n",
              "    </tr>\n",
              "  </tbody>\n",
              "</table>\n",
              "</div>"
            ],
            "text/plain": [
              "  school sex  age address  ...  guardian_cat famsize_cat  address_cat  sex_cat\n",
              "0     GP   F   18       U  ...             1           0            1        0\n",
              "1     GP   F   17       U  ...             0           0            1        0\n",
              "2     GP   F   15       U  ...             1           1            1        0\n",
              "3     GP   F   15       U  ...             1           0            1        0\n",
              "4     GP   F   16       U  ...             0           0            1        0\n",
              "\n",
              "[5 rows x 50 columns]"
            ]
          },
          "metadata": {
            "tags": []
          },
          "execution_count": 6
        }
      ]
    },
    {
      "cell_type": "code",
      "metadata": {
        "colab": {
          "base_uri": "https://localhost:8080/"
        },
        "id": "9ou-WkxZVtgu",
        "outputId": "8e4bcdd4-4c14-46ce-ffab-1c7b7fe31623"
      },
      "source": [
        "df.info()"
      ],
      "execution_count": null,
      "outputs": [
        {
          "output_type": "stream",
          "text": [
            "<class 'pandas.core.frame.DataFrame'>\n",
            "RangeIndex: 1044 entries, 0 to 1043\n",
            "Data columns (total 50 columns):\n",
            " #   Column          Non-Null Count  Dtype \n",
            "---  ------          --------------  ----- \n",
            " 0   school          1044 non-null   object\n",
            " 1   sex             1044 non-null   object\n",
            " 2   age             1044 non-null   int64 \n",
            " 3   address         1044 non-null   object\n",
            " 4   famsize         1044 non-null   int64 \n",
            " 5   Pstatus         1044 non-null   object\n",
            " 6   Medu            1044 non-null   int64 \n",
            " 7   Fedu            1044 non-null   int64 \n",
            " 8   Mjob            1044 non-null   object\n",
            " 9   Fjob            1044 non-null   object\n",
            " 10  reason          1044 non-null   object\n",
            " 11  guardian        1044 non-null   object\n",
            " 12  traveltime      1044 non-null   int64 \n",
            " 13  studytime       1044 non-null   int64 \n",
            " 14  failures        1044 non-null   int64 \n",
            " 15  schoolsup       1044 non-null   object\n",
            " 16  famsup          1044 non-null   object\n",
            " 17  paid            1044 non-null   object\n",
            " 18  activities      1044 non-null   object\n",
            " 19  nursery         1044 non-null   object\n",
            " 20  higher          1044 non-null   object\n",
            " 21  internet        1044 non-null   object\n",
            " 22  romantic        1044 non-null   object\n",
            " 23  famrel          1044 non-null   int64 \n",
            " 24  freetime        1044 non-null   int64 \n",
            " 25  goout           1044 non-null   int64 \n",
            " 26  Dalc            1044 non-null   int64 \n",
            " 27  Walc            1044 non-null   int64 \n",
            " 28  health          1044 non-null   int64 \n",
            " 29  absences        1044 non-null   int64 \n",
            " 30  G1              1044 non-null   int64 \n",
            " 31  G2              1044 non-null   int64 \n",
            " 32  G3              1044 non-null   int64 \n",
            " 33  subject         1044 non-null   object\n",
            " 34  FinalGrade      1044 non-null   object\n",
            " 35  Regularity      1044 non-null   object\n",
            " 36  GradeG1         1044 non-null   object\n",
            " 37  GradeG2         1044 non-null   object\n",
            " 38  FinalGrade_cat  1044 non-null   int64 \n",
            " 39  Regularity_cat  1044 non-null   int64 \n",
            " 40  school_cat      1044 non-null   int64 \n",
            " 41  GradeG1_cat     1044 non-null   int64 \n",
            " 42  GradeG2_cat     1044 non-null   int64 \n",
            " 43  reason_cat      1044 non-null   int64 \n",
            " 44  Mjob_cat        1044 non-null   int64 \n",
            " 45  Fjob_cat        1044 non-null   int64 \n",
            " 46  guardian_cat    1044 non-null   int64 \n",
            " 47  famsize_cat     1044 non-null   int64 \n",
            " 48  address_cat     1044 non-null   int64 \n",
            " 49  sex_cat         1044 non-null   int64 \n",
            "dtypes: int64(29), object(21)\n",
            "memory usage: 407.9+ KB\n"
          ],
          "name": "stdout"
        }
      ]
    },
    {
      "cell_type": "code",
      "metadata": {
        "colab": {
          "base_uri": "https://localhost:8080/",
          "height": 204
        },
        "id": "o8xW70xdVyog",
        "outputId": "0d1c974b-eb41-4f4f-f217-8bfe1a0890a4"
      },
      "source": [
        "df1=df.copy()\n",
        "df1 = df1.drop(columns=[\"sex\",\"age\",\t\"Pstatus\",\t\"guardian\",\t\"traveltime\",\t\"schoolsup\",\t\"famsup\",\t\"paid\",\t\"activities\",\t\"nursery\",\t\"higher\",\t\"internet\",\t\"romantic\",\t\"freetime\",\t\"goout\",\t\"Dalc\",\t\"Walc\",\t\"health\",\t\"absences\",\t\"subject\"\t,\"Regularity\",\"G3\",\"FinalGrade_cat\",\"Regularity_cat\",\t\"school_cat\",\t\"GradeG1_cat\"\t,\"GradeG2_cat\"\t,\"reason_cat\"\t,\"Mjob_cat\"\t,\"Fjob_cat\"\t,\"guardian_cat\"\t,\"famsize_cat\"\t,\"address_cat\", \"sex_cat\"],axis=1)\n",
        "df1.head()"
      ],
      "execution_count": null,
      "outputs": [
        {
          "output_type": "execute_result",
          "data": {
            "text/html": [
              "<div>\n",
              "<style scoped>\n",
              "    .dataframe tbody tr th:only-of-type {\n",
              "        vertical-align: middle;\n",
              "    }\n",
              "\n",
              "    .dataframe tbody tr th {\n",
              "        vertical-align: top;\n",
              "    }\n",
              "\n",
              "    .dataframe thead th {\n",
              "        text-align: right;\n",
              "    }\n",
              "</style>\n",
              "<table border=\"1\" class=\"dataframe\">\n",
              "  <thead>\n",
              "    <tr style=\"text-align: right;\">\n",
              "      <th></th>\n",
              "      <th>school</th>\n",
              "      <th>address</th>\n",
              "      <th>famsize</th>\n",
              "      <th>Medu</th>\n",
              "      <th>Fedu</th>\n",
              "      <th>Mjob</th>\n",
              "      <th>Fjob</th>\n",
              "      <th>reason</th>\n",
              "      <th>studytime</th>\n",
              "      <th>failures</th>\n",
              "      <th>famrel</th>\n",
              "      <th>G1</th>\n",
              "      <th>G2</th>\n",
              "      <th>FinalGrade</th>\n",
              "      <th>GradeG1</th>\n",
              "      <th>GradeG2</th>\n",
              "    </tr>\n",
              "  </thead>\n",
              "  <tbody>\n",
              "    <tr>\n",
              "      <th>0</th>\n",
              "      <td>GP</td>\n",
              "      <td>U</td>\n",
              "      <td>0</td>\n",
              "      <td>4</td>\n",
              "      <td>4</td>\n",
              "      <td>at_home</td>\n",
              "      <td>teacher</td>\n",
              "      <td>course</td>\n",
              "      <td>2</td>\n",
              "      <td>0</td>\n",
              "      <td>4</td>\n",
              "      <td>5</td>\n",
              "      <td>6</td>\n",
              "      <td>Poor</td>\n",
              "      <td>Failure</td>\n",
              "      <td>Poor</td>\n",
              "    </tr>\n",
              "    <tr>\n",
              "      <th>1</th>\n",
              "      <td>GP</td>\n",
              "      <td>U</td>\n",
              "      <td>0</td>\n",
              "      <td>1</td>\n",
              "      <td>1</td>\n",
              "      <td>at_home</td>\n",
              "      <td>other</td>\n",
              "      <td>course</td>\n",
              "      <td>2</td>\n",
              "      <td>0</td>\n",
              "      <td>5</td>\n",
              "      <td>5</td>\n",
              "      <td>5</td>\n",
              "      <td>Poor</td>\n",
              "      <td>Failure</td>\n",
              "      <td>Failure</td>\n",
              "    </tr>\n",
              "    <tr>\n",
              "      <th>2</th>\n",
              "      <td>GP</td>\n",
              "      <td>U</td>\n",
              "      <td>1</td>\n",
              "      <td>1</td>\n",
              "      <td>1</td>\n",
              "      <td>at_home</td>\n",
              "      <td>other</td>\n",
              "      <td>other</td>\n",
              "      <td>2</td>\n",
              "      <td>3</td>\n",
              "      <td>4</td>\n",
              "      <td>7</td>\n",
              "      <td>8</td>\n",
              "      <td>Poor</td>\n",
              "      <td>Poor</td>\n",
              "      <td>Poor</td>\n",
              "    </tr>\n",
              "    <tr>\n",
              "      <th>3</th>\n",
              "      <td>GP</td>\n",
              "      <td>U</td>\n",
              "      <td>0</td>\n",
              "      <td>4</td>\n",
              "      <td>2</td>\n",
              "      <td>health</td>\n",
              "      <td>services</td>\n",
              "      <td>home</td>\n",
              "      <td>3</td>\n",
              "      <td>0</td>\n",
              "      <td>3</td>\n",
              "      <td>15</td>\n",
              "      <td>14</td>\n",
              "      <td>Good</td>\n",
              "      <td>Good</td>\n",
              "      <td>Satisfactory</td>\n",
              "    </tr>\n",
              "    <tr>\n",
              "      <th>4</th>\n",
              "      <td>GP</td>\n",
              "      <td>U</td>\n",
              "      <td>0</td>\n",
              "      <td>3</td>\n",
              "      <td>3</td>\n",
              "      <td>other</td>\n",
              "      <td>other</td>\n",
              "      <td>home</td>\n",
              "      <td>2</td>\n",
              "      <td>0</td>\n",
              "      <td>4</td>\n",
              "      <td>6</td>\n",
              "      <td>10</td>\n",
              "      <td>Poor</td>\n",
              "      <td>Poor</td>\n",
              "      <td>Poor</td>\n",
              "    </tr>\n",
              "  </tbody>\n",
              "</table>\n",
              "</div>"
            ],
            "text/plain": [
              "  school address  famsize  Medu  Fedu  ...  G1  G2 FinalGrade  GradeG1       GradeG2\n",
              "0     GP       U        0     4     4  ...   5   6       Poor  Failure          Poor\n",
              "1     GP       U        0     1     1  ...   5   5       Poor  Failure       Failure\n",
              "2     GP       U        1     1     1  ...   7   8       Poor     Poor          Poor\n",
              "3     GP       U        0     4     2  ...  15  14       Good     Good  Satisfactory\n",
              "4     GP       U        0     3     3  ...   6  10       Poor     Poor          Poor\n",
              "\n",
              "[5 rows x 16 columns]"
            ]
          },
          "metadata": {
            "tags": []
          },
          "execution_count": 8
        }
      ]
    },
    {
      "cell_type": "code",
      "metadata": {
        "colab": {
          "base_uri": "https://localhost:8080/"
        },
        "id": "QBL-Wk3BV6dA",
        "outputId": "c14af278-4b2b-47fb-8390-f61315f98fd3"
      },
      "source": [
        "col_names = [\"school\",\t\"address\",\t\"famsize\",\t\"Medu\",\t\"Fedu\",\t\"Mjob\",\t\"Fjob\",\t\"reason\",\t\"studytime\",\t\"failures\",\t\"famrel\",\t\"G1\",\t\"G2\",\t\"FinalGrade\",\t\"GradeG1\"\t,\"GradeG2\"\t]\n",
        "\n",
        "\n",
        "for col in col_names:\n",
        "    \n",
        "    print(df1[col].value_counts())   "
      ],
      "execution_count": null,
      "outputs": [
        {
          "output_type": "stream",
          "text": [
            "GP    772\n",
            "MS    272\n",
            "Name: school, dtype: int64\n",
            "U    759\n",
            "R    285\n",
            "Name: address, dtype: int64\n",
            "0    738\n",
            "1    306\n",
            "Name: famsize, dtype: int64\n",
            "4    306\n",
            "2    289\n",
            "3    238\n",
            "1    202\n",
            "0      9\n",
            "Name: Medu, dtype: int64\n",
            "2    324\n",
            "1    256\n",
            "3    231\n",
            "4    224\n",
            "0      9\n",
            "Name: Fedu, dtype: int64\n",
            "other       399\n",
            "services    239\n",
            "at_home     194\n",
            "teacher     130\n",
            "health       82\n",
            "Name: Mjob, dtype: int64\n",
            "other       584\n",
            "services    292\n",
            "teacher      65\n",
            "at_home      62\n",
            "health       41\n",
            "Name: Fjob, dtype: int64\n",
            "course        430\n",
            "home          258\n",
            "reputation    248\n",
            "other         108\n",
            "Name: reason, dtype: int64\n",
            "2    503\n",
            "1    317\n",
            "3    162\n",
            "4     62\n",
            "Name: studytime, dtype: int64\n",
            "0    861\n",
            "1    120\n",
            "2     33\n",
            "3     30\n",
            "Name: failures, dtype: int64\n",
            "4    512\n",
            "5    286\n",
            "3    169\n",
            "2     47\n",
            "1     30\n",
            "Name: famrel, dtype: int64\n",
            "10    146\n",
            "11    130\n",
            "12    117\n",
            "13    105\n",
            "14    101\n",
            "9      96\n",
            "8      83\n",
            "7      70\n",
            "15     59\n",
            "16     44\n",
            "6      33\n",
            "17     24\n",
            "18     15\n",
            "5      12\n",
            "19      4\n",
            "4       3\n",
            "3       1\n",
            "0       1\n",
            "Name: G1, dtype: int64\n",
            "11    138\n",
            "10    129\n",
            "12    127\n",
            "9     122\n",
            "13    117\n",
            "14     77\n",
            "15     72\n",
            "8      72\n",
            "16     38\n",
            "7      37\n",
            "18     26\n",
            "17     25\n",
            "6      21\n",
            "0      20\n",
            "5      18\n",
            "19      4\n",
            "4       1\n",
            "Name: G2, dtype: int64\n",
            "Satisfactory    457\n",
            "Poor            320\n",
            "Good            169\n",
            "Failure          63\n",
            "Excellent        35\n",
            "Name: FinalGrade, dtype: int64\n",
            "Satisfactory    453\n",
            "Poor            428\n",
            "Good            127\n",
            "Excellent        19\n",
            "Failure          17\n",
            "Name: GradeG1, dtype: int64\n",
            "Satisfactory    459\n",
            "Poor            381\n",
            "Good            135\n",
            "Failure          39\n",
            "Excellent        30\n",
            "Name: GradeG2, dtype: int64\n"
          ],
          "name": "stdout"
        }
      ]
    },
    {
      "cell_type": "code",
      "metadata": {
        "colab": {
          "base_uri": "https://localhost:8080/"
        },
        "id": "Da5AmZ6oWKVw",
        "outputId": "21384642-b773-4217-c06b-baf1d26f8a8f"
      },
      "source": [
        "df1['FinalGrade'].value_counts()"
      ],
      "execution_count": null,
      "outputs": [
        {
          "output_type": "execute_result",
          "data": {
            "text/plain": [
              "Satisfactory    457\n",
              "Poor            320\n",
              "Good            169\n",
              "Failure          63\n",
              "Excellent        35\n",
              "Name: FinalGrade, dtype: int64"
            ]
          },
          "metadata": {
            "tags": []
          },
          "execution_count": 11
        }
      ]
    },
    {
      "cell_type": "code",
      "metadata": {
        "colab": {
          "base_uri": "https://localhost:8080/"
        },
        "id": "35AUSvQoWXCx",
        "outputId": "6e13c12c-6d7f-4249-91e3-5745dacc7b87"
      },
      "source": [
        "df1.isnull().sum()"
      ],
      "execution_count": null,
      "outputs": [
        {
          "output_type": "execute_result",
          "data": {
            "text/plain": [
              "school        0\n",
              "address       0\n",
              "famsize       0\n",
              "Medu          0\n",
              "Fedu          0\n",
              "Mjob          0\n",
              "Fjob          0\n",
              "reason        0\n",
              "studytime     0\n",
              "failures      0\n",
              "famrel        0\n",
              "G1            0\n",
              "G2            0\n",
              "FinalGrade    0\n",
              "GradeG1       0\n",
              "GradeG2       0\n",
              "dtype: int64"
            ]
          },
          "metadata": {
            "tags": []
          },
          "execution_count": 12
        }
      ]
    },
    {
      "cell_type": "code",
      "metadata": {
        "id": "Z3GWkD1UCpDc"
      },
      "source": [
        "X = df1.drop(['FinalGrade'], axis=1)\n",
        "\n",
        "y = df1['FinalGrade']"
      ],
      "execution_count": null,
      "outputs": []
    },
    {
      "cell_type": "code",
      "metadata": {
        "id": "mHiWecuhWyUv"
      },
      "source": [
        "from sklearn.model_selection import train_test_split\n",
        "\n",
        "X_train, X_test, y_train, y_test = train_test_split(X, y, test_size=0.2, random_state=48)"
      ],
      "execution_count": null,
      "outputs": []
    },
    {
      "cell_type": "code",
      "metadata": {
        "colab": {
          "base_uri": "https://localhost:8080/"
        },
        "id": "4XrfS9xIWnMN",
        "outputId": "c6fd4633-a5a3-4aa8-b691-3661ff3f4d9d"
      },
      "source": [
        "X_train.shape, X_test.shape"
      ],
      "execution_count": null,
      "outputs": [
        {
          "output_type": "execute_result",
          "data": {
            "text/plain": [
              "((835, 15), (209, 15))"
            ]
          },
          "metadata": {
            "tags": []
          },
          "execution_count": 15
        }
      ]
    },
    {
      "cell_type": "code",
      "metadata": {
        "colab": {
          "base_uri": "https://localhost:8080/"
        },
        "id": "qPZPxj2JW5EG",
        "outputId": "a6899caa-7784-4311-b3dc-668345afc4d5"
      },
      "source": [
        "X_train.dtypes"
      ],
      "execution_count": null,
      "outputs": [
        {
          "output_type": "execute_result",
          "data": {
            "text/plain": [
              "school       object\n",
              "address      object\n",
              "famsize       int64\n",
              "Medu          int64\n",
              "Fedu          int64\n",
              "Mjob         object\n",
              "Fjob         object\n",
              "reason       object\n",
              "studytime     int64\n",
              "failures      int64\n",
              "famrel        int64\n",
              "G1            int64\n",
              "G2            int64\n",
              "GradeG1      object\n",
              "GradeG2      object\n",
              "dtype: object"
            ]
          },
          "metadata": {
            "tags": []
          },
          "execution_count": 16
        }
      ]
    },
    {
      "cell_type": "code",
      "metadata": {
        "colab": {
          "base_uri": "https://localhost:8080/",
          "height": 419
        },
        "id": "xibeN7BrXWEP",
        "outputId": "aa276316-97ae-4003-de89-7e90ede8abc1"
      },
      "source": [
        "X_train"
      ],
      "execution_count": null,
      "outputs": [
        {
          "output_type": "execute_result",
          "data": {
            "text/html": [
              "<div>\n",
              "<style scoped>\n",
              "    .dataframe tbody tr th:only-of-type {\n",
              "        vertical-align: middle;\n",
              "    }\n",
              "\n",
              "    .dataframe tbody tr th {\n",
              "        vertical-align: top;\n",
              "    }\n",
              "\n",
              "    .dataframe thead th {\n",
              "        text-align: right;\n",
              "    }\n",
              "</style>\n",
              "<table border=\"1\" class=\"dataframe\">\n",
              "  <thead>\n",
              "    <tr style=\"text-align: right;\">\n",
              "      <th></th>\n",
              "      <th>school</th>\n",
              "      <th>address</th>\n",
              "      <th>famsize</th>\n",
              "      <th>Medu</th>\n",
              "      <th>Fedu</th>\n",
              "      <th>Mjob</th>\n",
              "      <th>Fjob</th>\n",
              "      <th>reason</th>\n",
              "      <th>studytime</th>\n",
              "      <th>failures</th>\n",
              "      <th>famrel</th>\n",
              "      <th>G1</th>\n",
              "      <th>G2</th>\n",
              "      <th>GradeG1</th>\n",
              "      <th>GradeG2</th>\n",
              "    </tr>\n",
              "  </thead>\n",
              "  <tbody>\n",
              "    <tr>\n",
              "      <th>89</th>\n",
              "      <td>GP</td>\n",
              "      <td>U</td>\n",
              "      <td>1</td>\n",
              "      <td>4</td>\n",
              "      <td>4</td>\n",
              "      <td>teacher</td>\n",
              "      <td>health</td>\n",
              "      <td>reputation</td>\n",
              "      <td>2</td>\n",
              "      <td>0</td>\n",
              "      <td>4</td>\n",
              "      <td>8</td>\n",
              "      <td>6</td>\n",
              "      <td>Poor</td>\n",
              "      <td>Poor</td>\n",
              "    </tr>\n",
              "    <tr>\n",
              "      <th>704</th>\n",
              "      <td>GP</td>\n",
              "      <td>U</td>\n",
              "      <td>0</td>\n",
              "      <td>4</td>\n",
              "      <td>2</td>\n",
              "      <td>health</td>\n",
              "      <td>other</td>\n",
              "      <td>reputation</td>\n",
              "      <td>2</td>\n",
              "      <td>0</td>\n",
              "      <td>5</td>\n",
              "      <td>10</td>\n",
              "      <td>12</td>\n",
              "      <td>Poor</td>\n",
              "      <td>Satisfactory</td>\n",
              "    </tr>\n",
              "    <tr>\n",
              "      <th>692</th>\n",
              "      <td>GP</td>\n",
              "      <td>R</td>\n",
              "      <td>0</td>\n",
              "      <td>2</td>\n",
              "      <td>2</td>\n",
              "      <td>other</td>\n",
              "      <td>services</td>\n",
              "      <td>other</td>\n",
              "      <td>1</td>\n",
              "      <td>0</td>\n",
              "      <td>5</td>\n",
              "      <td>9</td>\n",
              "      <td>10</td>\n",
              "      <td>Poor</td>\n",
              "      <td>Poor</td>\n",
              "    </tr>\n",
              "    <tr>\n",
              "      <th>30</th>\n",
              "      <td>GP</td>\n",
              "      <td>U</td>\n",
              "      <td>0</td>\n",
              "      <td>4</td>\n",
              "      <td>4</td>\n",
              "      <td>health</td>\n",
              "      <td>services</td>\n",
              "      <td>home</td>\n",
              "      <td>2</td>\n",
              "      <td>0</td>\n",
              "      <td>5</td>\n",
              "      <td>9</td>\n",
              "      <td>11</td>\n",
              "      <td>Poor</td>\n",
              "      <td>Satisfactory</td>\n",
              "    </tr>\n",
              "    <tr>\n",
              "      <th>317</th>\n",
              "      <td>GP</td>\n",
              "      <td>U</td>\n",
              "      <td>0</td>\n",
              "      <td>4</td>\n",
              "      <td>3</td>\n",
              "      <td>other</td>\n",
              "      <td>other</td>\n",
              "      <td>course</td>\n",
              "      <td>3</td>\n",
              "      <td>0</td>\n",
              "      <td>4</td>\n",
              "      <td>9</td>\n",
              "      <td>10</td>\n",
              "      <td>Poor</td>\n",
              "      <td>Poor</td>\n",
              "    </tr>\n",
              "    <tr>\n",
              "      <th>...</th>\n",
              "      <td>...</td>\n",
              "      <td>...</td>\n",
              "      <td>...</td>\n",
              "      <td>...</td>\n",
              "      <td>...</td>\n",
              "      <td>...</td>\n",
              "      <td>...</td>\n",
              "      <td>...</td>\n",
              "      <td>...</td>\n",
              "      <td>...</td>\n",
              "      <td>...</td>\n",
              "      <td>...</td>\n",
              "      <td>...</td>\n",
              "      <td>...</td>\n",
              "      <td>...</td>\n",
              "    </tr>\n",
              "    <tr>\n",
              "      <th>454</th>\n",
              "      <td>GP</td>\n",
              "      <td>U</td>\n",
              "      <td>0</td>\n",
              "      <td>4</td>\n",
              "      <td>2</td>\n",
              "      <td>services</td>\n",
              "      <td>other</td>\n",
              "      <td>course</td>\n",
              "      <td>2</td>\n",
              "      <td>0</td>\n",
              "      <td>4</td>\n",
              "      <td>16</td>\n",
              "      <td>15</td>\n",
              "      <td>Good</td>\n",
              "      <td>Good</td>\n",
              "    </tr>\n",
              "    <tr>\n",
              "      <th>966</th>\n",
              "      <td>MS</td>\n",
              "      <td>U</td>\n",
              "      <td>0</td>\n",
              "      <td>2</td>\n",
              "      <td>1</td>\n",
              "      <td>at_home</td>\n",
              "      <td>other</td>\n",
              "      <td>course</td>\n",
              "      <td>1</td>\n",
              "      <td>3</td>\n",
              "      <td>4</td>\n",
              "      <td>8</td>\n",
              "      <td>9</td>\n",
              "      <td>Poor</td>\n",
              "      <td>Poor</td>\n",
              "    </tr>\n",
              "    <tr>\n",
              "      <th>944</th>\n",
              "      <td>MS</td>\n",
              "      <td>R</td>\n",
              "      <td>0</td>\n",
              "      <td>4</td>\n",
              "      <td>2</td>\n",
              "      <td>other</td>\n",
              "      <td>other</td>\n",
              "      <td>course</td>\n",
              "      <td>2</td>\n",
              "      <td>0</td>\n",
              "      <td>4</td>\n",
              "      <td>17</td>\n",
              "      <td>18</td>\n",
              "      <td>Good</td>\n",
              "      <td>Excellent</td>\n",
              "    </tr>\n",
              "    <tr>\n",
              "      <th>347</th>\n",
              "      <td>GP</td>\n",
              "      <td>U</td>\n",
              "      <td>0</td>\n",
              "      <td>4</td>\n",
              "      <td>3</td>\n",
              "      <td>teacher</td>\n",
              "      <td>other</td>\n",
              "      <td>course</td>\n",
              "      <td>3</td>\n",
              "      <td>0</td>\n",
              "      <td>5</td>\n",
              "      <td>10</td>\n",
              "      <td>10</td>\n",
              "      <td>Poor</td>\n",
              "      <td>Poor</td>\n",
              "    </tr>\n",
              "    <tr>\n",
              "      <th>563</th>\n",
              "      <td>GP</td>\n",
              "      <td>R</td>\n",
              "      <td>0</td>\n",
              "      <td>2</td>\n",
              "      <td>3</td>\n",
              "      <td>at_home</td>\n",
              "      <td>services</td>\n",
              "      <td>course</td>\n",
              "      <td>2</td>\n",
              "      <td>0</td>\n",
              "      <td>4</td>\n",
              "      <td>7</td>\n",
              "      <td>8</td>\n",
              "      <td>Poor</td>\n",
              "      <td>Poor</td>\n",
              "    </tr>\n",
              "  </tbody>\n",
              "</table>\n",
              "<p>835 rows × 15 columns</p>\n",
              "</div>"
            ],
            "text/plain": [
              "    school address  famsize  Medu  Fedu  ... famrel  G1  G2  GradeG1       GradeG2\n",
              "89      GP       U        1     4     4  ...      4   8   6     Poor          Poor\n",
              "704     GP       U        0     4     2  ...      5  10  12     Poor  Satisfactory\n",
              "692     GP       R        0     2     2  ...      5   9  10     Poor          Poor\n",
              "30      GP       U        0     4     4  ...      5   9  11     Poor  Satisfactory\n",
              "317     GP       U        0     4     3  ...      4   9  10     Poor          Poor\n",
              "..     ...     ...      ...   ...   ...  ...    ...  ..  ..      ...           ...\n",
              "454     GP       U        0     4     2  ...      4  16  15     Good          Good\n",
              "966     MS       U        0     2     1  ...      4   8   9     Poor          Poor\n",
              "944     MS       R        0     4     2  ...      4  17  18     Good     Excellent\n",
              "347     GP       U        0     4     3  ...      5  10  10     Poor          Poor\n",
              "563     GP       R        0     2     3  ...      4   7   8     Poor          Poor\n",
              "\n",
              "[835 rows x 15 columns]"
            ]
          },
          "metadata": {
            "tags": []
          },
          "execution_count": 17
        }
      ]
    },
    {
      "cell_type": "code",
      "metadata": {
        "colab": {
          "base_uri": "https://localhost:8080/"
        },
        "id": "D_KzZuGlQV2h",
        "outputId": "408af451-1e69-4587-a27f-67f6713ffd90"
      },
      "source": [
        "X_train['Mjob'].unique()"
      ],
      "execution_count": null,
      "outputs": [
        {
          "output_type": "execute_result",
          "data": {
            "text/plain": [
              "array(['teacher', 'health', 'other', 'at_home', 'services'], dtype=object)"
            ]
          },
          "metadata": {
            "tags": []
          },
          "execution_count": 18
        }
      ]
    },
    {
      "cell_type": "code",
      "metadata": {
        "colab": {
          "base_uri": "https://localhost:8080/",
          "height": 204
        },
        "id": "2YrJMpKMXZNF",
        "outputId": "4fe4f22a-ad3e-4273-f5f3-764d763b4617"
      },
      "source": [
        "X_test.head()"
      ],
      "execution_count": null,
      "outputs": [
        {
          "output_type": "execute_result",
          "data": {
            "text/html": [
              "<div>\n",
              "<style scoped>\n",
              "    .dataframe tbody tr th:only-of-type {\n",
              "        vertical-align: middle;\n",
              "    }\n",
              "\n",
              "    .dataframe tbody tr th {\n",
              "        vertical-align: top;\n",
              "    }\n",
              "\n",
              "    .dataframe thead th {\n",
              "        text-align: right;\n",
              "    }\n",
              "</style>\n",
              "<table border=\"1\" class=\"dataframe\">\n",
              "  <thead>\n",
              "    <tr style=\"text-align: right;\">\n",
              "      <th></th>\n",
              "      <th>school</th>\n",
              "      <th>address</th>\n",
              "      <th>famsize</th>\n",
              "      <th>Medu</th>\n",
              "      <th>Fedu</th>\n",
              "      <th>Mjob</th>\n",
              "      <th>Fjob</th>\n",
              "      <th>reason</th>\n",
              "      <th>studytime</th>\n",
              "      <th>failures</th>\n",
              "      <th>famrel</th>\n",
              "      <th>G1</th>\n",
              "      <th>G2</th>\n",
              "      <th>GradeG1</th>\n",
              "      <th>GradeG2</th>\n",
              "    </tr>\n",
              "  </thead>\n",
              "  <tbody>\n",
              "    <tr>\n",
              "      <th>975</th>\n",
              "      <td>MS</td>\n",
              "      <td>R</td>\n",
              "      <td>0</td>\n",
              "      <td>1</td>\n",
              "      <td>1</td>\n",
              "      <td>other</td>\n",
              "      <td>other</td>\n",
              "      <td>home</td>\n",
              "      <td>1</td>\n",
              "      <td>1</td>\n",
              "      <td>4</td>\n",
              "      <td>8</td>\n",
              "      <td>9</td>\n",
              "      <td>Poor</td>\n",
              "      <td>Poor</td>\n",
              "    </tr>\n",
              "    <tr>\n",
              "      <th>522</th>\n",
              "      <td>GP</td>\n",
              "      <td>U</td>\n",
              "      <td>0</td>\n",
              "      <td>0</td>\n",
              "      <td>1</td>\n",
              "      <td>at_home</td>\n",
              "      <td>other</td>\n",
              "      <td>course</td>\n",
              "      <td>2</td>\n",
              "      <td>2</td>\n",
              "      <td>3</td>\n",
              "      <td>9</td>\n",
              "      <td>10</td>\n",
              "      <td>Poor</td>\n",
              "      <td>Poor</td>\n",
              "    </tr>\n",
              "    <tr>\n",
              "      <th>413</th>\n",
              "      <td>GP</td>\n",
              "      <td>U</td>\n",
              "      <td>0</td>\n",
              "      <td>3</td>\n",
              "      <td>2</td>\n",
              "      <td>services</td>\n",
              "      <td>services</td>\n",
              "      <td>course</td>\n",
              "      <td>1</td>\n",
              "      <td>3</td>\n",
              "      <td>5</td>\n",
              "      <td>8</td>\n",
              "      <td>8</td>\n",
              "      <td>Poor</td>\n",
              "      <td>Poor</td>\n",
              "    </tr>\n",
              "    <tr>\n",
              "      <th>905</th>\n",
              "      <td>MS</td>\n",
              "      <td>R</td>\n",
              "      <td>0</td>\n",
              "      <td>2</td>\n",
              "      <td>2</td>\n",
              "      <td>other</td>\n",
              "      <td>other</td>\n",
              "      <td>reputation</td>\n",
              "      <td>2</td>\n",
              "      <td>0</td>\n",
              "      <td>5</td>\n",
              "      <td>15</td>\n",
              "      <td>17</td>\n",
              "      <td>Good</td>\n",
              "      <td>Good</td>\n",
              "    </tr>\n",
              "    <tr>\n",
              "      <th>328</th>\n",
              "      <td>GP</td>\n",
              "      <td>U</td>\n",
              "      <td>0</td>\n",
              "      <td>4</td>\n",
              "      <td>4</td>\n",
              "      <td>teacher</td>\n",
              "      <td>services</td>\n",
              "      <td>course</td>\n",
              "      <td>3</td>\n",
              "      <td>0</td>\n",
              "      <td>5</td>\n",
              "      <td>10</td>\n",
              "      <td>9</td>\n",
              "      <td>Poor</td>\n",
              "      <td>Poor</td>\n",
              "    </tr>\n",
              "  </tbody>\n",
              "</table>\n",
              "</div>"
            ],
            "text/plain": [
              "    school address  famsize  Medu  Fedu  ... famrel  G1  G2  GradeG1  GradeG2\n",
              "975     MS       R        0     1     1  ...      4   8   9     Poor     Poor\n",
              "522     GP       U        0     0     1  ...      3   9  10     Poor     Poor\n",
              "413     GP       U        0     3     2  ...      5   8   8     Poor     Poor\n",
              "905     MS       R        0     2     2  ...      5  15  17     Good     Good\n",
              "328     GP       U        0     4     4  ...      5  10   9     Poor     Poor\n",
              "\n",
              "[5 rows x 15 columns]"
            ]
          },
          "metadata": {
            "tags": []
          },
          "execution_count": 19
        }
      ]
    },
    {
      "cell_type": "code",
      "metadata": {
        "colab": {
          "base_uri": "https://localhost:8080/"
        },
        "id": "xm7ttLE6c8f6",
        "outputId": "d73f9d1b-46f8-47a3-bb71-3e52e6a2c443"
      },
      "source": [
        "y_train\n"
      ],
      "execution_count": null,
      "outputs": [
        {
          "output_type": "execute_result",
          "data": {
            "text/plain": [
              "89             Poor\n",
              "704    Satisfactory\n",
              "692            Poor\n",
              "30     Satisfactory\n",
              "317            Poor\n",
              "           ...     \n",
              "454            Good\n",
              "966            Poor\n",
              "944       Excellent\n",
              "347            Poor\n",
              "563            Poor\n",
              "Name: FinalGrade, Length: 835, dtype: object"
            ]
          },
          "metadata": {
            "tags": []
          },
          "execution_count": 20
        }
      ]
    },
    {
      "cell_type": "code",
      "metadata": {
        "colab": {
          "base_uri": "https://localhost:8080/"
        },
        "id": "y0nNxvc9XcHY",
        "outputId": "e4fd04e6-5abc-48da-eb98-41ed8f27bdba"
      },
      "source": [
        "!pip install category_encoders\n",
        "import category_encoders as ce"
      ],
      "execution_count": null,
      "outputs": [
        {
          "output_type": "stream",
          "text": [
            "Collecting category_encoders\n",
            "\u001b[?25l  Downloading https://files.pythonhosted.org/packages/44/57/fcef41c248701ee62e8325026b90c432adea35555cbc870aff9cfba23727/category_encoders-2.2.2-py2.py3-none-any.whl (80kB)\n",
            "\u001b[K     |████████████████████████████████| 81kB 2.8MB/s \n",
            "\u001b[?25hRequirement already satisfied: pandas>=0.21.1 in /usr/local/lib/python3.7/dist-packages (from category_encoders) (1.1.5)\n",
            "Requirement already satisfied: scikit-learn>=0.20.0 in /usr/local/lib/python3.7/dist-packages (from category_encoders) (0.22.2.post1)\n",
            "Requirement already satisfied: numpy>=1.14.0 in /usr/local/lib/python3.7/dist-packages (from category_encoders) (1.19.5)\n",
            "Requirement already satisfied: patsy>=0.5.1 in /usr/local/lib/python3.7/dist-packages (from category_encoders) (0.5.1)\n",
            "Requirement already satisfied: statsmodels>=0.9.0 in /usr/local/lib/python3.7/dist-packages (from category_encoders) (0.10.2)\n",
            "Requirement already satisfied: scipy>=1.0.0 in /usr/local/lib/python3.7/dist-packages (from category_encoders) (1.4.1)\n",
            "Requirement already satisfied: pytz>=2017.2 in /usr/local/lib/python3.7/dist-packages (from pandas>=0.21.1->category_encoders) (2018.9)\n",
            "Requirement already satisfied: python-dateutil>=2.7.3 in /usr/local/lib/python3.7/dist-packages (from pandas>=0.21.1->category_encoders) (2.8.1)\n",
            "Requirement already satisfied: joblib>=0.11 in /usr/local/lib/python3.7/dist-packages (from scikit-learn>=0.20.0->category_encoders) (1.0.1)\n",
            "Requirement already satisfied: six in /usr/local/lib/python3.7/dist-packages (from patsy>=0.5.1->category_encoders) (1.15.0)\n",
            "Installing collected packages: category-encoders\n",
            "Successfully installed category-encoders-2.2.2\n"
          ],
          "name": "stdout"
        }
      ]
    },
    {
      "cell_type": "code",
      "metadata": {
        "colab": {
          "base_uri": "https://localhost:8080/"
        },
        "id": "6DVHRwN7XnR8",
        "outputId": "cc390934-f629-46b9-b874-22f19c6a993b"
      },
      "source": [
        "df1.info()"
      ],
      "execution_count": null,
      "outputs": [
        {
          "output_type": "stream",
          "text": [
            "<class 'pandas.core.frame.DataFrame'>\n",
            "RangeIndex: 1044 entries, 0 to 1043\n",
            "Data columns (total 16 columns):\n",
            " #   Column      Non-Null Count  Dtype \n",
            "---  ------      --------------  ----- \n",
            " 0   school      1044 non-null   object\n",
            " 1   address     1044 non-null   object\n",
            " 2   famsize     1044 non-null   int64 \n",
            " 3   Medu        1044 non-null   int64 \n",
            " 4   Fedu        1044 non-null   int64 \n",
            " 5   Mjob        1044 non-null   object\n",
            " 6   Fjob        1044 non-null   object\n",
            " 7   reason      1044 non-null   object\n",
            " 8   studytime   1044 non-null   int64 \n",
            " 9   failures    1044 non-null   int64 \n",
            " 10  famrel      1044 non-null   int64 \n",
            " 11  G1          1044 non-null   int64 \n",
            " 12  G2          1044 non-null   int64 \n",
            " 13  FinalGrade  1044 non-null   object\n",
            " 14  GradeG1     1044 non-null   object\n",
            " 15  GradeG2     1044 non-null   object\n",
            "dtypes: int64(8), object(8)\n",
            "memory usage: 130.6+ KB\n"
          ],
          "name": "stdout"
        }
      ]
    },
    {
      "cell_type": "code",
      "metadata": {
        "id": "d1xl93T0Xhn3"
      },
      "source": [
        "encoder = ce.OrdinalEncoder(cols = [\"school\",\"address\",\"Mjob\",\"Fjob\",\t\"reason\",\t\"GradeG1\"\t,\"GradeG2\"])\n",
        "\n",
        "\n",
        "X_train = encoder.fit_transform(X_train)\n",
        "\n",
        "X_test = encoder.transform(X_test)\n"
      ],
      "execution_count": null,
      "outputs": []
    },
    {
      "cell_type": "code",
      "metadata": {
        "colab": {
          "base_uri": "https://localhost:8080/"
        },
        "id": "TwGh47UcXVL0",
        "outputId": "8c8c237e-624e-4abe-c677-1ef30e8559fc"
      },
      "source": [
        "y_train"
      ],
      "execution_count": null,
      "outputs": [
        {
          "output_type": "execute_result",
          "data": {
            "text/plain": [
              "89             Poor\n",
              "704    Satisfactory\n",
              "692            Poor\n",
              "30     Satisfactory\n",
              "317            Poor\n",
              "           ...     \n",
              "454            Good\n",
              "966            Poor\n",
              "944       Excellent\n",
              "347            Poor\n",
              "563            Poor\n",
              "Name: FinalGrade, Length: 835, dtype: object"
            ]
          },
          "metadata": {
            "tags": []
          },
          "execution_count": 24
        }
      ]
    },
    {
      "cell_type": "code",
      "metadata": {
        "colab": {
          "base_uri": "https://localhost:8080/"
        },
        "id": "_WMVZH1VXZPY",
        "outputId": "be9cfc0e-49b9-48bd-8eb5-e56fe17cf2bd"
      },
      "source": [
        "y_test"
      ],
      "execution_count": null,
      "outputs": [
        {
          "output_type": "execute_result",
          "data": {
            "text/plain": [
              "975            Poor\n",
              "522    Satisfactory\n",
              "413            Poor\n",
              "905            Good\n",
              "328            Poor\n",
              "           ...     \n",
              "140         Failure\n",
              "812            Good\n",
              "432    Satisfactory\n",
              "922            Poor\n",
              "139            Good\n",
              "Name: FinalGrade, Length: 209, dtype: object"
            ]
          },
          "metadata": {
            "tags": []
          },
          "execution_count": 25
        }
      ]
    },
    {
      "cell_type": "code",
      "metadata": {
        "colab": {
          "base_uri": "https://localhost:8080/",
          "height": 204
        },
        "id": "rN4lMFuKXzyi",
        "outputId": "7cb69e78-5f6b-4211-e721-083b8ffe804d"
      },
      "source": [
        "X_train.head()"
      ],
      "execution_count": null,
      "outputs": [
        {
          "output_type": "execute_result",
          "data": {
            "text/html": [
              "<div>\n",
              "<style scoped>\n",
              "    .dataframe tbody tr th:only-of-type {\n",
              "        vertical-align: middle;\n",
              "    }\n",
              "\n",
              "    .dataframe tbody tr th {\n",
              "        vertical-align: top;\n",
              "    }\n",
              "\n",
              "    .dataframe thead th {\n",
              "        text-align: right;\n",
              "    }\n",
              "</style>\n",
              "<table border=\"1\" class=\"dataframe\">\n",
              "  <thead>\n",
              "    <tr style=\"text-align: right;\">\n",
              "      <th></th>\n",
              "      <th>school</th>\n",
              "      <th>address</th>\n",
              "      <th>famsize</th>\n",
              "      <th>Medu</th>\n",
              "      <th>Fedu</th>\n",
              "      <th>Mjob</th>\n",
              "      <th>Fjob</th>\n",
              "      <th>reason</th>\n",
              "      <th>studytime</th>\n",
              "      <th>failures</th>\n",
              "      <th>famrel</th>\n",
              "      <th>G1</th>\n",
              "      <th>G2</th>\n",
              "      <th>GradeG1</th>\n",
              "      <th>GradeG2</th>\n",
              "    </tr>\n",
              "  </thead>\n",
              "  <tbody>\n",
              "    <tr>\n",
              "      <th>89</th>\n",
              "      <td>1</td>\n",
              "      <td>1</td>\n",
              "      <td>1</td>\n",
              "      <td>4</td>\n",
              "      <td>4</td>\n",
              "      <td>1</td>\n",
              "      <td>1</td>\n",
              "      <td>1</td>\n",
              "      <td>2</td>\n",
              "      <td>0</td>\n",
              "      <td>4</td>\n",
              "      <td>8</td>\n",
              "      <td>6</td>\n",
              "      <td>1</td>\n",
              "      <td>1</td>\n",
              "    </tr>\n",
              "    <tr>\n",
              "      <th>704</th>\n",
              "      <td>1</td>\n",
              "      <td>1</td>\n",
              "      <td>0</td>\n",
              "      <td>4</td>\n",
              "      <td>2</td>\n",
              "      <td>2</td>\n",
              "      <td>2</td>\n",
              "      <td>1</td>\n",
              "      <td>2</td>\n",
              "      <td>0</td>\n",
              "      <td>5</td>\n",
              "      <td>10</td>\n",
              "      <td>12</td>\n",
              "      <td>1</td>\n",
              "      <td>2</td>\n",
              "    </tr>\n",
              "    <tr>\n",
              "      <th>692</th>\n",
              "      <td>1</td>\n",
              "      <td>2</td>\n",
              "      <td>0</td>\n",
              "      <td>2</td>\n",
              "      <td>2</td>\n",
              "      <td>3</td>\n",
              "      <td>3</td>\n",
              "      <td>2</td>\n",
              "      <td>1</td>\n",
              "      <td>0</td>\n",
              "      <td>5</td>\n",
              "      <td>9</td>\n",
              "      <td>10</td>\n",
              "      <td>1</td>\n",
              "      <td>1</td>\n",
              "    </tr>\n",
              "    <tr>\n",
              "      <th>30</th>\n",
              "      <td>1</td>\n",
              "      <td>1</td>\n",
              "      <td>0</td>\n",
              "      <td>4</td>\n",
              "      <td>4</td>\n",
              "      <td>2</td>\n",
              "      <td>3</td>\n",
              "      <td>3</td>\n",
              "      <td>2</td>\n",
              "      <td>0</td>\n",
              "      <td>5</td>\n",
              "      <td>9</td>\n",
              "      <td>11</td>\n",
              "      <td>1</td>\n",
              "      <td>2</td>\n",
              "    </tr>\n",
              "    <tr>\n",
              "      <th>317</th>\n",
              "      <td>1</td>\n",
              "      <td>1</td>\n",
              "      <td>0</td>\n",
              "      <td>4</td>\n",
              "      <td>3</td>\n",
              "      <td>3</td>\n",
              "      <td>2</td>\n",
              "      <td>4</td>\n",
              "      <td>3</td>\n",
              "      <td>0</td>\n",
              "      <td>4</td>\n",
              "      <td>9</td>\n",
              "      <td>10</td>\n",
              "      <td>1</td>\n",
              "      <td>1</td>\n",
              "    </tr>\n",
              "  </tbody>\n",
              "</table>\n",
              "</div>"
            ],
            "text/plain": [
              "     school  address  famsize  Medu  Fedu  ...  famrel  G1  G2  GradeG1  GradeG2\n",
              "89        1        1        1     4     4  ...       4   8   6        1        1\n",
              "704       1        1        0     4     2  ...       5  10  12        1        2\n",
              "692       1        2        0     2     2  ...       5   9  10        1        1\n",
              "30        1        1        0     4     4  ...       5   9  11        1        2\n",
              "317       1        1        0     4     3  ...       4   9  10        1        1\n",
              "\n",
              "[5 rows x 15 columns]"
            ]
          },
          "metadata": {
            "tags": []
          },
          "execution_count": 26
        }
      ]
    },
    {
      "cell_type": "code",
      "metadata": {
        "colab": {
          "base_uri": "https://localhost:8080/",
          "height": 204
        },
        "id": "zZtQP8MoX4XL",
        "outputId": "2d40027a-1486-49e7-a829-e4692b2a31bb"
      },
      "source": [
        "X_test.head()"
      ],
      "execution_count": null,
      "outputs": [
        {
          "output_type": "execute_result",
          "data": {
            "text/html": [
              "<div>\n",
              "<style scoped>\n",
              "    .dataframe tbody tr th:only-of-type {\n",
              "        vertical-align: middle;\n",
              "    }\n",
              "\n",
              "    .dataframe tbody tr th {\n",
              "        vertical-align: top;\n",
              "    }\n",
              "\n",
              "    .dataframe thead th {\n",
              "        text-align: right;\n",
              "    }\n",
              "</style>\n",
              "<table border=\"1\" class=\"dataframe\">\n",
              "  <thead>\n",
              "    <tr style=\"text-align: right;\">\n",
              "      <th></th>\n",
              "      <th>school</th>\n",
              "      <th>address</th>\n",
              "      <th>famsize</th>\n",
              "      <th>Medu</th>\n",
              "      <th>Fedu</th>\n",
              "      <th>Mjob</th>\n",
              "      <th>Fjob</th>\n",
              "      <th>reason</th>\n",
              "      <th>studytime</th>\n",
              "      <th>failures</th>\n",
              "      <th>famrel</th>\n",
              "      <th>G1</th>\n",
              "      <th>G2</th>\n",
              "      <th>GradeG1</th>\n",
              "      <th>GradeG2</th>\n",
              "    </tr>\n",
              "  </thead>\n",
              "  <tbody>\n",
              "    <tr>\n",
              "      <th>975</th>\n",
              "      <td>2</td>\n",
              "      <td>2</td>\n",
              "      <td>0</td>\n",
              "      <td>1</td>\n",
              "      <td>1</td>\n",
              "      <td>3</td>\n",
              "      <td>2</td>\n",
              "      <td>3</td>\n",
              "      <td>1</td>\n",
              "      <td>1</td>\n",
              "      <td>4</td>\n",
              "      <td>8</td>\n",
              "      <td>9</td>\n",
              "      <td>1</td>\n",
              "      <td>1</td>\n",
              "    </tr>\n",
              "    <tr>\n",
              "      <th>522</th>\n",
              "      <td>1</td>\n",
              "      <td>1</td>\n",
              "      <td>0</td>\n",
              "      <td>0</td>\n",
              "      <td>1</td>\n",
              "      <td>4</td>\n",
              "      <td>2</td>\n",
              "      <td>4</td>\n",
              "      <td>2</td>\n",
              "      <td>2</td>\n",
              "      <td>3</td>\n",
              "      <td>9</td>\n",
              "      <td>10</td>\n",
              "      <td>1</td>\n",
              "      <td>1</td>\n",
              "    </tr>\n",
              "    <tr>\n",
              "      <th>413</th>\n",
              "      <td>1</td>\n",
              "      <td>1</td>\n",
              "      <td>0</td>\n",
              "      <td>3</td>\n",
              "      <td>2</td>\n",
              "      <td>5</td>\n",
              "      <td>3</td>\n",
              "      <td>4</td>\n",
              "      <td>1</td>\n",
              "      <td>3</td>\n",
              "      <td>5</td>\n",
              "      <td>8</td>\n",
              "      <td>8</td>\n",
              "      <td>1</td>\n",
              "      <td>1</td>\n",
              "    </tr>\n",
              "    <tr>\n",
              "      <th>905</th>\n",
              "      <td>2</td>\n",
              "      <td>2</td>\n",
              "      <td>0</td>\n",
              "      <td>2</td>\n",
              "      <td>2</td>\n",
              "      <td>3</td>\n",
              "      <td>2</td>\n",
              "      <td>1</td>\n",
              "      <td>2</td>\n",
              "      <td>0</td>\n",
              "      <td>5</td>\n",
              "      <td>15</td>\n",
              "      <td>17</td>\n",
              "      <td>3</td>\n",
              "      <td>3</td>\n",
              "    </tr>\n",
              "    <tr>\n",
              "      <th>328</th>\n",
              "      <td>1</td>\n",
              "      <td>1</td>\n",
              "      <td>0</td>\n",
              "      <td>4</td>\n",
              "      <td>4</td>\n",
              "      <td>1</td>\n",
              "      <td>3</td>\n",
              "      <td>4</td>\n",
              "      <td>3</td>\n",
              "      <td>0</td>\n",
              "      <td>5</td>\n",
              "      <td>10</td>\n",
              "      <td>9</td>\n",
              "      <td>1</td>\n",
              "      <td>1</td>\n",
              "    </tr>\n",
              "  </tbody>\n",
              "</table>\n",
              "</div>"
            ],
            "text/plain": [
              "     school  address  famsize  Medu  Fedu  ...  famrel  G1  G2  GradeG1  GradeG2\n",
              "975       2        2        0     1     1  ...       4   8   9        1        1\n",
              "522       1        1        0     0     1  ...       3   9  10        1        1\n",
              "413       1        1        0     3     2  ...       5   8   8        1        1\n",
              "905       2        2        0     2     2  ...       5  15  17        3        3\n",
              "328       1        1        0     4     4  ...       5  10   9        1        1\n",
              "\n",
              "[5 rows x 15 columns]"
            ]
          },
          "metadata": {
            "tags": []
          },
          "execution_count": 27
        }
      ]
    },
    {
      "cell_type": "code",
      "metadata": {
        "colab": {
          "base_uri": "https://localhost:8080/"
        },
        "id": "LMID3xmicNXA",
        "outputId": "8b4100f0-e4dc-44e5-fc8b-4ee1d2bb517b"
      },
      "source": [
        "y_train"
      ],
      "execution_count": null,
      "outputs": [
        {
          "output_type": "execute_result",
          "data": {
            "text/plain": [
              "89             Poor\n",
              "704    Satisfactory\n",
              "692            Poor\n",
              "30     Satisfactory\n",
              "317            Poor\n",
              "           ...     \n",
              "454            Good\n",
              "966            Poor\n",
              "944       Excellent\n",
              "347            Poor\n",
              "563            Poor\n",
              "Name: FinalGrade, Length: 835, dtype: object"
            ]
          },
          "metadata": {
            "tags": []
          },
          "execution_count": 28
        }
      ]
    },
    {
      "cell_type": "code",
      "metadata": {
        "id": "xIT752w3X_vN"
      },
      "source": [
        "from sklearn.ensemble import RandomForestClassifier"
      ],
      "execution_count": null,
      "outputs": []
    },
    {
      "cell_type": "code",
      "metadata": {
        "colab": {
          "base_uri": "https://localhost:8080/"
        },
        "id": "6PY0alj2fT02",
        "outputId": "e8585db8-7905-4896-da30-9e8206ebcd56"
      },
      "source": [
        "regressor = RandomForestClassifier(criterion='gini', max_depth=4, n_estimators = 100, random_state = 43)\n",
        "\n",
        "regressor.fit(X_train, y_train)"
      ],
      "execution_count": null,
      "outputs": [
        {
          "output_type": "execute_result",
          "data": {
            "text/plain": [
              "RandomForestClassifier(bootstrap=True, ccp_alpha=0.0, class_weight=None,\n",
              "                       criterion='gini', max_depth=4, max_features='auto',\n",
              "                       max_leaf_nodes=None, max_samples=None,\n",
              "                       min_impurity_decrease=0.0, min_impurity_split=None,\n",
              "                       min_samples_leaf=1, min_samples_split=2,\n",
              "                       min_weight_fraction_leaf=0.0, n_estimators=100,\n",
              "                       n_jobs=None, oob_score=False, random_state=43, verbose=0,\n",
              "                       warm_start=False)"
            ]
          },
          "metadata": {
            "tags": []
          },
          "execution_count": 30
        }
      ]
    },
    {
      "cell_type": "code",
      "metadata": {
        "id": "u7SbH6XigBZQ"
      },
      "source": [
        "y_pred = regressor.predict(X_test)"
      ],
      "execution_count": null,
      "outputs": []
    },
    {
      "cell_type": "code",
      "metadata": {
        "colab": {
          "base_uri": "https://localhost:8080/"
        },
        "id": "f98h4m9-Tnq-",
        "outputId": "231b912f-4d17-45a0-c8d2-49978c058bb0"
      },
      "source": [
        "print(y_pred)"
      ],
      "execution_count": null,
      "outputs": [
        {
          "output_type": "stream",
          "text": [
            "['Poor' 'Poor' 'Poor' 'Good' 'Poor' 'Poor' 'Satisfactory' 'Failure'\n",
            " 'Satisfactory' 'Satisfactory' 'Poor' 'Failure' 'Satisfactory' 'Poor'\n",
            " 'Satisfactory' 'Satisfactory' 'Good' 'Excellent' 'Failure' 'Good' 'Good'\n",
            " 'Satisfactory' 'Satisfactory' 'Poor' 'Satisfactory' 'Poor' 'Poor'\n",
            " 'Satisfactory' 'Satisfactory' 'Satisfactory' 'Poor' 'Satisfactory' 'Poor'\n",
            " 'Poor' 'Satisfactory' 'Failure' 'Good' 'Good' 'Good' 'Good' 'Poor' 'Poor'\n",
            " 'Poor' 'Satisfactory' 'Good' 'Good' 'Satisfactory' 'Satisfactory'\n",
            " 'Satisfactory' 'Poor' 'Satisfactory' 'Satisfactory' 'Satisfactory' 'Poor'\n",
            " 'Good' 'Poor' 'Satisfactory' 'Good' 'Poor' 'Satisfactory' 'Satisfactory'\n",
            " 'Poor' 'Poor' 'Satisfactory' 'Poor' 'Satisfactory' 'Poor' 'Satisfactory'\n",
            " 'Satisfactory' 'Good' 'Good' 'Poor' 'Satisfactory' 'Good' 'Satisfactory'\n",
            " 'Satisfactory' 'Satisfactory' 'Satisfactory' 'Satisfactory'\n",
            " 'Satisfactory' 'Poor' 'Good' 'Satisfactory' 'Good' 'Satisfactory'\n",
            " 'Satisfactory' 'Poor' 'Poor' 'Satisfactory' 'Satisfactory' 'Satisfactory'\n",
            " 'Satisfactory' 'Satisfactory' 'Poor' 'Poor' 'Satisfactory' 'Poor'\n",
            " 'Satisfactory' 'Poor' 'Good' 'Poor' 'Satisfactory' 'Satisfactory'\n",
            " 'Satisfactory' 'Satisfactory' 'Good' 'Excellent' 'Satisfactory' 'Poor'\n",
            " 'Satisfactory' 'Satisfactory' 'Satisfactory' 'Satisfactory' 'Poor'\n",
            " 'Satisfactory' 'Poor' 'Poor' 'Failure' 'Satisfactory' 'Poor'\n",
            " 'Satisfactory' 'Poor' 'Poor' 'Poor' 'Satisfactory' 'Satisfactory'\n",
            " 'Satisfactory' 'Poor' 'Poor' 'Satisfactory' 'Satisfactory' 'Satisfactory'\n",
            " 'Poor' 'Good' 'Satisfactory' 'Poor' 'Failure' 'Satisfactory'\n",
            " 'Satisfactory' 'Good' 'Poor' 'Satisfactory' 'Satisfactory' 'Poor'\n",
            " 'Satisfactory' 'Satisfactory' 'Poor' 'Satisfactory' 'Poor' 'Poor'\n",
            " 'Satisfactory' 'Poor' 'Good' 'Failure' 'Poor' 'Satisfactory'\n",
            " 'Satisfactory' 'Satisfactory' 'Satisfactory' 'Satisfactory'\n",
            " 'Satisfactory' 'Failure' 'Satisfactory' 'Satisfactory' 'Satisfactory'\n",
            " 'Satisfactory' 'Satisfactory' 'Satisfactory' 'Good' 'Poor' 'Good' 'Good'\n",
            " 'Good' 'Poor' 'Poor' 'Excellent' 'Poor' 'Satisfactory' 'Poor'\n",
            " 'Satisfactory' 'Satisfactory' 'Good' 'Good' 'Satisfactory' 'Poor'\n",
            " 'Satisfactory' 'Satisfactory' 'Good' 'Satisfactory' 'Failure' 'Poor'\n",
            " 'Satisfactory' 'Good' 'Poor' 'Satisfactory' 'Satisfactory' 'Poor' 'Good'\n",
            " 'Satisfactory' 'Poor' 'Failure' 'Good' 'Satisfactory' 'Satisfactory'\n",
            " 'Poor' 'Good' 'Satisfactory' 'Poor' 'Good']\n"
          ],
          "name": "stdout"
        }
      ]
    },
    {
      "cell_type": "code",
      "metadata": {
        "id": "_WmuJOLVN0Yi"
      },
      "source": [
        "from sklearn.metrics import classification_report, confusion_matrix, accuracy_score"
      ],
      "execution_count": null,
      "outputs": []
    },
    {
      "cell_type": "code",
      "metadata": {
        "colab": {
          "base_uri": "https://localhost:8080/"
        },
        "id": "7F1akPyxhyJ2",
        "outputId": "c4002bcd-c255-46f5-bc76-f59bc068ffda"
      },
      "source": [
        "print(\"Model Confusion Matrix :\\n\\n\\n\", confusion_matrix(y_test,y_pred))"
      ],
      "execution_count": null,
      "outputs": [
        {
          "output_type": "stream",
          "text": [
            "Model Confusion Matrix :\n",
            "\n",
            "\n",
            " [[ 3  0  4  0  0]\n",
            " [ 0  9  0  4  0]\n",
            " [ 0  0 28  0 10]\n",
            " [ 0  1  0 52  5]\n",
            " [ 0  0  2  8 83]]\n"
          ],
          "name": "stdout"
        }
      ]
    },
    {
      "cell_type": "code",
      "metadata": {
        "colab": {
          "base_uri": "https://localhost:8080/"
        },
        "id": "3fzSQcc7h1RN",
        "outputId": "3f43bb81-9d34-4300-b6ea-6ab819254e9b"
      },
      "source": [
        "print(\"Model Classification Report :\\n\\n\\n\", classification_report(y_test,y_pred))"
      ],
      "execution_count": null,
      "outputs": [
        {
          "output_type": "stream",
          "text": [
            "Model Classification Report :\n",
            "\n",
            "\n",
            "               precision    recall  f1-score   support\n",
            "\n",
            "   Excellent       1.00      0.43      0.60         7\n",
            "     Failure       0.90      0.69      0.78        13\n",
            "        Good       0.82      0.74      0.78        38\n",
            "        Poor       0.81      0.90      0.85        58\n",
            "Satisfactory       0.85      0.89      0.87        93\n",
            "\n",
            "    accuracy                           0.84       209\n",
            "   macro avg       0.88      0.73      0.78       209\n",
            "weighted avg       0.84      0.84      0.83       209\n",
            "\n"
          ],
          "name": "stdout"
        }
      ]
    },
    {
      "cell_type": "code",
      "metadata": {
        "colab": {
          "base_uri": "https://localhost:8080/"
        },
        "id": "ng4t4Nk_h6Eo",
        "outputId": "27f60929-8ba1-422f-8168-06e88c00b171"
      },
      "source": [
        "print(\"Model Accuracy : \", accuracy_score(y_test, y_pred))"
      ],
      "execution_count": null,
      "outputs": [
        {
          "output_type": "stream",
          "text": [
            "Model Accuracy :  0.8373205741626795\n"
          ],
          "name": "stdout"
        }
      ]
    },
    {
      "cell_type": "code",
      "metadata": {
        "id": "mL8Q-wwPeGJZ"
      },
      "source": [
        "X_train.to_csv(\"X_train dataset\")"
      ],
      "execution_count": null,
      "outputs": []
    },
    {
      "cell_type": "code",
      "metadata": {
        "colab": {
          "base_uri": "https://localhost:8080/"
        },
        "id": "Pz9wdaIJeMEQ",
        "outputId": "9023721f-d498-4535-c221-d679449a976d"
      },
      "source": [
        "y_pred_train = regressor.predict(X_train)\n",
        "y_pred_train"
      ],
      "execution_count": null,
      "outputs": [
        {
          "output_type": "execute_result",
          "data": {
            "text/plain": [
              "array(['Poor', 'Satisfactory', 'Poor', 'Satisfactory', 'Poor', 'Poor',\n",
              "       'Satisfactory', 'Satisfactory', 'Poor', 'Poor', 'Poor', 'Good',\n",
              "       'Poor', 'Poor', 'Good', 'Poor', 'Satisfactory', 'Satisfactory',\n",
              "       'Good', 'Failure', 'Satisfactory', 'Satisfactory', 'Satisfactory',\n",
              "       'Satisfactory', 'Poor', 'Poor', 'Satisfactory', 'Poor', 'Poor',\n",
              "       'Poor', 'Poor', 'Satisfactory', 'Poor', 'Poor', 'Satisfactory',\n",
              "       'Poor', 'Good', 'Satisfactory', 'Poor', 'Satisfactory', 'Good',\n",
              "       'Poor', 'Poor', 'Satisfactory', 'Poor', 'Poor', 'Satisfactory',\n",
              "       'Poor', 'Satisfactory', 'Satisfactory', 'Poor', 'Good', 'Poor',\n",
              "       'Satisfactory', 'Poor', 'Good', 'Satisfactory', 'Satisfactory',\n",
              "       'Poor', 'Poor', 'Satisfactory', 'Satisfactory', 'Satisfactory',\n",
              "       'Satisfactory', 'Satisfactory', 'Good', 'Good', 'Satisfactory',\n",
              "       'Poor', 'Poor', 'Poor', 'Satisfactory', 'Poor', 'Satisfactory',\n",
              "       'Satisfactory', 'Excellent', 'Satisfactory', 'Satisfactory',\n",
              "       'Poor', 'Poor', 'Satisfactory', 'Poor', 'Excellent', 'Good',\n",
              "       'Satisfactory', 'Good', 'Satisfactory', 'Satisfactory',\n",
              "       'Satisfactory', 'Satisfactory', 'Satisfactory', 'Good', 'Poor',\n",
              "       'Good', 'Satisfactory', 'Poor', 'Satisfactory', 'Good',\n",
              "       'Satisfactory', 'Failure', 'Poor', 'Poor', 'Poor', 'Satisfactory',\n",
              "       'Satisfactory', 'Poor', 'Satisfactory', 'Satisfactory', 'Good',\n",
              "       'Satisfactory', 'Satisfactory', 'Satisfactory', 'Poor',\n",
              "       'Satisfactory', 'Poor', 'Failure', 'Satisfactory', 'Poor', 'Poor',\n",
              "       'Satisfactory', 'Poor', 'Satisfactory', 'Good', 'Good',\n",
              "       'Satisfactory', 'Poor', 'Good', 'Satisfactory', 'Poor',\n",
              "       'Satisfactory', 'Satisfactory', 'Satisfactory', 'Poor', 'Failure',\n",
              "       'Satisfactory', 'Good', 'Satisfactory', 'Poor', 'Poor', 'Poor',\n",
              "       'Satisfactory', 'Satisfactory', 'Poor', 'Poor', 'Poor', 'Poor',\n",
              "       'Satisfactory', 'Satisfactory', 'Poor', 'Good', 'Good', 'Poor',\n",
              "       'Satisfactory', 'Poor', 'Satisfactory', 'Satisfactory', 'Poor',\n",
              "       'Poor', 'Satisfactory', 'Satisfactory', 'Satisfactory', 'Good',\n",
              "       'Poor', 'Satisfactory', 'Poor', 'Poor', 'Satisfactory', 'Poor',\n",
              "       'Satisfactory', 'Poor', 'Satisfactory', 'Satisfactory', 'Poor',\n",
              "       'Poor', 'Good', 'Satisfactory', 'Poor', 'Good', 'Poor',\n",
              "       'Satisfactory', 'Good', 'Poor', 'Poor', 'Poor', 'Failure', 'Poor',\n",
              "       'Good', 'Satisfactory', 'Poor', 'Poor', 'Poor', 'Poor', 'Poor',\n",
              "       'Poor', 'Poor', 'Satisfactory', 'Poor', 'Good', 'Satisfactory',\n",
              "       'Satisfactory', 'Good', 'Poor', 'Good', 'Good', 'Poor',\n",
              "       'Satisfactory', 'Satisfactory', 'Satisfactory', 'Satisfactory',\n",
              "       'Satisfactory', 'Good', 'Good', 'Satisfactory', 'Poor',\n",
              "       'Satisfactory', 'Good', 'Good', 'Poor', 'Poor', 'Poor',\n",
              "       'Satisfactory', 'Good', 'Poor', 'Satisfactory', 'Satisfactory',\n",
              "       'Poor', 'Failure', 'Satisfactory', 'Satisfactory', 'Poor',\n",
              "       'Satisfactory', 'Poor', 'Satisfactory', 'Poor', 'Satisfactory',\n",
              "       'Poor', 'Good', 'Poor', 'Satisfactory', 'Satisfactory',\n",
              "       'Satisfactory', 'Satisfactory', 'Poor', 'Poor', 'Poor', 'Poor',\n",
              "       'Satisfactory', 'Satisfactory', 'Satisfactory', 'Poor',\n",
              "       'Satisfactory', 'Satisfactory', 'Satisfactory', 'Satisfactory',\n",
              "       'Poor', 'Satisfactory', 'Satisfactory', 'Poor', 'Satisfactory',\n",
              "       'Good', 'Good', 'Poor', 'Satisfactory', 'Poor', 'Satisfactory',\n",
              "       'Satisfactory', 'Excellent', 'Poor', 'Satisfactory', 'Poor',\n",
              "       'Poor', 'Satisfactory', 'Satisfactory', 'Poor', 'Poor', 'Poor',\n",
              "       'Satisfactory', 'Satisfactory', 'Satisfactory', 'Poor', 'Good',\n",
              "       'Satisfactory', 'Poor', 'Satisfactory', 'Good', 'Poor', 'Poor',\n",
              "       'Satisfactory', 'Satisfactory', 'Good', 'Poor', 'Good',\n",
              "       'Satisfactory', 'Poor', 'Good', 'Satisfactory', 'Satisfactory',\n",
              "       'Poor', 'Poor', 'Poor', 'Satisfactory', 'Satisfactory',\n",
              "       'Satisfactory', 'Satisfactory', 'Poor', 'Satisfactory',\n",
              "       'Satisfactory', 'Good', 'Satisfactory', 'Good', 'Satisfactory',\n",
              "       'Poor', 'Poor', 'Poor', 'Poor', 'Satisfactory', 'Poor',\n",
              "       'Satisfactory', 'Poor', 'Satisfactory', 'Satisfactory',\n",
              "       'Satisfactory', 'Poor', 'Good', 'Poor', 'Satisfactory',\n",
              "       'Excellent', 'Poor', 'Satisfactory', 'Satisfactory',\n",
              "       'Satisfactory', 'Failure', 'Satisfactory', 'Satisfactory',\n",
              "       'Satisfactory', 'Satisfactory', 'Good', 'Poor', 'Good', 'Poor',\n",
              "       'Poor', 'Failure', 'Poor', 'Satisfactory', 'Satisfactory',\n",
              "       'Satisfactory', 'Satisfactory', 'Poor', 'Satisfactory',\n",
              "       'Satisfactory', 'Satisfactory', 'Satisfactory', 'Good',\n",
              "       'Satisfactory', 'Poor', 'Poor', 'Satisfactory', 'Satisfactory',\n",
              "       'Poor', 'Satisfactory', 'Satisfactory', 'Satisfactory', 'Poor',\n",
              "       'Failure', 'Poor', 'Satisfactory', 'Failure', 'Good',\n",
              "       'Satisfactory', 'Good', 'Satisfactory', 'Poor', 'Failure',\n",
              "       'Satisfactory', 'Poor', 'Satisfactory', 'Satisfactory',\n",
              "       'Satisfactory', 'Poor', 'Satisfactory', 'Satisfactory', 'Good',\n",
              "       'Poor', 'Satisfactory', 'Poor', 'Satisfactory', 'Good',\n",
              "       'Satisfactory', 'Satisfactory', 'Satisfactory', 'Satisfactory',\n",
              "       'Poor', 'Satisfactory', 'Poor', 'Poor', 'Poor', 'Poor', 'Failure',\n",
              "       'Satisfactory', 'Poor', 'Failure', 'Satisfactory', 'Satisfactory',\n",
              "       'Poor', 'Satisfactory', 'Satisfactory', 'Poor', 'Poor', 'Failure',\n",
              "       'Poor', 'Satisfactory', 'Failure', 'Good', 'Good', 'Poor', 'Poor',\n",
              "       'Poor', 'Poor', 'Poor', 'Good', 'Satisfactory', 'Poor', 'Poor',\n",
              "       'Poor', 'Satisfactory', 'Satisfactory', 'Satisfactory',\n",
              "       'Satisfactory', 'Satisfactory', 'Poor', 'Satisfactory', 'Good',\n",
              "       'Satisfactory', 'Poor', 'Satisfactory', 'Poor', 'Poor', 'Poor',\n",
              "       'Satisfactory', 'Poor', 'Good', 'Satisfactory', 'Poor', 'Poor',\n",
              "       'Good', 'Good', 'Poor', 'Poor', 'Satisfactory', 'Good', 'Poor',\n",
              "       'Good', 'Failure', 'Poor', 'Satisfactory', 'Poor', 'Poor', 'Poor',\n",
              "       'Poor', 'Poor', 'Poor', 'Satisfactory', 'Poor', 'Good',\n",
              "       'Satisfactory', 'Poor', 'Satisfactory', 'Poor', 'Poor', 'Poor',\n",
              "       'Good', 'Satisfactory', 'Satisfactory', 'Satisfactory',\n",
              "       'Satisfactory', 'Good', 'Poor', 'Poor', 'Satisfactory', 'Good',\n",
              "       'Good', 'Poor', 'Satisfactory', 'Satisfactory', 'Good',\n",
              "       'Satisfactory', 'Satisfactory', 'Satisfactory', 'Satisfactory',\n",
              "       'Poor', 'Good', 'Poor', 'Poor', 'Poor', 'Poor', 'Satisfactory',\n",
              "       'Satisfactory', 'Good', 'Good', 'Poor', 'Failure', 'Poor', 'Poor',\n",
              "       'Satisfactory', 'Satisfactory', 'Poor', 'Satisfactory', 'Poor',\n",
              "       'Good', 'Poor', 'Good', 'Satisfactory', 'Satisfactory', 'Poor',\n",
              "       'Poor', 'Poor', 'Poor', 'Satisfactory', 'Good', 'Satisfactory',\n",
              "       'Good', 'Satisfactory', 'Poor', 'Good', 'Poor', 'Satisfactory',\n",
              "       'Poor', 'Satisfactory', 'Poor', 'Poor', 'Satisfactory',\n",
              "       'Satisfactory', 'Satisfactory', 'Satisfactory', 'Satisfactory',\n",
              "       'Excellent', 'Good', 'Satisfactory', 'Poor', 'Satisfactory',\n",
              "       'Satisfactory', 'Satisfactory', 'Poor', 'Satisfactory', 'Poor',\n",
              "       'Satisfactory', 'Satisfactory', 'Good', 'Satisfactory', 'Good',\n",
              "       'Satisfactory', 'Poor', 'Satisfactory', 'Satisfactory',\n",
              "       'Satisfactory', 'Satisfactory', 'Poor', 'Satisfactory', 'Poor',\n",
              "       'Poor', 'Good', 'Poor', 'Satisfactory', 'Poor', 'Poor', 'Poor',\n",
              "       'Satisfactory', 'Satisfactory', 'Satisfactory', 'Poor',\n",
              "       'Satisfactory', 'Excellent', 'Satisfactory', 'Poor', 'Poor',\n",
              "       'Satisfactory', 'Good', 'Satisfactory', 'Satisfactory',\n",
              "       'Satisfactory', 'Satisfactory', 'Poor', 'Poor', 'Good',\n",
              "       'Satisfactory', 'Poor', 'Poor', 'Satisfactory', 'Satisfactory',\n",
              "       'Satisfactory', 'Poor', 'Satisfactory', 'Good', 'Satisfactory',\n",
              "       'Good', 'Poor', 'Good', 'Good', 'Satisfactory', 'Good', 'Good',\n",
              "       'Satisfactory', 'Satisfactory', 'Satisfactory', 'Satisfactory',\n",
              "       'Good', 'Satisfactory', 'Poor', 'Poor', 'Satisfactory',\n",
              "       'Satisfactory', 'Poor', 'Good', 'Satisfactory', 'Satisfactory',\n",
              "       'Good', 'Satisfactory', 'Poor', 'Good', 'Poor', 'Satisfactory',\n",
              "       'Satisfactory', 'Satisfactory', 'Poor', 'Poor', 'Good', 'Poor',\n",
              "       'Satisfactory', 'Satisfactory', 'Excellent', 'Poor',\n",
              "       'Satisfactory', 'Poor', 'Satisfactory', 'Satisfactory', 'Good',\n",
              "       'Satisfactory', 'Satisfactory', 'Failure', 'Good', 'Satisfactory',\n",
              "       'Poor', 'Satisfactory', 'Poor', 'Poor', 'Satisfactory',\n",
              "       'Satisfactory', 'Satisfactory', 'Good', 'Poor', 'Satisfactory',\n",
              "       'Good', 'Good', 'Poor', 'Excellent', 'Good', 'Good',\n",
              "       'Satisfactory', 'Poor', 'Good', 'Satisfactory', 'Good',\n",
              "       'Satisfactory', 'Good', 'Satisfactory', 'Good', 'Failure', 'Poor',\n",
              "       'Satisfactory', 'Satisfactory', 'Satisfactory', 'Poor',\n",
              "       'Satisfactory', 'Satisfactory', 'Excellent', 'Satisfactory',\n",
              "       'Satisfactory', 'Poor', 'Good', 'Poor', 'Failure', 'Satisfactory',\n",
              "       'Satisfactory', 'Good', 'Satisfactory', 'Poor', 'Poor', 'Poor',\n",
              "       'Good', 'Good', 'Poor', 'Poor', 'Good', 'Poor', 'Satisfactory',\n",
              "       'Satisfactory', 'Good', 'Poor', 'Satisfactory', 'Poor', 'Good',\n",
              "       'Poor', 'Satisfactory', 'Satisfactory', 'Poor', 'Satisfactory',\n",
              "       'Poor', 'Good', 'Poor', 'Satisfactory', 'Poor', 'Satisfactory',\n",
              "       'Poor', 'Satisfactory', 'Good', 'Poor', 'Poor', 'Good',\n",
              "       'Satisfactory', 'Satisfactory', 'Satisfactory', 'Satisfactory',\n",
              "       'Satisfactory', 'Poor', 'Satisfactory', 'Good', 'Failure', 'Poor',\n",
              "       'Satisfactory', 'Good', 'Satisfactory', 'Poor', 'Poor',\n",
              "       'Satisfactory', 'Poor', 'Poor', 'Poor', 'Satisfactory', 'Good',\n",
              "       'Satisfactory', 'Failure', 'Poor', 'Poor', 'Poor', 'Good', 'Poor',\n",
              "       'Satisfactory', 'Satisfactory', 'Satisfactory', 'Satisfactory',\n",
              "       'Satisfactory', 'Poor', 'Good', 'Satisfactory', 'Good',\n",
              "       'Satisfactory', 'Poor', 'Excellent', 'Good', 'Poor',\n",
              "       'Satisfactory', 'Satisfactory', 'Satisfactory', 'Satisfactory',\n",
              "       'Satisfactory', 'Poor', 'Satisfactory', 'Poor', 'Satisfactory',\n",
              "       'Good', 'Satisfactory', 'Satisfactory', 'Satisfactory', 'Poor',\n",
              "       'Poor', 'Satisfactory', 'Satisfactory', 'Satisfactory', 'Poor',\n",
              "       'Satisfactory', 'Poor', 'Satisfactory', 'Satisfactory', 'Poor',\n",
              "       'Good', 'Failure', 'Poor', 'Satisfactory', 'Satisfactory',\n",
              "       'Satisfactory', 'Poor', 'Satisfactory', 'Good', 'Poor', 'Poor',\n",
              "       'Poor', 'Failure', 'Good', 'Satisfactory', 'Poor', 'Satisfactory',\n",
              "       'Poor', 'Satisfactory', 'Satisfactory', 'Poor', 'Satisfactory',\n",
              "       'Satisfactory', 'Excellent', 'Satisfactory', 'Excellent', 'Poor',\n",
              "       'Poor', 'Poor', 'Satisfactory', 'Poor', 'Poor', 'Satisfactory',\n",
              "       'Good', 'Poor', 'Poor', 'Poor', 'Poor', 'Good', 'Satisfactory',\n",
              "       'Satisfactory', 'Poor', 'Satisfactory', 'Satisfactory', 'Poor',\n",
              "       'Good', 'Good', 'Poor', 'Good', 'Poor', 'Poor'], dtype=object)"
            ]
          },
          "metadata": {
            "tags": []
          },
          "execution_count": 38
        }
      ]
    },
    {
      "cell_type": "code",
      "metadata": {
        "colab": {
          "base_uri": "https://localhost:8080/"
        },
        "id": "K7q6CDXyecHu",
        "outputId": "3c2ddacc-7e27-41f5-e1fb-40a2ba04fa75"
      },
      "source": [
        "print(\"Training Accuracy : \", accuracy_score(y_train, y_pred_train))"
      ],
      "execution_count": null,
      "outputs": [
        {
          "output_type": "stream",
          "text": [
            "Training Accuracy :  0.8359281437125748\n"
          ],
          "name": "stdout"
        }
      ]
    },
    {
      "cell_type": "code",
      "metadata": {
        "colab": {
          "base_uri": "https://localhost:8080/"
        },
        "id": "pwoi7ud0fEKK",
        "outputId": "35188c0c-1236-4ee1-e799-bcbf0b8efefc"
      },
      "source": [
        "print(\"Training-Set Accuracy : \", regressor.score(X_train, y_train))\n",
        "print(\"Testing-Set Accuracy : \", regressor.score(X_test, y_test))"
      ],
      "execution_count": null,
      "outputs": [
        {
          "output_type": "stream",
          "text": [
            "Training-Set Accuracy :  0.8359281437125748\n",
            "Testing-Set Accuracy :  0.8373205741626795\n"
          ],
          "name": "stdout"
        }
      ]
    },
    {
      "cell_type": "code",
      "metadata": {
        "colab": {
          "base_uri": "https://localhost:8080/"
        },
        "id": "uLHxBWCxg0Mw",
        "outputId": "cac2dc20-c2cd-4810-879d-25decabe5441"
      },
      "source": [
        "y.unique()"
      ],
      "execution_count": null,
      "outputs": [
        {
          "output_type": "execute_result",
          "data": {
            "text/plain": [
              "array(['Poor', 'Good', 'Satisfactory', 'Excellent', 'Failure'],\n",
              "      dtype=object)"
            ]
          },
          "metadata": {
            "tags": []
          },
          "execution_count": 41
        }
      ]
    },
    {
      "cell_type": "code",
      "metadata": {
        "id": "xaZSUGLdZANZ",
        "colab": {
          "base_uri": "https://localhost:8080/"
        },
        "outputId": "78aa399c-9283-45e5-ed06-2b67cffe2e75"
      },
      "source": [
        "regressor.predict"
      ],
      "execution_count": null,
      "outputs": [
        {
          "output_type": "execute_result",
          "data": {
            "text/plain": [
              "<bound method ForestClassifier.predict of RandomForestClassifier(bootstrap=True, ccp_alpha=0.0, class_weight=None,\n",
              "                       criterion='gini', max_depth=4, max_features='auto',\n",
              "                       max_leaf_nodes=None, max_samples=None,\n",
              "                       min_impurity_decrease=0.0, min_impurity_split=None,\n",
              "                       min_samples_leaf=1, min_samples_split=2,\n",
              "                       min_weight_fraction_leaf=0.0, n_estimators=100,\n",
              "                       n_jobs=None, oob_score=False, random_state=43, verbose=0,\n",
              "                       warm_start=False)>"
            ]
          },
          "metadata": {
            "tags": []
          },
          "execution_count": 42
        }
      ]
    },
    {
      "cell_type": "code",
      "metadata": {
        "colab": {
          "base_uri": "https://localhost:8080/",
          "height": 595
        },
        "id": "Pq08Ro39KXvO",
        "outputId": "8f1c52dc-8ecf-403f-8449-297e73b65330"
      },
      "source": [
        "\n",
        "\n",
        "\n",
        "b=[\"School\",\t\"Address\",\t\"Family size\",\t\"Mother Education\",\t\"Father Education\",\t\"Mother Job\",\t\"Father Job\",\"Reason\",\t\"Study Time\",\t\"Failure\", \"Family Relation\",\t\"G1\",\t\"G2\"\t,\"Grade'G1\"\t,\"GradeG2\"]\n",
        "a=[]\n",
        "for i in range(0,15):\n",
        "  a.append(input(\"Enter  \"+b[i]+\" : \"))\n",
        "\n",
        "if a[0]==\"GP\" :\n",
        "  a[0]=1\n",
        "else :\n",
        "  a[0]=2\n",
        "\n",
        "\n",
        "if a[1]==\"U\" :\n",
        "  a[1]=1\n",
        "else :\n",
        "  a[1]=2\n",
        "\n",
        "\n",
        "if a[5]==\"teacher\" :\n",
        "  a[5]=1\n",
        "elif a[5]==\"health\" :\n",
        "  a[5]=2\n",
        "elif a[5]==\"other\" :\n",
        "  a[5]=3\n",
        "elif a[5]==\"at_home\" :\n",
        "  a[5]=4\n",
        "else :\n",
        "  a[5]=5\n",
        "\n",
        "\n",
        "if a[6]==\"health\" :\n",
        "  a[6]=1\n",
        "elif a[6]==\"other\" :\n",
        "  a[6]=2\n",
        "elif a[6]==\"services\" :\n",
        "  a[6]=3\n",
        "elif a[6]==\"teacher\" :\n",
        "  a[6]=4\n",
        "else :\n",
        "  a[6]=5\n",
        "\n",
        "\n",
        "if a[7]==\"reputation\" :\n",
        "  a[7]=1\n",
        "elif a[7]==\"other\" :\n",
        "  a[7]=2\n",
        "elif a[7]==\"home\" :\n",
        "  a[7]=3\n",
        "elif a[7]==\"course\" :\n",
        "  a[7]=4\n",
        "else :\n",
        "  a[7]=5\n",
        "\n",
        "\n",
        "if a[13]==\"Poor\" :\n",
        "  a[13]=1\n",
        "elif a[13]==\"Satisfactory\" :\n",
        "  a[13]=2\n",
        "elif a[13]==\"Good\" :\n",
        "  a[13]=3\n",
        "elif a[13]==\"Excellent\" :\n",
        "  a[13]=4\n",
        "else :\n",
        "  a[13]=5\n",
        "\n",
        "\n",
        "if a[14]==\"Poor\" :\n",
        "  a[14]=1\n",
        "elif a[14]==\"Satisfactory\" :\n",
        "  a[14]=2\n",
        "elif a[14]==\"Good\" :\n",
        "  a[14]=3\n",
        "elif a[14]==\"Failure\" :\n",
        "  a[14]=4\n",
        "else :\n",
        "  a[14]=5\n",
        "\n",
        "\n",
        "regressor.predict([a])\n"
      ],
      "execution_count": null,
      "outputs": [
        {
          "output_type": "stream",
          "text": [
            "Enter  School : MS\n",
            "Enter  Address : \n",
            "Enter  Family size : \n",
            "Enter  Mother Education : \n",
            "Enter  Father Education : \n",
            "Enter  Mother Job : \n",
            "Enter  Father Job : \n",
            "Enter  Reason : \n",
            "Enter  Study Time : \n",
            "Enter  Failure : \n",
            "Enter  Family Relation : \n",
            "Enter  G1 : \n",
            "Enter  G2 : \n",
            "Enter  Grade'G1 : \n",
            "Enter  GradeG2 : \n"
          ],
          "name": "stdout"
        },
        {
          "output_type": "error",
          "ename": "ValueError",
          "evalue": "ignored",
          "traceback": [
            "\u001b[0;31m---------------------------------------------------------------------------\u001b[0m",
            "\u001b[0;31mValueError\u001b[0m                                Traceback (most recent call last)",
            "\u001b[0;32m<ipython-input-46-8a16e2e2242e>\u001b[0m in \u001b[0;36m<module>\u001b[0;34m()\u001b[0m\n\u001b[1;32m     76\u001b[0m \u001b[0;34m\u001b[0m\u001b[0m\n\u001b[1;32m     77\u001b[0m \u001b[0;34m\u001b[0m\u001b[0m\n\u001b[0;32m---> 78\u001b[0;31m \u001b[0mregressor\u001b[0m\u001b[0;34m.\u001b[0m\u001b[0mpredict\u001b[0m\u001b[0;34m(\u001b[0m\u001b[0;34m[\u001b[0m\u001b[0ma\u001b[0m\u001b[0;34m]\u001b[0m\u001b[0;34m)\u001b[0m\u001b[0;34m\u001b[0m\u001b[0;34m\u001b[0m\u001b[0m\n\u001b[0m",
            "\u001b[0;32m/usr/local/lib/python3.7/dist-packages/sklearn/ensemble/_forest.py\u001b[0m in \u001b[0;36mpredict\u001b[0;34m(self, X)\u001b[0m\n\u001b[1;32m    610\u001b[0m             \u001b[0mThe\u001b[0m \u001b[0mpredicted\u001b[0m \u001b[0mclasses\u001b[0m\u001b[0;34m.\u001b[0m\u001b[0;34m\u001b[0m\u001b[0;34m\u001b[0m\u001b[0m\n\u001b[1;32m    611\u001b[0m         \"\"\"\n\u001b[0;32m--> 612\u001b[0;31m         \u001b[0mproba\u001b[0m \u001b[0;34m=\u001b[0m \u001b[0mself\u001b[0m\u001b[0;34m.\u001b[0m\u001b[0mpredict_proba\u001b[0m\u001b[0;34m(\u001b[0m\u001b[0mX\u001b[0m\u001b[0;34m)\u001b[0m\u001b[0;34m\u001b[0m\u001b[0;34m\u001b[0m\u001b[0m\n\u001b[0m\u001b[1;32m    613\u001b[0m \u001b[0;34m\u001b[0m\u001b[0m\n\u001b[1;32m    614\u001b[0m         \u001b[0;32mif\u001b[0m \u001b[0mself\u001b[0m\u001b[0;34m.\u001b[0m\u001b[0mn_outputs_\u001b[0m \u001b[0;34m==\u001b[0m \u001b[0;36m1\u001b[0m\u001b[0;34m:\u001b[0m\u001b[0;34m\u001b[0m\u001b[0;34m\u001b[0m\u001b[0m\n",
            "\u001b[0;32m/usr/local/lib/python3.7/dist-packages/sklearn/ensemble/_forest.py\u001b[0m in \u001b[0;36mpredict_proba\u001b[0;34m(self, X)\u001b[0m\n\u001b[1;32m    654\u001b[0m         \u001b[0mcheck_is_fitted\u001b[0m\u001b[0;34m(\u001b[0m\u001b[0mself\u001b[0m\u001b[0;34m)\u001b[0m\u001b[0;34m\u001b[0m\u001b[0;34m\u001b[0m\u001b[0m\n\u001b[1;32m    655\u001b[0m         \u001b[0;31m# Check data\u001b[0m\u001b[0;34m\u001b[0m\u001b[0;34m\u001b[0m\u001b[0;34m\u001b[0m\u001b[0m\n\u001b[0;32m--> 656\u001b[0;31m         \u001b[0mX\u001b[0m \u001b[0;34m=\u001b[0m \u001b[0mself\u001b[0m\u001b[0;34m.\u001b[0m\u001b[0m_validate_X_predict\u001b[0m\u001b[0;34m(\u001b[0m\u001b[0mX\u001b[0m\u001b[0;34m)\u001b[0m\u001b[0;34m\u001b[0m\u001b[0;34m\u001b[0m\u001b[0m\n\u001b[0m\u001b[1;32m    657\u001b[0m \u001b[0;34m\u001b[0m\u001b[0m\n\u001b[1;32m    658\u001b[0m         \u001b[0;31m# Assign chunk of trees to jobs\u001b[0m\u001b[0;34m\u001b[0m\u001b[0;34m\u001b[0m\u001b[0;34m\u001b[0m\u001b[0m\n",
            "\u001b[0;32m/usr/local/lib/python3.7/dist-packages/sklearn/ensemble/_forest.py\u001b[0m in \u001b[0;36m_validate_X_predict\u001b[0;34m(self, X)\u001b[0m\n\u001b[1;32m    410\u001b[0m         \u001b[0mcheck_is_fitted\u001b[0m\u001b[0;34m(\u001b[0m\u001b[0mself\u001b[0m\u001b[0;34m)\u001b[0m\u001b[0;34m\u001b[0m\u001b[0;34m\u001b[0m\u001b[0m\n\u001b[1;32m    411\u001b[0m \u001b[0;34m\u001b[0m\u001b[0m\n\u001b[0;32m--> 412\u001b[0;31m         \u001b[0;32mreturn\u001b[0m \u001b[0mself\u001b[0m\u001b[0;34m.\u001b[0m\u001b[0mestimators_\u001b[0m\u001b[0;34m[\u001b[0m\u001b[0;36m0\u001b[0m\u001b[0;34m]\u001b[0m\u001b[0;34m.\u001b[0m\u001b[0m_validate_X_predict\u001b[0m\u001b[0;34m(\u001b[0m\u001b[0mX\u001b[0m\u001b[0;34m,\u001b[0m \u001b[0mcheck_input\u001b[0m\u001b[0;34m=\u001b[0m\u001b[0;32mTrue\u001b[0m\u001b[0;34m)\u001b[0m\u001b[0;34m\u001b[0m\u001b[0;34m\u001b[0m\u001b[0m\n\u001b[0m\u001b[1;32m    413\u001b[0m \u001b[0;34m\u001b[0m\u001b[0m\n\u001b[1;32m    414\u001b[0m     \u001b[0;34m@\u001b[0m\u001b[0mproperty\u001b[0m\u001b[0;34m\u001b[0m\u001b[0;34m\u001b[0m\u001b[0m\n",
            "\u001b[0;32m/usr/local/lib/python3.7/dist-packages/sklearn/tree/_classes.py\u001b[0m in \u001b[0;36m_validate_X_predict\u001b[0;34m(self, X, check_input)\u001b[0m\n\u001b[1;32m    378\u001b[0m         \u001b[0;34m\"\"\"Validate X whenever one tries to predict, apply, predict_proba\"\"\"\u001b[0m\u001b[0;34m\u001b[0m\u001b[0;34m\u001b[0m\u001b[0m\n\u001b[1;32m    379\u001b[0m         \u001b[0;32mif\u001b[0m \u001b[0mcheck_input\u001b[0m\u001b[0;34m:\u001b[0m\u001b[0;34m\u001b[0m\u001b[0;34m\u001b[0m\u001b[0m\n\u001b[0;32m--> 380\u001b[0;31m             \u001b[0mX\u001b[0m \u001b[0;34m=\u001b[0m \u001b[0mcheck_array\u001b[0m\u001b[0;34m(\u001b[0m\u001b[0mX\u001b[0m\u001b[0;34m,\u001b[0m \u001b[0mdtype\u001b[0m\u001b[0;34m=\u001b[0m\u001b[0mDTYPE\u001b[0m\u001b[0;34m,\u001b[0m \u001b[0maccept_sparse\u001b[0m\u001b[0;34m=\u001b[0m\u001b[0;34m\"csr\"\u001b[0m\u001b[0;34m)\u001b[0m\u001b[0;34m\u001b[0m\u001b[0;34m\u001b[0m\u001b[0m\n\u001b[0m\u001b[1;32m    381\u001b[0m             if issparse(X) and (X.indices.dtype != np.intc or\n\u001b[1;32m    382\u001b[0m                                 X.indptr.dtype != np.intc):\n",
            "\u001b[0;32m/usr/local/lib/python3.7/dist-packages/sklearn/utils/validation.py\u001b[0m in \u001b[0;36mcheck_array\u001b[0;34m(array, accept_sparse, accept_large_sparse, dtype, order, copy, force_all_finite, ensure_2d, allow_nd, ensure_min_samples, ensure_min_features, warn_on_dtype, estimator)\u001b[0m\n\u001b[1;32m    529\u001b[0m                     \u001b[0marray\u001b[0m \u001b[0;34m=\u001b[0m \u001b[0marray\u001b[0m\u001b[0;34m.\u001b[0m\u001b[0mastype\u001b[0m\u001b[0;34m(\u001b[0m\u001b[0mdtype\u001b[0m\u001b[0;34m,\u001b[0m \u001b[0mcasting\u001b[0m\u001b[0;34m=\u001b[0m\u001b[0;34m\"unsafe\"\u001b[0m\u001b[0;34m,\u001b[0m \u001b[0mcopy\u001b[0m\u001b[0;34m=\u001b[0m\u001b[0;32mFalse\u001b[0m\u001b[0;34m)\u001b[0m\u001b[0;34m\u001b[0m\u001b[0;34m\u001b[0m\u001b[0m\n\u001b[1;32m    530\u001b[0m                 \u001b[0;32melse\u001b[0m\u001b[0;34m:\u001b[0m\u001b[0;34m\u001b[0m\u001b[0;34m\u001b[0m\u001b[0m\n\u001b[0;32m--> 531\u001b[0;31m                     \u001b[0marray\u001b[0m \u001b[0;34m=\u001b[0m \u001b[0mnp\u001b[0m\u001b[0;34m.\u001b[0m\u001b[0masarray\u001b[0m\u001b[0;34m(\u001b[0m\u001b[0marray\u001b[0m\u001b[0;34m,\u001b[0m \u001b[0morder\u001b[0m\u001b[0;34m=\u001b[0m\u001b[0morder\u001b[0m\u001b[0;34m,\u001b[0m \u001b[0mdtype\u001b[0m\u001b[0;34m=\u001b[0m\u001b[0mdtype\u001b[0m\u001b[0;34m)\u001b[0m\u001b[0;34m\u001b[0m\u001b[0;34m\u001b[0m\u001b[0m\n\u001b[0m\u001b[1;32m    532\u001b[0m             \u001b[0;32mexcept\u001b[0m \u001b[0mComplexWarning\u001b[0m\u001b[0;34m:\u001b[0m\u001b[0;34m\u001b[0m\u001b[0;34m\u001b[0m\u001b[0m\n\u001b[1;32m    533\u001b[0m                 raise ValueError(\"Complex data not supported\\n\"\n",
            "\u001b[0;32m/usr/local/lib/python3.7/dist-packages/numpy/core/_asarray.py\u001b[0m in \u001b[0;36masarray\u001b[0;34m(a, dtype, order)\u001b[0m\n\u001b[1;32m     81\u001b[0m \u001b[0;34m\u001b[0m\u001b[0m\n\u001b[1;32m     82\u001b[0m     \"\"\"\n\u001b[0;32m---> 83\u001b[0;31m     \u001b[0;32mreturn\u001b[0m \u001b[0marray\u001b[0m\u001b[0;34m(\u001b[0m\u001b[0ma\u001b[0m\u001b[0;34m,\u001b[0m \u001b[0mdtype\u001b[0m\u001b[0;34m,\u001b[0m \u001b[0mcopy\u001b[0m\u001b[0;34m=\u001b[0m\u001b[0;32mFalse\u001b[0m\u001b[0;34m,\u001b[0m \u001b[0morder\u001b[0m\u001b[0;34m=\u001b[0m\u001b[0morder\u001b[0m\u001b[0;34m)\u001b[0m\u001b[0;34m\u001b[0m\u001b[0;34m\u001b[0m\u001b[0m\n\u001b[0m\u001b[1;32m     84\u001b[0m \u001b[0;34m\u001b[0m\u001b[0m\n\u001b[1;32m     85\u001b[0m \u001b[0;34m\u001b[0m\u001b[0m\n",
            "\u001b[0;31mValueError\u001b[0m: could not convert string to float: "
          ]
        }
      ]
    }
  ]
}